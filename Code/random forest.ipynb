{
 "cells": [
  {
   "cell_type": "markdown",
   "id": "ba845b61-2120-4d71-9df9-2d0ca029cfa9",
   "metadata": {},
   "source": [
    "# RANDOM FOREST"
   ]
  },
  {
   "cell_type": "markdown",
   "id": "d826e309-ba86-4d14-9d7d-ddfca6820c84",
   "metadata": {},
   "source": [
    "## CON FILTRO <40"
   ]
  },
  {
   "cell_type": "code",
   "execution_count": 1,
   "id": "896c7c4a-b9e5-4363-b7a3-49a1019838ed",
   "metadata": {},
   "outputs": [],
   "source": [
    "from sklearn.model_selection import RandomizedSearchCV\n",
    "from scipy.stats import uniform\n",
    "from sklearn.ensemble import RandomForestClassifier\n",
    "rfc=RandomForestClassifier(random_state=25)\n",
    "from sklearn.metrics import accuracy_score, confusion_matrix, classification_report\n",
    "import pickle"
   ]
  },
  {
   "cell_type": "code",
   "execution_count": 2,
   "id": "861e0c0c-70f2-4530-9b6e-01fecb68b32e",
   "metadata": {},
   "outputs": [],
   "source": [
    "with open(\"Data/train_data_40.pkl\",'rb') as f:\n",
    "    over_train_data_40 = pickle.load(f)"
   ]
  },
  {
   "cell_type": "code",
   "execution_count": 3,
   "id": "857b4eb9-72ee-4c58-b1ef-335e53581cc5",
   "metadata": {},
   "outputs": [],
   "source": [
    "train_labels_40 = over_train_data_40['MVP']\n",
    "train_data_40= over_train_data_40.drop('MVP', axis = 1)"
   ]
  },
  {
   "cell_type": "code",
   "execution_count": 4,
   "id": "02b145dd-1971-46c3-b951-edfab3ea7930",
   "metadata": {},
   "outputs": [],
   "source": [
    "criterion=['gini', 'entropy']\n",
    "max_depth=range(2,20)\n",
    "n_estimators=range(50,1000)\n",
    "max_features='sqrt'\n",
    "oob_score=True\n",
    "scoring = ['precision', 'f1', 'roc_auc']\n",
    "\n",
    "rs_parameters_40 = {'criterion': criterion,\n",
    "                    'max_depth' : max_depth,\n",
    "                    'n_estimators' : n_estimators\n",
    "                 }"
   ]
  },
  {
   "cell_type": "code",
   "execution_count": 8,
   "id": "5442c4a3-5483-444e-be81-dfc3ded371f7",
   "metadata": {},
   "outputs": [
    {
     "ename": "KeyboardInterrupt",
     "evalue": "",
     "output_type": "error",
     "traceback": [
      "\u001B[0;31m---------------------------------------------------------------------------\u001B[0m",
      "\u001B[0;31mKeyboardInterrupt\u001B[0m                         Traceback (most recent call last)",
      "\u001B[0;32m/tmp/ipykernel_625/2886934394.py\u001B[0m in \u001B[0;36m<module>\u001B[0;34m\u001B[0m\n\u001B[1;32m      1\u001B[0m \u001B[0;31m#CAMBIARE N_ITER\u001B[0m\u001B[0;34m\u001B[0m\u001B[0;34m\u001B[0m\u001B[0m\n\u001B[1;32m      2\u001B[0m \u001B[0mrs_40\u001B[0m\u001B[0;34m=\u001B[0m\u001B[0mRandomizedSearchCV\u001B[0m\u001B[0;34m(\u001B[0m\u001B[0mrfc\u001B[0m\u001B[0;34m,\u001B[0m \u001B[0mrs_parameters_40\u001B[0m\u001B[0;34m,\u001B[0m \u001B[0mscoring\u001B[0m\u001B[0;34m=\u001B[0m\u001B[0mscoring\u001B[0m\u001B[0;34m,\u001B[0m \u001B[0mrefit\u001B[0m\u001B[0;34m=\u001B[0m\u001B[0;34m\"f1\"\u001B[0m\u001B[0;34m,\u001B[0m \u001B[0mn_jobs\u001B[0m\u001B[0;34m=\u001B[0m\u001B[0;36m24\u001B[0m\u001B[0;34m,\u001B[0m \u001B[0mn_iter\u001B[0m\u001B[0;34m=\u001B[0m\u001B[0;36m8\u001B[0m\u001B[0;34m,\u001B[0m \u001B[0mrandom_state\u001B[0m\u001B[0;34m=\u001B[0m\u001B[0;36m756\u001B[0m\u001B[0;34m)\u001B[0m\u001B[0;34m\u001B[0m\u001B[0;34m\u001B[0m\u001B[0m\n\u001B[0;32m----> 3\u001B[0;31m \u001B[0mrs_rf_40\u001B[0m \u001B[0;34m=\u001B[0m \u001B[0mrs_40\u001B[0m\u001B[0;34m.\u001B[0m\u001B[0mfit\u001B[0m\u001B[0;34m(\u001B[0m\u001B[0mtrain_data_40\u001B[0m\u001B[0;34m,\u001B[0m \u001B[0mtrain_labels_40\u001B[0m\u001B[0;34m)\u001B[0m\u001B[0;34m\u001B[0m\u001B[0;34m\u001B[0m\u001B[0m\n\u001B[0m",
      "\u001B[0;32m~/anaconda3/envs/ml/lib/python3.10/site-packages/sklearn/model_selection/_search.py\u001B[0m in \u001B[0;36mfit\u001B[0;34m(self, X, y, groups, **fit_params)\u001B[0m\n\u001B[1;32m    889\u001B[0m                 \u001B[0;32mreturn\u001B[0m \u001B[0mresults\u001B[0m\u001B[0;34m\u001B[0m\u001B[0;34m\u001B[0m\u001B[0m\n\u001B[1;32m    890\u001B[0m \u001B[0;34m\u001B[0m\u001B[0m\n\u001B[0;32m--> 891\u001B[0;31m             \u001B[0mself\u001B[0m\u001B[0;34m.\u001B[0m\u001B[0m_run_search\u001B[0m\u001B[0;34m(\u001B[0m\u001B[0mevaluate_candidates\u001B[0m\u001B[0;34m)\u001B[0m\u001B[0;34m\u001B[0m\u001B[0;34m\u001B[0m\u001B[0m\n\u001B[0m\u001B[1;32m    892\u001B[0m \u001B[0;34m\u001B[0m\u001B[0m\n\u001B[1;32m    893\u001B[0m             \u001B[0;31m# multimetric is determined here because in the case of a callable\u001B[0m\u001B[0;34m\u001B[0m\u001B[0;34m\u001B[0m\u001B[0m\n",
      "\u001B[0;32m~/anaconda3/envs/ml/lib/python3.10/site-packages/sklearn/model_selection/_search.py\u001B[0m in \u001B[0;36m_run_search\u001B[0;34m(self, evaluate_candidates)\u001B[0m\n\u001B[1;32m   1764\u001B[0m     \u001B[0;32mdef\u001B[0m \u001B[0m_run_search\u001B[0m\u001B[0;34m(\u001B[0m\u001B[0mself\u001B[0m\u001B[0;34m,\u001B[0m \u001B[0mevaluate_candidates\u001B[0m\u001B[0;34m)\u001B[0m\u001B[0;34m:\u001B[0m\u001B[0;34m\u001B[0m\u001B[0;34m\u001B[0m\u001B[0m\n\u001B[1;32m   1765\u001B[0m         \u001B[0;34m\"\"\"Search n_iter candidates from param_distributions\"\"\"\u001B[0m\u001B[0;34m\u001B[0m\u001B[0;34m\u001B[0m\u001B[0m\n\u001B[0;32m-> 1766\u001B[0;31m         evaluate_candidates(\n\u001B[0m\u001B[1;32m   1767\u001B[0m             ParameterSampler(\n\u001B[1;32m   1768\u001B[0m                 \u001B[0mself\u001B[0m\u001B[0;34m.\u001B[0m\u001B[0mparam_distributions\u001B[0m\u001B[0;34m,\u001B[0m \u001B[0mself\u001B[0m\u001B[0;34m.\u001B[0m\u001B[0mn_iter\u001B[0m\u001B[0;34m,\u001B[0m \u001B[0mrandom_state\u001B[0m\u001B[0;34m=\u001B[0m\u001B[0mself\u001B[0m\u001B[0;34m.\u001B[0m\u001B[0mrandom_state\u001B[0m\u001B[0;34m\u001B[0m\u001B[0;34m\u001B[0m\u001B[0m\n",
      "\u001B[0;32m~/anaconda3/envs/ml/lib/python3.10/site-packages/sklearn/model_selection/_search.py\u001B[0m in \u001B[0;36mevaluate_candidates\u001B[0;34m(candidate_params, cv, more_results)\u001B[0m\n\u001B[1;32m    836\u001B[0m                     )\n\u001B[1;32m    837\u001B[0m \u001B[0;34m\u001B[0m\u001B[0m\n\u001B[0;32m--> 838\u001B[0;31m                 out = parallel(\n\u001B[0m\u001B[1;32m    839\u001B[0m                     delayed(_fit_and_score)(\n\u001B[1;32m    840\u001B[0m                         \u001B[0mclone\u001B[0m\u001B[0;34m(\u001B[0m\u001B[0mbase_estimator\u001B[0m\u001B[0;34m)\u001B[0m\u001B[0;34m,\u001B[0m\u001B[0;34m\u001B[0m\u001B[0;34m\u001B[0m\u001B[0m\n",
      "\u001B[0;32m~/anaconda3/envs/ml/lib/python3.10/site-packages/joblib/parallel.py\u001B[0m in \u001B[0;36m__call__\u001B[0;34m(self, iterable)\u001B[0m\n\u001B[1;32m   1054\u001B[0m \u001B[0;34m\u001B[0m\u001B[0m\n\u001B[1;32m   1055\u001B[0m             \u001B[0;32mwith\u001B[0m \u001B[0mself\u001B[0m\u001B[0;34m.\u001B[0m\u001B[0m_backend\u001B[0m\u001B[0;34m.\u001B[0m\u001B[0mretrieval_context\u001B[0m\u001B[0;34m(\u001B[0m\u001B[0;34m)\u001B[0m\u001B[0;34m:\u001B[0m\u001B[0;34m\u001B[0m\u001B[0;34m\u001B[0m\u001B[0m\n\u001B[0;32m-> 1056\u001B[0;31m                 \u001B[0mself\u001B[0m\u001B[0;34m.\u001B[0m\u001B[0mretrieve\u001B[0m\u001B[0;34m(\u001B[0m\u001B[0;34m)\u001B[0m\u001B[0;34m\u001B[0m\u001B[0;34m\u001B[0m\u001B[0m\n\u001B[0m\u001B[1;32m   1057\u001B[0m             \u001B[0;31m# Make sure that we get a last message telling us we are done\u001B[0m\u001B[0;34m\u001B[0m\u001B[0;34m\u001B[0m\u001B[0m\n\u001B[1;32m   1058\u001B[0m             \u001B[0melapsed_time\u001B[0m \u001B[0;34m=\u001B[0m \u001B[0mtime\u001B[0m\u001B[0;34m.\u001B[0m\u001B[0mtime\u001B[0m\u001B[0;34m(\u001B[0m\u001B[0;34m)\u001B[0m \u001B[0;34m-\u001B[0m \u001B[0mself\u001B[0m\u001B[0;34m.\u001B[0m\u001B[0m_start_time\u001B[0m\u001B[0;34m\u001B[0m\u001B[0;34m\u001B[0m\u001B[0m\n",
      "\u001B[0;32m~/anaconda3/envs/ml/lib/python3.10/site-packages/joblib/parallel.py\u001B[0m in \u001B[0;36mretrieve\u001B[0;34m(self)\u001B[0m\n\u001B[1;32m    933\u001B[0m             \u001B[0;32mtry\u001B[0m\u001B[0;34m:\u001B[0m\u001B[0;34m\u001B[0m\u001B[0;34m\u001B[0m\u001B[0m\n\u001B[1;32m    934\u001B[0m                 \u001B[0;32mif\u001B[0m \u001B[0mgetattr\u001B[0m\u001B[0;34m(\u001B[0m\u001B[0mself\u001B[0m\u001B[0;34m.\u001B[0m\u001B[0m_backend\u001B[0m\u001B[0;34m,\u001B[0m \u001B[0;34m'supports_timeout'\u001B[0m\u001B[0;34m,\u001B[0m \u001B[0;32mFalse\u001B[0m\u001B[0;34m)\u001B[0m\u001B[0;34m:\u001B[0m\u001B[0;34m\u001B[0m\u001B[0;34m\u001B[0m\u001B[0m\n\u001B[0;32m--> 935\u001B[0;31m                     \u001B[0mself\u001B[0m\u001B[0;34m.\u001B[0m\u001B[0m_output\u001B[0m\u001B[0;34m.\u001B[0m\u001B[0mextend\u001B[0m\u001B[0;34m(\u001B[0m\u001B[0mjob\u001B[0m\u001B[0;34m.\u001B[0m\u001B[0mget\u001B[0m\u001B[0;34m(\u001B[0m\u001B[0mtimeout\u001B[0m\u001B[0;34m=\u001B[0m\u001B[0mself\u001B[0m\u001B[0;34m.\u001B[0m\u001B[0mtimeout\u001B[0m\u001B[0;34m)\u001B[0m\u001B[0;34m)\u001B[0m\u001B[0;34m\u001B[0m\u001B[0;34m\u001B[0m\u001B[0m\n\u001B[0m\u001B[1;32m    936\u001B[0m                 \u001B[0;32melse\u001B[0m\u001B[0;34m:\u001B[0m\u001B[0;34m\u001B[0m\u001B[0;34m\u001B[0m\u001B[0m\n\u001B[1;32m    937\u001B[0m                     \u001B[0mself\u001B[0m\u001B[0;34m.\u001B[0m\u001B[0m_output\u001B[0m\u001B[0;34m.\u001B[0m\u001B[0mextend\u001B[0m\u001B[0;34m(\u001B[0m\u001B[0mjob\u001B[0m\u001B[0;34m.\u001B[0m\u001B[0mget\u001B[0m\u001B[0;34m(\u001B[0m\u001B[0;34m)\u001B[0m\u001B[0;34m)\u001B[0m\u001B[0;34m\u001B[0m\u001B[0;34m\u001B[0m\u001B[0m\n",
      "\u001B[0;32m~/anaconda3/envs/ml/lib/python3.10/site-packages/joblib/_parallel_backends.py\u001B[0m in \u001B[0;36mwrap_future_result\u001B[0;34m(future, timeout)\u001B[0m\n\u001B[1;32m    540\u001B[0m         AsyncResults.get from multiprocessing.\"\"\"\n\u001B[1;32m    541\u001B[0m         \u001B[0;32mtry\u001B[0m\u001B[0;34m:\u001B[0m\u001B[0;34m\u001B[0m\u001B[0;34m\u001B[0m\u001B[0m\n\u001B[0;32m--> 542\u001B[0;31m             \u001B[0;32mreturn\u001B[0m \u001B[0mfuture\u001B[0m\u001B[0;34m.\u001B[0m\u001B[0mresult\u001B[0m\u001B[0;34m(\u001B[0m\u001B[0mtimeout\u001B[0m\u001B[0;34m=\u001B[0m\u001B[0mtimeout\u001B[0m\u001B[0;34m)\u001B[0m\u001B[0;34m\u001B[0m\u001B[0;34m\u001B[0m\u001B[0m\n\u001B[0m\u001B[1;32m    543\u001B[0m         \u001B[0;32mexcept\u001B[0m \u001B[0mCfTimeoutError\u001B[0m \u001B[0;32mas\u001B[0m \u001B[0me\u001B[0m\u001B[0;34m:\u001B[0m\u001B[0;34m\u001B[0m\u001B[0;34m\u001B[0m\u001B[0m\n\u001B[1;32m    544\u001B[0m             \u001B[0;32mraise\u001B[0m \u001B[0mTimeoutError\u001B[0m \u001B[0;32mfrom\u001B[0m \u001B[0me\u001B[0m\u001B[0;34m\u001B[0m\u001B[0;34m\u001B[0m\u001B[0m\n",
      "\u001B[0;32m~/anaconda3/envs/ml/lib/python3.10/concurrent/futures/_base.py\u001B[0m in \u001B[0;36mresult\u001B[0;34m(self, timeout)\u001B[0m\n\u001B[1;32m    438\u001B[0m                     \u001B[0;32mreturn\u001B[0m \u001B[0mself\u001B[0m\u001B[0;34m.\u001B[0m\u001B[0m__get_result\u001B[0m\u001B[0;34m(\u001B[0m\u001B[0;34m)\u001B[0m\u001B[0;34m\u001B[0m\u001B[0;34m\u001B[0m\u001B[0m\n\u001B[1;32m    439\u001B[0m \u001B[0;34m\u001B[0m\u001B[0m\n\u001B[0;32m--> 440\u001B[0;31m                 \u001B[0mself\u001B[0m\u001B[0;34m.\u001B[0m\u001B[0m_condition\u001B[0m\u001B[0;34m.\u001B[0m\u001B[0mwait\u001B[0m\u001B[0;34m(\u001B[0m\u001B[0mtimeout\u001B[0m\u001B[0;34m)\u001B[0m\u001B[0;34m\u001B[0m\u001B[0;34m\u001B[0m\u001B[0m\n\u001B[0m\u001B[1;32m    441\u001B[0m \u001B[0;34m\u001B[0m\u001B[0m\n\u001B[1;32m    442\u001B[0m                 \u001B[0;32mif\u001B[0m \u001B[0mself\u001B[0m\u001B[0;34m.\u001B[0m\u001B[0m_state\u001B[0m \u001B[0;32min\u001B[0m \u001B[0;34m[\u001B[0m\u001B[0mCANCELLED\u001B[0m\u001B[0;34m,\u001B[0m \u001B[0mCANCELLED_AND_NOTIFIED\u001B[0m\u001B[0;34m]\u001B[0m\u001B[0;34m:\u001B[0m\u001B[0;34m\u001B[0m\u001B[0;34m\u001B[0m\u001B[0m\n",
      "\u001B[0;32m~/anaconda3/envs/ml/lib/python3.10/threading.py\u001B[0m in \u001B[0;36mwait\u001B[0;34m(self, timeout)\u001B[0m\n\u001B[1;32m    318\u001B[0m         \u001B[0;32mtry\u001B[0m\u001B[0;34m:\u001B[0m    \u001B[0;31m# restore state no matter what (e.g., KeyboardInterrupt)\u001B[0m\u001B[0;34m\u001B[0m\u001B[0;34m\u001B[0m\u001B[0m\n\u001B[1;32m    319\u001B[0m             \u001B[0;32mif\u001B[0m \u001B[0mtimeout\u001B[0m \u001B[0;32mis\u001B[0m \u001B[0;32mNone\u001B[0m\u001B[0;34m:\u001B[0m\u001B[0;34m\u001B[0m\u001B[0;34m\u001B[0m\u001B[0m\n\u001B[0;32m--> 320\u001B[0;31m                 \u001B[0mwaiter\u001B[0m\u001B[0;34m.\u001B[0m\u001B[0macquire\u001B[0m\u001B[0;34m(\u001B[0m\u001B[0;34m)\u001B[0m\u001B[0;34m\u001B[0m\u001B[0;34m\u001B[0m\u001B[0m\n\u001B[0m\u001B[1;32m    321\u001B[0m                 \u001B[0mgotit\u001B[0m \u001B[0;34m=\u001B[0m \u001B[0;32mTrue\u001B[0m\u001B[0;34m\u001B[0m\u001B[0;34m\u001B[0m\u001B[0m\n\u001B[1;32m    322\u001B[0m             \u001B[0;32melse\u001B[0m\u001B[0;34m:\u001B[0m\u001B[0;34m\u001B[0m\u001B[0;34m\u001B[0m\u001B[0m\n",
      "\u001B[0;31mKeyboardInterrupt\u001B[0m: "
     ]
    }
   ],
   "source": [
    "#CAMBIARE N_ITER\n",
    "rs_40=RandomizedSearchCV(rfc, rs_parameters_40, scoring=scoring, refit=\"f1\", n_jobs=-1, n_iter=8, random_state=756)\n",
    "rs_rf_40 = rs_40.fit(train_data_40, train_labels_40)"
   ]
  },
  {
   "cell_type": "code",
   "execution_count": 7,
   "id": "67bf5d45-e67b-4f57-a907-69df4af8fcc7",
   "metadata": {},
   "outputs": [
    {
     "name": "stdout",
     "output_type": "stream",
     "text": [
      "The best score is 0.9983515541558979\n",
      "The best parameters are {'n_estimators': 442, 'max_depth': 15, 'criterion': 'gini'}\n"
     ]
    }
   ],
   "source": [
    "print(\"The best score is\",rs_rf_40.best_score_)\n",
    "print(\"The best parameters are\", rs_rf_40.best_params_)"
   ]
  },
  {
   "cell_type": "code",
   "execution_count": 23,
   "id": "d967fa40-70bb-40a6-aef4-98702606279a",
   "metadata": {},
   "outputs": [],
   "source": [
    "rf_final_40=RandomForestClassifier(criterion='entropy',max_depth=10,n_estimators=200,max_features='sqrt',oob_score=True,class_weight=\"balanced\",n_jobs=-1, random_state=13)\n",
    "\n",
    "rf_final_40.fit(train_data_40, train_labels_40)\n",
    "\n",
    "with open(\"rf_40.pkl\",'wb') as f:\n",
    "    pickle.dump(rf_final_40,f)"
   ]
  },
  {
   "cell_type": "code",
   "execution_count": 24,
   "id": "65b057a9-05e6-4692-9ce1-8503455a99d2",
   "metadata": {},
   "outputs": [],
   "source": [
    "with open(\"Data/test_data_40.pkl\",'rb') as f:\n",
    "    test_data_40 = pickle.load(f)\n",
    "\n",
    "test_labels_40 = test_data_40[\"MVP\"]\n",
    "test_data_40=test_data_40.drop([\"PLAYER_AGE\", \"PLAYER_ID\", \"SEASON_ID\", \"TEAM_ID\", \"MVP\"], axis=1)"
   ]
  },
  {
   "cell_type": "code",
   "execution_count": 25,
   "id": "57d2711d-75e6-461c-8801-87dda3a7ce3a",
   "metadata": {},
   "outputs": [],
   "source": [
    "pred_rf_40 = rf_final_40.predict(test_data_40)"
   ]
  },
  {
   "cell_type": "code",
   "execution_count": 26,
   "id": "bf366539-55ed-4e8b-aee8-45fa70250f6a",
   "metadata": {},
   "outputs": [
    {
     "name": "stdout",
     "output_type": "stream",
     "text": [
      "The accuracy of the Logistic Regressor is  0.9952963311382879\n"
     ]
    }
   ],
   "source": [
    "print(f\"The accuracy of the Logistic Regressor is  {accuracy_score(test_labels_40,pred_rf_40)}\")"
   ]
  },
  {
   "cell_type": "code",
   "execution_count": 27,
   "id": "437c3214-4c3d-45c1-8149-7d213b01cb6c",
   "metadata": {},
   "outputs": [
    {
     "data": {
      "text/plain": [
       "array([[1056,    2],\n",
       "       [   3,    2]])"
      ]
     },
     "execution_count": 27,
     "metadata": {},
     "output_type": "execute_result"
    }
   ],
   "source": [
    "confusion_matrix(test_labels_40,pred_rf_40)"
   ]
  },
  {
   "cell_type": "code",
   "execution_count": 28,
   "id": "6fa4cf77-7dac-4071-98c2-3e7938ba9bad",
   "metadata": {},
   "outputs": [
    {
     "name": "stdout",
     "output_type": "stream",
     "text": [
      "              precision    recall  f1-score   support\n",
      "\n",
      "         0.0       1.00      1.00      1.00      1058\n",
      "         1.0       0.50      0.40      0.44         5\n",
      "\n",
      "    accuracy                           1.00      1063\n",
      "   macro avg       0.75      0.70      0.72      1063\n",
      "weighted avg       0.99      1.00      1.00      1063\n",
      "\n"
     ]
    }
   ],
   "source": [
    "print(classification_report(test_labels_40,pred_rf_40))"
   ]
  },
  {
   "cell_type": "markdown",
   "id": "9fb0432d-acc1-4cdc-bff2-72e69ee46feb",
   "metadata": {},
   "source": [
    "## SENZA FILTRO <40"
   ]
  },
  {
   "cell_type": "code",
   "execution_count": 29,
   "id": "350ef481-1d2a-48e7-adda-0f9a222efd2b",
   "metadata": {},
   "outputs": [],
   "source": [
    "with open(\"Data/train_data.pkl\",'rb') as f:\n",
    "    over_train_data = pickle.load(f)"
   ]
  },
  {
   "cell_type": "code",
   "execution_count": 30,
   "id": "ad3f3fe5-5099-4292-953f-1ccd58c72c55",
   "metadata": {},
   "outputs": [],
   "source": [
    "train_labels = over_train_data['MVP']\n",
    "train_data= over_train_data.drop('MVP', axis = 1)"
   ]
  },
  {
   "cell_type": "code",
   "execution_count": 31,
   "id": "6da62ac4-03c0-4501-83a7-c2c9693e994c",
   "metadata": {},
   "outputs": [],
   "source": [
    "criterion=['gini', 'entropy']\n",
    "max_depth=range(2,20)\n",
    "n_estimators=range(50,1000)\n",
    "max_features='sqrt'\n",
    "oob_score=True\n",
    "scoring = ['precision', 'f1', 'roc_auc']\n",
    "\n",
    "rs_parameters = {'criterion': criterion,\n",
    "                    'max_depth' : max_depth,\n",
    "                    'n_estimators' : n_estimators\n",
    "                 }"
   ]
  },
  {
   "cell_type": "code",
   "execution_count": 32,
   "id": "c611adeb-00e1-480c-8f00-0162759957b1",
   "metadata": {},
   "outputs": [],
   "source": [
    "#CAMBIARE N_ITER\n",
    "rs=RandomizedSearchCV(rfc, rs_parameters, scoring=scoring, refit=\"f1\", n_jobs=-1, n_iter=5, random_state=756)\n",
    "rs_rf = rs.fit(train_data, train_labels)"
   ]
  },
  {
   "cell_type": "code",
   "execution_count": 33,
   "id": "3a932b1b-64a5-4b4e-b4af-cc48d09d9084",
   "metadata": {},
   "outputs": [
    {
     "name": "stdout",
     "output_type": "stream",
     "text": [
      "The best score is 0.9983533437992346\n",
      "The best parameters are {'n_estimators': 508, 'max_depth': 19, 'criterion': 'gini'}\n"
     ]
    }
   ],
   "source": [
    "print(\"The best score is\",rs_rf.best_score_)\n",
    "print(\"The best parameters are\", rs_rf.best_params_)"
   ]
  },
  {
   "cell_type": "code",
   "execution_count": 34,
   "id": "8d60f282-8f4f-45cb-b50c-f6f21f14f63d",
   "metadata": {},
   "outputs": [
    {
     "data": {
      "text/plain": [
       "RandomForestClassifier(class_weight='balanced', criterion='entropy',\n",
       "                       max_depth=10, max_features='sqrt', n_estimators=200,\n",
       "                       n_jobs=-1, oob_score=True, random_state=13)"
      ]
     },
     "execution_count": 34,
     "metadata": {},
     "output_type": "execute_result"
    }
   ],
   "source": [
    "rf_final=RandomForestClassifier(criterion='entropy',max_depth=10,n_estimators=200,max_features='sqrt',oob_score=True,class_weight=\"balanced\",n_jobs=-1, random_state=13)\n",
    "\n",
    "rf_final.fit(train_data, train_labels)"
   ]
  },
  {
   "cell_type": "code",
   "execution_count": 35,
   "id": "146d3565-2a4c-4458-b3d5-5f34310acc8a",
   "metadata": {},
   "outputs": [],
   "source": [
    "with open(\"rf.pkl\",'wb') as f:\n",
    "    pickle.dump(rf_final,f)"
   ]
  },
  {
   "cell_type": "code",
   "execution_count": 36,
   "id": "df2b130e-f016-4223-bc67-3f33a5d1014a",
   "metadata": {},
   "outputs": [],
   "source": [
    "with open(\"Data/test_data.pkl\",'rb') as f:\n",
    "    test_data = pickle.load(f)\n",
    "\n",
    "test_labels = test_data[\"MVP\"]\n",
    "test_data=test_data.drop([\"PLAYER_AGE\", \"PLAYER_ID\", \"SEASON_ID\", \"TEAM_ID\", \"MVP\"], axis=1)"
   ]
  },
  {
   "cell_type": "code",
   "execution_count": 37,
   "id": "eb53e05a-d1f2-4b02-9e80-b11b91257e8e",
   "metadata": {},
   "outputs": [
    {
     "name": "stdout",
     "output_type": "stream",
     "text": [
      "The accuracy of the Logistic Regressor is  0.9983543609434997\n"
     ]
    }
   ],
   "source": [
    "pred_rf = rf_final.predict(test_data)\n",
    "print(f\"The accuracy of the Logistic Regressor is  {accuracy_score(test_labels,pred_rf)}\")"
   ]
  },
  {
   "cell_type": "code",
   "execution_count": 38,
   "id": "cf498d20-38c9-47ab-9d43-be61d4b8663f",
   "metadata": {},
   "outputs": [
    {
     "data": {
      "text/plain": [
       "array([[1817,    1],\n",
       "       [   2,    3]])"
      ]
     },
     "execution_count": 38,
     "metadata": {},
     "output_type": "execute_result"
    }
   ],
   "source": [
    "confusion_matrix(test_labels,pred_rf)"
   ]
  },
  {
   "cell_type": "code",
   "execution_count": null,
   "id": "e6ab17bf-54b8-4e70-bdeb-1ebd90a013d9",
   "metadata": {},
   "outputs": [],
   "source": []
  }
 ],
 "metadata": {
  "kernelspec": {
   "display_name": "Python 3 (ipykernel)",
   "language": "python",
   "name": "python3"
  },
  "language_info": {
   "codemirror_mode": {
    "name": "ipython",
    "version": 3
   },
   "file_extension": ".py",
   "mimetype": "text/x-python",
   "name": "python",
   "nbconvert_exporter": "python",
   "pygments_lexer": "ipython3",
   "version": "3.9.7"
  }
 },
 "nbformat": 4,
 "nbformat_minor": 5
}