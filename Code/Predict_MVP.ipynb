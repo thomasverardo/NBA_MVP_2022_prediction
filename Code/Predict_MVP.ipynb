{
 "cells": [
  {
   "cell_type": "markdown",
   "metadata": {
    "pycharm": {
     "name": "#%% md\n"
    }
   },
   "source": [
    "# Predict MVP 2021"
   ]
  },
  {
   "cell_type": "code",
   "execution_count": 12,
   "metadata": {
    "collapsed": false,
    "jupyter": {
     "outputs_hidden": false
    },
    "pycharm": {
     "name": "#%%\n"
    }
   },
   "outputs": [],
   "source": [
    "import pickle\n",
    "import pandas as pd\n",
    "import numpy as np"
   ]
  },
  {
   "cell_type": "code",
   "execution_count": 13,
   "metadata": {
    "collapsed": false,
    "jupyter": {
     "outputs_hidden": false
    },
    "pycharm": {
     "name": "#%%\n"
    }
   },
   "outputs": [
    {
     "data": {
      "text/plain": "      MVP CONF_RANK PLAYER_ID  SEASON_ID     TEAM_ID  PLAYER_AGE  GP     MIN  \\\n16    0.0         6   1630173       2021  1610612748        21.0  61   737.0   \n33    0.0         3   1629121       2021  1610612749        25.0   7    18.0   \n43    0.0        11    203500       2021  1610612740        27.0  58  1605.0   \n48    0.0         6   1628389       2021  1610612748        23.0  64  2143.0   \n114   0.0        10    200746       2021  1610612759        35.0  21   544.0   \n...   ...       ...       ...        ...         ...         ...  ..     ...   \n5843  0.0        12   1626153       2021  1610612758        29.0  27   696.0   \n5935  0.0        11    201152       2021  1610612741        33.0  68  1652.0   \n5939  0.0         5   1629027       2021  1610612737        22.0  63  2125.0   \n5949  0.0        10    203469       2021  1610612766        28.0  48  1005.0   \n5980  0.0         4   1627826       2021  1610612746        24.0  72  1609.0   \n\n      FGM   FGA  ...  FT_PCT  OREB  DREB  REB  AST  STL  BLK  TOV   PF   PTS  \n16    124   228  ...   0.509    73   135  208   29   20   28   43   91   304  \n33      1     8  ...   0.000     0     3    3    2    0    0    0    1     2  \n43    189   308  ...   0.444   213   301  514  111   54   38   78  113   438  \n48    456   800  ...   0.799   142   431  573  346   75   66  169  145  1197  \n114   115   248  ...   0.838    17    77   94   36    8   18   20   36   288  \n...   ...   ...  ...     ...   ...   ...  ...  ...  ...  ...  ...  ...   ...  \n5843  104   225  ...   0.833    28    77  105   97   43   11   35   30   271  \n5935  370   662  ...   0.628   168   255  423  291   74   40  137  152   823  \n5939  487  1112  ...   0.886    38   207  245  594   53   12  261  111  1594  \n5949  181   324  ...   0.714   119   209  328   86   27   17   51  121   451  \n5980  257   394  ...   0.789   189   330  519   90   24   62   81  187   650  \n\n[626 rows x 26 columns]",
      "text/html": "<div>\n<style scoped>\n    .dataframe tbody tr th:only-of-type {\n        vertical-align: middle;\n    }\n\n    .dataframe tbody tr th {\n        vertical-align: top;\n    }\n\n    .dataframe thead th {\n        text-align: right;\n    }\n</style>\n<table border=\"1\" class=\"dataframe\">\n  <thead>\n    <tr style=\"text-align: right;\">\n      <th></th>\n      <th>MVP</th>\n      <th>CONF_RANK</th>\n      <th>PLAYER_ID</th>\n      <th>SEASON_ID</th>\n      <th>TEAM_ID</th>\n      <th>PLAYER_AGE</th>\n      <th>GP</th>\n      <th>MIN</th>\n      <th>FGM</th>\n      <th>FGA</th>\n      <th>...</th>\n      <th>FT_PCT</th>\n      <th>OREB</th>\n      <th>DREB</th>\n      <th>REB</th>\n      <th>AST</th>\n      <th>STL</th>\n      <th>BLK</th>\n      <th>TOV</th>\n      <th>PF</th>\n      <th>PTS</th>\n    </tr>\n  </thead>\n  <tbody>\n    <tr>\n      <th>16</th>\n      <td>0.0</td>\n      <td>6</td>\n      <td>1630173</td>\n      <td>2021</td>\n      <td>1610612748</td>\n      <td>21.0</td>\n      <td>61</td>\n      <td>737.0</td>\n      <td>124</td>\n      <td>228</td>\n      <td>...</td>\n      <td>0.509</td>\n      <td>73</td>\n      <td>135</td>\n      <td>208</td>\n      <td>29</td>\n      <td>20</td>\n      <td>28</td>\n      <td>43</td>\n      <td>91</td>\n      <td>304</td>\n    </tr>\n    <tr>\n      <th>33</th>\n      <td>0.0</td>\n      <td>3</td>\n      <td>1629121</td>\n      <td>2021</td>\n      <td>1610612749</td>\n      <td>25.0</td>\n      <td>7</td>\n      <td>18.0</td>\n      <td>1</td>\n      <td>8</td>\n      <td>...</td>\n      <td>0.000</td>\n      <td>0</td>\n      <td>3</td>\n      <td>3</td>\n      <td>2</td>\n      <td>0</td>\n      <td>0</td>\n      <td>0</td>\n      <td>1</td>\n      <td>2</td>\n    </tr>\n    <tr>\n      <th>43</th>\n      <td>0.0</td>\n      <td>11</td>\n      <td>203500</td>\n      <td>2021</td>\n      <td>1610612740</td>\n      <td>27.0</td>\n      <td>58</td>\n      <td>1605.0</td>\n      <td>189</td>\n      <td>308</td>\n      <td>...</td>\n      <td>0.444</td>\n      <td>213</td>\n      <td>301</td>\n      <td>514</td>\n      <td>111</td>\n      <td>54</td>\n      <td>38</td>\n      <td>78</td>\n      <td>113</td>\n      <td>438</td>\n    </tr>\n    <tr>\n      <th>48</th>\n      <td>0.0</td>\n      <td>6</td>\n      <td>1628389</td>\n      <td>2021</td>\n      <td>1610612748</td>\n      <td>23.0</td>\n      <td>64</td>\n      <td>2143.0</td>\n      <td>456</td>\n      <td>800</td>\n      <td>...</td>\n      <td>0.799</td>\n      <td>142</td>\n      <td>431</td>\n      <td>573</td>\n      <td>346</td>\n      <td>75</td>\n      <td>66</td>\n      <td>169</td>\n      <td>145</td>\n      <td>1197</td>\n    </tr>\n    <tr>\n      <th>114</th>\n      <td>0.0</td>\n      <td>10</td>\n      <td>200746</td>\n      <td>2021</td>\n      <td>1610612759</td>\n      <td>35.0</td>\n      <td>21</td>\n      <td>544.0</td>\n      <td>115</td>\n      <td>248</td>\n      <td>...</td>\n      <td>0.838</td>\n      <td>17</td>\n      <td>77</td>\n      <td>94</td>\n      <td>36</td>\n      <td>8</td>\n      <td>18</td>\n      <td>20</td>\n      <td>36</td>\n      <td>288</td>\n    </tr>\n    <tr>\n      <th>...</th>\n      <td>...</td>\n      <td>...</td>\n      <td>...</td>\n      <td>...</td>\n      <td>...</td>\n      <td>...</td>\n      <td>...</td>\n      <td>...</td>\n      <td>...</td>\n      <td>...</td>\n      <td>...</td>\n      <td>...</td>\n      <td>...</td>\n      <td>...</td>\n      <td>...</td>\n      <td>...</td>\n      <td>...</td>\n      <td>...</td>\n      <td>...</td>\n      <td>...</td>\n      <td>...</td>\n    </tr>\n    <tr>\n      <th>5843</th>\n      <td>0.0</td>\n      <td>12</td>\n      <td>1626153</td>\n      <td>2021</td>\n      <td>1610612758</td>\n      <td>29.0</td>\n      <td>27</td>\n      <td>696.0</td>\n      <td>104</td>\n      <td>225</td>\n      <td>...</td>\n      <td>0.833</td>\n      <td>28</td>\n      <td>77</td>\n      <td>105</td>\n      <td>97</td>\n      <td>43</td>\n      <td>11</td>\n      <td>35</td>\n      <td>30</td>\n      <td>271</td>\n    </tr>\n    <tr>\n      <th>5935</th>\n      <td>0.0</td>\n      <td>11</td>\n      <td>201152</td>\n      <td>2021</td>\n      <td>1610612741</td>\n      <td>33.0</td>\n      <td>68</td>\n      <td>1652.0</td>\n      <td>370</td>\n      <td>662</td>\n      <td>...</td>\n      <td>0.628</td>\n      <td>168</td>\n      <td>255</td>\n      <td>423</td>\n      <td>291</td>\n      <td>74</td>\n      <td>40</td>\n      <td>137</td>\n      <td>152</td>\n      <td>823</td>\n    </tr>\n    <tr>\n      <th>5939</th>\n      <td>0.0</td>\n      <td>5</td>\n      <td>1629027</td>\n      <td>2021</td>\n      <td>1610612737</td>\n      <td>22.0</td>\n      <td>63</td>\n      <td>2125.0</td>\n      <td>487</td>\n      <td>1112</td>\n      <td>...</td>\n      <td>0.886</td>\n      <td>38</td>\n      <td>207</td>\n      <td>245</td>\n      <td>594</td>\n      <td>53</td>\n      <td>12</td>\n      <td>261</td>\n      <td>111</td>\n      <td>1594</td>\n    </tr>\n    <tr>\n      <th>5949</th>\n      <td>0.0</td>\n      <td>10</td>\n      <td>203469</td>\n      <td>2021</td>\n      <td>1610612766</td>\n      <td>28.0</td>\n      <td>48</td>\n      <td>1005.0</td>\n      <td>181</td>\n      <td>324</td>\n      <td>...</td>\n      <td>0.714</td>\n      <td>119</td>\n      <td>209</td>\n      <td>328</td>\n      <td>86</td>\n      <td>27</td>\n      <td>17</td>\n      <td>51</td>\n      <td>121</td>\n      <td>451</td>\n    </tr>\n    <tr>\n      <th>5980</th>\n      <td>0.0</td>\n      <td>4</td>\n      <td>1627826</td>\n      <td>2021</td>\n      <td>1610612746</td>\n      <td>24.0</td>\n      <td>72</td>\n      <td>1609.0</td>\n      <td>257</td>\n      <td>394</td>\n      <td>...</td>\n      <td>0.789</td>\n      <td>189</td>\n      <td>330</td>\n      <td>519</td>\n      <td>90</td>\n      <td>24</td>\n      <td>62</td>\n      <td>81</td>\n      <td>187</td>\n      <td>650</td>\n    </tr>\n  </tbody>\n</table>\n<p>626 rows × 26 columns</p>\n</div>"
     },
     "execution_count": 13,
     "metadata": {},
     "output_type": "execute_result"
    }
   ],
   "source": [
    "with open(\"player_stats.pkl\", \"rb\") as f:\n",
    "    season_2021 = pickle.load(f)\n",
    "#tolgo seasons che non ci servono\n",
    "season_2021 = season_2021[season_2021[\"SEASON_ID\"] == 2021]\n",
    "\n",
    "#sposto la colonna MVP per prima per comodita\n",
    "cols = season_2021.columns.tolist()\n",
    "cols = cols[-2:] + cols[:-2]\n",
    "season_2021 = season_2021[cols]\n",
    "\n",
    "season_2021[\"GP\"]=season_2021[\"GP\"].astype('int')\n",
    "season_2021[\"FGM\"]=season_2021[\"FGM\"].astype('int')\n",
    "season_2021[\"FGA\"]=season_2021[\"FGA\"].astype('int')\n",
    "season_2021[\"FG3M\"]=season_2021[\"FG3M\"].astype('int')\n",
    "season_2021[\"FG3A\"]=season_2021[\"FG3A\"].astype('int')\n",
    "season_2021[\"FTM\"]=season_2021[\"FTM\"].astype('int')\n",
    "season_2021[\"FTA\"]=season_2021[\"FTA\"].astype('int')\n",
    "season_2021[\"OREB\"]=season_2021[\"OREB\"].astype('int')\n",
    "season_2021[\"DREB\"]=season_2021[\"DREB\"].astype('int')\n",
    "season_2021[\"REB\"]=season_2021[\"REB\"].astype('int')\n",
    "season_2021[\"AST\"]=season_2021[\"AST\"].astype('int')\n",
    "season_2021[\"STL\"]=season_2021[\"STL\"].astype('int')\n",
    "season_2021[\"BLK\"]=season_2021[\"BLK\"].astype('int')\n",
    "season_2021[\"TOV\"]=season_2021[\"TOV\"].astype('int')\n",
    "season_2021[\"PF\"]=season_2021[\"PF\"].astype('int')\n",
    "season_2021[\"PTS\"]=season_2021[\"PTS\"].astype('int')\n",
    "\n",
    "\n",
    "season_2021"
   ]
  },
  {
   "cell_type": "code",
   "execution_count": 14,
   "metadata": {
    "collapsed": false,
    "jupyter": {
     "outputs_hidden": false
    },
    "pycharm": {
     "name": "#%%\n"
    }
   },
   "outputs": [],
   "source": [
    "#standardizzazione i nostri dati per anno\n",
    "from sklearn.preprocessing import StandardScaler\n",
    "scaler=StandardScaler()\n",
    "\n",
    "num_cols = season_2021.columns\n",
    "num_cols = num_cols.drop([\"MVP\",'CONF_RANK', 'PLAYER_ID', 'SEASON_ID', 'TEAM_ID'])\n",
    "\n",
    "season_2021_norm=pd.DataFrame()\n",
    "season_2021_norm = pd.concat([season_2021_norm, season_2021],axis=0,ignore_index=True)\n"
   ]
  },
  {
   "cell_type": "code",
   "execution_count": 15,
   "metadata": {
    "collapsed": false,
    "jupyter": {
     "outputs_hidden": false
    },
    "pycharm": {
     "name": "#%%\n"
    }
   },
   "outputs": [
    {
     "data": {
      "text/plain": "     MVP CONF_RANK PLAYER_ID  SEASON_ID     TEAM_ID  PLAYER_AGE        GP  \\\n0    0.0         6   1630173       2021  1610612748   -1.257404  1.110181   \n1    0.0         3   1629121       2021  1610612749   -0.284732 -1.369898   \n2    0.0        11    203500       2021  1610612740    0.201604  0.972399   \n3    0.0         6   1628389       2021  1610612748   -0.771068  1.247963   \n4    0.0        10    200746       2021  1610612759    2.146949 -0.726915   \n..   ...       ...       ...        ...         ...         ...       ...   \n621  0.0        12   1626153       2021  1610612758    0.687940 -0.451350   \n622  0.0        11    201152       2021  1610612741    1.660613  1.431673   \n623  0.0         5   1629027       2021  1610612737   -1.014236  1.202036   \n624  0.0        10    203469       2021  1610612766    0.444772  0.513125   \n625  0.0         4   1627826       2021  1610612746   -0.527900  1.615382   \n\n          MIN       FGM       FGA  ...    FT_PCT      OREB      DREB  \\\n0   -0.139359 -0.124693 -0.253517  ... -0.971991  0.922316  0.136862   \n1   -1.182109 -0.967188 -0.977057  ... -3.345226 -0.800402 -0.987759   \n2    1.119483  0.320529  0.009588  ... -1.275057  4.226159  1.551158   \n3    1.899733  2.149360  1.627685  ...  0.380146  2.550639  2.658739   \n4   -0.419263 -0.186339 -0.187741  ...  0.561986 -0.399221 -0.357290   \n..        ...       ...       ...  ...       ...       ...       ...   \n621 -0.198820 -0.261684 -0.263384  ...  0.538673 -0.139633 -0.357290   \n622  1.187646  1.560298  1.173829  ... -0.417149  3.164210  1.159245   \n623  1.873628  2.361696  2.653796  ...  0.785788  0.096356  0.750292   \n624  0.249316  0.265732  0.062209  ... -0.016170  2.007865  0.767331   \n625  1.125284  0.786298  0.292426  ...  0.333521  3.659786  1.798234   \n\n          REB       AST       STL       BLK       TOV        PF       PTS  \n0    0.360073 -0.525843 -0.252584  0.512377 -0.053859  0.455060 -0.206183  \n1   -0.978440 -0.776748 -1.076972 -0.769883 -0.932511 -1.220961 -0.958489  \n2    2.358048  0.236164  1.148875  0.970327  0.661323  0.864754  0.127622  \n3    2.743279  2.419965  2.014482  2.252587  2.520796  1.460673  2.018352  \n4   -0.384271 -0.460794 -0.747217  0.054427 -0.523836 -0.569175 -0.246040  \n..        ...       ...       ...       ...       ...       ...       ...  \n621 -0.312448  0.106065  0.695462 -0.266138 -0.217329 -0.680910 -0.288388  \n622  1.763879  1.908863  1.973263  1.061917  1.866916  1.591030  1.086688  \n623  0.601658  4.724573  1.107656 -0.220343  4.400703  0.827509  3.007311  \n624  1.143593  0.003845  0.035952  0.008632  0.109611  1.013734  0.160006  \n625  2.390695  0.041016 -0.087706  2.069407  0.722624  2.242816  0.655731  \n\n[626 rows x 26 columns]",
      "text/html": "<div>\n<style scoped>\n    .dataframe tbody tr th:only-of-type {\n        vertical-align: middle;\n    }\n\n    .dataframe tbody tr th {\n        vertical-align: top;\n    }\n\n    .dataframe thead th {\n        text-align: right;\n    }\n</style>\n<table border=\"1\" class=\"dataframe\">\n  <thead>\n    <tr style=\"text-align: right;\">\n      <th></th>\n      <th>MVP</th>\n      <th>CONF_RANK</th>\n      <th>PLAYER_ID</th>\n      <th>SEASON_ID</th>\n      <th>TEAM_ID</th>\n      <th>PLAYER_AGE</th>\n      <th>GP</th>\n      <th>MIN</th>\n      <th>FGM</th>\n      <th>FGA</th>\n      <th>...</th>\n      <th>FT_PCT</th>\n      <th>OREB</th>\n      <th>DREB</th>\n      <th>REB</th>\n      <th>AST</th>\n      <th>STL</th>\n      <th>BLK</th>\n      <th>TOV</th>\n      <th>PF</th>\n      <th>PTS</th>\n    </tr>\n  </thead>\n  <tbody>\n    <tr>\n      <th>0</th>\n      <td>0.0</td>\n      <td>6</td>\n      <td>1630173</td>\n      <td>2021</td>\n      <td>1610612748</td>\n      <td>-1.257404</td>\n      <td>1.110181</td>\n      <td>-0.139359</td>\n      <td>-0.124693</td>\n      <td>-0.253517</td>\n      <td>...</td>\n      <td>-0.971991</td>\n      <td>0.922316</td>\n      <td>0.136862</td>\n      <td>0.360073</td>\n      <td>-0.525843</td>\n      <td>-0.252584</td>\n      <td>0.512377</td>\n      <td>-0.053859</td>\n      <td>0.455060</td>\n      <td>-0.206183</td>\n    </tr>\n    <tr>\n      <th>1</th>\n      <td>0.0</td>\n      <td>3</td>\n      <td>1629121</td>\n      <td>2021</td>\n      <td>1610612749</td>\n      <td>-0.284732</td>\n      <td>-1.369898</td>\n      <td>-1.182109</td>\n      <td>-0.967188</td>\n      <td>-0.977057</td>\n      <td>...</td>\n      <td>-3.345226</td>\n      <td>-0.800402</td>\n      <td>-0.987759</td>\n      <td>-0.978440</td>\n      <td>-0.776748</td>\n      <td>-1.076972</td>\n      <td>-0.769883</td>\n      <td>-0.932511</td>\n      <td>-1.220961</td>\n      <td>-0.958489</td>\n    </tr>\n    <tr>\n      <th>2</th>\n      <td>0.0</td>\n      <td>11</td>\n      <td>203500</td>\n      <td>2021</td>\n      <td>1610612740</td>\n      <td>0.201604</td>\n      <td>0.972399</td>\n      <td>1.119483</td>\n      <td>0.320529</td>\n      <td>0.009588</td>\n      <td>...</td>\n      <td>-1.275057</td>\n      <td>4.226159</td>\n      <td>1.551158</td>\n      <td>2.358048</td>\n      <td>0.236164</td>\n      <td>1.148875</td>\n      <td>0.970327</td>\n      <td>0.661323</td>\n      <td>0.864754</td>\n      <td>0.127622</td>\n    </tr>\n    <tr>\n      <th>3</th>\n      <td>0.0</td>\n      <td>6</td>\n      <td>1628389</td>\n      <td>2021</td>\n      <td>1610612748</td>\n      <td>-0.771068</td>\n      <td>1.247963</td>\n      <td>1.899733</td>\n      <td>2.149360</td>\n      <td>1.627685</td>\n      <td>...</td>\n      <td>0.380146</td>\n      <td>2.550639</td>\n      <td>2.658739</td>\n      <td>2.743279</td>\n      <td>2.419965</td>\n      <td>2.014482</td>\n      <td>2.252587</td>\n      <td>2.520796</td>\n      <td>1.460673</td>\n      <td>2.018352</td>\n    </tr>\n    <tr>\n      <th>4</th>\n      <td>0.0</td>\n      <td>10</td>\n      <td>200746</td>\n      <td>2021</td>\n      <td>1610612759</td>\n      <td>2.146949</td>\n      <td>-0.726915</td>\n      <td>-0.419263</td>\n      <td>-0.186339</td>\n      <td>-0.187741</td>\n      <td>...</td>\n      <td>0.561986</td>\n      <td>-0.399221</td>\n      <td>-0.357290</td>\n      <td>-0.384271</td>\n      <td>-0.460794</td>\n      <td>-0.747217</td>\n      <td>0.054427</td>\n      <td>-0.523836</td>\n      <td>-0.569175</td>\n      <td>-0.246040</td>\n    </tr>\n    <tr>\n      <th>...</th>\n      <td>...</td>\n      <td>...</td>\n      <td>...</td>\n      <td>...</td>\n      <td>...</td>\n      <td>...</td>\n      <td>...</td>\n      <td>...</td>\n      <td>...</td>\n      <td>...</td>\n      <td>...</td>\n      <td>...</td>\n      <td>...</td>\n      <td>...</td>\n      <td>...</td>\n      <td>...</td>\n      <td>...</td>\n      <td>...</td>\n      <td>...</td>\n      <td>...</td>\n      <td>...</td>\n    </tr>\n    <tr>\n      <th>621</th>\n      <td>0.0</td>\n      <td>12</td>\n      <td>1626153</td>\n      <td>2021</td>\n      <td>1610612758</td>\n      <td>0.687940</td>\n      <td>-0.451350</td>\n      <td>-0.198820</td>\n      <td>-0.261684</td>\n      <td>-0.263384</td>\n      <td>...</td>\n      <td>0.538673</td>\n      <td>-0.139633</td>\n      <td>-0.357290</td>\n      <td>-0.312448</td>\n      <td>0.106065</td>\n      <td>0.695462</td>\n      <td>-0.266138</td>\n      <td>-0.217329</td>\n      <td>-0.680910</td>\n      <td>-0.288388</td>\n    </tr>\n    <tr>\n      <th>622</th>\n      <td>0.0</td>\n      <td>11</td>\n      <td>201152</td>\n      <td>2021</td>\n      <td>1610612741</td>\n      <td>1.660613</td>\n      <td>1.431673</td>\n      <td>1.187646</td>\n      <td>1.560298</td>\n      <td>1.173829</td>\n      <td>...</td>\n      <td>-0.417149</td>\n      <td>3.164210</td>\n      <td>1.159245</td>\n      <td>1.763879</td>\n      <td>1.908863</td>\n      <td>1.973263</td>\n      <td>1.061917</td>\n      <td>1.866916</td>\n      <td>1.591030</td>\n      <td>1.086688</td>\n    </tr>\n    <tr>\n      <th>623</th>\n      <td>0.0</td>\n      <td>5</td>\n      <td>1629027</td>\n      <td>2021</td>\n      <td>1610612737</td>\n      <td>-1.014236</td>\n      <td>1.202036</td>\n      <td>1.873628</td>\n      <td>2.361696</td>\n      <td>2.653796</td>\n      <td>...</td>\n      <td>0.785788</td>\n      <td>0.096356</td>\n      <td>0.750292</td>\n      <td>0.601658</td>\n      <td>4.724573</td>\n      <td>1.107656</td>\n      <td>-0.220343</td>\n      <td>4.400703</td>\n      <td>0.827509</td>\n      <td>3.007311</td>\n    </tr>\n    <tr>\n      <th>624</th>\n      <td>0.0</td>\n      <td>10</td>\n      <td>203469</td>\n      <td>2021</td>\n      <td>1610612766</td>\n      <td>0.444772</td>\n      <td>0.513125</td>\n      <td>0.249316</td>\n      <td>0.265732</td>\n      <td>0.062209</td>\n      <td>...</td>\n      <td>-0.016170</td>\n      <td>2.007865</td>\n      <td>0.767331</td>\n      <td>1.143593</td>\n      <td>0.003845</td>\n      <td>0.035952</td>\n      <td>0.008632</td>\n      <td>0.109611</td>\n      <td>1.013734</td>\n      <td>0.160006</td>\n    </tr>\n    <tr>\n      <th>625</th>\n      <td>0.0</td>\n      <td>4</td>\n      <td>1627826</td>\n      <td>2021</td>\n      <td>1610612746</td>\n      <td>-0.527900</td>\n      <td>1.615382</td>\n      <td>1.125284</td>\n      <td>0.786298</td>\n      <td>0.292426</td>\n      <td>...</td>\n      <td>0.333521</td>\n      <td>3.659786</td>\n      <td>1.798234</td>\n      <td>2.390695</td>\n      <td>0.041016</td>\n      <td>-0.087706</td>\n      <td>2.069407</td>\n      <td>0.722624</td>\n      <td>2.242816</td>\n      <td>0.655731</td>\n    </tr>\n  </tbody>\n</table>\n<p>626 rows × 26 columns</p>\n</div>"
     },
     "execution_count": 15,
     "metadata": {},
     "output_type": "execute_result"
    }
   ],
   "source": [
    "\n",
    "for col in num_cols.tolist():\n",
    "    season_2021_norm[[col]] = scaler.fit_transform(season_2021[[col]].to_numpy().reshape(-1,1))\n",
    "\n",
    "    #train_data.loc[train_data['SEASON_ID']==year, col]=scaler.fit_transform(train_features.loc[train_features['SEASON_ID']==year, col].to_numpy().reshape(-1,1))\n",
    "\n",
    "season_2021_norm"
   ]
  },
  {
   "cell_type": "code",
   "execution_count": null,
   "outputs": [],
   "source": [],
   "metadata": {
    "collapsed": false,
    "pycharm": {
     "name": "#%%\n"
    }
   }
  },
  {
   "cell_type": "markdown",
   "metadata": {
    "pycharm": {
     "name": "#%% md\n"
    }
   },
   "source": [
    "## Predict 2021"
   ]
  },
  {
   "cell_type": "code",
   "execution_count": 16,
   "metadata": {
    "collapsed": false,
    "jupyter": {
     "outputs_hidden": false
    },
    "pycharm": {
     "name": "#%%\n"
    }
   },
   "outputs": [
    {
     "name": "stderr",
     "output_type": "stream",
     "text": [
      "/home/thomas/anaconda3/envs/ml/lib/python3.10/site-packages/sklearn/base.py:493: FutureWarning: The feature names should match those that were passed during fit. Starting version 1.2, an error will be raised.\n",
      "Feature names unseen at fit time:\n",
      "- FGM\n",
      "- TOV\n",
      "Feature names must be in the same order as they were in fit.\n",
      "\n",
      "  warnings.warn(message, FutureWarning)\n"
     ]
    },
    {
     "ename": "ValueError",
     "evalue": "X has 16 features, but SVC is expecting 14 features as input.",
     "output_type": "error",
     "traceback": [
      "\u001B[0;31m---------------------------------------------------------------------------\u001B[0m",
      "\u001B[0;31mValueError\u001B[0m                                Traceback (most recent call last)",
      "\u001B[0;32m/tmp/ipykernel_485/2987827700.py\u001B[0m in \u001B[0;36m<module>\u001B[0;34m\u001B[0m\n\u001B[1;32m      8\u001B[0m \u001B[0;34m\u001B[0m\u001B[0m\n\u001B[1;32m      9\u001B[0m \u001B[0mtrain_2021\u001B[0m \u001B[0;34m=\u001B[0m \u001B[0mseason_2021_norm\u001B[0m\u001B[0;34m[\u001B[0m\u001B[0;34m[\u001B[0m\u001B[0;34m\"GP\"\u001B[0m\u001B[0;34m,\u001B[0m \u001B[0;34m\"MIN\"\u001B[0m\u001B[0;34m,\u001B[0m \u001B[0;34m\"FGM\"\u001B[0m\u001B[0;34m,\u001B[0m \u001B[0;34m\"FG_PCT\"\u001B[0m\u001B[0;34m,\u001B[0m \u001B[0;34m\"FG3M\"\u001B[0m\u001B[0;34m,\u001B[0m \u001B[0;34m\"FG3_PCT\"\u001B[0m\u001B[0;34m,\u001B[0m \u001B[0;34m\"FTM\"\u001B[0m\u001B[0;34m,\u001B[0m \u001B[0;34m\"FT_PCT\"\u001B[0m\u001B[0;34m,\u001B[0m \u001B[0;34m\"OREB\"\u001B[0m\u001B[0;34m,\u001B[0m \u001B[0;34m\"DREB\"\u001B[0m\u001B[0;34m,\u001B[0m \u001B[0;34m\"AST\"\u001B[0m\u001B[0;34m,\u001B[0m \u001B[0;34m\"STL\"\u001B[0m\u001B[0;34m,\u001B[0m \u001B[0;34m\"BLK\"\u001B[0m\u001B[0;34m,\u001B[0m \u001B[0;34m\"TOV\"\u001B[0m\u001B[0;34m,\u001B[0m \u001B[0;34m\"PF\"\u001B[0m\u001B[0;34m,\u001B[0m \u001B[0;34m'CONF_RANK'\u001B[0m\u001B[0;34m]\u001B[0m\u001B[0;34m]\u001B[0m\u001B[0;34m\u001B[0m\u001B[0;34m\u001B[0m\u001B[0m\n\u001B[0;32m---> 10\u001B[0;31m \u001B[0mpredicted_labels\u001B[0m \u001B[0;34m=\u001B[0m \u001B[0mlog_reg\u001B[0m\u001B[0;34m.\u001B[0m\u001B[0mpredict\u001B[0m\u001B[0;34m(\u001B[0m\u001B[0mtrain_2021\u001B[0m\u001B[0;34m)\u001B[0m\u001B[0;34m\u001B[0m\u001B[0;34m\u001B[0m\u001B[0m\n\u001B[0m\u001B[1;32m     11\u001B[0m \u001B[0mprint\u001B[0m\u001B[0;34m(\u001B[0m\u001B[0;34mf\"The accuracy of the Logistic Regressor is  {accuracy_score(test_2021_labels,predicted_labels)}\"\u001B[0m\u001B[0;34m)\u001B[0m\u001B[0;34m\u001B[0m\u001B[0;34m\u001B[0m\u001B[0m\n\u001B[1;32m     12\u001B[0m \u001B[0;34m\u001B[0m\u001B[0m\n",
      "\u001B[0;32m~/anaconda3/envs/ml/lib/python3.10/site-packages/sklearn/svm/_base.py\u001B[0m in \u001B[0;36mpredict\u001B[0;34m(self, X)\u001B[0m\n\u001B[1;32m    789\u001B[0m             \u001B[0my\u001B[0m \u001B[0;34m=\u001B[0m \u001B[0mnp\u001B[0m\u001B[0;34m.\u001B[0m\u001B[0margmax\u001B[0m\u001B[0;34m(\u001B[0m\u001B[0mself\u001B[0m\u001B[0;34m.\u001B[0m\u001B[0mdecision_function\u001B[0m\u001B[0;34m(\u001B[0m\u001B[0mX\u001B[0m\u001B[0;34m)\u001B[0m\u001B[0;34m,\u001B[0m \u001B[0maxis\u001B[0m\u001B[0;34m=\u001B[0m\u001B[0;36m1\u001B[0m\u001B[0;34m)\u001B[0m\u001B[0;34m\u001B[0m\u001B[0;34m\u001B[0m\u001B[0m\n\u001B[1;32m    790\u001B[0m         \u001B[0;32melse\u001B[0m\u001B[0;34m:\u001B[0m\u001B[0;34m\u001B[0m\u001B[0;34m\u001B[0m\u001B[0m\n\u001B[0;32m--> 791\u001B[0;31m             \u001B[0my\u001B[0m \u001B[0;34m=\u001B[0m \u001B[0msuper\u001B[0m\u001B[0;34m(\u001B[0m\u001B[0;34m)\u001B[0m\u001B[0;34m.\u001B[0m\u001B[0mpredict\u001B[0m\u001B[0;34m(\u001B[0m\u001B[0mX\u001B[0m\u001B[0;34m)\u001B[0m\u001B[0;34m\u001B[0m\u001B[0;34m\u001B[0m\u001B[0m\n\u001B[0m\u001B[1;32m    792\u001B[0m         \u001B[0;32mreturn\u001B[0m \u001B[0mself\u001B[0m\u001B[0;34m.\u001B[0m\u001B[0mclasses_\u001B[0m\u001B[0;34m.\u001B[0m\u001B[0mtake\u001B[0m\u001B[0;34m(\u001B[0m\u001B[0mnp\u001B[0m\u001B[0;34m.\u001B[0m\u001B[0masarray\u001B[0m\u001B[0;34m(\u001B[0m\u001B[0my\u001B[0m\u001B[0;34m,\u001B[0m \u001B[0mdtype\u001B[0m\u001B[0;34m=\u001B[0m\u001B[0mnp\u001B[0m\u001B[0;34m.\u001B[0m\u001B[0mintp\u001B[0m\u001B[0;34m)\u001B[0m\u001B[0;34m)\u001B[0m\u001B[0;34m\u001B[0m\u001B[0;34m\u001B[0m\u001B[0m\n\u001B[1;32m    793\u001B[0m \u001B[0;34m\u001B[0m\u001B[0m\n",
      "\u001B[0;32m~/anaconda3/envs/ml/lib/python3.10/site-packages/sklearn/svm/_base.py\u001B[0m in \u001B[0;36mpredict\u001B[0;34m(self, X)\u001B[0m\n\u001B[1;32m    412\u001B[0m             \u001B[0mThe\u001B[0m \u001B[0mpredicted\u001B[0m \u001B[0mvalues\u001B[0m\u001B[0;34m.\u001B[0m\u001B[0;34m\u001B[0m\u001B[0;34m\u001B[0m\u001B[0m\n\u001B[1;32m    413\u001B[0m         \"\"\"\n\u001B[0;32m--> 414\u001B[0;31m         \u001B[0mX\u001B[0m \u001B[0;34m=\u001B[0m \u001B[0mself\u001B[0m\u001B[0;34m.\u001B[0m\u001B[0m_validate_for_predict\u001B[0m\u001B[0;34m(\u001B[0m\u001B[0mX\u001B[0m\u001B[0;34m)\u001B[0m\u001B[0;34m\u001B[0m\u001B[0;34m\u001B[0m\u001B[0m\n\u001B[0m\u001B[1;32m    415\u001B[0m         \u001B[0mpredict\u001B[0m \u001B[0;34m=\u001B[0m \u001B[0mself\u001B[0m\u001B[0;34m.\u001B[0m\u001B[0m_sparse_predict\u001B[0m \u001B[0;32mif\u001B[0m \u001B[0mself\u001B[0m\u001B[0;34m.\u001B[0m\u001B[0m_sparse\u001B[0m \u001B[0;32melse\u001B[0m \u001B[0mself\u001B[0m\u001B[0;34m.\u001B[0m\u001B[0m_dense_predict\u001B[0m\u001B[0;34m\u001B[0m\u001B[0;34m\u001B[0m\u001B[0m\n\u001B[1;32m    416\u001B[0m         \u001B[0;32mreturn\u001B[0m \u001B[0mpredict\u001B[0m\u001B[0;34m(\u001B[0m\u001B[0mX\u001B[0m\u001B[0;34m)\u001B[0m\u001B[0;34m\u001B[0m\u001B[0;34m\u001B[0m\u001B[0m\n",
      "\u001B[0;32m~/anaconda3/envs/ml/lib/python3.10/site-packages/sklearn/svm/_base.py\u001B[0m in \u001B[0;36m_validate_for_predict\u001B[0;34m(self, X)\u001B[0m\n\u001B[1;32m    590\u001B[0m \u001B[0;34m\u001B[0m\u001B[0m\n\u001B[1;32m    591\u001B[0m         \u001B[0;32mif\u001B[0m \u001B[0;32mnot\u001B[0m \u001B[0mcallable\u001B[0m\u001B[0;34m(\u001B[0m\u001B[0mself\u001B[0m\u001B[0;34m.\u001B[0m\u001B[0mkernel\u001B[0m\u001B[0;34m)\u001B[0m\u001B[0;34m:\u001B[0m\u001B[0;34m\u001B[0m\u001B[0;34m\u001B[0m\u001B[0m\n\u001B[0;32m--> 592\u001B[0;31m             X = self._validate_data(\n\u001B[0m\u001B[1;32m    593\u001B[0m                 \u001B[0mX\u001B[0m\u001B[0;34m,\u001B[0m\u001B[0;34m\u001B[0m\u001B[0;34m\u001B[0m\u001B[0m\n\u001B[1;32m    594\u001B[0m                 \u001B[0maccept_sparse\u001B[0m\u001B[0;34m=\u001B[0m\u001B[0;34m\"csr\"\u001B[0m\u001B[0;34m,\u001B[0m\u001B[0;34m\u001B[0m\u001B[0;34m\u001B[0m\u001B[0m\n",
      "\u001B[0;32m~/anaconda3/envs/ml/lib/python3.10/site-packages/sklearn/base.py\u001B[0m in \u001B[0;36m_validate_data\u001B[0;34m(self, X, y, reset, validate_separately, **check_params)\u001B[0m\n\u001B[1;32m    583\u001B[0m \u001B[0;34m\u001B[0m\u001B[0m\n\u001B[1;32m    584\u001B[0m         \u001B[0;32mif\u001B[0m \u001B[0;32mnot\u001B[0m \u001B[0mno_val_X\u001B[0m \u001B[0;32mand\u001B[0m \u001B[0mcheck_params\u001B[0m\u001B[0;34m.\u001B[0m\u001B[0mget\u001B[0m\u001B[0;34m(\u001B[0m\u001B[0;34m\"ensure_2d\"\u001B[0m\u001B[0;34m,\u001B[0m \u001B[0;32mTrue\u001B[0m\u001B[0;34m)\u001B[0m\u001B[0;34m:\u001B[0m\u001B[0;34m\u001B[0m\u001B[0;34m\u001B[0m\u001B[0m\n\u001B[0;32m--> 585\u001B[0;31m             \u001B[0mself\u001B[0m\u001B[0;34m.\u001B[0m\u001B[0m_check_n_features\u001B[0m\u001B[0;34m(\u001B[0m\u001B[0mX\u001B[0m\u001B[0;34m,\u001B[0m \u001B[0mreset\u001B[0m\u001B[0;34m=\u001B[0m\u001B[0mreset\u001B[0m\u001B[0;34m)\u001B[0m\u001B[0;34m\u001B[0m\u001B[0;34m\u001B[0m\u001B[0m\n\u001B[0m\u001B[1;32m    586\u001B[0m \u001B[0;34m\u001B[0m\u001B[0m\n\u001B[1;32m    587\u001B[0m         \u001B[0;32mreturn\u001B[0m \u001B[0mout\u001B[0m\u001B[0;34m\u001B[0m\u001B[0;34m\u001B[0m\u001B[0m\n",
      "\u001B[0;32m~/anaconda3/envs/ml/lib/python3.10/site-packages/sklearn/base.py\u001B[0m in \u001B[0;36m_check_n_features\u001B[0;34m(self, X, reset)\u001B[0m\n\u001B[1;32m    398\u001B[0m \u001B[0;34m\u001B[0m\u001B[0m\n\u001B[1;32m    399\u001B[0m         \u001B[0;32mif\u001B[0m \u001B[0mn_features\u001B[0m \u001B[0;34m!=\u001B[0m \u001B[0mself\u001B[0m\u001B[0;34m.\u001B[0m\u001B[0mn_features_in_\u001B[0m\u001B[0;34m:\u001B[0m\u001B[0;34m\u001B[0m\u001B[0;34m\u001B[0m\u001B[0m\n\u001B[0;32m--> 400\u001B[0;31m             raise ValueError(\n\u001B[0m\u001B[1;32m    401\u001B[0m                 \u001B[0;34mf\"X has {n_features} features, but {self.__class__.__name__} \"\u001B[0m\u001B[0;34m\u001B[0m\u001B[0;34m\u001B[0m\u001B[0m\n\u001B[1;32m    402\u001B[0m                 \u001B[0;34mf\"is expecting {self.n_features_in_} features as input.\"\u001B[0m\u001B[0;34m\u001B[0m\u001B[0;34m\u001B[0m\u001B[0m\n",
      "\u001B[0;31mValueError\u001B[0m: X has 16 features, but SVC is expecting 14 features as input."
     ]
    }
   ],
   "source": [
    "from sklearn.metrics import accuracy_score, confusion_matrix, classification_report\n",
    "test_2021_labels = season_2021_norm[[\"MVP\"]]\n",
    "\n",
    "with open(\"svm_40.pkl\", \"rb\") as f:\n",
    "# with open(\"rf.pkl\", \"rb\") as f:\n",
    "# with open(\"log_reg.pkl\", \"rb\") as f:\n",
    "    log_reg = pickle.load(f)\n",
    "\n",
    "train_2021 = season_2021_norm[[\"GP\", \"MIN\", \"FGM\", \"FG_PCT\", \"FG3M\", \"FG3_PCT\", \"FTM\", \"FT_PCT\", \"OREB\", \"DREB\", \"AST\", \"STL\", \"BLK\", \"TOV\", \"PF\", 'CONF_RANK']]\n",
    "predicted_labels = log_reg.predict(train_2021)\n",
    "print(f\"The accuracy of the Logistic Regressor is  {accuracy_score(test_2021_labels,predicted_labels)}\")\n"
   ]
  },
  {
   "cell_type": "code",
   "execution_count": 6,
   "metadata": {
    "collapsed": false,
    "jupyter": {
     "outputs_hidden": false
    },
    "pycharm": {
     "name": "#%%\n"
    }
   },
   "outputs": [],
   "source": [
    "#Unisco i dataset\n",
    "predict_2021 = pd.DataFrame(predicted_labels, columns=[\"MVP_Predict\"])\n",
    "predict_2021[\"PLAYER_ID\"] = list(season_2021[\"PLAYER_ID\"])\n",
    "\n",
    "winners_id = predict_2021.loc[predict_2021[\"MVP_Predict\"] == 1, \"PLAYER_ID\"]"
   ]
  },
  {
   "cell_type": "code",
   "execution_count": 7,
   "metadata": {
    "collapsed": false,
    "jupyter": {
     "outputs_hidden": false
    },
    "pycharm": {
     "name": "#%%\n"
    }
   },
   "outputs": [
    {
     "name": "stdout",
     "output_type": "stream",
     "text": [
      "{'id': 203999, 'full_name': 'Nikola Jokic', 'first_name': 'Nikola', 'last_name': 'Jokic', 'is_active': True}\n",
      "{'id': 101108, 'full_name': 'Chris Paul', 'first_name': 'Chris', 'last_name': 'Paul', 'is_active': True}\n",
      "{'id': 1627732, 'full_name': 'Ben Simmons', 'first_name': 'Ben', 'last_name': 'Simmons', 'is_active': True}\n"
     ]
    }
   ],
   "source": [
    "from nba_api.stats.static import players\n",
    "\n",
    "for id in list(winners_id):\n",
    "    print(players.find_player_by_id(id))"
   ]
  },
  {
   "cell_type": "markdown",
   "metadata": {
    "pycharm": {
     "name": "#%% md\n"
    }
   },
   "source": [
    "### PROBABILITIES 2021"
   ]
  },
  {
   "cell_type": "code",
   "execution_count": 8,
   "metadata": {
    "collapsed": false,
    "jupyter": {
     "outputs_hidden": false
    },
    "pycharm": {
     "name": "#%%\n"
    }
   },
   "outputs": [
    {
     "name": "stderr",
     "output_type": "stream",
     "text": [
      "/home/thomas/anaconda3/envs/ml/lib/python3.10/site-packages/sklearn/base.py:493: FutureWarning: The feature names should match those that were passed during fit. Starting version 1.2, an error will be raised.\n",
      "Feature names must be in the same order as they were in fit.\n",
      "\n",
      "  warnings.warn(message, FutureWarning)\n"
     ]
    },
    {
     "data": {
      "text/plain": "         id              full_name first_name      last_name is_active  \\\n0    203999           Nikola Jokic     Nikola          Jokic      True   \n1    101108             Chris Paul      Chris           Paul      True   \n2   1627732            Ben Simmons        Ben        Simmons      True   \n3    201144            Mike Conley       Mike         Conley      True   \n4    203954            Joel Embiid       Joel         Embiid      True   \n5    201935           James Harden      James         Harden      True   \n6   1628378       Donovan Mitchell    Donovan       Mitchell      True   \n7    202681           Kyrie Irving      Kyrie         Irving      True   \n8    204060             Joe Ingles        Joe         Ingles      True   \n9   1626220          Royce O'Neale      Royce        O'Neale      True   \n10   203507  Giannis Antetokounmpo    Giannis  Antetokounmpo      True   \n11   203944          Julius Randle     Julius         Randle      True   \n12   202699          Tobias Harris     Tobias         Harris      True   \n13   201980            Danny Green      Danny          Green      True   \n14   203903        Jordan Clarkson     Jordan       Clarkson      True   \n15   203114        Khris Middleton      Khris      Middleton      True   \n16   203497            Rudy Gobert       Rudy         Gobert      True   \n17   201950           Jrue Holiday       Jrue        Holiday      True   \n18   202711       Bojan Bogdanovic      Bojan     Bogdanovic      True   \n19   203552             Seth Curry       Seth          Curry      True   \n\n    mvp_prob  \n0   0.898344  \n1   0.499450  \n2   0.450225  \n3   0.063753  \n4   0.032880  \n5   0.025930  \n6   0.025120  \n7   0.018448  \n8   0.011073  \n9   0.007263  \n10  0.005985  \n11  0.004793  \n12  0.003019  \n13  0.002564  \n14  0.002055  \n15  0.002020  \n16  0.000924  \n17  0.000783  \n18  0.000330  \n19  0.000241  ",
      "text/html": "<div>\n<style scoped>\n    .dataframe tbody tr th:only-of-type {\n        vertical-align: middle;\n    }\n\n    .dataframe tbody tr th {\n        vertical-align: top;\n    }\n\n    .dataframe thead th {\n        text-align: right;\n    }\n</style>\n<table border=\"1\" class=\"dataframe\">\n  <thead>\n    <tr style=\"text-align: right;\">\n      <th></th>\n      <th>id</th>\n      <th>full_name</th>\n      <th>first_name</th>\n      <th>last_name</th>\n      <th>is_active</th>\n      <th>mvp_prob</th>\n    </tr>\n  </thead>\n  <tbody>\n    <tr>\n      <th>0</th>\n      <td>203999</td>\n      <td>Nikola Jokic</td>\n      <td>Nikola</td>\n      <td>Jokic</td>\n      <td>True</td>\n      <td>0.898344</td>\n    </tr>\n    <tr>\n      <th>1</th>\n      <td>101108</td>\n      <td>Chris Paul</td>\n      <td>Chris</td>\n      <td>Paul</td>\n      <td>True</td>\n      <td>0.499450</td>\n    </tr>\n    <tr>\n      <th>2</th>\n      <td>1627732</td>\n      <td>Ben Simmons</td>\n      <td>Ben</td>\n      <td>Simmons</td>\n      <td>True</td>\n      <td>0.450225</td>\n    </tr>\n    <tr>\n      <th>3</th>\n      <td>201144</td>\n      <td>Mike Conley</td>\n      <td>Mike</td>\n      <td>Conley</td>\n      <td>True</td>\n      <td>0.063753</td>\n    </tr>\n    <tr>\n      <th>4</th>\n      <td>203954</td>\n      <td>Joel Embiid</td>\n      <td>Joel</td>\n      <td>Embiid</td>\n      <td>True</td>\n      <td>0.032880</td>\n    </tr>\n    <tr>\n      <th>5</th>\n      <td>201935</td>\n      <td>James Harden</td>\n      <td>James</td>\n      <td>Harden</td>\n      <td>True</td>\n      <td>0.025930</td>\n    </tr>\n    <tr>\n      <th>6</th>\n      <td>1628378</td>\n      <td>Donovan Mitchell</td>\n      <td>Donovan</td>\n      <td>Mitchell</td>\n      <td>True</td>\n      <td>0.025120</td>\n    </tr>\n    <tr>\n      <th>7</th>\n      <td>202681</td>\n      <td>Kyrie Irving</td>\n      <td>Kyrie</td>\n      <td>Irving</td>\n      <td>True</td>\n      <td>0.018448</td>\n    </tr>\n    <tr>\n      <th>8</th>\n      <td>204060</td>\n      <td>Joe Ingles</td>\n      <td>Joe</td>\n      <td>Ingles</td>\n      <td>True</td>\n      <td>0.011073</td>\n    </tr>\n    <tr>\n      <th>9</th>\n      <td>1626220</td>\n      <td>Royce O'Neale</td>\n      <td>Royce</td>\n      <td>O'Neale</td>\n      <td>True</td>\n      <td>0.007263</td>\n    </tr>\n    <tr>\n      <th>10</th>\n      <td>203507</td>\n      <td>Giannis Antetokounmpo</td>\n      <td>Giannis</td>\n      <td>Antetokounmpo</td>\n      <td>True</td>\n      <td>0.005985</td>\n    </tr>\n    <tr>\n      <th>11</th>\n      <td>203944</td>\n      <td>Julius Randle</td>\n      <td>Julius</td>\n      <td>Randle</td>\n      <td>True</td>\n      <td>0.004793</td>\n    </tr>\n    <tr>\n      <th>12</th>\n      <td>202699</td>\n      <td>Tobias Harris</td>\n      <td>Tobias</td>\n      <td>Harris</td>\n      <td>True</td>\n      <td>0.003019</td>\n    </tr>\n    <tr>\n      <th>13</th>\n      <td>201980</td>\n      <td>Danny Green</td>\n      <td>Danny</td>\n      <td>Green</td>\n      <td>True</td>\n      <td>0.002564</td>\n    </tr>\n    <tr>\n      <th>14</th>\n      <td>203903</td>\n      <td>Jordan Clarkson</td>\n      <td>Jordan</td>\n      <td>Clarkson</td>\n      <td>True</td>\n      <td>0.002055</td>\n    </tr>\n    <tr>\n      <th>15</th>\n      <td>203114</td>\n      <td>Khris Middleton</td>\n      <td>Khris</td>\n      <td>Middleton</td>\n      <td>True</td>\n      <td>0.002020</td>\n    </tr>\n    <tr>\n      <th>16</th>\n      <td>203497</td>\n      <td>Rudy Gobert</td>\n      <td>Rudy</td>\n      <td>Gobert</td>\n      <td>True</td>\n      <td>0.000924</td>\n    </tr>\n    <tr>\n      <th>17</th>\n      <td>201950</td>\n      <td>Jrue Holiday</td>\n      <td>Jrue</td>\n      <td>Holiday</td>\n      <td>True</td>\n      <td>0.000783</td>\n    </tr>\n    <tr>\n      <th>18</th>\n      <td>202711</td>\n      <td>Bojan Bogdanovic</td>\n      <td>Bojan</td>\n      <td>Bogdanovic</td>\n      <td>True</td>\n      <td>0.000330</td>\n    </tr>\n    <tr>\n      <th>19</th>\n      <td>203552</td>\n      <td>Seth Curry</td>\n      <td>Seth</td>\n      <td>Curry</td>\n      <td>True</td>\n      <td>0.000241</td>\n    </tr>\n  </tbody>\n</table>\n</div>"
     },
     "execution_count": 8,
     "metadata": {},
     "output_type": "execute_result"
    }
   ],
   "source": [
    "\n",
    "test_2021_labels = season_2021_norm[[\"MVP\"]]\n",
    "\n",
    "with open(\"log_reg.pkl\", \"rb\") as f:\n",
    "    log_reg = pickle.load(f)\n",
    "\n",
    "train_2021 = season_2021_norm[[\"GP\", \"MIN\", \"FGM\", \"FG_PCT\", \"FG3M\", \"FG3_PCT\", \"FTM\", \"FT_PCT\", \"OREB\", \"DREB\", \"AST\", \"STL\", \"BLK\", \"TOV\", \"PF\", 'CONF_RANK']]\n",
    "predicted_labels = pd.DataFrame(log_reg.predict_proba(train_2021))\n",
    "\n",
    "predicted_labels.rename(columns={0:'NOT',1:'MVP'},inplace=True)\n",
    "\n",
    "predicted_labels = pd.DataFrame(predicted_labels, columns=[\"MVP\"])\n",
    "predicted_labels[\"PLAYER_ID\"] = list(season_2021[\"PLAYER_ID\"])\n",
    "\n",
    "#Sort\n",
    "mvp_candidates = predicted_labels.sort_values(by='MVP',ascending=False)\n",
    "\n",
    "#Take only better\n",
    "mvp_candidates = mvp_candidates.head(20)\n",
    "\n",
    "mvp_candidates_names = pd.DataFrame()\n",
    "for id in list(mvp_candidates[\"PLAYER_ID\"]):\n",
    "    name = pd.DataFrame.from_dict(players.find_player_by_id(id), orient=\"index\")\n",
    "    name = name.transpose()\n",
    "    mvp_candidates_names = pd.concat([mvp_candidates_names,name], axis=0, ignore_index=True)\n",
    "\n",
    "mvp_candidates_names[\"mvp_prob\"] = list(mvp_candidates[\"MVP\"])\n",
    "mvp_candidates_names"
   ]
  },
  {
   "cell_type": "code",
   "execution_count": 9,
   "metadata": {
    "collapsed": false,
    "jupyter": {
     "outputs_hidden": false
    },
    "pycharm": {
     "name": "#%%\n"
    }
   },
   "outputs": [
    {
     "data": {
      "text/plain": "(array([0, 1, 2, 3, 4, 5, 6, 7, 8, 9]),\n [Text(0, 0, 'Nikola Jokic'),\n  Text(1, 0, 'Chris Paul'),\n  Text(2, 0, 'Ben Simmons'),\n  Text(3, 0, 'Mike Conley'),\n  Text(4, 0, 'Joel Embiid'),\n  Text(5, 0, 'James Harden'),\n  Text(6, 0, 'Donovan Mitchell'),\n  Text(7, 0, 'Kyrie Irving'),\n  Text(8, 0, 'Joe Ingles'),\n  Text(9, 0, \"Royce O'Neale\")])"
     },
     "execution_count": 9,
     "metadata": {},
     "output_type": "execute_result"
    },
    {
     "data": {
      "text/plain": "<Figure size 432x288 with 1 Axes>",
      "image/png": "[encoded data removed]"
     },
     "metadata": {
      "needs_background": "light"
     },
     "output_type": "display_data"
    }
   ],
   "source": [
    "import seaborn as sns\n",
    "import matplotlib.pyplot as plt\n",
    "#mvp_candidates_names.plot.bar(x='full_name',y='mvp_prob' )\n",
    "sns.barplot(x='full_name',y='mvp_prob',data=mvp_candidates_names.head(10))\n",
    "plt.xticks(rotation=90)"
   ]
  },
  {
   "cell_type": "code",
   "execution_count": 10,
   "outputs": [
    {
     "data": {
      "text/plain": "0.18181818181818182"
     },
     "execution_count": 10,
     "metadata": {},
     "output_type": "execute_result"
    }
   ],
   "source": [
    "real_winners_2021 = [\"NIKOLA JOKIC\", \"JOEL EMBIID\", \"STEPHEN CURRY\", \"GIANNIS ANTETOKOUNMPO\", \"CHRIS PAUL\", \"LUKA DONCIC\", \"DAMIAN LILLARD\", \"JULIUS RANDLE\", \"DERRICK ROSE\", \"RUDY GOBERT\"]\n",
    "\n",
    "real_winners_2021 = [str.title() for str in real_winners_2021] #Title for capitalize name and surname\n",
    "\n",
    "versus = pd.DataFrame()\n",
    "versus[\"Predicted_rank\"] = list(mvp_candidates_names[\"full_name\"].head(10))\n",
    "versus[\"Real_rank\"] = real_winners_2021\n",
    "weight = list(reversed(range(1,11)))\n",
    "i = 0\n",
    "score = 0\n",
    "\n",
    "for row, names in versus.iterrows():\n",
    "    if names[\"Predicted_rank\"] == names[\"Real_rank\"]:\n",
    "        score = score + weight[0]\n",
    "\n",
    "score = score / sum(weight)\n",
    "score"
   ],
   "metadata": {
    "collapsed": false,
    "pycharm": {
     "name": "#%%\n"
    }
   }
  }
 ],
 "metadata": {
  "kernelspec": {
   "display_name": "Python 3 (ipykernel)",
   "language": "python",
   "name": "python3"
  },
  "language_info": {
   "codemirror_mode": {
    "name": "ipython",
    "version": 3
   },
   "file_extension": ".py",
   "mimetype": "text/x-python",
   "name": "python",
   "nbconvert_exporter": "python",
   "pygments_lexer": "ipython3",
   "version": "3.9.7"
  }
 },
 "nbformat": 4,
 "nbformat_minor": 4
}