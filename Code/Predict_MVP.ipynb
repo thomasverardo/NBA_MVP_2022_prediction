{
 "cells": [
  {
   "cell_type": "markdown",
   "metadata": {
    "pycharm": {
     "name": "#%% md\n"
    }
   },
   "source": [
    "# Predict MVP 2021"
   ]
  },
  {
   "cell_type": "code",
   "execution_count": 1,
   "metadata": {
    "collapsed": false,
    "jupyter": {
     "outputs_hidden": false
    },
    "pycharm": {
     "name": "#%%\n"
    }
   },
   "outputs": [],
   "source": [
    "import pickle\n",
    "import pandas as pd\n",
    "import numpy as np"
   ]
  },
  {
   "cell_type": "code",
   "execution_count": 2,
   "metadata": {
    "collapsed": false,
    "jupyter": {
     "outputs_hidden": false
    },
    "pycharm": {
     "name": "#%%\n"
    }
   },
   "outputs": [
    {
     "data": {
      "text/plain": "      MVP CONF_RANK PLAYER_ID  SEASON_ID     TEAM_ID  PLAYER_AGE  GP     MIN  \\\n17    0.0         7   1630173       2022  1610612761        22.0  27   659.0   \n44    0.0         4    203500       2022  1610612763        28.0  40  1026.0   \n49    0.0         4   1628389       2022  1610612748        24.0  18   592.0   \n89    0.0         4   1630583       2022  1610612763        20.0  20   217.0   \n116   0.0         2    200746       2022  1610612751        36.0  29   663.0   \n...   ...       ...       ...        ...         ...         ...  ..     ...   \n5936  0.0        10    201152       2022  1610612759        33.0  23   323.0   \n5940  0.0        12   1629027       2022  1610612737        23.0  34  1179.0   \n5941  0.0         4   1630209       2022  1610612748        23.0  30   425.0   \n5950  0.0        12    203469       2022  1610612757        29.0  25   330.0   \n5981  0.0         8   1627826       2022  1610612746        24.0  35   876.0   \n\n      FGM  FGA  ...  FT_PCT  OREB  DREB  REB  AST  STL  BLK  TOV  PF  PTS  \n17     89  221  ...   0.569    62   141  203   40   15   15   30  59  216  \n44    105  198  ...   0.600   172   203  375  119   33   23   64  66  279  \n49    126  243  ...   0.759    49   134  183   57   20    6   53  59  337  \n89     29   79  ...   0.588    21    37   58   13    2    5    7  22   72  \n116   165  292  ...   0.846    43   120  163   23   11   32   25  48  386  \n...   ...  ...  ...     ...   ...   ...  ...  ...  ...  ...  ...  ..  ...  \n5936   65  114  ...   0.444    34    45   79   55   20    6   23  33  138  \n5940  329  719  ...   0.897    26   112  138  328   31    3  141  58  962  \n5941   71  148  ...   0.622    53   128  181   22   13   16   26  49  166  \n5950   46   81  ...   0.766    45    69  114   20    8    6   18  53  128  \n5981  126  192  ...   0.737    95   193  288   38   19   41   48  80  336  \n\n[607 rows x 26 columns]",
      "text/html": "<div>\n<style scoped>\n    .dataframe tbody tr th:only-of-type {\n        vertical-align: middle;\n    }\n\n    .dataframe tbody tr th {\n        vertical-align: top;\n    }\n\n    .dataframe thead th {\n        text-align: right;\n    }\n</style>\n<table border=\"1\" class=\"dataframe\">\n  <thead>\n    <tr style=\"text-align: right;\">\n      <th></th>\n      <th>MVP</th>\n      <th>CONF_RANK</th>\n      <th>PLAYER_ID</th>\n      <th>SEASON_ID</th>\n      <th>TEAM_ID</th>\n      <th>PLAYER_AGE</th>\n      <th>GP</th>\n      <th>MIN</th>\n      <th>FGM</th>\n      <th>FGA</th>\n      <th>...</th>\n      <th>FT_PCT</th>\n      <th>OREB</th>\n      <th>DREB</th>\n      <th>REB</th>\n      <th>AST</th>\n      <th>STL</th>\n      <th>BLK</th>\n      <th>TOV</th>\n      <th>PF</th>\n      <th>PTS</th>\n    </tr>\n  </thead>\n  <tbody>\n    <tr>\n      <th>17</th>\n      <td>0.0</td>\n      <td>7</td>\n      <td>1630173</td>\n      <td>2022</td>\n      <td>1610612761</td>\n      <td>22.0</td>\n      <td>27</td>\n      <td>659.0</td>\n      <td>89</td>\n      <td>221</td>\n      <td>...</td>\n      <td>0.569</td>\n      <td>62</td>\n      <td>141</td>\n      <td>203</td>\n      <td>40</td>\n      <td>15</td>\n      <td>15</td>\n      <td>30</td>\n      <td>59</td>\n      <td>216</td>\n    </tr>\n    <tr>\n      <th>44</th>\n      <td>0.0</td>\n      <td>4</td>\n      <td>203500</td>\n      <td>2022</td>\n      <td>1610612763</td>\n      <td>28.0</td>\n      <td>40</td>\n      <td>1026.0</td>\n      <td>105</td>\n      <td>198</td>\n      <td>...</td>\n      <td>0.600</td>\n      <td>172</td>\n      <td>203</td>\n      <td>375</td>\n      <td>119</td>\n      <td>33</td>\n      <td>23</td>\n      <td>64</td>\n      <td>66</td>\n      <td>279</td>\n    </tr>\n    <tr>\n      <th>49</th>\n      <td>0.0</td>\n      <td>4</td>\n      <td>1628389</td>\n      <td>2022</td>\n      <td>1610612748</td>\n      <td>24.0</td>\n      <td>18</td>\n      <td>592.0</td>\n      <td>126</td>\n      <td>243</td>\n      <td>...</td>\n      <td>0.759</td>\n      <td>49</td>\n      <td>134</td>\n      <td>183</td>\n      <td>57</td>\n      <td>20</td>\n      <td>6</td>\n      <td>53</td>\n      <td>59</td>\n      <td>337</td>\n    </tr>\n    <tr>\n      <th>89</th>\n      <td>0.0</td>\n      <td>4</td>\n      <td>1630583</td>\n      <td>2022</td>\n      <td>1610612763</td>\n      <td>20.0</td>\n      <td>20</td>\n      <td>217.0</td>\n      <td>29</td>\n      <td>79</td>\n      <td>...</td>\n      <td>0.588</td>\n      <td>21</td>\n      <td>37</td>\n      <td>58</td>\n      <td>13</td>\n      <td>2</td>\n      <td>5</td>\n      <td>7</td>\n      <td>22</td>\n      <td>72</td>\n    </tr>\n    <tr>\n      <th>116</th>\n      <td>0.0</td>\n      <td>2</td>\n      <td>200746</td>\n      <td>2022</td>\n      <td>1610612751</td>\n      <td>36.0</td>\n      <td>29</td>\n      <td>663.0</td>\n      <td>165</td>\n      <td>292</td>\n      <td>...</td>\n      <td>0.846</td>\n      <td>43</td>\n      <td>120</td>\n      <td>163</td>\n      <td>23</td>\n      <td>11</td>\n      <td>32</td>\n      <td>25</td>\n      <td>48</td>\n      <td>386</td>\n    </tr>\n    <tr>\n      <th>...</th>\n      <td>...</td>\n      <td>...</td>\n      <td>...</td>\n      <td>...</td>\n      <td>...</td>\n      <td>...</td>\n      <td>...</td>\n      <td>...</td>\n      <td>...</td>\n      <td>...</td>\n      <td>...</td>\n      <td>...</td>\n      <td>...</td>\n      <td>...</td>\n      <td>...</td>\n      <td>...</td>\n      <td>...</td>\n      <td>...</td>\n      <td>...</td>\n      <td>...</td>\n      <td>...</td>\n    </tr>\n    <tr>\n      <th>5936</th>\n      <td>0.0</td>\n      <td>10</td>\n      <td>201152</td>\n      <td>2022</td>\n      <td>1610612759</td>\n      <td>33.0</td>\n      <td>23</td>\n      <td>323.0</td>\n      <td>65</td>\n      <td>114</td>\n      <td>...</td>\n      <td>0.444</td>\n      <td>34</td>\n      <td>45</td>\n      <td>79</td>\n      <td>55</td>\n      <td>20</td>\n      <td>6</td>\n      <td>23</td>\n      <td>33</td>\n      <td>138</td>\n    </tr>\n    <tr>\n      <th>5940</th>\n      <td>0.0</td>\n      <td>12</td>\n      <td>1629027</td>\n      <td>2022</td>\n      <td>1610612737</td>\n      <td>23.0</td>\n      <td>34</td>\n      <td>1179.0</td>\n      <td>329</td>\n      <td>719</td>\n      <td>...</td>\n      <td>0.897</td>\n      <td>26</td>\n      <td>112</td>\n      <td>138</td>\n      <td>328</td>\n      <td>31</td>\n      <td>3</td>\n      <td>141</td>\n      <td>58</td>\n      <td>962</td>\n    </tr>\n    <tr>\n      <th>5941</th>\n      <td>0.0</td>\n      <td>4</td>\n      <td>1630209</td>\n      <td>2022</td>\n      <td>1610612748</td>\n      <td>23.0</td>\n      <td>30</td>\n      <td>425.0</td>\n      <td>71</td>\n      <td>148</td>\n      <td>...</td>\n      <td>0.622</td>\n      <td>53</td>\n      <td>128</td>\n      <td>181</td>\n      <td>22</td>\n      <td>13</td>\n      <td>16</td>\n      <td>26</td>\n      <td>49</td>\n      <td>166</td>\n    </tr>\n    <tr>\n      <th>5950</th>\n      <td>0.0</td>\n      <td>12</td>\n      <td>203469</td>\n      <td>2022</td>\n      <td>1610612757</td>\n      <td>29.0</td>\n      <td>25</td>\n      <td>330.0</td>\n      <td>46</td>\n      <td>81</td>\n      <td>...</td>\n      <td>0.766</td>\n      <td>45</td>\n      <td>69</td>\n      <td>114</td>\n      <td>20</td>\n      <td>8</td>\n      <td>6</td>\n      <td>18</td>\n      <td>53</td>\n      <td>128</td>\n    </tr>\n    <tr>\n      <th>5981</th>\n      <td>0.0</td>\n      <td>8</td>\n      <td>1627826</td>\n      <td>2022</td>\n      <td>1610612746</td>\n      <td>24.0</td>\n      <td>35</td>\n      <td>876.0</td>\n      <td>126</td>\n      <td>192</td>\n      <td>...</td>\n      <td>0.737</td>\n      <td>95</td>\n      <td>193</td>\n      <td>288</td>\n      <td>38</td>\n      <td>19</td>\n      <td>41</td>\n      <td>48</td>\n      <td>80</td>\n      <td>336</td>\n    </tr>\n  </tbody>\n</table>\n<p>607 rows × 26 columns</p>\n</div>"
     },
     "execution_count": 2,
     "metadata": {},
     "output_type": "execute_result"
    }
   ],
   "source": [
    "with open(\"player_stats.pkl\", \"rb\") as f:\n",
    "    season_2021 = pickle.load(f)\n",
    "#tolgo seasons che non ci servono\n",
    "season_2021 = season_2021[season_2021[\"SEASON_ID\"] == 2021]\n",
    "\n",
    "#season_2021 = season_2021[season_2021[\"SEASON_ID\"] == 2021]\n",
    "\n",
    "#sposto la colonna MVP per prima per comodita\n",
    "cols = season_2021.columns.tolist()\n",
    "cols = cols[-2:] + cols[:-2]\n",
    "season_2021 = season_2021[cols]\n",
    "\n",
    "season_2021[\"GP\"]=season_2021[\"GP\"].astype('int')\n",
    "season_2021[\"FGM\"]=season_2021[\"FGM\"].astype('int')\n",
    "season_2021[\"FGA\"]=season_2021[\"FGA\"].astype('int')\n",
    "season_2021[\"FG3M\"]=season_2021[\"FG3M\"].astype('int')\n",
    "season_2021[\"FG3A\"]=season_2021[\"FG3A\"].astype('int')\n",
    "season_2021[\"FTM\"]=season_2021[\"FTM\"].astype('int')\n",
    "season_2021[\"FTA\"]=season_2021[\"FTA\"].astype('int')\n",
    "season_2021[\"OREB\"]=season_2021[\"OREB\"].astype('int')\n",
    "season_2021[\"DREB\"]=season_2021[\"DREB\"].astype('int')\n",
    "season_2021[\"REB\"]=season_2021[\"REB\"].astype('int')\n",
    "season_2021[\"AST\"]=season_2021[\"AST\"].astype('int')\n",
    "season_2021[\"STL\"]=season_2021[\"STL\"].astype('int')\n",
    "season_2021[\"BLK\"]=season_2021[\"BLK\"].astype('int')\n",
    "season_2021[\"TOV\"]=season_2021[\"TOV\"].astype('int')\n",
    "season_2021[\"PF\"]=season_2021[\"PF\"].astype('int')\n",
    "season_2021[\"PTS\"]=season_2021[\"PTS\"].astype('int')\n",
    "\n",
    "\n",
    "season_2021"
   ]
  },
  {
   "cell_type": "code",
   "execution_count": 3,
   "metadata": {
    "collapsed": false,
    "jupyter": {
     "outputs_hidden": false
    },
    "pycharm": {
     "name": "#%%\n"
    }
   },
   "outputs": [],
   "source": [
    "#standardizzazione i nostri dati per anno\n",
    "\n",
    "from sklearn.preprocessing import StandardScaler\n",
    "scaler=StandardScaler()\n",
    "\n",
    "num_cols = season_2021.columns\n",
    "num_cols = num_cols.drop([\"MVP\",'CONF_RANK', 'PLAYER_ID', 'SEASON_ID', 'TEAM_ID'])\n",
    "\n",
    "season_2021_norm=pd.DataFrame()\n",
    "season_2021_norm = pd.concat([season_2021_norm, season_2021],axis=0,ignore_index=True)\n"
   ]
  },
  {
   "cell_type": "code",
   "execution_count": 4,
   "metadata": {
    "collapsed": false,
    "jupyter": {
     "outputs_hidden": false
    },
    "pycharm": {
     "name": "#%%\n"
    }
   },
   "outputs": [
    {
     "data": {
      "text/plain": "     MVP CONF_RANK PLAYER_ID  SEASON_ID     TEAM_ID  PLAYER_AGE        GP  \\\n0    0.0         7   1630173       2022  1610612761   -0.904506  0.504013   \n1    0.0         4    203500       2022  1610612763    0.535901  1.511402   \n2    0.0         4   1628389       2022  1610612748   -0.424370 -0.193409   \n3    0.0         4   1630583       2022  1610612763   -1.384641 -0.038427   \n4    0.0         2    200746       2022  1610612751    2.456443  0.658996   \n..   ...       ...       ...        ...         ...         ...       ...   \n602  0.0        10    201152       2022  1610612759    1.736240  0.194048   \n603  0.0        12   1629027       2022  1610612737   -0.664438  1.046454   \n604  0.0         4   1630209       2022  1610612748   -0.664438  0.736488   \n605  0.0        12    203469       2022  1610612757    0.775969  0.349031   \n606  0.0         8   1627826       2022  1610612746   -0.424370  1.123945   \n\n          MIN       FGM       FGA  ...    FT_PCT      OREB      DREB  \\\n0    0.490957  0.158097  0.300367  ... -0.215129  1.743538  1.089080   \n1    1.397930  0.356423  0.169372  ... -0.115050  6.279345  1.988694   \n2    0.325379  0.616725  0.425667  ...  0.398257  1.207488  0.987510   \n3   -0.601364 -0.585624 -0.508387  ... -0.153791  0.052919 -0.419951   \n4    0.500842  1.100144  0.704745  ...  0.679123  0.960080  0.784372   \n..        ...       ...       ...  ...       ...       ...       ...   \n602 -0.339405 -0.139392 -0.309047  ... -0.618673  0.588969 -0.303871   \n603  1.776041  3.132982  3.136704  ...  0.843769  0.259092  0.668292   \n604 -0.087331 -0.065019 -0.115401  ... -0.044027  1.372426  0.900451   \n605 -0.322106 -0.374903 -0.496997  ...  0.420855  1.042550  0.044366   \n606  1.027233  0.616725  0.135199  ...  0.327233  3.104280  1.843595   \n\n          REB       AST       STL       BLK       TOV        PF       PTS  \n0    1.311262 -0.095090  0.018680  0.459291  0.154600  0.707808  0.041369  \n1    3.233328  1.226608  1.226340  1.101664  1.322473  0.930798  0.325693  \n2    1.087766  0.189326  0.354141 -0.263378  0.944632  0.707808  0.587452  \n3   -0.309084 -0.546810 -0.853519 -0.343675 -0.635432 -0.470857 -0.608516  \n4    0.864270 -0.379506 -0.249689  1.824333 -0.017146  0.357394  0.808594  \n..        ...       ...       ...       ...       ...       ...       ...  \n602 -0.074413  0.155865  0.354141 -0.263378 -0.085845 -0.120443 -0.310652  \n603  0.584900  4.723251  1.092155 -0.504268  3.967364  0.675952  3.408133  \n604  1.065417 -0.396236 -0.115505  0.539588  0.017203  0.389250 -0.184286  \n605  0.316705 -0.429697 -0.450966 -0.263378 -0.257591  0.516673 -0.355783  \n606  2.261120 -0.128551  0.287049  2.547003  0.772886  1.376780  0.582939  \n\n[607 rows x 26 columns]",
      "text/html": "<div>\n<style scoped>\n    .dataframe tbody tr th:only-of-type {\n        vertical-align: middle;\n    }\n\n    .dataframe tbody tr th {\n        vertical-align: top;\n    }\n\n    .dataframe thead th {\n        text-align: right;\n    }\n</style>\n<table border=\"1\" class=\"dataframe\">\n  <thead>\n    <tr style=\"text-align: right;\">\n      <th></th>\n      <th>MVP</th>\n      <th>CONF_RANK</th>\n      <th>PLAYER_ID</th>\n      <th>SEASON_ID</th>\n      <th>TEAM_ID</th>\n      <th>PLAYER_AGE</th>\n      <th>GP</th>\n      <th>MIN</th>\n      <th>FGM</th>\n      <th>FGA</th>\n      <th>...</th>\n      <th>FT_PCT</th>\n      <th>OREB</th>\n      <th>DREB</th>\n      <th>REB</th>\n      <th>AST</th>\n      <th>STL</th>\n      <th>BLK</th>\n      <th>TOV</th>\n      <th>PF</th>\n      <th>PTS</th>\n    </tr>\n  </thead>\n  <tbody>\n    <tr>\n      <th>0</th>\n      <td>0.0</td>\n      <td>7</td>\n      <td>1630173</td>\n      <td>2022</td>\n      <td>1610612761</td>\n      <td>-0.904506</td>\n      <td>0.504013</td>\n      <td>0.490957</td>\n      <td>0.158097</td>\n      <td>0.300367</td>\n      <td>...</td>\n      <td>-0.215129</td>\n      <td>1.743538</td>\n      <td>1.089080</td>\n      <td>1.311262</td>\n      <td>-0.095090</td>\n      <td>0.018680</td>\n      <td>0.459291</td>\n      <td>0.154600</td>\n      <td>0.707808</td>\n      <td>0.041369</td>\n    </tr>\n    <tr>\n      <th>1</th>\n      <td>0.0</td>\n      <td>4</td>\n      <td>203500</td>\n      <td>2022</td>\n      <td>1610612763</td>\n      <td>0.535901</td>\n      <td>1.511402</td>\n      <td>1.397930</td>\n      <td>0.356423</td>\n      <td>0.169372</td>\n      <td>...</td>\n      <td>-0.115050</td>\n      <td>6.279345</td>\n      <td>1.988694</td>\n      <td>3.233328</td>\n      <td>1.226608</td>\n      <td>1.226340</td>\n      <td>1.101664</td>\n      <td>1.322473</td>\n      <td>0.930798</td>\n      <td>0.325693</td>\n    </tr>\n    <tr>\n      <th>2</th>\n      <td>0.0</td>\n      <td>4</td>\n      <td>1628389</td>\n      <td>2022</td>\n      <td>1610612748</td>\n      <td>-0.424370</td>\n      <td>-0.193409</td>\n      <td>0.325379</td>\n      <td>0.616725</td>\n      <td>0.425667</td>\n      <td>...</td>\n      <td>0.398257</td>\n      <td>1.207488</td>\n      <td>0.987510</td>\n      <td>1.087766</td>\n      <td>0.189326</td>\n      <td>0.354141</td>\n      <td>-0.263378</td>\n      <td>0.944632</td>\n      <td>0.707808</td>\n      <td>0.587452</td>\n    </tr>\n    <tr>\n      <th>3</th>\n      <td>0.0</td>\n      <td>4</td>\n      <td>1630583</td>\n      <td>2022</td>\n      <td>1610612763</td>\n      <td>-1.384641</td>\n      <td>-0.038427</td>\n      <td>-0.601364</td>\n      <td>-0.585624</td>\n      <td>-0.508387</td>\n      <td>...</td>\n      <td>-0.153791</td>\n      <td>0.052919</td>\n      <td>-0.419951</td>\n      <td>-0.309084</td>\n      <td>-0.546810</td>\n      <td>-0.853519</td>\n      <td>-0.343675</td>\n      <td>-0.635432</td>\n      <td>-0.470857</td>\n      <td>-0.608516</td>\n    </tr>\n    <tr>\n      <th>4</th>\n      <td>0.0</td>\n      <td>2</td>\n      <td>200746</td>\n      <td>2022</td>\n      <td>1610612751</td>\n      <td>2.456443</td>\n      <td>0.658996</td>\n      <td>0.500842</td>\n      <td>1.100144</td>\n      <td>0.704745</td>\n      <td>...</td>\n      <td>0.679123</td>\n      <td>0.960080</td>\n      <td>0.784372</td>\n      <td>0.864270</td>\n      <td>-0.379506</td>\n      <td>-0.249689</td>\n      <td>1.824333</td>\n      <td>-0.017146</td>\n      <td>0.357394</td>\n      <td>0.808594</td>\n    </tr>\n    <tr>\n      <th>...</th>\n      <td>...</td>\n      <td>...</td>\n      <td>...</td>\n      <td>...</td>\n      <td>...</td>\n      <td>...</td>\n      <td>...</td>\n      <td>...</td>\n      <td>...</td>\n      <td>...</td>\n      <td>...</td>\n      <td>...</td>\n      <td>...</td>\n      <td>...</td>\n      <td>...</td>\n      <td>...</td>\n      <td>...</td>\n      <td>...</td>\n      <td>...</td>\n      <td>...</td>\n      <td>...</td>\n    </tr>\n    <tr>\n      <th>602</th>\n      <td>0.0</td>\n      <td>10</td>\n      <td>201152</td>\n      <td>2022</td>\n      <td>1610612759</td>\n      <td>1.736240</td>\n      <td>0.194048</td>\n      <td>-0.339405</td>\n      <td>-0.139392</td>\n      <td>-0.309047</td>\n      <td>...</td>\n      <td>-0.618673</td>\n      <td>0.588969</td>\n      <td>-0.303871</td>\n      <td>-0.074413</td>\n      <td>0.155865</td>\n      <td>0.354141</td>\n      <td>-0.263378</td>\n      <td>-0.085845</td>\n      <td>-0.120443</td>\n      <td>-0.310652</td>\n    </tr>\n    <tr>\n      <th>603</th>\n      <td>0.0</td>\n      <td>12</td>\n      <td>1629027</td>\n      <td>2022</td>\n      <td>1610612737</td>\n      <td>-0.664438</td>\n      <td>1.046454</td>\n      <td>1.776041</td>\n      <td>3.132982</td>\n      <td>3.136704</td>\n      <td>...</td>\n      <td>0.843769</td>\n      <td>0.259092</td>\n      <td>0.668292</td>\n      <td>0.584900</td>\n      <td>4.723251</td>\n      <td>1.092155</td>\n      <td>-0.504268</td>\n      <td>3.967364</td>\n      <td>0.675952</td>\n      <td>3.408133</td>\n    </tr>\n    <tr>\n      <th>604</th>\n      <td>0.0</td>\n      <td>4</td>\n      <td>1630209</td>\n      <td>2022</td>\n      <td>1610612748</td>\n      <td>-0.664438</td>\n      <td>0.736488</td>\n      <td>-0.087331</td>\n      <td>-0.065019</td>\n      <td>-0.115401</td>\n      <td>...</td>\n      <td>-0.044027</td>\n      <td>1.372426</td>\n      <td>0.900451</td>\n      <td>1.065417</td>\n      <td>-0.396236</td>\n      <td>-0.115505</td>\n      <td>0.539588</td>\n      <td>0.017203</td>\n      <td>0.389250</td>\n      <td>-0.184286</td>\n    </tr>\n    <tr>\n      <th>605</th>\n      <td>0.0</td>\n      <td>12</td>\n      <td>203469</td>\n      <td>2022</td>\n      <td>1610612757</td>\n      <td>0.775969</td>\n      <td>0.349031</td>\n      <td>-0.322106</td>\n      <td>-0.374903</td>\n      <td>-0.496997</td>\n      <td>...</td>\n      <td>0.420855</td>\n      <td>1.042550</td>\n      <td>0.044366</td>\n      <td>0.316705</td>\n      <td>-0.429697</td>\n      <td>-0.450966</td>\n      <td>-0.263378</td>\n      <td>-0.257591</td>\n      <td>0.516673</td>\n      <td>-0.355783</td>\n    </tr>\n    <tr>\n      <th>606</th>\n      <td>0.0</td>\n      <td>8</td>\n      <td>1627826</td>\n      <td>2022</td>\n      <td>1610612746</td>\n      <td>-0.424370</td>\n      <td>1.123945</td>\n      <td>1.027233</td>\n      <td>0.616725</td>\n      <td>0.135199</td>\n      <td>...</td>\n      <td>0.327233</td>\n      <td>3.104280</td>\n      <td>1.843595</td>\n      <td>2.261120</td>\n      <td>-0.128551</td>\n      <td>0.287049</td>\n      <td>2.547003</td>\n      <td>0.772886</td>\n      <td>1.376780</td>\n      <td>0.582939</td>\n    </tr>\n  </tbody>\n</table>\n<p>607 rows × 26 columns</p>\n</div>"
     },
     "execution_count": 4,
     "metadata": {},
     "output_type": "execute_result"
    }
   ],
   "source": [
    "\n",
    "for col in num_cols.tolist():\n",
    "    season_2021_norm[[col]] = scaler.fit_transform(season_2021[[col]].to_numpy().reshape(-1,1))\n",
    "\n",
    "    #train_data.loc[train_data['SEASON_ID']==year, col]=scaler.fit_transform(train_features.loc[train_features['SEASON_ID']==year, col].to_numpy().reshape(-1,1))\n",
    "\n",
    "season_2021_norm"
   ]
  },
  {
   "cell_type": "markdown",
   "metadata": {
    "pycharm": {
     "name": "#%% md\n"
    }
   },
   "source": [
    "## Predict 2021"
   ]
  },
  {
   "cell_type": "code",
   "execution_count": 5,
   "metadata": {
    "collapsed": false,
    "jupyter": {
     "outputs_hidden": false
    },
    "pycharm": {
     "name": "#%%\n"
    }
   },
   "outputs": [
    {
     "name": "stdout",
     "output_type": "stream",
     "text": [
      "The balanced accuracy score is  0.9950576606260296\n"
     ]
    },
    {
     "name": "stderr",
     "output_type": "stream",
     "text": [
      "/home/thomas/anaconda3/envs/ml/lib/python3.10/site-packages/sklearn/metrics/_classification.py:1987: UserWarning: y_pred contains classes not in y_true\n",
      "  warnings.warn(\"y_pred contains classes not in y_true\")\n"
     ]
    }
   ],
   "source": [
    "from sklearn.metrics import accuracy_score, confusion_matrix, classification_report, balanced_accuracy_score\n",
    "test_2021_labels = season_2021_norm[[\"MVP\"]]\n",
    "\n",
    "name_model = \"log_reg\"\n",
    "\n",
    "# with open(\"svm_40.pkl\", \"rb\") as f:\n",
    "with open(name_model+\".pkl\", \"rb\") as f:\n",
    "# with open(\"svm.pkl\", \"rb\") as f:\n",
    "# with open(\"rf.pkl\", \"rb\") as f:\n",
    "# with open(\"log_reg.pkl\", \"rb\") as f:\n",
    "\n",
    "    log_reg = pickle.load(f)\n",
    "\n",
    "\n",
    "    ###                             ###\n",
    "\n",
    "# train_2021 = season_2021_norm[[\"CONF_RANK\", \"GP\", \"MIN\", \"FGM\", \"FG_PCT\", \"FG3M\", \"FG3_PCT\", \"FTM\", \"FT_PCT\", \"OREB\", \"DREB\", \"AST\", \"STL\", \"BLK\", \"TOV\", \"PF\"]]\n",
    "train_2021 = season_2021_norm[[\"CONF_RANK\", \"GP\", \"MIN\", \"FG_PCT\", \"FG3M\", \"FG3_PCT\", \"FTM\", \"FT_PCT\", \"OREB\", \"DREB\", \"AST\", \"STL\", \"BLK\", \"PF\"]]\n",
    "# train_2021 = season_2021_norm.drop([\"MVP\", 'PLAYER_ID', 'SEASON_ID', 'TEAM_ID', \"PLAYER_AGE\"], axis=1)\n",
    "\n",
    "\n",
    "predicted_labels = log_reg.predict(train_2021)\n",
    "print(f\"The balanced accuracy score is  {balanced_accuracy_score(test_2021_labels,predicted_labels)}\")"
   ]
  },
  {
   "cell_type": "code",
   "execution_count": 6,
   "metadata": {
    "collapsed": false,
    "jupyter": {
     "outputs_hidden": false
    },
    "pycharm": {
     "name": "#%%\n"
    }
   },
   "outputs": [],
   "source": [
    "#Unisco i dataset\n",
    "predict_2021 = pd.DataFrame(predicted_labels, columns=[\"MVP_Predict\"])\n",
    "predict_2021[\"PLAYER_ID\"] = list(season_2021[\"PLAYER_ID\"])\n",
    "\n",
    "winners_id = predict_2021.loc[predict_2021[\"MVP_Predict\"] == 1, \"PLAYER_ID\"]"
   ]
  },
  {
   "cell_type": "code",
   "execution_count": 7,
   "metadata": {
    "collapsed": false,
    "jupyter": {
     "outputs_hidden": false
    },
    "pycharm": {
     "name": "#%%\n"
    }
   },
   "outputs": [
    {
     "name": "stdout",
     "output_type": "stream",
     "text": [
      "{'id': 201142, 'full_name': 'Kevin Durant', 'first_name': 'Kevin', 'last_name': 'Durant', 'is_active': True}\n",
      "{'id': 201935, 'full_name': 'James Harden', 'first_name': 'James', 'last_name': 'Harden', 'is_active': True}\n",
      "{'id': 101108, 'full_name': 'Chris Paul', 'first_name': 'Chris', 'last_name': 'Paul', 'is_active': True}\n"
     ]
    }
   ],
   "source": [
    "from nba_api.stats.static import players\n",
    "\n",
    "for id in list(winners_id):\n",
    "    print(players.find_player_by_id(id))"
   ]
  },
  {
   "cell_type": "markdown",
   "metadata": {
    "pycharm": {
     "name": "#%% md\n"
    }
   },
   "source": [
    "### PROBABILITIES 2021"
   ]
  },
  {
   "cell_type": "code",
   "execution_count": 8,
   "metadata": {
    "collapsed": false,
    "jupyter": {
     "outputs_hidden": false
    },
    "pycharm": {
     "name": "#%%\n"
    }
   },
   "outputs": [
    {
     "data": {
      "text/plain": "        id              full_name first_name      last_name is_active  \\\n0   201935           James Harden      James         Harden      True   \n1   101108             Chris Paul      Chris           Paul      True   \n2   201142           Kevin Durant      Kevin         Durant      True   \n3   203897            Zach LaVine       Zach         LaVine      True   \n4   203507  Giannis Antetokounmpo    Giannis  Antetokounmpo      True   \n5   201942          DeMar DeRozan      DeMar        DeRozan      True   \n6   201939          Stephen Curry    Stephen          Curry      True   \n7   203497            Rudy Gobert       Rudy         Gobert      True   \n8  1626164           Devin Booker      Devin         Booker      True   \n9   203110         Draymond Green   Draymond          Green      True   \n\n   mvp_prob  \n0  0.985963  \n1  0.924167  \n2  0.716800  \n3  0.139101  \n4  0.119785  \n5  0.117864  \n6  0.101497  \n7  0.021332  \n8  0.003922  \n9  0.001859  ",
      "text/html": "<div>\n<style scoped>\n    .dataframe tbody tr th:only-of-type {\n        vertical-align: middle;\n    }\n\n    .dataframe tbody tr th {\n        vertical-align: top;\n    }\n\n    .dataframe thead th {\n        text-align: right;\n    }\n</style>\n<table border=\"1\" class=\"dataframe\">\n  <thead>\n    <tr style=\"text-align: right;\">\n      <th></th>\n      <th>id</th>\n      <th>full_name</th>\n      <th>first_name</th>\n      <th>last_name</th>\n      <th>is_active</th>\n      <th>mvp_prob</th>\n    </tr>\n  </thead>\n  <tbody>\n    <tr>\n      <th>0</th>\n      <td>201935</td>\n      <td>James Harden</td>\n      <td>James</td>\n      <td>Harden</td>\n      <td>True</td>\n      <td>0.985963</td>\n    </tr>\n    <tr>\n      <th>1</th>\n      <td>101108</td>\n      <td>Chris Paul</td>\n      <td>Chris</td>\n      <td>Paul</td>\n      <td>True</td>\n      <td>0.924167</td>\n    </tr>\n    <tr>\n      <th>2</th>\n      <td>201142</td>\n      <td>Kevin Durant</td>\n      <td>Kevin</td>\n      <td>Durant</td>\n      <td>True</td>\n      <td>0.716800</td>\n    </tr>\n    <tr>\n      <th>3</th>\n      <td>203897</td>\n      <td>Zach LaVine</td>\n      <td>Zach</td>\n      <td>LaVine</td>\n      <td>True</td>\n      <td>0.139101</td>\n    </tr>\n    <tr>\n      <th>4</th>\n      <td>203507</td>\n      <td>Giannis Antetokounmpo</td>\n      <td>Giannis</td>\n      <td>Antetokounmpo</td>\n      <td>True</td>\n      <td>0.119785</td>\n    </tr>\n    <tr>\n      <th>5</th>\n      <td>201942</td>\n      <td>DeMar DeRozan</td>\n      <td>DeMar</td>\n      <td>DeRozan</td>\n      <td>True</td>\n      <td>0.117864</td>\n    </tr>\n    <tr>\n      <th>6</th>\n      <td>201939</td>\n      <td>Stephen Curry</td>\n      <td>Stephen</td>\n      <td>Curry</td>\n      <td>True</td>\n      <td>0.101497</td>\n    </tr>\n    <tr>\n      <th>7</th>\n      <td>203497</td>\n      <td>Rudy Gobert</td>\n      <td>Rudy</td>\n      <td>Gobert</td>\n      <td>True</td>\n      <td>0.021332</td>\n    </tr>\n    <tr>\n      <th>8</th>\n      <td>1626164</td>\n      <td>Devin Booker</td>\n      <td>Devin</td>\n      <td>Booker</td>\n      <td>True</td>\n      <td>0.003922</td>\n    </tr>\n    <tr>\n      <th>9</th>\n      <td>203110</td>\n      <td>Draymond Green</td>\n      <td>Draymond</td>\n      <td>Green</td>\n      <td>True</td>\n      <td>0.001859</td>\n    </tr>\n  </tbody>\n</table>\n</div>"
     },
     "execution_count": 8,
     "metadata": {},
     "output_type": "execute_result"
    }
   ],
   "source": [
    "\n",
    "# test_2021_labels = season_2021_norm[[\"MVP\"]]\n",
    "#\n",
    "# with open(\"log_reg.pkl\", \"rb\") as f:\n",
    "#     log_reg = pickle.load(f)\n",
    "\n",
    "#train_2021 = season_2021_norm[[\"GP\", \"MIN\", \"FGM\", \"FG_PCT\", \"FG3M\", \"FG3_PCT\", \"FTM\", \"FT_PCT\", \"OREB\", \"DREB\", \"AST\", \"STL\", \"BLK\", \"TOV\", \"PF\", 'CONF_RANK']]\n",
    "predicted_labels = pd.DataFrame(log_reg.predict_proba(train_2021))\n",
    "\n",
    "predicted_labels.rename(columns={0:'NOT',1:'MVP'},inplace=True)\n",
    "\n",
    "predicted_labels = pd.DataFrame(predicted_labels, columns=[\"MVP\"])\n",
    "predicted_labels[\"PLAYER_ID\"] = list(season_2021[\"PLAYER_ID\"])\n",
    "\n",
    "#Sort\n",
    "mvp_candidates = predicted_labels.sort_values(by='MVP',ascending=False)\n",
    "\n",
    "#Take only better\n",
    "mvp_candidates = mvp_candidates.head(10)\n",
    "\n",
    "mvp_candidates_names = pd.DataFrame()\n",
    "# for row, id in mvp_candidates[\"PLAYER_ID\"].iterrows():\n",
    "#     name_player = players.find_player_by_id(id[\"PLAYER_ID\"])\n",
    "#     if name_player is not None:\n",
    "#         name = pd.DataFrame.from_dict(name_player, orient=\"index\")\n",
    "#\n",
    "#         name = name.transpose()\n",
    "#         name[\"mvp_prob\"] = list(id[\"MVP\"])\n",
    "#         mvp_candidates_names = pd.concat([mvp_candidates_names,name], axis=0, ignore_index=True)\n",
    "\n",
    "for id in list(mvp_candidates[\"PLAYER_ID\"]):\n",
    "    name_player = players.find_player_by_id(id)\n",
    "    name = pd.DataFrame.from_dict(name_player, orient=\"index\")\n",
    "\n",
    "    name = name.transpose()\n",
    "    mvp_candidates_names = pd.concat([mvp_candidates_names,name], axis=0, ignore_index=True)\n",
    "\n",
    "mvp_candidates_names[\"mvp_prob\"] = list(mvp_candidates[\"MVP\"])\n",
    "mvp_candidates_names"
   ]
  },
  {
   "cell_type": "code",
   "execution_count": 9,
   "metadata": {
    "collapsed": false,
    "jupyter": {
     "outputs_hidden": false
    },
    "pycharm": {
     "name": "#%%\n"
    }
   },
   "outputs": [
    {
     "data": {
      "text/plain": "(array([0, 1, 2, 3, 4, 5, 6, 7, 8, 9]),\n [Text(0, 0, 'James Harden'),\n  Text(1, 0, 'Chris Paul'),\n  Text(2, 0, 'Kevin Durant'),\n  Text(3, 0, 'Zach LaVine'),\n  Text(4, 0, 'Giannis Antetokounmpo'),\n  Text(5, 0, 'DeMar DeRozan'),\n  Text(6, 0, 'Stephen Curry'),\n  Text(7, 0, 'Rudy Gobert'),\n  Text(8, 0, 'Devin Booker'),\n  Text(9, 0, 'Draymond Green')])"
     },
     "execution_count": 9,
     "metadata": {},
     "output_type": "execute_result"
    },
    {
     "data": {
      "text/plain": "<Figure size 432x288 with 1 Axes>",
      "image/png": "[encoded data removed]"
     },
     "metadata": {
      "needs_background": "light"
     },
     "output_type": "display_data"
    }
   ],
   "source": [
    "import seaborn as sns\n",
    "import matplotlib.pyplot as plt\n",
    "#mvp_candidates_names.plot.bar(x='full_name',y='mvp_prob' )\n",
    "sns.barplot(x='full_name',y='mvp_prob',data=mvp_candidates_names.head(10))\n",
    "plt.xticks(rotation=90)\n",
    "#plt.savefig('plot/'+name_model+'_test30.png', bbox_inches='tight')"
   ]
  },
  {
   "cell_type": "code",
   "execution_count": 82,
   "outputs": [
    {
     "data": {
      "text/plain": "0.0"
     },
     "execution_count": 82,
     "metadata": {},
     "output_type": "execute_result"
    }
   ],
   "source": [
    "real_winners_2021 = [\"NIKOLA JOKIC\", \"JOEL EMBIID\", \"STEPHEN CURRY\", \"GIANNIS ANTETOKOUNMPO\", \"CHRIS PAUL\", \"LUKA DONCIC\", \"DAMIAN LILLARD\", \"JULIUS RANDLE\", \"DERRICK ROSE\", \"RUDY GOBERT\"]\n",
    "\n",
    "real_winners_2021 = [str.title() for str in real_winners_2021] #Title for capitalize name and surname\n",
    "\n",
    "versus = pd.DataFrame()\n",
    "versus[\"Predicted_rank\"] = list(mvp_candidates_names[\"full_name\"].head(10))\n",
    "versus[\"Real_rank\"] = real_winners_2021\n",
    "weight = list(reversed(range(1,11)))\n",
    "i = 0\n",
    "score = 0\n",
    "\n",
    "# for row, names in versus.iterrows():\n",
    "#     if names[\"Predicted_rank\"] == names[\"Real_rank\"]:\n",
    "#         score = score + weight[i]\n",
    "#     else:\n",
    "#         j = i + 1\n",
    "#         real_name = names[\"Real_rank\"]\n",
    "#         while names[\"Predicted_rank\"] != real_name or j < 9:\n",
    "#             real_name = versus.at[j,\"Real_rank\"]\n",
    "#             j = j + 1\n",
    "#\n",
    "#         if j > 10:\n",
    "#             score = score + weight[j]\n",
    "#\n",
    "#     i = i+1\n",
    "\n",
    "for row, names in versus.iterrows():\n",
    "    if names[\"Predicted_rank\"] == names[\"Real_rank\"]:\n",
    "        score = score + weight[0]\n",
    "\n",
    "score = score / sum(weight)\n",
    "score\n",
    "\n"
   ],
   "metadata": {
    "collapsed": false,
    "pycharm": {
     "name": "#%%\n"
    }
   }
  }
 ],
 "metadata": {
  "kernelspec": {
   "display_name": "Python 3 (ipykernel)",
   "language": "python",
   "name": "python3"
  },
  "language_info": {
   "codemirror_mode": {
    "name": "ipython",
    "version": 3
   },
   "file_extension": ".py",
   "mimetype": "text/x-python",
   "name": "python",
   "nbconvert_exporter": "python",
   "pygments_lexer": "ipython3",
   "version": "3.9.7"
  }
 },
 "nbformat": 4,
 "nbformat_minor": 4
}