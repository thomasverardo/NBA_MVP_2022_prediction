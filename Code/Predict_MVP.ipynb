{
 "cells": [
  {
   "cell_type": "markdown",
   "metadata": {
    "pycharm": {
     "name": "#%% md\n"
    }
   },
   "source": [
    "# Predict MVP 2021"
   ]
  },
  {
   "cell_type": "code",
   "execution_count": 116,
   "metadata": {
    "collapsed": false,
    "jupyter": {
     "outputs_hidden": false
    },
    "pycharm": {
     "name": "#%%\n"
    }
   },
   "outputs": [],
   "source": [
    "import pickle\n",
    "import pandas as pd\n",
    "import numpy as np"
   ]
  },
  {
   "cell_type": "code",
   "execution_count": 120,
   "metadata": {
    "collapsed": false,
    "jupyter": {
     "outputs_hidden": false
    },
    "pycharm": {
     "name": "#%%\n"
    }
   },
   "outputs": [
    {
     "data": {
      "text/plain": "      MVP CONF_RANK PLAYER_ID  SEASON_ID     TEAM_ID  PLAYER_AGE  GP     MIN  \\\n42    0.0         5    203500       2020  1610612760        26.0  63  1681.0   \n47    0.0         5   1628389       2020  1610612748        22.0  72  2417.0   \n113   0.0        11    200746       2020  1610612759        34.0  53  1754.0   \n128   0.0         5   1629734       2020  1610612748        23.0   2    13.0   \n130   0.0        13   1629638       2020  1610612740        21.0  47   591.0   \n...   ...       ...       ...        ...         ...         ...  ..     ...   \n5938  0.0        14   1629027       2020  1610612737        21.0  60  2120.0   \n5948  0.0        10    203469       2020  1610612766        27.0  58  1341.0   \n5961  0.0        11    203092       2020  1610612759        30.0   2     4.0   \n5974  0.0        15   1627790       2020  1610612739        23.0  22   221.0   \n5979  0.0         2   1627826       2020  1610612746        23.0  72  1326.0   \n\n      FGM   FGA  ...  FT_PCT  OREB  DREB  REB  AST  STL  BLK  TOV   PF   PTS  \n42    283   478  ...   0.582   207   376  583  146   51   67   94  122   684  \n47    440   790  ...   0.691   176   559  735  368   82   93  204  182  1146  \n113   391   793  ...   0.827   103   289  392  129   36   87   74  128  1001  \n128     1     2  ...   0.000     2     1    3    0    0    0    1    1     2  \n130    98   266  ...   0.676     9    75   84   89   17    8   54   57   267  \n...   ...   ...  ...     ...   ...   ...  ...  ...  ...  ...  ...  ...   ...  \n5938  546  1249  ...   0.860    32   223  255  560   65    8  289  104  1778  \n5948  251   479  ...   0.682   160   251  411   88   40   25   75  140   642  \n5961    1     4  ...   0.000     3     1    4    0    0    0    0    0     2  \n5974   41    72  ...   0.737    18    48   66    6    7    5   10   27    96  \n5979  236   385  ...   0.747   197   346  543   82   16   66   61  168   596  \n\n[591 rows x 26 columns]",
      "text/html": "<div>\n<style scoped>\n    .dataframe tbody tr th:only-of-type {\n        vertical-align: middle;\n    }\n\n    .dataframe tbody tr th {\n        vertical-align: top;\n    }\n\n    .dataframe thead th {\n        text-align: right;\n    }\n</style>\n<table border=\"1\" class=\"dataframe\">\n  <thead>\n    <tr style=\"text-align: right;\">\n      <th></th>\n      <th>MVP</th>\n      <th>CONF_RANK</th>\n      <th>PLAYER_ID</th>\n      <th>SEASON_ID</th>\n      <th>TEAM_ID</th>\n      <th>PLAYER_AGE</th>\n      <th>GP</th>\n      <th>MIN</th>\n      <th>FGM</th>\n      <th>FGA</th>\n      <th>...</th>\n      <th>FT_PCT</th>\n      <th>OREB</th>\n      <th>DREB</th>\n      <th>REB</th>\n      <th>AST</th>\n      <th>STL</th>\n      <th>BLK</th>\n      <th>TOV</th>\n      <th>PF</th>\n      <th>PTS</th>\n    </tr>\n  </thead>\n  <tbody>\n    <tr>\n      <th>42</th>\n      <td>0.0</td>\n      <td>5</td>\n      <td>203500</td>\n      <td>2020</td>\n      <td>1610612760</td>\n      <td>26.0</td>\n      <td>63</td>\n      <td>1681.0</td>\n      <td>283</td>\n      <td>478</td>\n      <td>...</td>\n      <td>0.582</td>\n      <td>207</td>\n      <td>376</td>\n      <td>583</td>\n      <td>146</td>\n      <td>51</td>\n      <td>67</td>\n      <td>94</td>\n      <td>122</td>\n      <td>684</td>\n    </tr>\n    <tr>\n      <th>47</th>\n      <td>0.0</td>\n      <td>5</td>\n      <td>1628389</td>\n      <td>2020</td>\n      <td>1610612748</td>\n      <td>22.0</td>\n      <td>72</td>\n      <td>2417.0</td>\n      <td>440</td>\n      <td>790</td>\n      <td>...</td>\n      <td>0.691</td>\n      <td>176</td>\n      <td>559</td>\n      <td>735</td>\n      <td>368</td>\n      <td>82</td>\n      <td>93</td>\n      <td>204</td>\n      <td>182</td>\n      <td>1146</td>\n    </tr>\n    <tr>\n      <th>113</th>\n      <td>0.0</td>\n      <td>11</td>\n      <td>200746</td>\n      <td>2020</td>\n      <td>1610612759</td>\n      <td>34.0</td>\n      <td>53</td>\n      <td>1754.0</td>\n      <td>391</td>\n      <td>793</td>\n      <td>...</td>\n      <td>0.827</td>\n      <td>103</td>\n      <td>289</td>\n      <td>392</td>\n      <td>129</td>\n      <td>36</td>\n      <td>87</td>\n      <td>74</td>\n      <td>128</td>\n      <td>1001</td>\n    </tr>\n    <tr>\n      <th>128</th>\n      <td>0.0</td>\n      <td>5</td>\n      <td>1629734</td>\n      <td>2020</td>\n      <td>1610612748</td>\n      <td>23.0</td>\n      <td>2</td>\n      <td>13.0</td>\n      <td>1</td>\n      <td>2</td>\n      <td>...</td>\n      <td>0.000</td>\n      <td>2</td>\n      <td>1</td>\n      <td>3</td>\n      <td>0</td>\n      <td>0</td>\n      <td>0</td>\n      <td>1</td>\n      <td>1</td>\n      <td>2</td>\n    </tr>\n    <tr>\n      <th>130</th>\n      <td>0.0</td>\n      <td>13</td>\n      <td>1629638</td>\n      <td>2020</td>\n      <td>1610612740</td>\n      <td>21.0</td>\n      <td>47</td>\n      <td>591.0</td>\n      <td>98</td>\n      <td>266</td>\n      <td>...</td>\n      <td>0.676</td>\n      <td>9</td>\n      <td>75</td>\n      <td>84</td>\n      <td>89</td>\n      <td>17</td>\n      <td>8</td>\n      <td>54</td>\n      <td>57</td>\n      <td>267</td>\n    </tr>\n    <tr>\n      <th>...</th>\n      <td>...</td>\n      <td>...</td>\n      <td>...</td>\n      <td>...</td>\n      <td>...</td>\n      <td>...</td>\n      <td>...</td>\n      <td>...</td>\n      <td>...</td>\n      <td>...</td>\n      <td>...</td>\n      <td>...</td>\n      <td>...</td>\n      <td>...</td>\n      <td>...</td>\n      <td>...</td>\n      <td>...</td>\n      <td>...</td>\n      <td>...</td>\n      <td>...</td>\n      <td>...</td>\n    </tr>\n    <tr>\n      <th>5938</th>\n      <td>0.0</td>\n      <td>14</td>\n      <td>1629027</td>\n      <td>2020</td>\n      <td>1610612737</td>\n      <td>21.0</td>\n      <td>60</td>\n      <td>2120.0</td>\n      <td>546</td>\n      <td>1249</td>\n      <td>...</td>\n      <td>0.860</td>\n      <td>32</td>\n      <td>223</td>\n      <td>255</td>\n      <td>560</td>\n      <td>65</td>\n      <td>8</td>\n      <td>289</td>\n      <td>104</td>\n      <td>1778</td>\n    </tr>\n    <tr>\n      <th>5948</th>\n      <td>0.0</td>\n      <td>10</td>\n      <td>203469</td>\n      <td>2020</td>\n      <td>1610612766</td>\n      <td>27.0</td>\n      <td>58</td>\n      <td>1341.0</td>\n      <td>251</td>\n      <td>479</td>\n      <td>...</td>\n      <td>0.682</td>\n      <td>160</td>\n      <td>251</td>\n      <td>411</td>\n      <td>88</td>\n      <td>40</td>\n      <td>25</td>\n      <td>75</td>\n      <td>140</td>\n      <td>642</td>\n    </tr>\n    <tr>\n      <th>5961</th>\n      <td>0.0</td>\n      <td>11</td>\n      <td>203092</td>\n      <td>2020</td>\n      <td>1610612759</td>\n      <td>30.0</td>\n      <td>2</td>\n      <td>4.0</td>\n      <td>1</td>\n      <td>4</td>\n      <td>...</td>\n      <td>0.000</td>\n      <td>3</td>\n      <td>1</td>\n      <td>4</td>\n      <td>0</td>\n      <td>0</td>\n      <td>0</td>\n      <td>0</td>\n      <td>0</td>\n      <td>2</td>\n    </tr>\n    <tr>\n      <th>5974</th>\n      <td>0.0</td>\n      <td>15</td>\n      <td>1627790</td>\n      <td>2020</td>\n      <td>1610612739</td>\n      <td>23.0</td>\n      <td>22</td>\n      <td>221.0</td>\n      <td>41</td>\n      <td>72</td>\n      <td>...</td>\n      <td>0.737</td>\n      <td>18</td>\n      <td>48</td>\n      <td>66</td>\n      <td>6</td>\n      <td>7</td>\n      <td>5</td>\n      <td>10</td>\n      <td>27</td>\n      <td>96</td>\n    </tr>\n    <tr>\n      <th>5979</th>\n      <td>0.0</td>\n      <td>2</td>\n      <td>1627826</td>\n      <td>2020</td>\n      <td>1610612746</td>\n      <td>23.0</td>\n      <td>72</td>\n      <td>1326.0</td>\n      <td>236</td>\n      <td>385</td>\n      <td>...</td>\n      <td>0.747</td>\n      <td>197</td>\n      <td>346</td>\n      <td>543</td>\n      <td>82</td>\n      <td>16</td>\n      <td>66</td>\n      <td>61</td>\n      <td>168</td>\n      <td>596</td>\n    </tr>\n  </tbody>\n</table>\n<p>591 rows × 26 columns</p>\n</div>"
     },
     "execution_count": 120,
     "metadata": {},
     "output_type": "execute_result"
    }
   ],
   "source": [
    "with open(\"player_stats.pkl\", \"rb\") as f:\n",
    "    season_2021 = pickle.load(f)\n",
    "#tolgo seasons che non ci servono\n",
    "season_2021 = season_2021[season_2021[\"SEASON_ID\"] == 2020]\n",
    "\n",
    "#sposto la colonna MVP per prima per comodita\n",
    "cols = season_2021.columns.tolist()\n",
    "cols = cols[-2:] + cols[:-2]\n",
    "season_2021 = season_2021[cols]\n",
    "\n",
    "season_2021[\"GP\"]=season_2021[\"GP\"].astype('int')\n",
    "season_2021[\"FGM\"]=season_2021[\"FGM\"].astype('int')\n",
    "season_2021[\"FGA\"]=season_2021[\"FGA\"].astype('int')\n",
    "season_2021[\"FG3M\"]=season_2021[\"FG3M\"].astype('int')\n",
    "season_2021[\"FG3A\"]=season_2021[\"FG3A\"].astype('int')\n",
    "season_2021[\"FTM\"]=season_2021[\"FTM\"].astype('int')\n",
    "season_2021[\"FTA\"]=season_2021[\"FTA\"].astype('int')\n",
    "season_2021[\"OREB\"]=season_2021[\"OREB\"].astype('int')\n",
    "season_2021[\"DREB\"]=season_2021[\"DREB\"].astype('int')\n",
    "season_2021[\"REB\"]=season_2021[\"REB\"].astype('int')\n",
    "season_2021[\"AST\"]=season_2021[\"AST\"].astype('int')\n",
    "season_2021[\"STL\"]=season_2021[\"STL\"].astype('int')\n",
    "season_2021[\"BLK\"]=season_2021[\"BLK\"].astype('int')\n",
    "season_2021[\"TOV\"]=season_2021[\"TOV\"].astype('int')\n",
    "season_2021[\"PF\"]=season_2021[\"PF\"].astype('int')\n",
    "season_2021[\"PTS\"]=season_2021[\"PTS\"].astype('int')\n",
    "\n",
    "\n",
    "season_2021"
   ]
  },
  {
   "cell_type": "code",
   "execution_count": 121,
   "metadata": {
    "collapsed": false,
    "jupyter": {
     "outputs_hidden": false
    },
    "pycharm": {
     "name": "#%%\n"
    }
   },
   "outputs": [],
   "source": [
    "#standardizzazione i nostri dati per anno\n",
    "\n",
    "from sklearn.preprocessing import StandardScaler\n",
    "scaler=StandardScaler()\n",
    "\n",
    "num_cols = season_2021.columns\n",
    "num_cols = num_cols.drop([\"MVP\",'CONF_RANK', 'PLAYER_ID', 'SEASON_ID', 'TEAM_ID'])\n",
    "\n",
    "season_2021_norm=pd.DataFrame()\n",
    "season_2021_norm = pd.concat([season_2021_norm, season_2021],axis=0,ignore_index=True)\n"
   ]
  },
  {
   "cell_type": "code",
   "execution_count": 122,
   "metadata": {
    "collapsed": false,
    "jupyter": {
     "outputs_hidden": false
    },
    "pycharm": {
     "name": "#%%\n"
    }
   },
   "outputs": [
    {
     "data": {
      "text/plain": "     MVP CONF_RANK PLAYER_ID  SEASON_ID     TEAM_ID  PLAYER_AGE        GP  \\\n0    0.0         5    203500       2020  1610612760   -0.029722  1.078277   \n1    0.0         5   1628389       2020  1610612748   -1.005601  1.464756   \n2    0.0        11    200746       2020  1610612759    1.922036  0.648855   \n3    0.0         5   1629734       2020  1610612748   -0.761631 -1.541195   \n4    0.0        13   1629638       2020  1610612740   -1.249571  0.391202   \n..   ...       ...       ...        ...         ...         ...       ...   \n586  0.0        14   1629027       2020  1610612737   -1.249571  0.949450   \n587  0.0        10    203469       2020  1610612766    0.214248  0.863566   \n588  0.0        11    203092       2020  1610612759    0.946157 -1.541195   \n589  0.0        15   1627790       2020  1610612739   -0.761631 -0.682352   \n590  0.0         2   1627826       2020  1610612746   -0.761631  1.464756   \n\n          MIN       FGM       FGA  ...    FT_PCT      OREB      DREB  \\\n0    1.133275  0.916577  0.503056  ... -0.524599  3.993897  2.034892   \n1    2.157244  1.970397  1.485865  ... -0.042858  3.269398  3.515923   \n2    1.234837  1.641498  1.495315  ...  0.558213  1.563321  1.330796   \n3   -1.187349 -0.976272 -0.996358  ... -3.096830 -0.797142 -1.000007   \n4   -0.383199 -0.325185 -0.164750  ... -0.109152 -0.633546 -0.401120   \n..        ...       ...       ...  ...       ...       ...       ...   \n586  1.744039  2.681894  2.931728  ...  0.704062 -0.096015  0.796653   \n587  0.660246  0.701786  0.506206  ... -0.082635  2.895464  1.023259   \n588 -1.199870 -0.976272 -0.990058  ... -3.096830 -0.773771 -1.000007   \n589 -0.897966 -0.707783 -0.775856  ...  0.160446 -0.423207 -0.619633   \n590  0.639378  0.601102  0.210103  ...  0.204642  3.760188  1.792100   \n\n          REB       AST       STL       BLK       TOV        PF       PTS  \n0    2.625829  0.536605  0.907155  2.107939  0.835505  0.803630  0.681082  \n1    3.570890  2.569218  2.099321  3.216484  2.917862  1.817820  1.791605  \n2    1.438285  0.380954  0.330300  2.960666  0.456895  0.905049  1.443064  \n3   -0.980325 -0.800159 -1.054150 -0.748697 -0.925033 -1.241654 -0.958263  \n4   -0.476707  0.014718 -0.400382 -0.407607  0.078285 -0.295076 -0.321274  \n..        ...       ...       ...       ...       ...       ...       ...  \n586  0.586487  4.327153  1.445552 -0.407607  4.526956  0.499373  3.310763  \n587  1.556418  0.005562  0.484128  0.317212  0.475825  1.107887  0.580125  \n588 -0.974108 -0.800159 -1.054150 -0.748697 -0.943963 -1.258557 -0.958263  \n589 -0.588622 -0.745223 -0.784951 -0.535516 -0.754658 -0.802171 -0.732312  \n590  2.377129 -0.049374 -0.438839  2.065303  0.210798  1.581176  0.469553  \n\n[591 rows x 26 columns]",
      "text/html": "<div>\n<style scoped>\n    .dataframe tbody tr th:only-of-type {\n        vertical-align: middle;\n    }\n\n    .dataframe tbody tr th {\n        vertical-align: top;\n    }\n\n    .dataframe thead th {\n        text-align: right;\n    }\n</style>\n<table border=\"1\" class=\"dataframe\">\n  <thead>\n    <tr style=\"text-align: right;\">\n      <th></th>\n      <th>MVP</th>\n      <th>CONF_RANK</th>\n      <th>PLAYER_ID</th>\n      <th>SEASON_ID</th>\n      <th>TEAM_ID</th>\n      <th>PLAYER_AGE</th>\n      <th>GP</th>\n      <th>MIN</th>\n      <th>FGM</th>\n      <th>FGA</th>\n      <th>...</th>\n      <th>FT_PCT</th>\n      <th>OREB</th>\n      <th>DREB</th>\n      <th>REB</th>\n      <th>AST</th>\n      <th>STL</th>\n      <th>BLK</th>\n      <th>TOV</th>\n      <th>PF</th>\n      <th>PTS</th>\n    </tr>\n  </thead>\n  <tbody>\n    <tr>\n      <th>0</th>\n      <td>0.0</td>\n      <td>5</td>\n      <td>203500</td>\n      <td>2020</td>\n      <td>1610612760</td>\n      <td>-0.029722</td>\n      <td>1.078277</td>\n      <td>1.133275</td>\n      <td>0.916577</td>\n      <td>0.503056</td>\n      <td>...</td>\n      <td>-0.524599</td>\n      <td>3.993897</td>\n      <td>2.034892</td>\n      <td>2.625829</td>\n      <td>0.536605</td>\n      <td>0.907155</td>\n      <td>2.107939</td>\n      <td>0.835505</td>\n      <td>0.803630</td>\n      <td>0.681082</td>\n    </tr>\n    <tr>\n      <th>1</th>\n      <td>0.0</td>\n      <td>5</td>\n      <td>1628389</td>\n      <td>2020</td>\n      <td>1610612748</td>\n      <td>-1.005601</td>\n      <td>1.464756</td>\n      <td>2.157244</td>\n      <td>1.970397</td>\n      <td>1.485865</td>\n      <td>...</td>\n      <td>-0.042858</td>\n      <td>3.269398</td>\n      <td>3.515923</td>\n      <td>3.570890</td>\n      <td>2.569218</td>\n      <td>2.099321</td>\n      <td>3.216484</td>\n      <td>2.917862</td>\n      <td>1.817820</td>\n      <td>1.791605</td>\n    </tr>\n    <tr>\n      <th>2</th>\n      <td>0.0</td>\n      <td>11</td>\n      <td>200746</td>\n      <td>2020</td>\n      <td>1610612759</td>\n      <td>1.922036</td>\n      <td>0.648855</td>\n      <td>1.234837</td>\n      <td>1.641498</td>\n      <td>1.495315</td>\n      <td>...</td>\n      <td>0.558213</td>\n      <td>1.563321</td>\n      <td>1.330796</td>\n      <td>1.438285</td>\n      <td>0.380954</td>\n      <td>0.330300</td>\n      <td>2.960666</td>\n      <td>0.456895</td>\n      <td>0.905049</td>\n      <td>1.443064</td>\n    </tr>\n    <tr>\n      <th>3</th>\n      <td>0.0</td>\n      <td>5</td>\n      <td>1629734</td>\n      <td>2020</td>\n      <td>1610612748</td>\n      <td>-0.761631</td>\n      <td>-1.541195</td>\n      <td>-1.187349</td>\n      <td>-0.976272</td>\n      <td>-0.996358</td>\n      <td>...</td>\n      <td>-3.096830</td>\n      <td>-0.797142</td>\n      <td>-1.000007</td>\n      <td>-0.980325</td>\n      <td>-0.800159</td>\n      <td>-1.054150</td>\n      <td>-0.748697</td>\n      <td>-0.925033</td>\n      <td>-1.241654</td>\n      <td>-0.958263</td>\n    </tr>\n    <tr>\n      <th>4</th>\n      <td>0.0</td>\n      <td>13</td>\n      <td>1629638</td>\n      <td>2020</td>\n      <td>1610612740</td>\n      <td>-1.249571</td>\n      <td>0.391202</td>\n      <td>-0.383199</td>\n      <td>-0.325185</td>\n      <td>-0.164750</td>\n      <td>...</td>\n      <td>-0.109152</td>\n      <td>-0.633546</td>\n      <td>-0.401120</td>\n      <td>-0.476707</td>\n      <td>0.014718</td>\n      <td>-0.400382</td>\n      <td>-0.407607</td>\n      <td>0.078285</td>\n      <td>-0.295076</td>\n      <td>-0.321274</td>\n    </tr>\n    <tr>\n      <th>...</th>\n      <td>...</td>\n      <td>...</td>\n      <td>...</td>\n      <td>...</td>\n      <td>...</td>\n      <td>...</td>\n      <td>...</td>\n      <td>...</td>\n      <td>...</td>\n      <td>...</td>\n      <td>...</td>\n      <td>...</td>\n      <td>...</td>\n      <td>...</td>\n      <td>...</td>\n      <td>...</td>\n      <td>...</td>\n      <td>...</td>\n      <td>...</td>\n      <td>...</td>\n      <td>...</td>\n    </tr>\n    <tr>\n      <th>586</th>\n      <td>0.0</td>\n      <td>14</td>\n      <td>1629027</td>\n      <td>2020</td>\n      <td>1610612737</td>\n      <td>-1.249571</td>\n      <td>0.949450</td>\n      <td>1.744039</td>\n      <td>2.681894</td>\n      <td>2.931728</td>\n      <td>...</td>\n      <td>0.704062</td>\n      <td>-0.096015</td>\n      <td>0.796653</td>\n      <td>0.586487</td>\n      <td>4.327153</td>\n      <td>1.445552</td>\n      <td>-0.407607</td>\n      <td>4.526956</td>\n      <td>0.499373</td>\n      <td>3.310763</td>\n    </tr>\n    <tr>\n      <th>587</th>\n      <td>0.0</td>\n      <td>10</td>\n      <td>203469</td>\n      <td>2020</td>\n      <td>1610612766</td>\n      <td>0.214248</td>\n      <td>0.863566</td>\n      <td>0.660246</td>\n      <td>0.701786</td>\n      <td>0.506206</td>\n      <td>...</td>\n      <td>-0.082635</td>\n      <td>2.895464</td>\n      <td>1.023259</td>\n      <td>1.556418</td>\n      <td>0.005562</td>\n      <td>0.484128</td>\n      <td>0.317212</td>\n      <td>0.475825</td>\n      <td>1.107887</td>\n      <td>0.580125</td>\n    </tr>\n    <tr>\n      <th>588</th>\n      <td>0.0</td>\n      <td>11</td>\n      <td>203092</td>\n      <td>2020</td>\n      <td>1610612759</td>\n      <td>0.946157</td>\n      <td>-1.541195</td>\n      <td>-1.199870</td>\n      <td>-0.976272</td>\n      <td>-0.990058</td>\n      <td>...</td>\n      <td>-3.096830</td>\n      <td>-0.773771</td>\n      <td>-1.000007</td>\n      <td>-0.974108</td>\n      <td>-0.800159</td>\n      <td>-1.054150</td>\n      <td>-0.748697</td>\n      <td>-0.943963</td>\n      <td>-1.258557</td>\n      <td>-0.958263</td>\n    </tr>\n    <tr>\n      <th>589</th>\n      <td>0.0</td>\n      <td>15</td>\n      <td>1627790</td>\n      <td>2020</td>\n      <td>1610612739</td>\n      <td>-0.761631</td>\n      <td>-0.682352</td>\n      <td>-0.897966</td>\n      <td>-0.707783</td>\n      <td>-0.775856</td>\n      <td>...</td>\n      <td>0.160446</td>\n      <td>-0.423207</td>\n      <td>-0.619633</td>\n      <td>-0.588622</td>\n      <td>-0.745223</td>\n      <td>-0.784951</td>\n      <td>-0.535516</td>\n      <td>-0.754658</td>\n      <td>-0.802171</td>\n      <td>-0.732312</td>\n    </tr>\n    <tr>\n      <th>590</th>\n      <td>0.0</td>\n      <td>2</td>\n      <td>1627826</td>\n      <td>2020</td>\n      <td>1610612746</td>\n      <td>-0.761631</td>\n      <td>1.464756</td>\n      <td>0.639378</td>\n      <td>0.601102</td>\n      <td>0.210103</td>\n      <td>...</td>\n      <td>0.204642</td>\n      <td>3.760188</td>\n      <td>1.792100</td>\n      <td>2.377129</td>\n      <td>-0.049374</td>\n      <td>-0.438839</td>\n      <td>2.065303</td>\n      <td>0.210798</td>\n      <td>1.581176</td>\n      <td>0.469553</td>\n    </tr>\n  </tbody>\n</table>\n<p>591 rows × 26 columns</p>\n</div>"
     },
     "execution_count": 122,
     "metadata": {},
     "output_type": "execute_result"
    }
   ],
   "source": [
    "\n",
    "for col in num_cols.tolist():\n",
    "    season_2021_norm[[col]] = scaler.fit_transform(season_2021[[col]].to_numpy().reshape(-1,1))\n",
    "\n",
    "    #train_data.loc[train_data['SEASON_ID']==year, col]=scaler.fit_transform(train_features.loc[train_features['SEASON_ID']==year, col].to_numpy().reshape(-1,1))\n",
    "\n",
    "season_2021_norm"
   ]
  },
  {
   "cell_type": "markdown",
   "metadata": {
    "pycharm": {
     "name": "#%% md\n"
    }
   },
   "source": [
    "## Predict 2021"
   ]
  },
  {
   "cell_type": "code",
   "execution_count": 123,
   "metadata": {
    "collapsed": false,
    "jupyter": {
     "outputs_hidden": false
    },
    "pycharm": {
     "name": "#%%\n"
    }
   },
   "outputs": [
    {
     "name": "stdout",
     "output_type": "stream",
     "text": [
      "The accuracy is  0.9983079526226735\n"
     ]
    }
   ],
   "source": [
    "from sklearn.metrics import accuracy_score, confusion_matrix, classification_report\n",
    "test_2021_labels = season_2021_norm[[\"MVP\"]]\n",
    "\n",
    "name_model = \"log_reg_no_pearson\"\n",
    "\n",
    "# with open(\"svm_40.pkl\", \"rb\") as f:\n",
    "with open(name_model+\".pkl\", \"rb\") as f:\n",
    "# with open(\"svm.pkl\", \"rb\") as f:\n",
    "# with open(\"rf.pkl\", \"rb\") as f:\n",
    "# with open(\"log_reg.pkl\", \"rb\") as f:\n",
    "\n",
    "    log_reg = pickle.load(f)\n",
    "\n",
    "\n",
    "    ###                             ###\n",
    "\n",
    "# train_2021 = season_2021_norm[[\"CONF_RANK\", \"GP\", \"MIN\", \"FGM\", \"FG_PCT\", \"FG3M\", \"FG3_PCT\", \"FTM\", \"FT_PCT\", \"OREB\", \"DREB\", \"AST\", \"STL\", \"BLK\", \"TOV\", \"PF\"]]\n",
    "# train_2021 = season_2021_norm[[\"CONF_RANK\", \"GP\", \"MIN\", \"FG_PCT\", \"FG3M\", \"FG3_PCT\", \"FTM\", \"FT_PCT\", \"OREB\", \"DREB\", \"AST\", \"STL\", \"BLK\", \"PF\"]]\n",
    "train_2021 = season_2021_norm.drop([\"MVP\", 'PLAYER_ID', 'SEASON_ID', 'TEAM_ID', \"PLAYER_AGE\"], axis=1)\n",
    "\n",
    "\n",
    "predicted_labels = log_reg.predict(train_2021)\n",
    "print(f\"The accuracy is  {accuracy_score(test_2021_labels,predicted_labels)}\")\n"
   ]
  },
  {
   "cell_type": "code",
   "execution_count": 124,
   "metadata": {
    "collapsed": false,
    "jupyter": {
     "outputs_hidden": false
    },
    "pycharm": {
     "name": "#%%\n"
    }
   },
   "outputs": [],
   "source": [
    "#Unisco i dataset\n",
    "predict_2021 = pd.DataFrame(predicted_labels, columns=[\"MVP_Predict\"])\n",
    "predict_2021[\"PLAYER_ID\"] = list(season_2021[\"PLAYER_ID\"])\n",
    "\n",
    "winners_id = predict_2021.loc[predict_2021[\"MVP_Predict\"] == 1, \"PLAYER_ID\"]"
   ]
  },
  {
   "cell_type": "code",
   "execution_count": 125,
   "metadata": {
    "collapsed": false,
    "jupyter": {
     "outputs_hidden": false
    },
    "pycharm": {
     "name": "#%%\n"
    }
   },
   "outputs": [
    {
     "name": "stdout",
     "output_type": "stream",
     "text": [
      "{'id': 203507, 'full_name': 'Giannis Antetokounmpo', 'first_name': 'Giannis', 'last_name': 'Antetokounmpo', 'is_active': True}\n",
      "{'id': 2544, 'full_name': 'LeBron James', 'first_name': 'LeBron', 'last_name': 'James', 'is_active': True}\n"
     ]
    }
   ],
   "source": [
    "from nba_api.stats.static import players\n",
    "\n",
    "for id in list(winners_id):\n",
    "    print(players.find_player_by_id(id))"
   ]
  },
  {
   "cell_type": "markdown",
   "metadata": {
    "pycharm": {
     "name": "#%% md\n"
    }
   },
   "source": [
    "### PROBABILITIES 2021"
   ]
  },
  {
   "cell_type": "code",
   "execution_count": 126,
   "metadata": {
    "collapsed": false,
    "jupyter": {
     "outputs_hidden": false
    },
    "pycharm": {
     "name": "#%%\n"
    }
   },
   "outputs": [
    {
     "data": {
      "text/plain": "        id              full_name first_name      last_name is_active  \\\n0     2544           LeBron James     LeBron          James      True   \n1   203507  Giannis Antetokounmpo    Giannis  Antetokounmpo      True   \n2   203076          Anthony Davis    Anthony          Davis      True   \n3   203999           Nikola Jokic     Nikola          Jokic      True   \n4   203114        Khris Middleton      Khris      Middleton      True   \n5   202695          Kawhi Leonard      Kawhi        Leonard      True   \n6   201935           James Harden      James         Harden      True   \n7   101150           Lou Williams        Lou       Williams      True   \n8   202339           Eric Bledsoe       Eric        Bledsoe      True   \n9  1628961   Kostas Antetokounmpo     Kostas  Antetokounmpo     False   \n\n   mvp_prob  \n0  0.999949  \n1  0.997567  \n2  0.212665  \n3  0.035742  \n4  0.027709  \n5  0.017731  \n6  0.010073  \n7  0.005530  \n8  0.001838  \n9  0.001466  ",
      "text/html": "<div>\n<style scoped>\n    .dataframe tbody tr th:only-of-type {\n        vertical-align: middle;\n    }\n\n    .dataframe tbody tr th {\n        vertical-align: top;\n    }\n\n    .dataframe thead th {\n        text-align: right;\n    }\n</style>\n<table border=\"1\" class=\"dataframe\">\n  <thead>\n    <tr style=\"text-align: right;\">\n      <th></th>\n      <th>id</th>\n      <th>full_name</th>\n      <th>first_name</th>\n      <th>last_name</th>\n      <th>is_active</th>\n      <th>mvp_prob</th>\n    </tr>\n  </thead>\n  <tbody>\n    <tr>\n      <th>0</th>\n      <td>2544</td>\n      <td>LeBron James</td>\n      <td>LeBron</td>\n      <td>James</td>\n      <td>True</td>\n      <td>0.999949</td>\n    </tr>\n    <tr>\n      <th>1</th>\n      <td>203507</td>\n      <td>Giannis Antetokounmpo</td>\n      <td>Giannis</td>\n      <td>Antetokounmpo</td>\n      <td>True</td>\n      <td>0.997567</td>\n    </tr>\n    <tr>\n      <th>2</th>\n      <td>203076</td>\n      <td>Anthony Davis</td>\n      <td>Anthony</td>\n      <td>Davis</td>\n      <td>True</td>\n      <td>0.212665</td>\n    </tr>\n    <tr>\n      <th>3</th>\n      <td>203999</td>\n      <td>Nikola Jokic</td>\n      <td>Nikola</td>\n      <td>Jokic</td>\n      <td>True</td>\n      <td>0.035742</td>\n    </tr>\n    <tr>\n      <th>4</th>\n      <td>203114</td>\n      <td>Khris Middleton</td>\n      <td>Khris</td>\n      <td>Middleton</td>\n      <td>True</td>\n      <td>0.027709</td>\n    </tr>\n    <tr>\n      <th>5</th>\n      <td>202695</td>\n      <td>Kawhi Leonard</td>\n      <td>Kawhi</td>\n      <td>Leonard</td>\n      <td>True</td>\n      <td>0.017731</td>\n    </tr>\n    <tr>\n      <th>6</th>\n      <td>201935</td>\n      <td>James Harden</td>\n      <td>James</td>\n      <td>Harden</td>\n      <td>True</td>\n      <td>0.010073</td>\n    </tr>\n    <tr>\n      <th>7</th>\n      <td>101150</td>\n      <td>Lou Williams</td>\n      <td>Lou</td>\n      <td>Williams</td>\n      <td>True</td>\n      <td>0.005530</td>\n    </tr>\n    <tr>\n      <th>8</th>\n      <td>202339</td>\n      <td>Eric Bledsoe</td>\n      <td>Eric</td>\n      <td>Bledsoe</td>\n      <td>True</td>\n      <td>0.001838</td>\n    </tr>\n    <tr>\n      <th>9</th>\n      <td>1628961</td>\n      <td>Kostas Antetokounmpo</td>\n      <td>Kostas</td>\n      <td>Antetokounmpo</td>\n      <td>False</td>\n      <td>0.001466</td>\n    </tr>\n  </tbody>\n</table>\n</div>"
     },
     "execution_count": 126,
     "metadata": {},
     "output_type": "execute_result"
    }
   ],
   "source": [
    "\n",
    "# test_2021_labels = season_2021_norm[[\"MVP\"]]\n",
    "#\n",
    "# with open(\"log_reg.pkl\", \"rb\") as f:\n",
    "#     log_reg = pickle.load(f)\n",
    "\n",
    "#train_2021 = season_2021_norm[[\"GP\", \"MIN\", \"FGM\", \"FG_PCT\", \"FG3M\", \"FG3_PCT\", \"FTM\", \"FT_PCT\", \"OREB\", \"DREB\", \"AST\", \"STL\", \"BLK\", \"TOV\", \"PF\", 'CONF_RANK']]\n",
    "predicted_labels = pd.DataFrame(log_reg.predict_proba(train_2021))\n",
    "\n",
    "predicted_labels.rename(columns={0:'NOT',1:'MVP'},inplace=True)\n",
    "\n",
    "predicted_labels = pd.DataFrame(predicted_labels, columns=[\"MVP\"])\n",
    "predicted_labels[\"PLAYER_ID\"] = list(season_2021[\"PLAYER_ID\"])\n",
    "\n",
    "#Sort\n",
    "mvp_candidates = predicted_labels.sort_values(by='MVP',ascending=False)\n",
    "\n",
    "#Take only better\n",
    "mvp_candidates = mvp_candidates.head(10)\n",
    "\n",
    "mvp_candidates_names = pd.DataFrame()\n",
    "# for row, id in mvp_candidates[\"PLAYER_ID\"].iterrows():\n",
    "#     name_player = players.find_player_by_id(id[\"PLAYER_ID\"])\n",
    "#     if name_player is not None:\n",
    "#         name = pd.DataFrame.from_dict(name_player, orient=\"index\")\n",
    "#\n",
    "#         name = name.transpose()\n",
    "#         name[\"mvp_prob\"] = list(id[\"MVP\"])\n",
    "#         mvp_candidates_names = pd.concat([mvp_candidates_names,name], axis=0, ignore_index=True)\n",
    "\n",
    "for id in list(mvp_candidates[\"PLAYER_ID\"]):\n",
    "    name_player = players.find_player_by_id(id)\n",
    "    name = pd.DataFrame.from_dict(name_player, orient=\"index\")\n",
    "\n",
    "    name = name.transpose()\n",
    "    mvp_candidates_names = pd.concat([mvp_candidates_names,name], axis=0, ignore_index=True)\n",
    "\n",
    "mvp_candidates_names[\"mvp_prob\"] = list(mvp_candidates[\"MVP\"])\n",
    "mvp_candidates_names"
   ]
  },
  {
   "cell_type": "code",
   "execution_count": 127,
   "metadata": {
    "collapsed": false,
    "jupyter": {
     "outputs_hidden": false
    },
    "pycharm": {
     "name": "#%%\n"
    }
   },
   "outputs": [
    {
     "data": {
      "text/plain": "(array([0, 1, 2, 3, 4, 5, 6, 7, 8, 9]),\n [Text(0, 0, 'LeBron James'),\n  Text(1, 0, 'Giannis Antetokounmpo'),\n  Text(2, 0, 'Anthony Davis'),\n  Text(3, 0, 'Nikola Jokic'),\n  Text(4, 0, 'Khris Middleton'),\n  Text(5, 0, 'Kawhi Leonard'),\n  Text(6, 0, 'James Harden'),\n  Text(7, 0, 'Lou Williams'),\n  Text(8, 0, 'Eric Bledsoe'),\n  Text(9, 0, 'Kostas Antetokounmpo')])"
     },
     "execution_count": 127,
     "metadata": {},
     "output_type": "execute_result"
    },
    {
     "data": {
      "text/plain": "<Figure size 432x288 with 1 Axes>",
      "image/png": "[encoded data removed]"
     },
     "metadata": {
      "needs_background": "light"
     },
     "output_type": "display_data"
    }
   ],
   "source": [
    "import seaborn as sns\n",
    "import matplotlib.pyplot as plt\n",
    "#mvp_candidates_names.plot.bar(x='full_name',y='mvp_prob' )\n",
    "sns.barplot(x='full_name',y='mvp_prob',data=mvp_candidates_names.head(10))\n",
    "plt.xticks(rotation=90)\n",
    "#plt.savefig('plot/'+name_model+'.png', bbox_inches='tight')"
   ]
  },
  {
   "cell_type": "code",
   "execution_count": 82,
   "outputs": [
    {
     "data": {
      "text/plain": "0.0"
     },
     "execution_count": 82,
     "metadata": {},
     "output_type": "execute_result"
    }
   ],
   "source": [
    "real_winners_2021 = [\"NIKOLA JOKIC\", \"JOEL EMBIID\", \"STEPHEN CURRY\", \"GIANNIS ANTETOKOUNMPO\", \"CHRIS PAUL\", \"LUKA DONCIC\", \"DAMIAN LILLARD\", \"JULIUS RANDLE\", \"DERRICK ROSE\", \"RUDY GOBERT\"]\n",
    "\n",
    "real_winners_2021 = [str.title() for str in real_winners_2021] #Title for capitalize name and surname\n",
    "\n",
    "versus = pd.DataFrame()\n",
    "versus[\"Predicted_rank\"] = list(mvp_candidates_names[\"full_name\"].head(10))\n",
    "versus[\"Real_rank\"] = real_winners_2021\n",
    "weight = list(reversed(range(1,11)))\n",
    "i = 0\n",
    "score = 0\n",
    "\n",
    "# for row, names in versus.iterrows():\n",
    "#     if names[\"Predicted_rank\"] == names[\"Real_rank\"]:\n",
    "#         score = score + weight[i]\n",
    "#     else:\n",
    "#         j = i + 1\n",
    "#         real_name = names[\"Real_rank\"]\n",
    "#         while names[\"Predicted_rank\"] != real_name or j < 9:\n",
    "#             real_name = versus.at[j,\"Real_rank\"]\n",
    "#             j = j + 1\n",
    "#\n",
    "#         if j > 10:\n",
    "#             score = score + weight[j]\n",
    "#\n",
    "#     i = i+1\n",
    "\n",
    "for row, names in versus.iterrows():\n",
    "    if names[\"Predicted_rank\"] == names[\"Real_rank\"]:\n",
    "        score = score + weight[0]\n",
    "\n",
    "score = score / sum(weight)\n",
    "score\n",
    "\n"
   ],
   "metadata": {
    "collapsed": false,
    "pycharm": {
     "name": "#%%\n"
    }
   }
  }
 ],
 "metadata": {
  "kernelspec": {
   "display_name": "Python 3 (ipykernel)",
   "language": "python",
   "name": "python3"
  },
  "language_info": {
   "codemirror_mode": {
    "name": "ipython",
    "version": 3
   },
   "file_extension": ".py",
   "mimetype": "text/x-python",
   "name": "python",
   "nbconvert_exporter": "python",
   "pygments_lexer": "ipython3",
   "version": "3.9.7"
  }
 },
 "nbformat": 4,
 "nbformat_minor": 4
}