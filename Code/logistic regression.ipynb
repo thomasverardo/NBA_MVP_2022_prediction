{
 "cells": [
  {
   "cell_type": "markdown",
   "id": "a6013e4e-e111-4a65-9db0-78ce4484f33c",
   "metadata": {},
   "source": [
    "# LOGISTIC REGRESSION"
   ]
  },
  {
   "cell_type": "markdown",
   "id": "2fc81556-78ab-4a25-8e3f-f882368b85f1",
   "metadata": {},
   "source": [
    "## CON FILTRO <40"
   ]
  },
  {
   "cell_type": "code",
   "execution_count": 2,
   "id": "edb091e7-50e8-48e0-b902-35a926880a14",
   "metadata": {},
   "outputs": [],
   "source": [
    "import pandas as pd\n",
    "from sklearn.model_selection import RandomizedSearchCV\n",
    "from scipy.stats import uniform\n",
    "from sklearn.linear_model import LogisticRegression\n",
    "log_reg=LogisticRegression(max_iter=10000,random_state=18)\n",
    "from sklearn.metrics import accuracy_score, confusion_matrix, classification_report, balanced_accuracy_score\n",
    "import pickle"
   ]
  },
  {
   "cell_type": "code",
   "execution_count": 27,
   "id": "49742dae-0755-49a8-a6db-9e9ec520b624",
   "metadata": {},
   "outputs": [],
   "source": [
    "with open(\"Data/train_data_40.pkl\",'rb') as f:\n",
    "    over_train_data_40 = pickle.load(f)"
   ]
  },
  {
   "cell_type": "code",
   "execution_count": 28,
   "id": "bfeea3d2-4aa6-4fbb-a0d5-7af819ce7df6",
   "metadata": {},
   "outputs": [],
   "source": [
    "train_labels_40 = over_train_data_40['MVP']\n",
    "train_data_40= over_train_data_40.drop('MVP', axis = 1)"
   ]
  },
  {
   "cell_type": "code",
   "execution_count": 29,
   "id": "0cd0b6bb-e94e-4a3a-b5ca-9e532135758a",
   "metadata": {},
   "outputs": [],
   "source": [
    "C = uniform(loc=0, scale=1)\n",
    "solver = ['liblinear', 'newton-cg', 'lbfgs', 'sag', 'saga']\n",
    "scoring = ['precision', 'f1', 'roc_auc']\n",
    "\n",
    "rs_parameters_40 = {'C': C,\n",
    "                 'solver' : solver,\n",
    "                 }"
   ]
  },
  {
   "cell_type": "code",
   "execution_count": 11,
   "id": "38192fa7-29c0-4dfb-add3-87379f99b1a8",
   "metadata": {},
   "outputs": [],
   "source": [
    "#cross validation usando solo il train RandomSearchCV\n",
    "rs_40=RandomizedSearchCV(log_reg, rs_parameters_40, scoring=scoring, refit=\"f1\", n_jobs=-1, n_iter=250, random_state=756)\n",
    "rs_lr_40 = rs_40.fit(train_data_40, train_labels_40)"
   ]
  },
  {
   "cell_type": "code",
   "execution_count": 13,
   "id": "3158fd56-1d2d-42ef-b650-8948008ace1b",
   "metadata": {},
   "outputs": [
    {
     "name": "stdout",
     "output_type": "stream",
     "text": [
      "The best parameters are {'C': 0.9442714194028784, 'solver': 'sag'}\n"
     ]
    }
   ],
   "source": [
    "print(\"The best score is\",rs_lr_40.best_score_)\n",
    "print(\"The best parameters are\", rs_lr_40.best_params_)\n"
   ]
  },
  {
   "cell_type": "markdown",
   "source": [
    "Output Orfeo:\n",
    "\n",
    "The best score is 0.9967138225402532\n",
    "The best parameters are {'C': 0.9442714194028784, 'solver': 'sag'}\n"
   ],
   "metadata": {
    "collapsed": false,
    "pycharm": {
     "name": "#%% md\n"
    }
   }
  },
  {
   "cell_type": "code",
   "execution_count": 30,
   "id": "8645409a-6b2f-43f0-908e-6592b469b6d5",
   "metadata": {},
   "outputs": [],
   "source": [
    "#fit su train con pramaetri trovati\n",
    "log_reg_final_40=LogisticRegression(solver=\"sag\",C=0.9443,class_weight=\"balanced\", max_iter=10000,n_jobs=-1, random_state=13)\n",
    "# log_reg_final_40=LogisticRegression(solver=\"linear\",C=0.23927,class_weight=\"balanced\", max_iter=10000,n_jobs=-1, random_state=13)"
   ]
  },
  {
   "cell_type": "code",
   "execution_count": 31,
   "id": "1a068a34-f2f1-4f56-be7f-03c0ad8ce67d",
   "metadata": {},
   "outputs": [
    {
     "data": {
      "text/plain": "LogisticRegression(C=0.9443, class_weight='balanced', max_iter=10000, n_jobs=-1,\n                   random_state=13, solver='sag')"
     },
     "execution_count": 31,
     "metadata": {},
     "output_type": "execute_result"
    }
   ],
   "source": [
    "log_reg_final_40.fit(train_data_40, train_labels_40)"
   ]
  },
  {
   "cell_type": "code",
   "execution_count": 32,
   "id": "9ecd47ab-f980-407f-a3e1-51e0f8b0db41",
   "metadata": {},
   "outputs": [],
   "source": [
    "with open(\"log_reg_40.pkl\",'wb') as f:\n",
    "    pickle.dump(log_reg_final_40,f)"
   ]
  },
  {
   "cell_type": "code",
   "execution_count": 33,
   "id": "80c6dd6e-2da5-4e8f-b3a7-e4c7bfcd0af2",
   "metadata": {},
   "outputs": [],
   "source": [
    "with open(\"Data/test_data_40.pkl\",'rb') as f:\n",
    "    test_data_40 = pickle.load(f)\n",
    "\n",
    "test_labels_40 = test_data_40[\"MVP\"]\n",
    "test_data_40=test_data_40.drop([\"PLAYER_AGE\", \"PLAYER_ID\", \"SEASON_ID\", \"TEAM_ID\", \"MVP\"], axis=1)\n",
    "\n",
    "#predict su test\n",
    "pred_lr_40 = log_reg_final_40.predict(test_data_40)"
   ]
  },
  {
   "cell_type": "code",
   "execution_count": 34,
   "id": "921e34b2-4b72-4d10-a1a7-5ce57d54a98c",
   "metadata": {},
   "outputs": [
    {
     "name": "stdout",
     "output_type": "stream",
     "text": [
      "The accuracy of the Logistic Regressor is  0.9924741298212606\n"
     ]
    }
   ],
   "source": [
    "print(f\"The accuracy of the Logistic Regressor is  {accuracy_score(test_labels_40,pred_lr_40)}\")"
   ]
  },
  {
   "cell_type": "code",
   "execution_count": 35,
   "id": "1887c58d-fd9d-400e-8a9e-566bf58e13c1",
   "metadata": {},
   "outputs": [
    {
     "data": {
      "text/plain": "array([[1051,    7],\n       [   1,    4]])"
     },
     "execution_count": 35,
     "metadata": {},
     "output_type": "execute_result"
    }
   ],
   "source": [
    "#valutazione della prediction\n",
    "confusion_matrix(test_labels_40,pred_lr_40)\n"
   ]
  },
  {
   "cell_type": "code",
   "execution_count": 36,
   "id": "5fcef661-5a94-40ee-b6fd-49a6828fc238",
   "metadata": {},
   "outputs": [
    {
     "name": "stdout",
     "output_type": "stream",
     "text": [
      "              precision    recall  f1-score   support\n",
      "\n",
      "         0.0       1.00      0.99      1.00      1058\n",
      "         1.0       0.36      0.80      0.50         5\n",
      "\n",
      "    accuracy                           0.99      1063\n",
      "   macro avg       0.68      0.90      0.75      1063\n",
      "weighted avg       1.00      0.99      0.99      1063\n",
      "\n"
     ]
    }
   ],
   "source": [
    "\n",
    "print(classification_report(test_labels_40,pred_lr_40))"
   ]
  },
  {
   "cell_type": "markdown",
   "id": "5e58e09f-ab67-4786-b814-da321200f97e",
   "metadata": {},
   "source": [
    "## SENZA FILTRO <40"
   ]
  },
  {
   "cell_type": "code",
   "execution_count": 3,
   "id": "c57835a8-cdf2-4148-b30b-3113268ddda4",
   "metadata": {},
   "outputs": [
    {
     "data": {
      "text/plain": "     CONF_RANK        GP       MIN       FGM    FG_PCT      FG3M   FG3_PCT  \\\n0         11.0  1.061693 -0.119103 -0.804056 -0.851466 -0.083988  0.513777   \n1          3.0  0.916591  1.327875  1.000258  0.371106  0.060592  0.240151   \n2         10.0  1.151057  1.282931  0.597085  0.323190 -0.968518 -1.701272   \n3          8.0  1.339054  0.285814  0.279456  2.021417 -1.018246 -1.940444   \n4          7.0  1.211111  1.019403  0.576835  0.022614  0.621414  0.883383   \n...        ...       ...       ...       ...       ...       ...       ...   \n5560       1.0  0.531684  1.041313  3.174418  1.093516  0.305242 -0.027353   \n5561       1.0  0.866890  1.530578  2.604262  0.829267  0.499925  0.818753   \n5562       1.0  0.649512  1.484675  2.878362  1.807304  0.411505  0.228397   \n5563       1.0  0.811144  1.611496  2.833875  1.158572  0.738725  0.911167   \n5564       1.0  1.093841  1.769409  3.052546  0.605463  1.668100  0.417234   \n\n           FTM    FT_PCT      OREB      DREB       AST       STL       BLK  \\\n0    -0.656053 -0.609235 -0.418386 -0.604227  0.875702  0.332874 -0.474307   \n1    -0.276922  0.010603  1.095248  1.144614 -0.598077 -0.432955  3.133158   \n2     1.041533 -0.525131  2.979430  1.804387 -0.593676 -0.367852  0.035528   \n3     0.568313 -2.170711  1.566251  0.926916 -0.545670  0.505416  0.921342   \n4     0.155058 -0.277593 -0.353048 -0.337738  0.503166  0.490319 -0.335345   \n...        ...       ...       ...       ...       ...       ...       ...   \n5560  3.274286 -0.873566  1.601043  4.180938  1.620866  0.575591  1.201927   \n5561  3.181437  1.359722  0.842447  2.840656  0.907313  0.177828  1.024584   \n5562  3.016993 -0.060862  0.822981  2.850022  2.390732  1.960962  1.567780   \n5563  2.970420  0.940432  0.579925  2.550693  1.611073  0.980557  0.851758   \n5564  3.947571  0.189255  0.477141  2.299645  3.086743  2.791978  1.797121   \n\n           TOV        PF  MVP  \n0     0.346161  0.113817  0.0  \n1     0.234276  1.527391  0.0  \n2     0.197661  0.847596  0.0  \n3     0.346725  1.458267  0.0  \n4     0.328475  0.105308  0.0  \n...        ...       ...  ...  \n5560  2.673184  1.398873  1.0  \n5561  1.258816  0.494903  1.0  \n5562  2.436355  0.522188  1.0  \n5563  1.549357  0.044448  1.0  \n5564  2.574626 -0.126306  1.0  \n\n[5565 rows x 17 columns]",
      "text/html": "<div>\n<style scoped>\n    .dataframe tbody tr th:only-of-type {\n        vertical-align: middle;\n    }\n\n    .dataframe tbody tr th {\n        vertical-align: top;\n    }\n\n    .dataframe thead th {\n        text-align: right;\n    }\n</style>\n<table border=\"1\" class=\"dataframe\">\n  <thead>\n    <tr style=\"text-align: right;\">\n      <th></th>\n      <th>CONF_RANK</th>\n      <th>GP</th>\n      <th>MIN</th>\n      <th>FGM</th>\n      <th>FG_PCT</th>\n      <th>FG3M</th>\n      <th>FG3_PCT</th>\n      <th>FTM</th>\n      <th>FT_PCT</th>\n      <th>OREB</th>\n      <th>DREB</th>\n      <th>AST</th>\n      <th>STL</th>\n      <th>BLK</th>\n      <th>TOV</th>\n      <th>PF</th>\n      <th>MVP</th>\n    </tr>\n  </thead>\n  <tbody>\n    <tr>\n      <th>0</th>\n      <td>11.0</td>\n      <td>1.061693</td>\n      <td>-0.119103</td>\n      <td>-0.804056</td>\n      <td>-0.851466</td>\n      <td>-0.083988</td>\n      <td>0.513777</td>\n      <td>-0.656053</td>\n      <td>-0.609235</td>\n      <td>-0.418386</td>\n      <td>-0.604227</td>\n      <td>0.875702</td>\n      <td>0.332874</td>\n      <td>-0.474307</td>\n      <td>0.346161</td>\n      <td>0.113817</td>\n      <td>0.0</td>\n    </tr>\n    <tr>\n      <th>1</th>\n      <td>3.0</td>\n      <td>0.916591</td>\n      <td>1.327875</td>\n      <td>1.000258</td>\n      <td>0.371106</td>\n      <td>0.060592</td>\n      <td>0.240151</td>\n      <td>-0.276922</td>\n      <td>0.010603</td>\n      <td>1.095248</td>\n      <td>1.144614</td>\n      <td>-0.598077</td>\n      <td>-0.432955</td>\n      <td>3.133158</td>\n      <td>0.234276</td>\n      <td>1.527391</td>\n      <td>0.0</td>\n    </tr>\n    <tr>\n      <th>2</th>\n      <td>10.0</td>\n      <td>1.151057</td>\n      <td>1.282931</td>\n      <td>0.597085</td>\n      <td>0.323190</td>\n      <td>-0.968518</td>\n      <td>-1.701272</td>\n      <td>1.041533</td>\n      <td>-0.525131</td>\n      <td>2.979430</td>\n      <td>1.804387</td>\n      <td>-0.593676</td>\n      <td>-0.367852</td>\n      <td>0.035528</td>\n      <td>0.197661</td>\n      <td>0.847596</td>\n      <td>0.0</td>\n    </tr>\n    <tr>\n      <th>3</th>\n      <td>8.0</td>\n      <td>1.339054</td>\n      <td>0.285814</td>\n      <td>0.279456</td>\n      <td>2.021417</td>\n      <td>-1.018246</td>\n      <td>-1.940444</td>\n      <td>0.568313</td>\n      <td>-2.170711</td>\n      <td>1.566251</td>\n      <td>0.926916</td>\n      <td>-0.545670</td>\n      <td>0.505416</td>\n      <td>0.921342</td>\n      <td>0.346725</td>\n      <td>1.458267</td>\n      <td>0.0</td>\n    </tr>\n    <tr>\n      <th>4</th>\n      <td>7.0</td>\n      <td>1.211111</td>\n      <td>1.019403</td>\n      <td>0.576835</td>\n      <td>0.022614</td>\n      <td>0.621414</td>\n      <td>0.883383</td>\n      <td>0.155058</td>\n      <td>-0.277593</td>\n      <td>-0.353048</td>\n      <td>-0.337738</td>\n      <td>0.503166</td>\n      <td>0.490319</td>\n      <td>-0.335345</td>\n      <td>0.328475</td>\n      <td>0.105308</td>\n      <td>0.0</td>\n    </tr>\n    <tr>\n      <th>...</th>\n      <td>...</td>\n      <td>...</td>\n      <td>...</td>\n      <td>...</td>\n      <td>...</td>\n      <td>...</td>\n      <td>...</td>\n      <td>...</td>\n      <td>...</td>\n      <td>...</td>\n      <td>...</td>\n      <td>...</td>\n      <td>...</td>\n      <td>...</td>\n      <td>...</td>\n      <td>...</td>\n      <td>...</td>\n    </tr>\n    <tr>\n      <th>5560</th>\n      <td>1.0</td>\n      <td>0.531684</td>\n      <td>1.041313</td>\n      <td>3.174418</td>\n      <td>1.093516</td>\n      <td>0.305242</td>\n      <td>-0.027353</td>\n      <td>3.274286</td>\n      <td>-0.873566</td>\n      <td>1.601043</td>\n      <td>4.180938</td>\n      <td>1.620866</td>\n      <td>0.575591</td>\n      <td>1.201927</td>\n      <td>2.673184</td>\n      <td>1.398873</td>\n      <td>1.0</td>\n    </tr>\n    <tr>\n      <th>5561</th>\n      <td>1.0</td>\n      <td>0.866890</td>\n      <td>1.530578</td>\n      <td>2.604262</td>\n      <td>0.829267</td>\n      <td>0.499925</td>\n      <td>0.818753</td>\n      <td>3.181437</td>\n      <td>1.359722</td>\n      <td>0.842447</td>\n      <td>2.840656</td>\n      <td>0.907313</td>\n      <td>0.177828</td>\n      <td>1.024584</td>\n      <td>1.258816</td>\n      <td>0.494903</td>\n      <td>1.0</td>\n    </tr>\n    <tr>\n      <th>5562</th>\n      <td>1.0</td>\n      <td>0.649512</td>\n      <td>1.484675</td>\n      <td>2.878362</td>\n      <td>1.807304</td>\n      <td>0.411505</td>\n      <td>0.228397</td>\n      <td>3.016993</td>\n      <td>-0.060862</td>\n      <td>0.822981</td>\n      <td>2.850022</td>\n      <td>2.390732</td>\n      <td>1.960962</td>\n      <td>1.567780</td>\n      <td>2.436355</td>\n      <td>0.522188</td>\n      <td>1.0</td>\n    </tr>\n    <tr>\n      <th>5563</th>\n      <td>1.0</td>\n      <td>0.811144</td>\n      <td>1.611496</td>\n      <td>2.833875</td>\n      <td>1.158572</td>\n      <td>0.738725</td>\n      <td>0.911167</td>\n      <td>2.970420</td>\n      <td>0.940432</td>\n      <td>0.579925</td>\n      <td>2.550693</td>\n      <td>1.611073</td>\n      <td>0.980557</td>\n      <td>0.851758</td>\n      <td>1.549357</td>\n      <td>0.044448</td>\n      <td>1.0</td>\n    </tr>\n    <tr>\n      <th>5564</th>\n      <td>1.0</td>\n      <td>1.093841</td>\n      <td>1.769409</td>\n      <td>3.052546</td>\n      <td>0.605463</td>\n      <td>1.668100</td>\n      <td>0.417234</td>\n      <td>3.947571</td>\n      <td>0.189255</td>\n      <td>0.477141</td>\n      <td>2.299645</td>\n      <td>3.086743</td>\n      <td>2.791978</td>\n      <td>1.797121</td>\n      <td>2.574626</td>\n      <td>-0.126306</td>\n      <td>1.0</td>\n    </tr>\n  </tbody>\n</table>\n<p>5565 rows × 17 columns</p>\n</div>"
     },
     "execution_count": 3,
     "metadata": {},
     "output_type": "execute_result"
    }
   ],
   "source": [
    "with open(\"Data/train_data_40.pkl\",'rb') as f:\n",
    "    over_train_data = pickle.load(f)\n",
    "over_train_data"
   ]
  },
  {
   "cell_type": "code",
   "execution_count": 4,
   "id": "7bba59b4-3359-43cb-8421-d16d1fe31795",
   "metadata": {},
   "outputs": [],
   "source": [
    "train_labels = over_train_data['MVP']\n",
    "train_data= over_train_data.drop('MVP', axis = 1)"
   ]
  },
  {
   "cell_type": "code",
   "execution_count": 5,
   "id": "2930e9ba-7311-42da-a978-8a0a0ca51f0b",
   "metadata": {},
   "outputs": [],
   "source": [
    "C = uniform(loc=0, scale=1)\n",
    "solver = ['liblinear', 'newton-cg', 'lbfgs', 'sag', 'saga']\n",
    "scoring = ['precision', 'f1', 'roc_auc']\n",
    "\n",
    "rs_parameters = {'C': C,\n",
    "                 'solver' : solver,\n",
    "                 }"
   ]
  },
  {
   "cell_type": "code",
   "execution_count": 15,
   "id": "19a52027-3e44-4cba-bd5a-5549d45b4aa8",
   "metadata": {},
   "outputs": [],
   "source": [
    "#PROVARE CON N_ITER=SIZE(TRAIN_DATA_40) --> DOVREBBE ESSERE LEAVE ONE OUT CV\n",
    "rs=RandomizedSearchCV(log_reg, rs_parameters, scoring=\"balanced_accuracy\", n_jobs=-1, n_iter=250, random_state=756)\n",
    "rs_lr = rs.fit(train_data, train_labels)"
   ]
  },
  {
   "cell_type": "code",
   "execution_count": 16,
   "id": "942e2d4a-f57a-446e-a284-ff41494d9698",
   "metadata": {},
   "outputs": [
    {
     "name": "stdout",
     "output_type": "stream",
     "text": [
      "The best score is 0.9982717989002357\n",
      "The best parameters are {'C': 0.9442714194028784, 'solver': 'sag'}\n"
     ]
    }
   ],
   "source": [
    "print(\"The best score is\",rs_lr.best_score_)\n",
    "print(\"The best parameters are\", rs_lr.best_params_)"
   ]
  },
  {
   "cell_type": "code",
   "execution_count": 5,
   "id": "29abb2a0-9649-4ac8-a2ac-5916cadc6342",
   "metadata": {},
   "outputs": [],
   "source": [
    "#fit su train con pramaetri trovati\n",
    "# log_reg_final=LogisticRegression(solver=\"sag\",C=0.9443,class_weight=\"balanced\", max_iter=10000,n_jobs=-1, random_state=13) # test 0.20\n",
    "log_reg_final=LogisticRegression(solver=\"sag\",C=0.9443,class_weight=\"balanced\", max_iter=10000,n_jobs=-1, random_state=13) # test 0.3"
   ]
  },
  {
   "cell_type": "code",
   "execution_count": 6,
   "id": "77c50c4f-6db0-4ad2-888d-446be4da1bdc",
   "metadata": {},
   "outputs": [
    {
     "data": {
      "text/plain": "LogisticRegression(C=0.9443, class_weight='balanced', max_iter=10000, n_jobs=-1,\n                   random_state=13, solver='sag')"
     },
     "execution_count": 6,
     "metadata": {},
     "output_type": "execute_result"
    }
   ],
   "source": [
    "log_reg_final.fit(train_data, train_labels)"
   ]
  },
  {
   "cell_type": "code",
   "execution_count": 36,
   "outputs": [
    {
     "data": {
      "text/plain": "<Figure size 432x288 with 1 Axes>",
      "image/png": "[encoded data removed]"
     },
     "metadata": {
      "needs_background": "light"
     },
     "output_type": "display_data"
    }
   ],
   "source": [
    "import matplotlib.pyplot as plt\n",
    "importance_log_reg = log_reg_final.coef_[0]\n",
    "a = pd.DataFrame(data=importance_log_reg, index=train_data.columns)\n",
    "\n",
    "a.plot(kind=\"bar\")\n",
    "plt.savefig('plot/log_reg_importance.png', bbox_inches='tight')"
   ],
   "metadata": {
    "collapsed": false,
    "pycharm": {
     "name": "#%%\n"
    }
   }
  },
  {
   "cell_type": "code",
   "execution_count": 7,
   "outputs": [
    {
     "data": {
      "text/plain": "LogisticRegression(C=0.9443, class_weight='balanced', max_iter=10000, n_jobs=-1,\n                   random_state=13, solver='sag')"
     },
     "execution_count": 7,
     "metadata": {},
     "output_type": "execute_result"
    }
   ],
   "source": [
    "log_reg_final."
   ],
   "metadata": {
    "collapsed": false,
    "pycharm": {
     "name": "#%%\n"
    }
   }
  },
  {
   "cell_type": "code",
   "execution_count": 6,
   "id": "0f5d79f9-5b0e-4dd5-86e3-2a73d3022894",
   "metadata": {},
   "outputs": [],
   "source": [
    "with open(\"log_reg.pkl\",'wb') as f:\n",
    "    pickle.dump(log_reg_final,f)"
   ]
  },
  {
   "cell_type": "code",
   "execution_count": 7,
   "id": "6c642ed7-8c10-4fbe-b55f-336ebfd9b340",
   "metadata": {},
   "outputs": [],
   "source": [
    "with open(\"Data/test_data.pkl\",'rb') as f:\n",
    "    test_data = pickle.load(f)\n",
    "\n",
    "test_labels = test_data[\"MVP\"]\n",
    "test_data=test_data.drop([\"PLAYER_AGE\", \"PLAYER_ID\", \"SEASON_ID\", \"TEAM_ID\", \"MVP\"], axis=1)"
   ]
  },
  {
   "cell_type": "code",
   "execution_count": 8,
   "id": "9244bb00-51ba-4575-955a-3ccfaf479fab",
   "metadata": {},
   "outputs": [
    {
     "name": "stdout",
     "output_type": "stream",
     "text": [
      "The accuracy of the Logistic Regressor is  0.9987174789300111\n"
     ]
    }
   ],
   "source": [
    "pred_lr = log_reg_final.predict(test_data)\n",
    "\n",
    "\n",
    "\n",
    "print(f\"The accuracy of the Logistic Regressor is  {balanced_accuracy_score(test_labels,pred_lr)}\")"
   ]
  },
  {
   "cell_type": "code",
   "execution_count": 9,
   "id": "8e9adf49-200a-4a5e-8b6a-4131151995cc",
   "metadata": {},
   "outputs": [
    {
     "data": {
      "text/plain": "array([[2722,    7],\n       [   0,    5]])"
     },
     "execution_count": 9,
     "metadata": {},
     "output_type": "execute_result"
    }
   ],
   "source": [
    "#valutazione della prediction\n",
    "confusion_matrix(test_labels,pred_lr)"
   ]
  },
  {
   "cell_type": "code",
   "execution_count": 25,
   "id": "1ba3973b-2882-460f-b886-c2a17cd6aefb",
   "metadata": {},
   "outputs": [
    {
     "name": "stdout",
     "output_type": "stream",
     "text": [
      "              precision    recall  f1-score   support\n",
      "\n",
      "         0.0       1.00      1.00      1.00      2729\n",
      "         1.0       0.42      1.00      0.59         5\n",
      "\n",
      "    accuracy                           1.00      2734\n",
      "   macro avg       0.71      1.00      0.79      2734\n",
      "weighted avg       1.00      1.00      1.00      2734\n",
      "\n"
     ]
    }
   ],
   "source": [
    "print(classification_report(test_labels,pred_lr))"
   ]
  },
  {
   "cell_type": "markdown",
   "id": "c1fbeacb-d4ad-4d2c-aac3-4d881a1d619b",
   "metadata": {
    "pycharm": {
     "name": "#%% md\n"
    }
   },
   "source": [
    "## Senza feature selection (pearson correlation)"
   ]
  },
  {
   "cell_type": "code",
   "execution_count": 3,
   "outputs": [],
   "source": [
    "with open(\"Data/train_data_no_pearson.pkl\",'rb') as f:\n",
    "    over_train_data = pickle.load(f)"
   ],
   "metadata": {
    "collapsed": false,
    "pycharm": {
     "name": "#%%\n"
    }
   }
  },
  {
   "cell_type": "code",
   "execution_count": 4,
   "outputs": [],
   "source": [
    "train_labels = over_train_data['MVP']\n",
    "train_data= over_train_data.drop('MVP', axis = 1)"
   ],
   "metadata": {
    "collapsed": false,
    "pycharm": {
     "name": "#%%\n"
    }
   }
  },
  {
   "cell_type": "code",
   "execution_count": 5,
   "outputs": [],
   "source": [
    "C = uniform(loc=0, scale=1)\n",
    "solver = ['liblinear', 'newton-cg', 'lbfgs', 'sag', 'saga']\n",
    "scoring = ['precision', 'f1', 'roc_auc']\n",
    "\n",
    "rs_parameters = {'C': C,\n",
    "                 'solver' : solver,\n",
    "                 }"
   ],
   "metadata": {
    "collapsed": false,
    "pycharm": {
     "name": "#%%\n"
    }
   }
  },
  {
   "cell_type": "code",
   "execution_count": 6,
   "outputs": [],
   "source": [
    "#PROVARE CON N_ITER=SIZE(TRAIN_DATA_40) --> DOVREBBE ESSERE LEAVE ONE OUT CV\n",
    "rs=RandomizedSearchCV(log_reg, rs_parameters, scoring=scoring, refit=\"f1\", n_jobs=-1, n_iter=250, random_state=756)\n",
    "rs_lr = rs.fit(train_data, train_labels)"
   ],
   "metadata": {
    "collapsed": false,
    "pycharm": {
     "name": "#%%\n"
    }
   }
  },
  {
   "cell_type": "code",
   "execution_count": 7,
   "outputs": [
    {
     "name": "stdout",
     "output_type": "stream",
     "text": [
      "The best score is 0.9965778637772565\n",
      "The best parameters are {'C': 0.9442714194028784, 'solver': 'sag'}\n"
     ]
    }
   ],
   "source": [
    "print(\"The best score is\",rs_lr.best_score_)\n",
    "print(\"The best parameters are\", rs_lr.best_params_)"
   ],
   "metadata": {
    "collapsed": false,
    "pycharm": {
     "name": "#%%\n"
    }
   }
  },
  {
   "cell_type": "code",
   "execution_count": 8,
   "outputs": [],
   "source": [
    "#fit su train con pramaetri trovati\n",
    "log_reg_final=LogisticRegression(solver=\"sag\",C=0.9443,class_weight=\"balanced\", max_iter=10000,n_jobs=-1, random_state=13)"
   ],
   "metadata": {
    "collapsed": false,
    "pycharm": {
     "name": "#%%\n"
    }
   }
  },
  {
   "cell_type": "code",
   "execution_count": 9,
   "outputs": [
    {
     "data": {
      "text/plain": "LogisticRegression(C=0.9443, class_weight='balanced', max_iter=10000, n_jobs=-1,\n                   random_state=13, solver='sag')"
     },
     "execution_count": 9,
     "metadata": {},
     "output_type": "execute_result"
    }
   ],
   "source": [
    "log_reg_final.fit(train_data, train_labels)"
   ],
   "metadata": {
    "collapsed": false,
    "pycharm": {
     "name": "#%%\n"
    }
   }
  },
  {
   "cell_type": "code",
   "execution_count": 10,
   "outputs": [],
   "source": [
    "with open(\"log_reg_no_pearson.pkl\",'wb') as f:\n",
    "    pickle.dump(log_reg_final,f)"
   ],
   "metadata": {
    "collapsed": false,
    "pycharm": {
     "name": "#%%\n"
    }
   }
  },
  {
   "cell_type": "code",
   "execution_count": 13,
   "outputs": [],
   "source": [
    "with open(\"Data/test_data_no_pearson.pkl\",'rb') as f:\n",
    "    test_data = pickle.load(f)\n",
    "\n",
    "test_labels = test_data[\"MVP\"]\n",
    "test_data=test_data.drop([\"PLAYER_AGE\", \"PLAYER_ID\", \"SEASON_ID\", \"TEAM_ID\", \"MVP\"], axis=1)"
   ],
   "metadata": {
    "collapsed": false,
    "pycharm": {
     "name": "#%%\n"
    }
   }
  },
  {
   "cell_type": "code",
   "execution_count": 14,
   "outputs": [
    {
     "name": "stdout",
     "output_type": "stream",
     "text": [
      "The accuracy of the Logistic Regressor is  0.9983543609434997\n"
     ]
    }
   ],
   "source": [
    "pred_lr = log_reg_final.predict(test_data)\n",
    "\n",
    "\n",
    "\n",
    "print(f\"The accuracy of the Logistic Regressor is  {accuracy_score(test_labels,pred_lr)}\")"
   ],
   "metadata": {
    "collapsed": false,
    "pycharm": {
     "name": "#%%\n"
    }
   }
  },
  {
   "cell_type": "code",
   "execution_count": 15,
   "outputs": [
    {
     "data": {
      "text/plain": "array([[1815,    3],\n       [   0,    5]])"
     },
     "execution_count": 15,
     "metadata": {},
     "output_type": "execute_result"
    }
   ],
   "source": [
    "#valutazione della prediction\n",
    "confusion_matrix(test_labels,pred_lr)"
   ],
   "metadata": {
    "collapsed": false,
    "pycharm": {
     "name": "#%%\n"
    }
   }
  },
  {
   "cell_type": "code",
   "execution_count": 16,
   "outputs": [
    {
     "name": "stdout",
     "output_type": "stream",
     "text": [
      "              precision    recall  f1-score   support\n",
      "\n",
      "         0.0       1.00      1.00      1.00      1818\n",
      "         1.0       0.62      1.00      0.77         5\n",
      "\n",
      "    accuracy                           1.00      1823\n",
      "   macro avg       0.81      1.00      0.88      1823\n",
      "weighted avg       1.00      1.00      1.00      1823\n",
      "\n"
     ]
    }
   ],
   "source": [
    "print(classification_report(test_labels,pred_lr))"
   ],
   "metadata": {
    "collapsed": false,
    "pycharm": {
     "name": "#%%\n"
    }
   }
  },
  {
   "cell_type": "code",
   "execution_count": null,
   "outputs": [],
   "source": [],
   "metadata": {
    "collapsed": false,
    "pycharm": {
     "name": "#%%\n"
    }
   }
  }
 ],
 "metadata": {
  "kernelspec": {
   "display_name": "Python 3 (ipykernel)",
   "language": "python",
   "name": "python3"
  },
  "language_info": {
   "codemirror_mode": {
    "name": "ipython",
    "version": 3
   },
   "file_extension": ".py",
   "mimetype": "text/x-python",
   "name": "python",
   "nbconvert_exporter": "python",
   "pygments_lexer": "ipython3",
   "version": "3.9.7"
  }
 },
 "nbformat": 4,
 "nbformat_minor": 5
}