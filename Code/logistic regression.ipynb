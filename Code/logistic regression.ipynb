{
 "cells": [
  {
   "cell_type": "markdown",
   "id": "a6013e4e-e111-4a65-9db0-78ce4484f33c",
   "metadata": {},
   "source": [
    "# LOGISTIC REGRESSION"
   ]
  },
  {
   "cell_type": "markdown",
   "id": "2fc81556-78ab-4a25-8e3f-f882368b85f1",
   "metadata": {},
   "source": [
    "## CON FILTRO <40"
   ]
  },
  {
   "cell_type": "code",
   "execution_count": 6,
   "id": "edb091e7-50e8-48e0-b902-35a926880a14",
   "metadata": {},
   "outputs": [],
   "source": [
    "from sklearn.model_selection import RandomizedSearchCV\n",
    "from scipy.stats import uniform\n",
    "from sklearn.linear_model import LogisticRegression\n",
    "log_reg=LogisticRegression(max_iter=10000,random_state=18)\n",
    "from sklearn.metrics import accuracy_score, confusion_matrix, classification_report\n",
    "import pickle"
   ]
  },
  {
   "cell_type": "code",
   "execution_count": 7,
   "id": "49742dae-0755-49a8-a6db-9e9ec520b624",
   "metadata": {},
   "outputs": [],
   "source": [
    "with open(\"Data/train_data_40.pkl\",'rb') as f:\n",
    "    over_train_data_40 = pickle.load(f)"
   ]
  },
  {
   "cell_type": "code",
   "execution_count": 8,
   "id": "bfeea3d2-4aa6-4fbb-a0d5-7af819ce7df6",
   "metadata": {},
   "outputs": [],
   "source": [
    "train_labels_40 = over_train_data_40['MVP']\n",
    "train_data_40= over_train_data_40.drop('MVP', axis = 1)"
   ]
  },
  {
   "cell_type": "code",
   "execution_count": 9,
   "id": "0cd0b6bb-e94e-4a3a-b5ca-9e532135758a",
   "metadata": {},
   "outputs": [],
   "source": [
    "C = uniform(loc=0, scale=1)\n",
    "solver = ['liblinear', 'newton-cg', 'lbfgs', 'sag', 'saga']\n",
    "scoring = ['precision', 'f1', 'roc_auc']\n",
    "\n",
    "rs_parameters_40 = {'C': C,\n",
    "                 'solver' : solver,\n",
    "                 }"
   ]
  },
  {
   "cell_type": "code",
   "execution_count": 11,
   "id": "38192fa7-29c0-4dfb-add3-87379f99b1a8",
   "metadata": {},
   "outputs": [],
   "source": [
    "#cross validation usando solo il train RandomSearchCV\n",
    "rs_40=RandomizedSearchCV(log_reg, rs_parameters_40, scoring=scoring, refit=\"f1\", n_jobs=-1, n_iter=250, random_state=756)\n",
    "rs_lr_40 = rs_40.fit(train_data_40, train_labels_40)"
   ]
  },
  {
   "cell_type": "code",
   "execution_count": 13,
   "id": "3158fd56-1d2d-42ef-b650-8948008ace1b",
   "metadata": {},
   "outputs": [
    {
     "name": "stdout",
     "output_type": "stream",
     "text": [
      "The best parameters are {'C': 0.9442714194028784, 'solver': 'sag'}\n"
     ]
    }
   ],
   "source": [
    "print(\"The best score is\",rs_lr_40.best_score_)\n",
    "print(\"The best parameters are\", rs_lr_40.best_params_)\n"
   ]
  },
  {
   "cell_type": "markdown",
   "source": [
    "Output Orfeo:\n",
    "\n"
   ],
   "metadata": {
    "collapsed": false,
    "pycharm": {
     "name": "#%% md\n"
    }
   }
  },
  {
   "cell_type": "code",
   "execution_count": 10,
   "id": "8645409a-6b2f-43f0-908e-6592b469b6d5",
   "metadata": {},
   "outputs": [],
   "source": [
    "#fit su train con pramaetri trovati\n",
    "# log_reg_final_40=LogisticRegression(solver=\"sag\",C=0.9443,class_weight=\"balanced\", max_iter=10000,n_jobs=-1, random_state=13)\n",
    "log_reg_final_40=LogisticRegression(solver=\"linear\",C=0.23927,class_weight=\"balanced\", max_iter=10000,n_jobs=-1, random_state=13)"
   ]
  },
  {
   "cell_type": "code",
   "execution_count": 11,
   "id": "1a068a34-f2f1-4f56-be7f-03c0ad8ce67d",
   "metadata": {},
   "outputs": [
    {
     "ename": "ValueError",
     "evalue": "Logistic Regression supports only solvers in ['liblinear', 'newton-cg', 'lbfgs', 'sag', 'saga'], got linear.",
     "output_type": "error",
     "traceback": [
      "\u001B[0;31m---------------------------------------------------------------------------\u001B[0m",
      "\u001B[0;31mValueError\u001B[0m                                Traceback (most recent call last)",
      "\u001B[0;32m/tmp/ipykernel_319/3428708735.py\u001B[0m in \u001B[0;36m<module>\u001B[0;34m\u001B[0m\n\u001B[0;32m----> 1\u001B[0;31m \u001B[0mlog_reg_final_40\u001B[0m\u001B[0;34m.\u001B[0m\u001B[0mfit\u001B[0m\u001B[0;34m(\u001B[0m\u001B[0mtrain_data_40\u001B[0m\u001B[0;34m,\u001B[0m \u001B[0mtrain_labels_40\u001B[0m\u001B[0;34m)\u001B[0m\u001B[0;34m\u001B[0m\u001B[0;34m\u001B[0m\u001B[0m\n\u001B[0m",
      "\u001B[0;32m~/anaconda3/envs/ml/lib/python3.10/site-packages/sklearn/linear_model/_logistic.py\u001B[0m in \u001B[0;36mfit\u001B[0;34m(self, X, y, sample_weight)\u001B[0m\n\u001B[1;32m   1459\u001B[0m         \u001B[0mThe\u001B[0m \u001B[0mSAGA\u001B[0m \u001B[0msolver\u001B[0m \u001B[0msupports\u001B[0m \u001B[0mboth\u001B[0m \u001B[0mfloat64\u001B[0m \u001B[0;32mand\u001B[0m \u001B[0mfloat32\u001B[0m \u001B[0mbit\u001B[0m \u001B[0marrays\u001B[0m\u001B[0;34m.\u001B[0m\u001B[0;34m\u001B[0m\u001B[0;34m\u001B[0m\u001B[0m\n\u001B[1;32m   1460\u001B[0m         \"\"\"\n\u001B[0;32m-> 1461\u001B[0;31m         \u001B[0msolver\u001B[0m \u001B[0;34m=\u001B[0m \u001B[0m_check_solver\u001B[0m\u001B[0;34m(\u001B[0m\u001B[0mself\u001B[0m\u001B[0;34m.\u001B[0m\u001B[0msolver\u001B[0m\u001B[0;34m,\u001B[0m \u001B[0mself\u001B[0m\u001B[0;34m.\u001B[0m\u001B[0mpenalty\u001B[0m\u001B[0;34m,\u001B[0m \u001B[0mself\u001B[0m\u001B[0;34m.\u001B[0m\u001B[0mdual\u001B[0m\u001B[0;34m)\u001B[0m\u001B[0;34m\u001B[0m\u001B[0;34m\u001B[0m\u001B[0m\n\u001B[0m\u001B[1;32m   1462\u001B[0m \u001B[0;34m\u001B[0m\u001B[0m\n\u001B[1;32m   1463\u001B[0m         \u001B[0;32mif\u001B[0m \u001B[0;32mnot\u001B[0m \u001B[0misinstance\u001B[0m\u001B[0;34m(\u001B[0m\u001B[0mself\u001B[0m\u001B[0;34m.\u001B[0m\u001B[0mC\u001B[0m\u001B[0;34m,\u001B[0m \u001B[0mnumbers\u001B[0m\u001B[0;34m.\u001B[0m\u001B[0mNumber\u001B[0m\u001B[0;34m)\u001B[0m \u001B[0;32mor\u001B[0m \u001B[0mself\u001B[0m\u001B[0;34m.\u001B[0m\u001B[0mC\u001B[0m \u001B[0;34m<\u001B[0m \u001B[0;36m0\u001B[0m\u001B[0;34m:\u001B[0m\u001B[0;34m\u001B[0m\u001B[0;34m\u001B[0m\u001B[0m\n",
      "\u001B[0;32m~/anaconda3/envs/ml/lib/python3.10/site-packages/sklearn/linear_model/_logistic.py\u001B[0m in \u001B[0;36m_check_solver\u001B[0;34m(solver, penalty, dual)\u001B[0m\n\u001B[1;32m    432\u001B[0m     \u001B[0mall_solvers\u001B[0m \u001B[0;34m=\u001B[0m \u001B[0;34m[\u001B[0m\u001B[0;34m\"liblinear\"\u001B[0m\u001B[0;34m,\u001B[0m \u001B[0;34m\"newton-cg\"\u001B[0m\u001B[0;34m,\u001B[0m \u001B[0;34m\"lbfgs\"\u001B[0m\u001B[0;34m,\u001B[0m \u001B[0;34m\"sag\"\u001B[0m\u001B[0;34m,\u001B[0m \u001B[0;34m\"saga\"\u001B[0m\u001B[0;34m]\u001B[0m\u001B[0;34m\u001B[0m\u001B[0;34m\u001B[0m\u001B[0m\n\u001B[1;32m    433\u001B[0m     \u001B[0;32mif\u001B[0m \u001B[0msolver\u001B[0m \u001B[0;32mnot\u001B[0m \u001B[0;32min\u001B[0m \u001B[0mall_solvers\u001B[0m\u001B[0;34m:\u001B[0m\u001B[0;34m\u001B[0m\u001B[0;34m\u001B[0m\u001B[0m\n\u001B[0;32m--> 434\u001B[0;31m         raise ValueError(\n\u001B[0m\u001B[1;32m    435\u001B[0m             \u001B[0;34m\"Logistic Regression supports only solvers in %s, got %s.\"\u001B[0m\u001B[0;34m\u001B[0m\u001B[0;34m\u001B[0m\u001B[0m\n\u001B[1;32m    436\u001B[0m             \u001B[0;34m%\u001B[0m \u001B[0;34m(\u001B[0m\u001B[0mall_solvers\u001B[0m\u001B[0;34m,\u001B[0m \u001B[0msolver\u001B[0m\u001B[0;34m)\u001B[0m\u001B[0;34m\u001B[0m\u001B[0;34m\u001B[0m\u001B[0m\n",
      "\u001B[0;31mValueError\u001B[0m: Logistic Regression supports only solvers in ['liblinear', 'newton-cg', 'lbfgs', 'sag', 'saga'], got linear."
     ]
    }
   ],
   "source": [
    "log_reg_final_40.fit(train_data_40, train_labels_40)"
   ]
  },
  {
   "cell_type": "code",
   "execution_count": null,
   "id": "9ecd47ab-f980-407f-a3e1-51e0f8b0db41",
   "metadata": {},
   "outputs": [],
   "source": [
    "with open(\"log_reg_40.pkl\",'wb') as f:\n",
    "    pickle.dump(log_reg_final_40,f)"
   ]
  },
  {
   "cell_type": "code",
   "execution_count": 18,
   "id": "80c6dd6e-2da5-4e8f-b3a7-e4c7bfcd0af2",
   "metadata": {},
   "outputs": [],
   "source": [
    "with open(\"Data/test_data_40.pkl\",'rb') as f:\n",
    "    test_data_40 = pickle.load(f)\n",
    "\n",
    "test_labels_40 = test_data_40[\"MVP\"]\n",
    "test_data_40=test_data_40.drop([\"PLAYER_AGE\", \"PLAYER_ID\", \"SEASON_ID\", \"TEAM_ID\", \"MVP\"], axis=1)\n",
    "\n",
    "#predict su test\n",
    "pred_lr_40 = log_reg_final_40.predict(test_data_40)"
   ]
  },
  {
   "cell_type": "code",
   "execution_count": 19,
   "id": "921e34b2-4b72-4d10-a1a7-5ce57d54a98c",
   "metadata": {},
   "outputs": [
    {
     "name": "stdout",
     "output_type": "stream",
     "text": [
      "The accuracy of the Logistic Regressor is  0.9924741298212606\n"
     ]
    }
   ],
   "source": [
    "print(f\"The accuracy of the Logistic Regressor is  {accuracy_score(test_labels_40,pred_lr_40)}\")"
   ]
  },
  {
   "cell_type": "code",
   "execution_count": 22,
   "id": "1887c58d-fd9d-400e-8a9e-566bf58e13c1",
   "metadata": {},
   "outputs": [
    {
     "data": {
      "text/plain": [
       "array([[1051,    7],\n",
       "       [   1,    4]])"
      ]
     },
     "execution_count": 22,
     "metadata": {},
     "output_type": "execute_result"
    }
   ],
   "source": [
    "#valutazione della prediction\n",
    "confusion_matrix(test_labels_40,pred_lr_40)\n"
   ]
  },
  {
   "cell_type": "code",
   "execution_count": 23,
   "id": "5fcef661-5a94-40ee-b6fd-49a6828fc238",
   "metadata": {},
   "outputs": [
    {
     "name": "stdout",
     "output_type": "stream",
     "text": [
      "              precision    recall  f1-score   support\n",
      "\n",
      "         0.0       1.00      0.99      1.00      1058\n",
      "         1.0       0.36      0.80      0.50         5\n",
      "\n",
      "    accuracy                           0.99      1063\n",
      "   macro avg       0.68      0.90      0.75      1063\n",
      "weighted avg       1.00      0.99      0.99      1063\n",
      "\n"
     ]
    }
   ],
   "source": [
    "\n",
    "print(classification_report(test_labels_40,pred_lr_40))"
   ]
  },
  {
   "cell_type": "markdown",
   "id": "5e58e09f-ab67-4786-b814-da321200f97e",
   "metadata": {},
   "source": [
    "## SENZA FILTRO <40"
   ]
  },
  {
   "cell_type": "code",
   "execution_count": 25,
   "id": "c57835a8-cdf2-4148-b30b-3113268ddda4",
   "metadata": {},
   "outputs": [],
   "source": [
    "with open(\"Data/train_data.pkl\",'rb') as f:\n",
    "    over_train_data = pickle.load(f)"
   ]
  },
  {
   "cell_type": "code",
   "execution_count": 26,
   "id": "7bba59b4-3359-43cb-8421-d16d1fe31795",
   "metadata": {},
   "outputs": [],
   "source": [
    "train_labels = over_train_data['MVP']\n",
    "train_data= over_train_data.drop('MVP', axis = 1)"
   ]
  },
  {
   "cell_type": "code",
   "execution_count": 27,
   "id": "2930e9ba-7311-42da-a978-8a0a0ca51f0b",
   "metadata": {},
   "outputs": [],
   "source": [
    "C = uniform(loc=0, scale=1)\n",
    "solver = ['liblinear', 'newton-cg', 'lbfgs', 'sag', 'saga']\n",
    "scoring = ['precision', 'f1', 'roc_auc']\n",
    "\n",
    "rs_parameters = {'C': C,\n",
    "                 'solver' : solver,\n",
    "                 }"
   ]
  },
  {
   "cell_type": "code",
   "execution_count": 28,
   "id": "19a52027-3e44-4cba-bd5a-5549d45b4aa8",
   "metadata": {},
   "outputs": [],
   "source": [
    "#PROVARE CON N_ITER=SIZE(TRAIN_DATA_40) --> DOVREBBE ESSERE LEAVE ONE OUT CV\n",
    "rs=RandomizedSearchCV(log_reg, rs_parameters, scoring=scoring, refit=\"f1\", n_jobs=-1, n_iter=250, random_state=756)\n",
    "rs_lr = rs.fit(train_data, train_labels)"
   ]
  },
  {
   "cell_type": "code",
   "execution_count": 29,
   "id": "942e2d4a-f57a-446e-a284-ff41494d9698",
   "metadata": {},
   "outputs": [
    {
     "name": "stdout",
     "output_type": "stream",
     "text": [
      "The best parameters are {'C': 0.9442714194028784, 'solver': 'sag'}\n"
     ]
    }
   ],
   "source": [
    "#print(\"The best score is\",rs_lr.best_score_)\n",
    "print(\"The best parameters are\", rs_lr.best_params_)"
   ]
  },
  {
   "cell_type": "code",
   "execution_count": 30,
   "id": "29abb2a0-9649-4ac8-a2ac-5916cadc6342",
   "metadata": {},
   "outputs": [],
   "source": [
    "#fit su train con pramaetri trovati\n",
    "log_reg_final=LogisticRegression(solver=\"sag\",C=0.9443,class_weight=\"balanced\", max_iter=10000,n_jobs=-1, random_state=13)"
   ]
  },
  {
   "cell_type": "code",
   "execution_count": 31,
   "id": "77c50c4f-6db0-4ad2-888d-446be4da1bdc",
   "metadata": {},
   "outputs": [
    {
     "data": {
      "text/plain": [
       "LogisticRegression(C=0.9443, class_weight='balanced', max_iter=10000, n_jobs=-1,\n",
       "                   random_state=13, solver='sag')"
      ]
     },
     "execution_count": 31,
     "metadata": {},
     "output_type": "execute_result"
    }
   ],
   "source": [
    "log_reg_final.fit(train_data, train_labels)"
   ]
  },
  {
   "cell_type": "code",
   "execution_count": null,
   "id": "0f5d79f9-5b0e-4dd5-86e3-2a73d3022894",
   "metadata": {},
   "outputs": [],
   "source": [
    "with open(\"log_reg.pkl\",'wb') as f:\n",
    "    pickle.dump(log_reg_final,f)"
   ]
  },
  {
   "cell_type": "code",
   "execution_count": 32,
   "id": "6c642ed7-8c10-4fbe-b55f-336ebfd9b340",
   "metadata": {},
   "outputs": [],
   "source": [
    "with open(\"Data/test_data.pkl\",'rb') as f:\n",
    "    test_data = pickle.load(f)\n",
    "\n",
    "test_labels = test_data[\"MVP\"]\n",
    "test_data=test_data.drop([\"PLAYER_AGE\", \"PLAYER_ID\", \"SEASON_ID\", \"TEAM_ID\", \"MVP\"], axis=1)"
   ]
  },
  {
   "cell_type": "code",
   "execution_count": 33,
   "id": "9244bb00-51ba-4575-955a-3ccfaf479fab",
   "metadata": {},
   "outputs": [
    {
     "name": "stdout",
     "output_type": "stream",
     "text": [
      "The accuracy of the Logistic Regressor is  0.9983543609434997\n"
     ]
    }
   ],
   "source": [
    "pred_lr = log_reg_final.predict(test_data)\n",
    "\n",
    "\n",
    "\n",
    "print(f\"The accuracy of the Logistic Regressor is  {accuracy_score(test_labels,pred_lr)}\")"
   ]
  },
  {
   "cell_type": "code",
   "execution_count": 34,
   "id": "8e9adf49-200a-4a5e-8b6a-4131151995cc",
   "metadata": {},
   "outputs": [
    {
     "data": {
      "text/plain": [
       "array([[1815,    3],\n",
       "       [   0,    5]])"
      ]
     },
     "execution_count": 34,
     "metadata": {},
     "output_type": "execute_result"
    }
   ],
   "source": [
    "#valutazione della prediction\n",
    "confusion_matrix(test_labels,pred_lr)"
   ]
  },
  {
   "cell_type": "code",
   "execution_count": 35,
   "id": "1ba3973b-2882-460f-b886-c2a17cd6aefb",
   "metadata": {},
   "outputs": [
    {
     "name": "stdout",
     "output_type": "stream",
     "text": [
      "              precision    recall  f1-score   support\n",
      "\n",
      "         0.0       1.00      1.00      1.00      1818\n",
      "         1.0       0.62      1.00      0.77         5\n",
      "\n",
      "    accuracy                           1.00      1823\n",
      "   macro avg       0.81      1.00      0.88      1823\n",
      "weighted avg       1.00      1.00      1.00      1823\n",
      "\n"
     ]
    }
   ],
   "source": [
    "print(classification_report(test_labels,pred_lr))"
   ]
  },
  {
   "cell_type": "code",
   "execution_count": null,
   "id": "c1fbeacb-d4ad-4d2c-aac3-4d881a1d619b",
   "metadata": {},
   "outputs": [],
   "source": []
  }
 ],
 "metadata": {
  "kernelspec": {
   "display_name": "Python 3 (ipykernel)",
   "language": "python",
   "name": "python3"
  },
  "language_info": {
   "codemirror_mode": {
    "name": "ipython",
    "version": 3
   },
   "file_extension": ".py",
   "mimetype": "text/x-python",
   "name": "python",
   "nbconvert_exporter": "python",
   "pygments_lexer": "ipython3",
   "version": "3.9.7"
  }
 },
 "nbformat": 4,
 "nbformat_minor": 5
}