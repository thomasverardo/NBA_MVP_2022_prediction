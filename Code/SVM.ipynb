{
 "cells": [
  {
   "cell_type": "markdown",
   "id": "3e510ef1-0b29-4890-9c29-85d3d3fd6148",
   "metadata": {},
   "source": [
    "# SVM"
   ]
  },
  {
   "cell_type": "markdown",
   "id": "9aa51704-1576-4c8c-bd0f-cf362f376823",
   "metadata": {},
   "source": [
    "## CON FILTRO <40"
   ]
  },
  {
   "cell_type": "code",
   "execution_count": 1,
   "id": "8b412436-d1e3-46ef-bb21-cf3961f47574",
   "metadata": {},
   "outputs": [],
   "source": [
    "from sklearn.model_selection import RandomizedSearchCV\n",
    "from scipy.stats import uniform\n",
    "from sklearn.svm import SVC\n",
    "svc=SVC(random_state=25)\n",
    "from sklearn.metrics import accuracy_score, confusion_matrix, classification_report\n",
    "import pickle"
   ]
  },
  {
   "cell_type": "code",
   "execution_count": 2,
   "id": "33060ce0-4ce3-4b61-9b0b-0cce34b2e16e",
   "metadata": {},
   "outputs": [],
   "source": [
    "with open(\"Data/train_data_40.pkl\",'rb') as f:\n",
    "    over_train_data_40 = pickle.load(f)"
   ]
  },
  {
   "cell_type": "code",
   "execution_count": 3,
   "id": "aa5ca4c1-0366-4dbe-ab26-7f219179d741",
   "metadata": {},
   "outputs": [],
   "source": [
    "train_labels_40 = over_train_data_40['MVP']\n",
    "train_data_40= over_train_data_40.drop('MVP', axis = 1)"
   ]
  },
  {
   "cell_type": "code",
   "execution_count": 5,
   "id": "b8d9ea7d-0bcc-46a3-bb02-254503c7dd71",
   "metadata": {},
   "outputs": [],
   "source": [
    "C = uniform(loc=0, scale=1)\n",
    "kernel=['linear', 'poly', 'rbf', 'sigmoid']\n",
    "scoring = ['precision', 'f1', 'roc_auc']\n",
    "\n",
    "rs_parameters_40 = {'C': C,\n",
    "                 'kernel' : kernel,\n",
    "                 }"
   ]
  },
  {
   "cell_type": "code",
   "execution_count": 6,
   "id": "738ebebf-e561-4d39-933f-c55443f11ea2",
   "metadata": {},
   "outputs": [],
   "source": [
    "#CAMBIARE N_ITER\n",
    "rs_40=RandomizedSearchCV(svc, rs_parameters_40, scoring=scoring, refit=\"roc_auc\", n_jobs=-1, n_iter=10, random_state=756)\n",
    "rs_svc_40 = rs_40.fit(train_data_40, train_labels_40)"
   ]
  },
  {
   "cell_type": "code",
   "execution_count": 7,
   "id": "f57a2930-be14-40bd-b379-da741897ffe3",
   "metadata": {},
   "outputs": [
    {
     "name": "stdout",
     "output_type": "stream",
     "text": [
      "The best score is 0.999441527233891\n",
      "The best parameters are {'C': 0.9490440415330578, 'kernel': 'rbf'}\n"
     ]
    }
   ],
   "source": [
    "print(\"The best score is\",rs_svc_40.best_score_)\n",
    "print(\"The best parameters are\", rs_svc_40.best_params_)"
   ]
  },
  {
   "cell_type": "markdown",
   "source": [
    "ORFEO OUTPUT:\n",
    "\n",
    "The best score is 0.9960091086458718\n",
    "The best parameters are {'C': 0.23927052879924482, 'kernel': 'linear'}"
   ],
   "metadata": {
    "collapsed": false,
    "pycharm": {
     "name": "#%% md\n"
    }
   }
  },
  {
   "cell_type": "code",
   "execution_count": 9,
   "id": "bc8da23a-f25e-4d43-a5a3-3b006f1c16f2",
   "metadata": {},
   "outputs": [],
   "source": [
    "svc_final_40=SVC(C=0.4369,kernel='linear', class_weight=\"balanced\",probability=True,  max_iter=10000, random_state=13)\n",
    "# svc_final_40=SVC(C=0.23927,kernel='linear', class_weight=\"balanced\", probability=True max_iter=10000, random_state=13)\n",
    "\n",
    "svc_final_40.fit(train_data_40, train_labels_40)\n",
    "\n",
    "with open(\"svm_40.pkl\",'wb') as f:\n",
    "    pickle.dump(svc_final_40,f)"
   ]
  },
  {
   "cell_type": "code",
   "execution_count": 5,
   "id": "493881be-efcb-43c6-9697-0076c23c5f52",
   "metadata": {},
   "outputs": [],
   "source": [
    "with open(\"Data/test_data_40.pkl\",'rb') as f:\n",
    "    test_data_40 = pickle.load(f)\n",
    "\n",
    "test_labels_40 = test_data_40[\"MVP\"]\n",
    "test_data_40=test_data_40.drop([\"PLAYER_AGE\", \"PLAYER_ID\", \"SEASON_ID\", \"TEAM_ID\", \"MVP\"], axis=1)"
   ]
  },
  {
   "cell_type": "code",
   "execution_count": 6,
   "id": "17ffdf98-3f6a-4636-90f9-e15c9c90cce6",
   "metadata": {},
   "outputs": [
    {
     "name": "stdout",
     "output_type": "stream",
     "text": [
      "The accuracy of the Logistic Regressor is  0.9962370649106302\n"
     ]
    }
   ],
   "source": [
    "pred_svc_40 = svc_final_40.predict(test_data_40)\n",
    "print(f\"The accuracy of the Logistic Regressor is  {accuracy_score(test_labels_40,pred_svc_40)}\")"
   ]
  },
  {
   "cell_type": "code",
   "execution_count": 7,
   "id": "f76e856c-eec0-475a-9a67-8239c942c208",
   "metadata": {},
   "outputs": [
    {
     "data": {
      "text/plain": "array([[1056,    2],\n       [   2,    3]])"
     },
     "execution_count": 7,
     "metadata": {},
     "output_type": "execute_result"
    }
   ],
   "source": [
    "confusion_matrix(test_labels_40,pred_svc_40)"
   ]
  },
  {
   "cell_type": "code",
   "execution_count": 8,
   "id": "6ef653b0-7d04-4ab0-bb94-123c26a16be0",
   "metadata": {},
   "outputs": [
    {
     "name": "stdout",
     "output_type": "stream",
     "text": [
      "              precision    recall  f1-score   support\n",
      "\n",
      "         0.0       1.00      1.00      1.00      1058\n",
      "         1.0       0.60      0.60      0.60         5\n",
      "\n",
      "    accuracy                           1.00      1063\n",
      "   macro avg       0.80      0.80      0.80      1063\n",
      "weighted avg       1.00      1.00      1.00      1063\n",
      "\n"
     ]
    }
   ],
   "source": [
    "print(classification_report(test_labels_40,pred_svc_40))"
   ]
  },
  {
   "cell_type": "markdown",
   "id": "70d53cac-9782-448d-a920-93297eeb9153",
   "metadata": {},
   "source": [
    "## SENZA FILTRO <40"
   ]
  },
  {
   "cell_type": "code",
   "execution_count": 10,
   "id": "6d9bdc76-a6fe-4de2-9c4e-952d67ae86d8",
   "metadata": {},
   "outputs": [],
   "source": [
    "with open(\"Data/train_data.pkl\",'rb') as f:\n",
    "    over_train_data = pickle.load(f)"
   ]
  },
  {
   "cell_type": "code",
   "execution_count": 11,
   "id": "3cfd1faa-adf4-466d-9ec6-b46d33b706b8",
   "metadata": {},
   "outputs": [],
   "source": [
    "train_labels = over_train_data['MVP']\n",
    "train_data= over_train_data.drop('MVP', axis = 1)"
   ]
  },
  {
   "cell_type": "code",
   "execution_count": 12,
   "id": "9b02f966-3b1c-4edc-88ce-f7c1225721a7",
   "metadata": {},
   "outputs": [],
   "source": [
    "C = uniform(loc=0, scale=1)\n",
    "kernel=['linear', 'poly', 'rbf', 'sigmoid']\n",
    "scoring = ['precision', 'f1', 'roc_auc']\n",
    "\n",
    "rs_parameters = {'C': C,\n",
    "                 'kernel' : kernel,\n",
    "                 }"
   ]
  },
  {
   "cell_type": "code",
   "execution_count": 18,
   "id": "fd2a4f60-9e06-4f36-b0b3-1dc9b7a4d074",
   "metadata": {},
   "outputs": [],
   "source": [
    "\n",
    "rs=RandomizedSearchCV(svc, rs_parameters, scoring=scoring, refit=\"roc_auc\", n_jobs=-1, n_iter=10, random_state=756)\n",
    "rs_svc = rs.fit(train_data, train_labels)"
   ]
  },
  {
   "cell_type": "code",
   "execution_count": 19,
   "id": "7dd305cd-c741-401a-bc00-5381ab24bb0f",
   "metadata": {},
   "outputs": [
    {
     "name": "stdout",
     "output_type": "stream",
     "text": [
      "The best score is 0.9995418039208719\n",
      "The best parameters are {'C': 0.49657147858829964, 'kernel': 'rbf'}\n"
     ]
    }
   ],
   "source": [
    "print(\"The best score is\",rs_svc.best_score_)\n",
    "print(\"The best parameters are\", rs_svc.best_params_)"
   ]
  },
  {
   "cell_type": "markdown",
   "source": [
    "ORFEO OUTPUT\n",
    "\n",
    "The best score is 0.9976698215555226\n",
    "The best parameters are {'C': 0.43687812798961845, 'kernel': 'linear'}"
   ],
   "metadata": {
    "collapsed": false,
    "pycharm": {
     "name": "#%% md\n"
    }
   }
  },
  {
   "cell_type": "code",
   "execution_count": 13,
   "id": "580f938b-8538-4fa4-9b31-85f41134537b",
   "metadata": {},
   "outputs": [],
   "source": [
    "svc_final=SVC(C=0.4369,kernel='linear', class_weight=\"balanced\", probability=True, max_iter=10000, random_state=13)\n",
    "\n",
    "svc_final.fit(train_data, train_labels)\n",
    "\n",
    "with open(\"svm.pkl\",'wb') as f:\n",
    "    pickle.dump(svc_final,f)"
   ]
  },
  {
   "cell_type": "code",
   "execution_count": 21,
   "id": "019299ca-67cb-4b86-bc34-065f5a1a1973",
   "metadata": {},
   "outputs": [],
   "source": [
    "with open(\"Data/test_data.pkl\",'rb') as f:\n",
    "    test_data = pickle.load(f)\n",
    "\n",
    "test_labels = test_data[\"MVP\"]\n",
    "test_data=test_data.drop([\"PLAYER_AGE\", \"PLAYER_ID\", \"SEASON_ID\", \"TEAM_ID\", \"MVP\"], axis=1)"
   ]
  },
  {
   "cell_type": "code",
   "execution_count": 22,
   "id": "a95fe60f-a37f-4cd0-9219-5933e8b426e6",
   "metadata": {},
   "outputs": [
    {
     "name": "stdout",
     "output_type": "stream",
     "text": [
      "The accuracy of the Logistic Regressor is  0.9983543609434997\n"
     ]
    }
   ],
   "source": [
    "pred_svc = svc_final.predict(test_data)\n",
    "print(f\"The accuracy of the Logistic Regressor is  {accuracy_score(test_labels,pred_svc)}\")"
   ]
  },
  {
   "cell_type": "code",
   "execution_count": 23,
   "id": "0b2889a1-4415-4455-acc0-3d1f44a88679",
   "metadata": {},
   "outputs": [
    {
     "data": {
      "text/plain": "array([[1817,    1],\n       [   2,    3]])"
     },
     "execution_count": 23,
     "metadata": {},
     "output_type": "execute_result"
    }
   ],
   "source": [
    "confusion_matrix(test_labels,pred_svc)"
   ]
  },
  {
   "cell_type": "code",
   "execution_count": 24,
   "id": "fdf73753-ecc9-4bda-9a8b-4ca40f72f10f",
   "metadata": {},
   "outputs": [
    {
     "name": "stdout",
     "output_type": "stream",
     "text": [
      "              precision    recall  f1-score   support\n",
      "\n",
      "         0.0       1.00      1.00      1.00      1818\n",
      "         1.0       0.75      0.60      0.67         5\n",
      "\n",
      "    accuracy                           1.00      1823\n",
      "   macro avg       0.87      0.80      0.83      1823\n",
      "weighted avg       1.00      1.00      1.00      1823\n",
      "\n"
     ]
    }
   ],
   "source": [
    "print(classification_report(test_labels,pred_svc))"
   ]
  },
  {
   "cell_type": "markdown",
   "id": "12ea0eac-2ffd-4bc4-9623-3dd76c12e5ff",
   "metadata": {
    "pycharm": {
     "name": "#%% md\n"
    }
   },
   "source": [
    "## Senza feature selection (no Pearson correlation)"
   ]
  },
  {
   "cell_type": "code",
   "execution_count": 14,
   "outputs": [],
   "source": [
    "with open(\"Data/train_data_no_pearson.pkl\",'rb') as f:\n",
    "    over_train_data = pickle.load(f)"
   ],
   "metadata": {
    "collapsed": false,
    "pycharm": {
     "name": "#%%\n"
    }
   }
  },
  {
   "cell_type": "code",
   "execution_count": 15,
   "outputs": [],
   "source": [
    "train_labels = over_train_data['MVP']\n",
    "train_data= over_train_data.drop('MVP', axis = 1)"
   ],
   "metadata": {
    "collapsed": false,
    "pycharm": {
     "name": "#%%\n"
    }
   }
  },
  {
   "cell_type": "code",
   "execution_count": 5,
   "outputs": [],
   "source": [
    "C = uniform(loc=0, scale=1)\n",
    "kernel=['linear', 'poly', 'rbf', 'sigmoid']\n",
    "scoring = ['precision', 'f1', 'roc_auc']\n",
    "\n",
    "rs_parameters = {'C': C,\n",
    "                 'kernel' : kernel,\n",
    "                 }"
   ],
   "metadata": {
    "collapsed": false,
    "pycharm": {
     "name": "#%%\n"
    }
   }
  },
  {
   "cell_type": "code",
   "execution_count": 6,
   "outputs": [],
   "source": [
    "\n",
    "rs=RandomizedSearchCV(svc, rs_parameters, scoring=scoring, refit=\"roc_auc\", n_jobs=-1, n_iter=10, random_state=756)\n",
    "rs_svc = rs.fit(train_data, train_labels)"
   ],
   "metadata": {
    "collapsed": false,
    "pycharm": {
     "name": "#%%\n"
    }
   }
  },
  {
   "cell_type": "code",
   "execution_count": 7,
   "outputs": [
    {
     "name": "stdout",
     "output_type": "stream",
     "text": [
      "The best score is 0.9994782593598162\n",
      "The best parameters are {'C': 0.9490440415330578, 'kernel': 'rbf'}\n"
     ]
    }
   ],
   "source": [
    "print(\"The best score is\",rs_svc.best_score_)\n",
    "print(\"The best parameters are\", rs_svc.best_params_)"
   ],
   "metadata": {
    "collapsed": false,
    "pycharm": {
     "name": "#%%\n"
    }
   }
  },
  {
   "cell_type": "markdown",
   "source": [
    "ORFEO OUTPUT\n",
    "\n",
    "The best score is 0.9976698215555226\n",
    "The best parameters are {'C': 0.43687812798961845, 'kernel': 'linear'}"
   ],
   "metadata": {
    "collapsed": false
   }
  },
  {
   "cell_type": "code",
   "execution_count": 16,
   "outputs": [],
   "source": [
    "svc_final=SVC(C=0.9490440415330578,kernel='rbf', class_weight=\"balanced\", probability=True, max_iter=10000, random_state=13)\n",
    "\n",
    "svc_final.fit(train_data, train_labels)\n",
    "\n",
    "with open(\"svm_no_pearson.pkl\",'wb') as f:\n",
    "    pickle.dump(svc_final,f)"
   ],
   "metadata": {
    "collapsed": false,
    "pycharm": {
     "name": "#%%\n"
    }
   }
  },
  {
   "cell_type": "code",
   "execution_count": 9,
   "outputs": [],
   "source": [
    "with open(\"Data/test_data_no_pearson.pkl\",'rb') as f:\n",
    "    test_data = pickle.load(f)\n",
    "\n",
    "test_labels = test_data[\"MVP\"]\n",
    "test_data=test_data.drop([\"PLAYER_AGE\", \"PLAYER_ID\", \"SEASON_ID\", \"TEAM_ID\", \"MVP\"], axis=1)"
   ],
   "metadata": {
    "collapsed": false,
    "pycharm": {
     "name": "#%%\n"
    }
   }
  },
  {
   "cell_type": "code",
   "execution_count": 10,
   "outputs": [
    {
     "name": "stdout",
     "output_type": "stream",
     "text": [
      "The accuracy of the Logistic Regressor is  0.9972572682391662\n"
     ]
    }
   ],
   "source": [
    "pred_svc = svc_final.predict(test_data)\n",
    "print(f\"The accuracy of the Logistic Regressor is  {accuracy_score(test_labels,pred_svc)}\")"
   ],
   "metadata": {
    "collapsed": false,
    "pycharm": {
     "name": "#%%\n"
    }
   }
  },
  {
   "cell_type": "code",
   "execution_count": 11,
   "outputs": [
    {
     "data": {
      "text/plain": "array([[1815,    3],\n       [   2,    3]])"
     },
     "execution_count": 11,
     "metadata": {},
     "output_type": "execute_result"
    }
   ],
   "source": [
    "confusion_matrix(test_labels,pred_svc)"
   ],
   "metadata": {
    "collapsed": false,
    "pycharm": {
     "name": "#%%\n"
    }
   }
  },
  {
   "cell_type": "code",
   "execution_count": 12,
   "outputs": [
    {
     "name": "stdout",
     "output_type": "stream",
     "text": [
      "              precision    recall  f1-score   support\n",
      "\n",
      "         0.0       1.00      1.00      1.00      1818\n",
      "         1.0       0.50      0.60      0.55         5\n",
      "\n",
      "    accuracy                           1.00      1823\n",
      "   macro avg       0.75      0.80      0.77      1823\n",
      "weighted avg       1.00      1.00      1.00      1823\n",
      "\n"
     ]
    }
   ],
   "source": [
    "print(classification_report(test_labels,pred_svc))"
   ],
   "metadata": {
    "collapsed": false,
    "pycharm": {
     "name": "#%%\n"
    }
   }
  }
 ],
 "metadata": {
  "kernelspec": {
   "display_name": "Python 3 (ipykernel)",
   "language": "python",
   "name": "python3"
  },
  "language_info": {
   "codemirror_mode": {
    "name": "ipython",
    "version": 3
   },
   "file_extension": ".py",
   "mimetype": "text/x-python",
   "name": "python",
   "nbconvert_exporter": "python",
   "pygments_lexer": "ipython3",
   "version": "3.9.7"
  }
 },
 "nbformat": 4,
 "nbformat_minor": 5
}