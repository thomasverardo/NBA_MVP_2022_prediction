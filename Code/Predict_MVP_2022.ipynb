{
 "cells": [
  {
   "cell_type": "markdown",
   "metadata": {
    "pycharm": {
     "name": "#%% md\n"
    }
   },
   "source": [
    "# Predict MVP 2022 TEST\n"
   ]
  },
  {
   "cell_type": "code",
   "execution_count": 2,
   "metadata": {
    "collapsed": false,
    "jupyter": {
     "outputs_hidden": false
    },
    "pycharm": {
     "name": "#%%\n"
    }
   },
   "outputs": [],
   "source": [
    "import pickle\n",
    "import pandas as pd\n",
    "import numpy as np\n",
    "from nba_api.stats.endpoints import commonallplayers #per avere l'elenco dei giocatori (id)\n",
    "from nba_api.stats.endpoints import playercareerstats #per avere i dati\n",
    "from nba_api.stats.endpoints import playerawards #per sapere chi ha vinto MVP\n",
    "from nba_api.stats.endpoints import teamyearbyyearstats #classifiche finali delle squadre\n",
    "import pandas as pd\n",
    "from tqdm import tqdm\n",
    "import pickle"
   ]
  },
  {
   "cell_type": "markdown",
   "source": [
    "## Scarico i giocatori 2022"
   ],
   "metadata": {
    "collapsed": false,
    "pycharm": {
     "name": "#%% md\n"
    }
   }
  },
  {
   "cell_type": "code",
   "execution_count": 3,
   "outputs": [
    {
     "data": {
      "text/plain": "      PERSON_ID DISPLAY_LAST_COMMA_FIRST DISPLAY_FIRST_LAST  ROSTERSTATUS  \\\n10      1630173        Achiuwa, Precious   Precious Achiuwa             1   \n22       203500            Adams, Steven       Steven Adams             1   \n24      1628389             Adebayo, Bam        Bam Adebayo             1   \n40      1630583            Aldama, Santi       Santi Aldama             1   \n43       200746       Aldridge, LaMarcus  LaMarcus Aldridge             1   \n...         ...                      ...                ...           ...   \n4701     201152          Young, Thaddeus     Thaddeus Young             1   \n4703    1629027              Young, Trae         Trae Young             1   \n4704    1630209          Yurtseven, Omer     Omer Yurtseven             1   \n4707     203469             Zeller, Cody        Cody Zeller             1   \n4723    1627826             Zubac, Ivica        Ivica Zubac             1   \n\n     FROM_YEAR  TO_YEAR          PLAYERCODE        PLAYER_SLUG     TEAM_ID  \\\n10        2020     2021    precious_achiuwa   precious_achiuwa  1610612761   \n22        2013     2021        steven_adams       steven_adams  1610612763   \n24        2017     2021         bam_adebayo        bam_adebayo  1610612748   \n40        2021     2021        santi_aldama       santi_aldama  1610612763   \n43        2006     2021   lamarcus_aldridge  lamarcus_aldridge  1610612751   \n...        ...      ...                 ...                ...         ...   \n4701      2007     2021      thaddeus_young     thaddeus_young  1610612759   \n4703      2018     2021          trae_young         trae_young  1610612737   \n4704      2020     2021  tmp_omer_yurtseven     omer_yurtseven  1610612748   \n4707      2013     2021         cody_zeller        cody_zeller  1610612757   \n4723      2016     2021         ivica_zubac        ivica_zubac  1610612746   \n\n        TEAM_CITY      TEAM_NAME TEAM_ABBREVIATION  TEAM_CODE  TEAM_SLUG  \\\n10        Toronto        Raptors               TOR    raptors    raptors   \n22        Memphis      Grizzlies               MEM  grizzlies  grizzlies   \n24          Miami           Heat               MIA       heat       heat   \n40        Memphis      Grizzlies               MEM  grizzlies  grizzlies   \n43       Brooklyn           Nets               BKN       nets       nets   \n...           ...            ...               ...        ...        ...   \n4701  San Antonio          Spurs               SAS      spurs      spurs   \n4703      Atlanta          Hawks               ATL      hawks      hawks   \n4704        Miami           Heat               MIA       heat       heat   \n4707     Portland  Trail Blazers               POR    blazers    blazers   \n4723           LA       Clippers               LAC   clippers   clippers   \n\n     GAMES_PLAYED_FLAG OTHERLEAGUE_EXPERIENCE_CH  \n10                   Y                        00  \n22                   Y                        00  \n24                   Y                        00  \n40                   Y                        00  \n43                   Y                        00  \n...                ...                       ...  \n4701                 Y                        00  \n4703                 Y                        00  \n4704                 Y                        01  \n4707                 Y                        00  \n4723                 Y                        01  \n\n[609 rows x 16 columns]",
      "text/html": "<div>\n<style scoped>\n    .dataframe tbody tr th:only-of-type {\n        vertical-align: middle;\n    }\n\n    .dataframe tbody tr th {\n        vertical-align: top;\n    }\n\n    .dataframe thead th {\n        text-align: right;\n    }\n</style>\n<table border=\"1\" class=\"dataframe\">\n  <thead>\n    <tr style=\"text-align: right;\">\n      <th></th>\n      <th>PERSON_ID</th>\n      <th>DISPLAY_LAST_COMMA_FIRST</th>\n      <th>DISPLAY_FIRST_LAST</th>\n      <th>ROSTERSTATUS</th>\n      <th>FROM_YEAR</th>\n      <th>TO_YEAR</th>\n      <th>PLAYERCODE</th>\n      <th>PLAYER_SLUG</th>\n      <th>TEAM_ID</th>\n      <th>TEAM_CITY</th>\n      <th>TEAM_NAME</th>\n      <th>TEAM_ABBREVIATION</th>\n      <th>TEAM_CODE</th>\n      <th>TEAM_SLUG</th>\n      <th>GAMES_PLAYED_FLAG</th>\n      <th>OTHERLEAGUE_EXPERIENCE_CH</th>\n    </tr>\n  </thead>\n  <tbody>\n    <tr>\n      <th>10</th>\n      <td>1630173</td>\n      <td>Achiuwa, Precious</td>\n      <td>Precious Achiuwa</td>\n      <td>1</td>\n      <td>2020</td>\n      <td>2021</td>\n      <td>precious_achiuwa</td>\n      <td>precious_achiuwa</td>\n      <td>1610612761</td>\n      <td>Toronto</td>\n      <td>Raptors</td>\n      <td>TOR</td>\n      <td>raptors</td>\n      <td>raptors</td>\n      <td>Y</td>\n      <td>00</td>\n    </tr>\n    <tr>\n      <th>22</th>\n      <td>203500</td>\n      <td>Adams, Steven</td>\n      <td>Steven Adams</td>\n      <td>1</td>\n      <td>2013</td>\n      <td>2021</td>\n      <td>steven_adams</td>\n      <td>steven_adams</td>\n      <td>1610612763</td>\n      <td>Memphis</td>\n      <td>Grizzlies</td>\n      <td>MEM</td>\n      <td>grizzlies</td>\n      <td>grizzlies</td>\n      <td>Y</td>\n      <td>00</td>\n    </tr>\n    <tr>\n      <th>24</th>\n      <td>1628389</td>\n      <td>Adebayo, Bam</td>\n      <td>Bam Adebayo</td>\n      <td>1</td>\n      <td>2017</td>\n      <td>2021</td>\n      <td>bam_adebayo</td>\n      <td>bam_adebayo</td>\n      <td>1610612748</td>\n      <td>Miami</td>\n      <td>Heat</td>\n      <td>MIA</td>\n      <td>heat</td>\n      <td>heat</td>\n      <td>Y</td>\n      <td>00</td>\n    </tr>\n    <tr>\n      <th>40</th>\n      <td>1630583</td>\n      <td>Aldama, Santi</td>\n      <td>Santi Aldama</td>\n      <td>1</td>\n      <td>2021</td>\n      <td>2021</td>\n      <td>santi_aldama</td>\n      <td>santi_aldama</td>\n      <td>1610612763</td>\n      <td>Memphis</td>\n      <td>Grizzlies</td>\n      <td>MEM</td>\n      <td>grizzlies</td>\n      <td>grizzlies</td>\n      <td>Y</td>\n      <td>00</td>\n    </tr>\n    <tr>\n      <th>43</th>\n      <td>200746</td>\n      <td>Aldridge, LaMarcus</td>\n      <td>LaMarcus Aldridge</td>\n      <td>1</td>\n      <td>2006</td>\n      <td>2021</td>\n      <td>lamarcus_aldridge</td>\n      <td>lamarcus_aldridge</td>\n      <td>1610612751</td>\n      <td>Brooklyn</td>\n      <td>Nets</td>\n      <td>BKN</td>\n      <td>nets</td>\n      <td>nets</td>\n      <td>Y</td>\n      <td>00</td>\n    </tr>\n    <tr>\n      <th>...</th>\n      <td>...</td>\n      <td>...</td>\n      <td>...</td>\n      <td>...</td>\n      <td>...</td>\n      <td>...</td>\n      <td>...</td>\n      <td>...</td>\n      <td>...</td>\n      <td>...</td>\n      <td>...</td>\n      <td>...</td>\n      <td>...</td>\n      <td>...</td>\n      <td>...</td>\n      <td>...</td>\n    </tr>\n    <tr>\n      <th>4701</th>\n      <td>201152</td>\n      <td>Young, Thaddeus</td>\n      <td>Thaddeus Young</td>\n      <td>1</td>\n      <td>2007</td>\n      <td>2021</td>\n      <td>thaddeus_young</td>\n      <td>thaddeus_young</td>\n      <td>1610612759</td>\n      <td>San Antonio</td>\n      <td>Spurs</td>\n      <td>SAS</td>\n      <td>spurs</td>\n      <td>spurs</td>\n      <td>Y</td>\n      <td>00</td>\n    </tr>\n    <tr>\n      <th>4703</th>\n      <td>1629027</td>\n      <td>Young, Trae</td>\n      <td>Trae Young</td>\n      <td>1</td>\n      <td>2018</td>\n      <td>2021</td>\n      <td>trae_young</td>\n      <td>trae_young</td>\n      <td>1610612737</td>\n      <td>Atlanta</td>\n      <td>Hawks</td>\n      <td>ATL</td>\n      <td>hawks</td>\n      <td>hawks</td>\n      <td>Y</td>\n      <td>00</td>\n    </tr>\n    <tr>\n      <th>4704</th>\n      <td>1630209</td>\n      <td>Yurtseven, Omer</td>\n      <td>Omer Yurtseven</td>\n      <td>1</td>\n      <td>2020</td>\n      <td>2021</td>\n      <td>tmp_omer_yurtseven</td>\n      <td>omer_yurtseven</td>\n      <td>1610612748</td>\n      <td>Miami</td>\n      <td>Heat</td>\n      <td>MIA</td>\n      <td>heat</td>\n      <td>heat</td>\n      <td>Y</td>\n      <td>01</td>\n    </tr>\n    <tr>\n      <th>4707</th>\n      <td>203469</td>\n      <td>Zeller, Cody</td>\n      <td>Cody Zeller</td>\n      <td>1</td>\n      <td>2013</td>\n      <td>2021</td>\n      <td>cody_zeller</td>\n      <td>cody_zeller</td>\n      <td>1610612757</td>\n      <td>Portland</td>\n      <td>Trail Blazers</td>\n      <td>POR</td>\n      <td>blazers</td>\n      <td>blazers</td>\n      <td>Y</td>\n      <td>00</td>\n    </tr>\n    <tr>\n      <th>4723</th>\n      <td>1627826</td>\n      <td>Zubac, Ivica</td>\n      <td>Ivica Zubac</td>\n      <td>1</td>\n      <td>2016</td>\n      <td>2021</td>\n      <td>ivica_zubac</td>\n      <td>ivica_zubac</td>\n      <td>1610612746</td>\n      <td>LA</td>\n      <td>Clippers</td>\n      <td>LAC</td>\n      <td>clippers</td>\n      <td>clippers</td>\n      <td>Y</td>\n      <td>01</td>\n    </tr>\n  </tbody>\n</table>\n<p>609 rows × 16 columns</p>\n</div>"
     },
     "execution_count": 3,
     "metadata": {},
     "output_type": "execute_result"
    }
   ],
   "source": [
    "from_year = 2021\n",
    "\n",
    "total_players = commonallplayers.CommonAllPlayers().get_data_frames()[0]\n",
    "total_players['TO_YEAR'] = total_players['TO_YEAR'].astype('int')\n",
    "total_players = total_players[total_players['TO_YEAR'] == from_year]\n",
    "\n",
    "#Ho controllato che in total_players, il PERSON_ID sia univoco\n",
    "total_players"
   ],
   "metadata": {
    "collapsed": false,
    "pycharm": {
     "name": "#%%\n"
    }
   }
  },
  {
   "cell_type": "code",
   "execution_count": 7,
   "outputs": [
    {
     "data": {
      "text/plain": "         TEAM_ID SEASON_ID CONF_RANK\n0     1610612761   1995-96        14\n1     1610612761   1996-97        12\n2     1610612761   1997-98        15\n3     1610612761   1998-99        10\n4     1610612761   1999-00         6\n...          ...       ...       ...\n1562  1610612742   2017-18        13\n1563  1610612742   2018-19        14\n1564  1610612742   2019-20         7\n1565  1610612742   2020-21         5\n1566  1610612742   2021-22         5\n\n[1567 rows x 3 columns]",
      "text/html": "<div>\n<style scoped>\n    .dataframe tbody tr th:only-of-type {\n        vertical-align: middle;\n    }\n\n    .dataframe tbody tr th {\n        vertical-align: top;\n    }\n\n    .dataframe thead th {\n        text-align: right;\n    }\n</style>\n<table border=\"1\" class=\"dataframe\">\n  <thead>\n    <tr style=\"text-align: right;\">\n      <th></th>\n      <th>TEAM_ID</th>\n      <th>SEASON_ID</th>\n      <th>CONF_RANK</th>\n    </tr>\n  </thead>\n  <tbody>\n    <tr>\n      <th>0</th>\n      <td>1610612761</td>\n      <td>1995-96</td>\n      <td>14</td>\n    </tr>\n    <tr>\n      <th>1</th>\n      <td>1610612761</td>\n      <td>1996-97</td>\n      <td>12</td>\n    </tr>\n    <tr>\n      <th>2</th>\n      <td>1610612761</td>\n      <td>1997-98</td>\n      <td>15</td>\n    </tr>\n    <tr>\n      <th>3</th>\n      <td>1610612761</td>\n      <td>1998-99</td>\n      <td>10</td>\n    </tr>\n    <tr>\n      <th>4</th>\n      <td>1610612761</td>\n      <td>1999-00</td>\n      <td>6</td>\n    </tr>\n    <tr>\n      <th>...</th>\n      <td>...</td>\n      <td>...</td>\n      <td>...</td>\n    </tr>\n    <tr>\n      <th>1562</th>\n      <td>1610612742</td>\n      <td>2017-18</td>\n      <td>13</td>\n    </tr>\n    <tr>\n      <th>1563</th>\n      <td>1610612742</td>\n      <td>2018-19</td>\n      <td>14</td>\n    </tr>\n    <tr>\n      <th>1564</th>\n      <td>1610612742</td>\n      <td>2019-20</td>\n      <td>7</td>\n    </tr>\n    <tr>\n      <th>1565</th>\n      <td>1610612742</td>\n      <td>2020-21</td>\n      <td>5</td>\n    </tr>\n    <tr>\n      <th>1566</th>\n      <td>1610612742</td>\n      <td>2021-22</td>\n      <td>5</td>\n    </tr>\n  </tbody>\n</table>\n<p>1567 rows × 3 columns</p>\n</div>"
     },
     "execution_count": 7,
     "metadata": {},
     "output_type": "execute_result"
    }
   ],
   "source": [
    "all_teams_history = list(total_players[\"TEAM_ID\"].drop_duplicates())\n",
    "data_all_team_stats = pd.DataFrame()\n",
    "\n",
    "for team in all_teams_history:\n",
    "    t = teamyearbyyearstats.TeamYearByYearStats(team_id=team).get_data_frames()[0]\n",
    "    #t[\"SEASON_ID\"] = t[t[\"SEASON_ID\"] == \"2021-22\"] # Non cambia tanto perchè nel get prende tutti\n",
    "    data_all_team_stats = pd.concat([data_all_team_stats, t], axis=0, ignore_index=True)\n",
    "\n",
    "data_all_team_stats = data_all_team_stats.rename(columns={\"YEAR\": \"SEASON_ID\"})\n",
    "data_all_team_stats = data_all_team_stats[[\"TEAM_ID\", \"SEASON_ID\", \"CONF_RANK\"]]\n",
    "\n",
    "with open(\"data_all_team_stats_2022.pkl\",'wb') as f:\n",
    "    pickle.dump(data_all_team_stats,f)\n",
    "\n",
    "data_all_team_stats"
   ],
   "metadata": {
    "collapsed": false,
    "pycharm": {
     "name": "#%%\n"
    }
   }
  },
  {
   "cell_type": "code",
   "execution_count": 8,
   "outputs": [
    {
     "name": "stderr",
     "output_type": "stream",
     "text": [
      "609it [23:46,  2.34s/it]\n"
     ]
    }
   ],
   "source": [
    "total_names = total_players[[\"PERSON_ID\", \"DISPLAY_FIRST_LAST\"]]\n",
    "total_stats = pd.DataFrame()\n",
    "with open(\"data_all_team_stats_2022.pkl\", \"rb\") as f:\n",
    "    data_all_team_stats = pickle.load(f)\n",
    "\n",
    "for index, row in tqdm(total_names.iterrows()):\n",
    "    stats = playercareerstats.PlayerCareerStats(player_id=row[\"PERSON_ID\"]).get_data_frames()[0]\n",
    "\n",
    "    stats = stats.drop(stats.columns[[2, 4, 7]], axis=1)\n",
    "\n",
    "    awards = playerawards.PlayerAwards(player_id=row[\"PERSON_ID\"]).get_data_frames()[0]\n",
    "\n",
    "    awards = awards.drop(awards.columns[[0, 1, 2, 3, 5, 7, 8, 9, 10, 11, 12, 13]], axis=1) #Tolgo anche PERSON_ID\n",
    "    awards = awards.rename(columns={\"SEASON\": \"SEASON_ID\"})\n",
    "    awards = awards.loc[awards[\"DESCRIPTION\"]==\"NBA Most Valuable Player\"]\n",
    "\n",
    "    #merge\n",
    "    stats=stats.merge(awards, how=\"left\", on=\"SEASON_ID\")\n",
    "    #1 to MVP, 0 to other\n",
    "    stats[\"DESCRIPTION\"] = stats[\"DESCRIPTION\"].replace(\"NBA Most Valuable Player\", 1) #Replace the description MVP with 1\n",
    "    stats[\"DESCRIPTION\"] = stats[\"DESCRIPTION\"].fillna(0) #Replace NULL with 0\n",
    "    stats = stats.rename(columns={\"DESCRIPTION\": \"MVP\"})\n",
    "\n",
    "    #merge della classifica in cui è arrivata la squadra in una certa stagione\n",
    "    stats = stats.merge(data_all_team_stats, how=\"inner\", on=[\"SEASON_ID\", \"TEAM_ID\"])\n",
    "\n",
    "    total_stats = pd.concat([total_stats, stats],axis=0,ignore_index=True)\n",
    "\n",
    "\n",
    "#Tolgo la formattazione \"year1-year2\" (2010-11) e lascio solo il secondo anno (2011)\n",
    "total_stats[\"SEASON_ID\"] = [int(\"20\"+x.split(\"-\")[1]) for x in list(total_stats[\"SEASON_ID\"])] #Problema se si prendono dati < anno 2000\n",
    "#Prendo i dati superiore all'anno FROM_YEAR\n",
    "total_stats= total_stats[total_stats[\"SEASON_ID\"] > from_year]\n",
    "\n",
    "\n",
    "with open(\"player_stats_2022.pkl\",'wb') as f:\n",
    "    pickle.dump(total_stats,f)"
   ],
   "metadata": {
    "collapsed": false,
    "pycharm": {
     "name": "#%%\n"
    }
   }
  },
  {
   "cell_type": "markdown",
   "source": [
    "## Predizione 2022, preparo i dati appena scaricati"
   ],
   "metadata": {
    "collapsed": false,
    "pycharm": {
     "name": "#%% md\n"
    }
   }
  },
  {
   "cell_type": "code",
   "execution_count": 9,
   "metadata": {
    "collapsed": false,
    "jupyter": {
     "outputs_hidden": false
    },
    "pycharm": {
     "name": "#%%\n"
    }
   },
   "outputs": [
    {
     "data": {
      "text/plain": "      MVP CONF_RANK PLAYER_ID  SEASON_ID     TEAM_ID  PLAYER_AGE  GP     MIN  \\\n1     0.0         8   1630173       2022  1610612761        22.0  29   707.0   \n10    0.0         3    203500       2022  1610612763        28.0  40  1026.0   \n15    0.0         2   1628389       2022  1610612748        24.0  18   592.0   \n16    0.0         3   1630583       2022  1610612763        21.0  22   240.0   \n33    0.0         3    200746       2022  1610612751        36.0  29   663.0   \n...   ...       ...       ...        ...         ...         ...  ..     ...   \n3332  0.0        13    201152       2022  1610612759        33.0  23   323.0   \n3336  0.0        12   1629027       2022  1610612737        23.0  36  1245.0   \n3337  0.0         2   1630209       2022  1610612748        23.0  32   487.0   \n3346  0.0        10    203469       2022  1610612757        29.0  27   355.0   \n3353  0.0         8   1627826       2022  1610612746        24.0  39   950.0   \n\n      FGM  FGA  ...  FT_PCT  OREB  DREB  REB  AST  STL  BLK  TOV  PF  PTS  \n1      95  234  ...   0.569    66   152  218   40   18   17   31  64  228  \n10    105  198  ...   0.600   172   203  375  119   33   23   64  66  279  \n15    126  243  ...   0.759    49   134  183   57   20    6   53  59  337  \n16     32   85  ...   0.579    22    37   59   13    2    6    8  23   79  \n33    165  292  ...   0.846    43   120  163   23   11   32   25  48  386  \n...   ...  ...  ...     ...   ...   ...  ...  ...  ...  ...  ...  ..  ...  \n3332   65  114  ...   0.444    34    45   79   55   20    6   23  33  138  \n3336  341  755  ...   0.897    27   117  144  340   34    4  148  58  996  \n3337   79  165  ...   0.643    58   149  207   36   15   17   31  56  186  \n3346   51   90  ...   0.776    50    75  125   22    8    6   19  56  140  \n3353  137  208  ...   0.741   103   210  313   42   19   42   50  93  360  \n\n[615 rows x 26 columns]",
      "text/html": "<div>\n<style scoped>\n    .dataframe tbody tr th:only-of-type {\n        vertical-align: middle;\n    }\n\n    .dataframe tbody tr th {\n        vertical-align: top;\n    }\n\n    .dataframe thead th {\n        text-align: right;\n    }\n</style>\n<table border=\"1\" class=\"dataframe\">\n  <thead>\n    <tr style=\"text-align: right;\">\n      <th></th>\n      <th>MVP</th>\n      <th>CONF_RANK</th>\n      <th>PLAYER_ID</th>\n      <th>SEASON_ID</th>\n      <th>TEAM_ID</th>\n      <th>PLAYER_AGE</th>\n      <th>GP</th>\n      <th>MIN</th>\n      <th>FGM</th>\n      <th>FGA</th>\n      <th>...</th>\n      <th>FT_PCT</th>\n      <th>OREB</th>\n      <th>DREB</th>\n      <th>REB</th>\n      <th>AST</th>\n      <th>STL</th>\n      <th>BLK</th>\n      <th>TOV</th>\n      <th>PF</th>\n      <th>PTS</th>\n    </tr>\n  </thead>\n  <tbody>\n    <tr>\n      <th>1</th>\n      <td>0.0</td>\n      <td>8</td>\n      <td>1630173</td>\n      <td>2022</td>\n      <td>1610612761</td>\n      <td>22.0</td>\n      <td>29</td>\n      <td>707.0</td>\n      <td>95</td>\n      <td>234</td>\n      <td>...</td>\n      <td>0.569</td>\n      <td>66</td>\n      <td>152</td>\n      <td>218</td>\n      <td>40</td>\n      <td>18</td>\n      <td>17</td>\n      <td>31</td>\n      <td>64</td>\n      <td>228</td>\n    </tr>\n    <tr>\n      <th>10</th>\n      <td>0.0</td>\n      <td>3</td>\n      <td>203500</td>\n      <td>2022</td>\n      <td>1610612763</td>\n      <td>28.0</td>\n      <td>40</td>\n      <td>1026.0</td>\n      <td>105</td>\n      <td>198</td>\n      <td>...</td>\n      <td>0.600</td>\n      <td>172</td>\n      <td>203</td>\n      <td>375</td>\n      <td>119</td>\n      <td>33</td>\n      <td>23</td>\n      <td>64</td>\n      <td>66</td>\n      <td>279</td>\n    </tr>\n    <tr>\n      <th>15</th>\n      <td>0.0</td>\n      <td>2</td>\n      <td>1628389</td>\n      <td>2022</td>\n      <td>1610612748</td>\n      <td>24.0</td>\n      <td>18</td>\n      <td>592.0</td>\n      <td>126</td>\n      <td>243</td>\n      <td>...</td>\n      <td>0.759</td>\n      <td>49</td>\n      <td>134</td>\n      <td>183</td>\n      <td>57</td>\n      <td>20</td>\n      <td>6</td>\n      <td>53</td>\n      <td>59</td>\n      <td>337</td>\n    </tr>\n    <tr>\n      <th>16</th>\n      <td>0.0</td>\n      <td>3</td>\n      <td>1630583</td>\n      <td>2022</td>\n      <td>1610612763</td>\n      <td>21.0</td>\n      <td>22</td>\n      <td>240.0</td>\n      <td>32</td>\n      <td>85</td>\n      <td>...</td>\n      <td>0.579</td>\n      <td>22</td>\n      <td>37</td>\n      <td>59</td>\n      <td>13</td>\n      <td>2</td>\n      <td>6</td>\n      <td>8</td>\n      <td>23</td>\n      <td>79</td>\n    </tr>\n    <tr>\n      <th>33</th>\n      <td>0.0</td>\n      <td>3</td>\n      <td>200746</td>\n      <td>2022</td>\n      <td>1610612751</td>\n      <td>36.0</td>\n      <td>29</td>\n      <td>663.0</td>\n      <td>165</td>\n      <td>292</td>\n      <td>...</td>\n      <td>0.846</td>\n      <td>43</td>\n      <td>120</td>\n      <td>163</td>\n      <td>23</td>\n      <td>11</td>\n      <td>32</td>\n      <td>25</td>\n      <td>48</td>\n      <td>386</td>\n    </tr>\n    <tr>\n      <th>...</th>\n      <td>...</td>\n      <td>...</td>\n      <td>...</td>\n      <td>...</td>\n      <td>...</td>\n      <td>...</td>\n      <td>...</td>\n      <td>...</td>\n      <td>...</td>\n      <td>...</td>\n      <td>...</td>\n      <td>...</td>\n      <td>...</td>\n      <td>...</td>\n      <td>...</td>\n      <td>...</td>\n      <td>...</td>\n      <td>...</td>\n      <td>...</td>\n      <td>...</td>\n      <td>...</td>\n    </tr>\n    <tr>\n      <th>3332</th>\n      <td>0.0</td>\n      <td>13</td>\n      <td>201152</td>\n      <td>2022</td>\n      <td>1610612759</td>\n      <td>33.0</td>\n      <td>23</td>\n      <td>323.0</td>\n      <td>65</td>\n      <td>114</td>\n      <td>...</td>\n      <td>0.444</td>\n      <td>34</td>\n      <td>45</td>\n      <td>79</td>\n      <td>55</td>\n      <td>20</td>\n      <td>6</td>\n      <td>23</td>\n      <td>33</td>\n      <td>138</td>\n    </tr>\n    <tr>\n      <th>3336</th>\n      <td>0.0</td>\n      <td>12</td>\n      <td>1629027</td>\n      <td>2022</td>\n      <td>1610612737</td>\n      <td>23.0</td>\n      <td>36</td>\n      <td>1245.0</td>\n      <td>341</td>\n      <td>755</td>\n      <td>...</td>\n      <td>0.897</td>\n      <td>27</td>\n      <td>117</td>\n      <td>144</td>\n      <td>340</td>\n      <td>34</td>\n      <td>4</td>\n      <td>148</td>\n      <td>58</td>\n      <td>996</td>\n    </tr>\n    <tr>\n      <th>3337</th>\n      <td>0.0</td>\n      <td>2</td>\n      <td>1630209</td>\n      <td>2022</td>\n      <td>1610612748</td>\n      <td>23.0</td>\n      <td>32</td>\n      <td>487.0</td>\n      <td>79</td>\n      <td>165</td>\n      <td>...</td>\n      <td>0.643</td>\n      <td>58</td>\n      <td>149</td>\n      <td>207</td>\n      <td>36</td>\n      <td>15</td>\n      <td>17</td>\n      <td>31</td>\n      <td>56</td>\n      <td>186</td>\n    </tr>\n    <tr>\n      <th>3346</th>\n      <td>0.0</td>\n      <td>10</td>\n      <td>203469</td>\n      <td>2022</td>\n      <td>1610612757</td>\n      <td>29.0</td>\n      <td>27</td>\n      <td>355.0</td>\n      <td>51</td>\n      <td>90</td>\n      <td>...</td>\n      <td>0.776</td>\n      <td>50</td>\n      <td>75</td>\n      <td>125</td>\n      <td>22</td>\n      <td>8</td>\n      <td>6</td>\n      <td>19</td>\n      <td>56</td>\n      <td>140</td>\n    </tr>\n    <tr>\n      <th>3353</th>\n      <td>0.0</td>\n      <td>8</td>\n      <td>1627826</td>\n      <td>2022</td>\n      <td>1610612746</td>\n      <td>24.0</td>\n      <td>39</td>\n      <td>950.0</td>\n      <td>137</td>\n      <td>208</td>\n      <td>...</td>\n      <td>0.741</td>\n      <td>103</td>\n      <td>210</td>\n      <td>313</td>\n      <td>42</td>\n      <td>19</td>\n      <td>42</td>\n      <td>50</td>\n      <td>93</td>\n      <td>360</td>\n    </tr>\n  </tbody>\n</table>\n<p>615 rows × 26 columns</p>\n</div>"
     },
     "execution_count": 9,
     "metadata": {},
     "output_type": "execute_result"
    }
   ],
   "source": [
    "with open(\"player_stats_2022.pkl\", \"rb\") as f:\n",
    "    season_2021 = pickle.load(f)\n",
    "#tolgo seasons che non ci servono\n",
    "season_2021 = season_2021[season_2021[\"SEASON_ID\"] == 2022]\n",
    "\n",
    "\n",
    "#sposto la colonna MVP per prima per comodita\n",
    "cols = season_2021.columns.tolist()\n",
    "cols = cols[-2:] + cols[:-2]\n",
    "season_2021 = season_2021[cols]\n",
    "\n",
    "season_2021[\"GP\"]=season_2021[\"GP\"].astype('int')\n",
    "season_2021[\"FGM\"]=season_2021[\"FGM\"].astype('int')\n",
    "season_2021[\"FGA\"]=season_2021[\"FGA\"].astype('int')\n",
    "season_2021[\"FG3M\"]=season_2021[\"FG3M\"].astype('int')\n",
    "season_2021[\"FG3A\"]=season_2021[\"FG3A\"].astype('int')\n",
    "season_2021[\"FTM\"]=season_2021[\"FTM\"].astype('int')\n",
    "season_2021[\"FTA\"]=season_2021[\"FTA\"].astype('int')\n",
    "season_2021[\"OREB\"]=season_2021[\"OREB\"].astype('int')\n",
    "season_2021[\"DREB\"]=season_2021[\"DREB\"].astype('int')\n",
    "season_2021[\"REB\"]=season_2021[\"REB\"].astype('int')\n",
    "season_2021[\"AST\"]=season_2021[\"AST\"].astype('int')\n",
    "season_2021[\"STL\"]=season_2021[\"STL\"].astype('int')\n",
    "season_2021[\"BLK\"]=season_2021[\"BLK\"].astype('int')\n",
    "season_2021[\"TOV\"]=season_2021[\"TOV\"].astype('int')\n",
    "season_2021[\"PF\"]=season_2021[\"PF\"].astype('int')\n",
    "season_2021[\"PTS\"]=season_2021[\"PTS\"].astype('int')\n",
    "\n",
    "\n",
    "season_2021"
   ]
  },
  {
   "cell_type": "code",
   "execution_count": 10,
   "metadata": {
    "collapsed": false,
    "jupyter": {
     "outputs_hidden": false
    },
    "pycharm": {
     "name": "#%%\n"
    }
   },
   "outputs": [],
   "source": [
    "#standardizzazione i nostri dati per anno\n",
    "\n",
    "from sklearn.preprocessing import StandardScaler\n",
    "scaler=StandardScaler()\n",
    "\n",
    "num_cols = season_2021.columns\n",
    "num_cols = num_cols.drop([\"MVP\",'CONF_RANK', 'PLAYER_ID', 'SEASON_ID', 'TEAM_ID'])\n",
    "\n",
    "season_2021_norm=pd.DataFrame()\n",
    "season_2021_norm = pd.concat([season_2021_norm, season_2021],axis=0,ignore_index=True)\n"
   ]
  },
  {
   "cell_type": "code",
   "execution_count": 11,
   "metadata": {
    "collapsed": false,
    "jupyter": {
     "outputs_hidden": false
    },
    "pycharm": {
     "name": "#%%\n"
    }
   },
   "outputs": [
    {
     "data": {
      "text/plain": "     MVP CONF_RANK PLAYER_ID  SEASON_ID     TEAM_ID  PLAYER_AGE        GP  \\\n0    0.0         8   1630173       2022  1610612761   -0.913092  0.525111   \n1    0.0         3    203500       2022  1610612763    0.534206  1.323040   \n2    0.0         2   1628389       2022  1610612748   -0.430660 -0.272817   \n3    0.0         3   1630583       2022  1610612763   -1.154309  0.017339   \n4    0.0         3    200746       2022  1610612751    2.463938  0.525111   \n..   ...       ...       ...        ...         ...         ...       ...   \n610  0.0        13    201152       2022  1610612759    1.740288  0.089878   \n611  0.0        12   1629027       2022  1610612737   -0.671876  1.032884   \n612  0.0         2   1630209       2022  1610612748   -0.671876  0.742728   \n613  0.0        10    203469       2022  1610612757    0.775423  0.380033   \n614  0.0         8   1627826       2022  1610612746   -0.430660  1.250501   \n\n          MIN       FGM       FGA  ...    FT_PCT      OREB      DREB  \\\n0    0.506833  0.164766  0.297142  ... -0.211285  1.751410  1.119954   \n1    1.245403  0.281131  0.104720  ... -0.110612  5.869217  1.815670   \n2    0.240577  0.525499  0.345247  ...  0.405747  1.091007  0.874408   \n3   -0.574397 -0.568336 -0.499272  ... -0.178810  0.042132 -0.448816   \n4    0.404961  0.979324  0.607155  ...  0.688282  0.857924  0.683427   \n..        ...       ...       ...  ...       ...       ...       ...   \n610 -0.382230 -0.184330 -0.344265  ... -0.617227  0.508299 -0.339684   \n611  1.752446  3.027356  3.081916  ...  0.853906  0.236368  0.642503   \n612 -0.002526 -0.021419 -0.071667  ...  0.029032  1.440632  1.079030   \n613 -0.308141 -0.347242 -0.472546  ...  0.460955  1.129854  0.069560   \n614  1.069442  0.653501  0.158170  ...  0.347291  3.188758  1.911160   \n\n          REB       AST       STL       BLK       TOV        PF       PTS  \n0    1.337101 -0.133465  0.149625  0.534105  0.129847  0.748286  0.036833  \n1    2.987664  1.105668  1.093737  0.983762  1.196746  0.808051  0.252651  \n2    0.969141  0.133184  0.275507 -0.290267  0.841113  0.598872  0.498091  \n3   -0.334489 -0.556966 -0.857428 -0.290267 -0.613750 -0.476911 -0.593694  \n4    0.758878 -0.400113 -0.290960  1.658248 -0.064135  0.270160  0.705446  \n..        ...       ...       ...       ...       ...       ...       ...  \n610 -0.124226  0.101814  0.275507 -0.290267 -0.128795 -0.178082 -0.344022  \n611  0.559128  4.572102  1.156678 -0.440152  3.912489  0.568989  3.286799  \n612  1.221456 -0.196206 -0.039197  0.534105  0.129847  0.509223 -0.140899  \n613  0.359378 -0.415799 -0.479783 -0.290267 -0.258117  0.509223 -0.335559  \n614  2.335849 -0.102094  0.212566  2.407677  0.744122  1.614888  0.595421  \n\n[615 rows x 26 columns]",
      "text/html": "<div>\n<style scoped>\n    .dataframe tbody tr th:only-of-type {\n        vertical-align: middle;\n    }\n\n    .dataframe tbody tr th {\n        vertical-align: top;\n    }\n\n    .dataframe thead th {\n        text-align: right;\n    }\n</style>\n<table border=\"1\" class=\"dataframe\">\n  <thead>\n    <tr style=\"text-align: right;\">\n      <th></th>\n      <th>MVP</th>\n      <th>CONF_RANK</th>\n      <th>PLAYER_ID</th>\n      <th>SEASON_ID</th>\n      <th>TEAM_ID</th>\n      <th>PLAYER_AGE</th>\n      <th>GP</th>\n      <th>MIN</th>\n      <th>FGM</th>\n      <th>FGA</th>\n      <th>...</th>\n      <th>FT_PCT</th>\n      <th>OREB</th>\n      <th>DREB</th>\n      <th>REB</th>\n      <th>AST</th>\n      <th>STL</th>\n      <th>BLK</th>\n      <th>TOV</th>\n      <th>PF</th>\n      <th>PTS</th>\n    </tr>\n  </thead>\n  <tbody>\n    <tr>\n      <th>0</th>\n      <td>0.0</td>\n      <td>8</td>\n      <td>1630173</td>\n      <td>2022</td>\n      <td>1610612761</td>\n      <td>-0.913092</td>\n      <td>0.525111</td>\n      <td>0.506833</td>\n      <td>0.164766</td>\n      <td>0.297142</td>\n      <td>...</td>\n      <td>-0.211285</td>\n      <td>1.751410</td>\n      <td>1.119954</td>\n      <td>1.337101</td>\n      <td>-0.133465</td>\n      <td>0.149625</td>\n      <td>0.534105</td>\n      <td>0.129847</td>\n      <td>0.748286</td>\n      <td>0.036833</td>\n    </tr>\n    <tr>\n      <th>1</th>\n      <td>0.0</td>\n      <td>3</td>\n      <td>203500</td>\n      <td>2022</td>\n      <td>1610612763</td>\n      <td>0.534206</td>\n      <td>1.323040</td>\n      <td>1.245403</td>\n      <td>0.281131</td>\n      <td>0.104720</td>\n      <td>...</td>\n      <td>-0.110612</td>\n      <td>5.869217</td>\n      <td>1.815670</td>\n      <td>2.987664</td>\n      <td>1.105668</td>\n      <td>1.093737</td>\n      <td>0.983762</td>\n      <td>1.196746</td>\n      <td>0.808051</td>\n      <td>0.252651</td>\n    </tr>\n    <tr>\n      <th>2</th>\n      <td>0.0</td>\n      <td>2</td>\n      <td>1628389</td>\n      <td>2022</td>\n      <td>1610612748</td>\n      <td>-0.430660</td>\n      <td>-0.272817</td>\n      <td>0.240577</td>\n      <td>0.525499</td>\n      <td>0.345247</td>\n      <td>...</td>\n      <td>0.405747</td>\n      <td>1.091007</td>\n      <td>0.874408</td>\n      <td>0.969141</td>\n      <td>0.133184</td>\n      <td>0.275507</td>\n      <td>-0.290267</td>\n      <td>0.841113</td>\n      <td>0.598872</td>\n      <td>0.498091</td>\n    </tr>\n    <tr>\n      <th>3</th>\n      <td>0.0</td>\n      <td>3</td>\n      <td>1630583</td>\n      <td>2022</td>\n      <td>1610612763</td>\n      <td>-1.154309</td>\n      <td>0.017339</td>\n      <td>-0.574397</td>\n      <td>-0.568336</td>\n      <td>-0.499272</td>\n      <td>...</td>\n      <td>-0.178810</td>\n      <td>0.042132</td>\n      <td>-0.448816</td>\n      <td>-0.334489</td>\n      <td>-0.556966</td>\n      <td>-0.857428</td>\n      <td>-0.290267</td>\n      <td>-0.613750</td>\n      <td>-0.476911</td>\n      <td>-0.593694</td>\n    </tr>\n    <tr>\n      <th>4</th>\n      <td>0.0</td>\n      <td>3</td>\n      <td>200746</td>\n      <td>2022</td>\n      <td>1610612751</td>\n      <td>2.463938</td>\n      <td>0.525111</td>\n      <td>0.404961</td>\n      <td>0.979324</td>\n      <td>0.607155</td>\n      <td>...</td>\n      <td>0.688282</td>\n      <td>0.857924</td>\n      <td>0.683427</td>\n      <td>0.758878</td>\n      <td>-0.400113</td>\n      <td>-0.290960</td>\n      <td>1.658248</td>\n      <td>-0.064135</td>\n      <td>0.270160</td>\n      <td>0.705446</td>\n    </tr>\n    <tr>\n      <th>...</th>\n      <td>...</td>\n      <td>...</td>\n      <td>...</td>\n      <td>...</td>\n      <td>...</td>\n      <td>...</td>\n      <td>...</td>\n      <td>...</td>\n      <td>...</td>\n      <td>...</td>\n      <td>...</td>\n      <td>...</td>\n      <td>...</td>\n      <td>...</td>\n      <td>...</td>\n      <td>...</td>\n      <td>...</td>\n      <td>...</td>\n      <td>...</td>\n      <td>...</td>\n      <td>...</td>\n    </tr>\n    <tr>\n      <th>610</th>\n      <td>0.0</td>\n      <td>13</td>\n      <td>201152</td>\n      <td>2022</td>\n      <td>1610612759</td>\n      <td>1.740288</td>\n      <td>0.089878</td>\n      <td>-0.382230</td>\n      <td>-0.184330</td>\n      <td>-0.344265</td>\n      <td>...</td>\n      <td>-0.617227</td>\n      <td>0.508299</td>\n      <td>-0.339684</td>\n      <td>-0.124226</td>\n      <td>0.101814</td>\n      <td>0.275507</td>\n      <td>-0.290267</td>\n      <td>-0.128795</td>\n      <td>-0.178082</td>\n      <td>-0.344022</td>\n    </tr>\n    <tr>\n      <th>611</th>\n      <td>0.0</td>\n      <td>12</td>\n      <td>1629027</td>\n      <td>2022</td>\n      <td>1610612737</td>\n      <td>-0.671876</td>\n      <td>1.032884</td>\n      <td>1.752446</td>\n      <td>3.027356</td>\n      <td>3.081916</td>\n      <td>...</td>\n      <td>0.853906</td>\n      <td>0.236368</td>\n      <td>0.642503</td>\n      <td>0.559128</td>\n      <td>4.572102</td>\n      <td>1.156678</td>\n      <td>-0.440152</td>\n      <td>3.912489</td>\n      <td>0.568989</td>\n      <td>3.286799</td>\n    </tr>\n    <tr>\n      <th>612</th>\n      <td>0.0</td>\n      <td>2</td>\n      <td>1630209</td>\n      <td>2022</td>\n      <td>1610612748</td>\n      <td>-0.671876</td>\n      <td>0.742728</td>\n      <td>-0.002526</td>\n      <td>-0.021419</td>\n      <td>-0.071667</td>\n      <td>...</td>\n      <td>0.029032</td>\n      <td>1.440632</td>\n      <td>1.079030</td>\n      <td>1.221456</td>\n      <td>-0.196206</td>\n      <td>-0.039197</td>\n      <td>0.534105</td>\n      <td>0.129847</td>\n      <td>0.509223</td>\n      <td>-0.140899</td>\n    </tr>\n    <tr>\n      <th>613</th>\n      <td>0.0</td>\n      <td>10</td>\n      <td>203469</td>\n      <td>2022</td>\n      <td>1610612757</td>\n      <td>0.775423</td>\n      <td>0.380033</td>\n      <td>-0.308141</td>\n      <td>-0.347242</td>\n      <td>-0.472546</td>\n      <td>...</td>\n      <td>0.460955</td>\n      <td>1.129854</td>\n      <td>0.069560</td>\n      <td>0.359378</td>\n      <td>-0.415799</td>\n      <td>-0.479783</td>\n      <td>-0.290267</td>\n      <td>-0.258117</td>\n      <td>0.509223</td>\n      <td>-0.335559</td>\n    </tr>\n    <tr>\n      <th>614</th>\n      <td>0.0</td>\n      <td>8</td>\n      <td>1627826</td>\n      <td>2022</td>\n      <td>1610612746</td>\n      <td>-0.430660</td>\n      <td>1.250501</td>\n      <td>1.069442</td>\n      <td>0.653501</td>\n      <td>0.158170</td>\n      <td>...</td>\n      <td>0.347291</td>\n      <td>3.188758</td>\n      <td>1.911160</td>\n      <td>2.335849</td>\n      <td>-0.102094</td>\n      <td>0.212566</td>\n      <td>2.407677</td>\n      <td>0.744122</td>\n      <td>1.614888</td>\n      <td>0.595421</td>\n    </tr>\n  </tbody>\n</table>\n<p>615 rows × 26 columns</p>\n</div>"
     },
     "execution_count": 11,
     "metadata": {},
     "output_type": "execute_result"
    }
   ],
   "source": [
    "\n",
    "for col in num_cols.tolist():\n",
    "    season_2021_norm[[col]] = scaler.fit_transform(season_2021[[col]].to_numpy().reshape(-1,1))\n",
    "\n",
    "season_2021_norm"
   ]
  },
  {
   "cell_type": "markdown",
   "metadata": {
    "pycharm": {
     "name": "#%% md\n"
    }
   },
   "source": [
    "## Predict 2021"
   ]
  },
  {
   "cell_type": "code",
   "execution_count": 22,
   "metadata": {
    "collapsed": false,
    "jupyter": {
     "outputs_hidden": false
    },
    "pycharm": {
     "name": "#%%\n"
    }
   },
   "outputs": [
    {
     "name": "stdout",
     "output_type": "stream",
     "text": [
      "The balanced accuracy score is  0.9967479674796748\n"
     ]
    },
    {
     "name": "stderr",
     "output_type": "stream",
     "text": [
      "/home/thomas/anaconda3/envs/ml/lib/python3.10/site-packages/sklearn/metrics/_classification.py:1987: UserWarning: y_pred contains classes not in y_true\n",
      "  warnings.warn(\"y_pred contains classes not in y_true\")\n"
     ]
    }
   ],
   "source": [
    "from sklearn.metrics import accuracy_score, confusion_matrix, classification_report, balanced_accuracy_score\n",
    "test_2021_labels = season_2021_norm[[\"MVP\"]]\n",
    "\n",
    "name_model = \"log_reg\"\n",
    "\n",
    "# with open(\"svm_40.pkl\", \"rb\") as f:\n",
    "with open(name_model+\".pkl\", \"rb\") as f:\n",
    "# with open(\"svm.pkl\", \"rb\") as f:\n",
    "# with open(\"rf.pkl\", \"rb\") as f:\n",
    "# with open(\"log_reg.pkl\", \"rb\") as f:\n",
    "\n",
    "    log_reg = pickle.load(f)\n",
    "\n",
    "\n",
    "    ###                             ###\n",
    "\n",
    "# train_2021 = season_2021_norm[[\"CONF_RANK\", \"GP\", \"MIN\", \"FGM\", \"FG_PCT\", \"FG3M\", \"FG3_PCT\", \"FTM\", \"FT_PCT\", \"OREB\", \"DREB\", \"AST\", \"STL\", \"BLK\", \"TOV\", \"PF\"]]\n",
    "train_2021 = season_2021_norm[[\"CONF_RANK\", \"GP\", \"MIN\", \"FG_PCT\", \"FG3M\", \"FG3_PCT\", \"FTM\", \"FT_PCT\", \"OREB\", \"DREB\", \"AST\", \"STL\", \"BLK\", \"PF\"]]\n",
    "# train_2021 = season_2021_norm.drop([\"MVP\", 'PLAYER_ID', 'SEASON_ID', 'TEAM_ID', \"PLAYER_AGE\"], axis=1)\n",
    "\n",
    "\n",
    "predicted_labels = log_reg.predict(train_2021)\n",
    "print(f\"The balanced accuracy score is  {balanced_accuracy_score(test_2021_labels,predicted_labels)}\")"
   ]
  },
  {
   "cell_type": "code",
   "execution_count": 23,
   "metadata": {
    "collapsed": false,
    "jupyter": {
     "outputs_hidden": false
    },
    "pycharm": {
     "name": "#%%\n"
    }
   },
   "outputs": [],
   "source": [
    "#Unisco i dataset\n",
    "predict_2021 = pd.DataFrame(predicted_labels, columns=[\"MVP_Predict\"])\n",
    "predict_2021[\"PLAYER_ID\"] = list(season_2021[\"PLAYER_ID\"])\n",
    "\n",
    "winners_id = predict_2021.loc[predict_2021[\"MVP_Predict\"] == 1, \"PLAYER_ID\"]"
   ]
  },
  {
   "cell_type": "code",
   "execution_count": 24,
   "metadata": {
    "collapsed": false,
    "jupyter": {
     "outputs_hidden": false
    },
    "pycharm": {
     "name": "#%%\n"
    }
   },
   "outputs": [
    {
     "name": "stdout",
     "output_type": "stream",
     "text": [
      "{'id': 201935, 'full_name': 'James Harden', 'first_name': 'James', 'last_name': 'Harden', 'is_active': True}\n",
      "{'id': 101108, 'full_name': 'Chris Paul', 'first_name': 'Chris', 'last_name': 'Paul', 'is_active': True}\n"
     ]
    }
   ],
   "source": [
    "from nba_api.stats.static import players\n",
    "\n",
    "for id in list(winners_id):\n",
    "    print(players.find_player_by_id(id))"
   ]
  },
  {
   "cell_type": "markdown",
   "metadata": {
    "pycharm": {
     "name": "#%% md\n"
    }
   },
   "source": [
    "### PROBABILITIES 2021"
   ]
  },
  {
   "cell_type": "code",
   "execution_count": 25,
   "metadata": {
    "collapsed": false,
    "jupyter": {
     "outputs_hidden": false
    },
    "pycharm": {
     "name": "#%%\n"
    }
   },
   "outputs": [
    {
     "data": {
      "text/plain": "        id              full_name first_name      last_name is_active  \\\n0   201935           James Harden      James         Harden      True   \n1   101108             Chris Paul      Chris           Paul      True   \n2   201142           Kevin Durant      Kevin         Durant      True   \n3   201942          DeMar DeRozan      DeMar        DeRozan      True   \n4   203897            Zach LaVine       Zach         LaVine      True   \n5   201939          Stephen Curry    Stephen          Curry      True   \n6   203507  Giannis Antetokounmpo    Giannis  Antetokounmpo      True   \n7  1629630              Ja Morant         Ja         Morant      True   \n8   202710           Jimmy Butler      Jimmy         Butler      True   \n9  1626164           Devin Booker      Devin         Booker      True   \n\n   mvp_prob  \n0  0.942471  \n1  0.875409  \n2  0.211062  \n3  0.153535  \n4  0.143162  \n5  0.142067  \n6  0.030409  \n7  0.016026  \n8  0.008201  \n9  0.002748  ",
      "text/html": "<div>\n<style scoped>\n    .dataframe tbody tr th:only-of-type {\n        vertical-align: middle;\n    }\n\n    .dataframe tbody tr th {\n        vertical-align: top;\n    }\n\n    .dataframe thead th {\n        text-align: right;\n    }\n</style>\n<table border=\"1\" class=\"dataframe\">\n  <thead>\n    <tr style=\"text-align: right;\">\n      <th></th>\n      <th>id</th>\n      <th>full_name</th>\n      <th>first_name</th>\n      <th>last_name</th>\n      <th>is_active</th>\n      <th>mvp_prob</th>\n    </tr>\n  </thead>\n  <tbody>\n    <tr>\n      <th>0</th>\n      <td>201935</td>\n      <td>James Harden</td>\n      <td>James</td>\n      <td>Harden</td>\n      <td>True</td>\n      <td>0.942471</td>\n    </tr>\n    <tr>\n      <th>1</th>\n      <td>101108</td>\n      <td>Chris Paul</td>\n      <td>Chris</td>\n      <td>Paul</td>\n      <td>True</td>\n      <td>0.875409</td>\n    </tr>\n    <tr>\n      <th>2</th>\n      <td>201142</td>\n      <td>Kevin Durant</td>\n      <td>Kevin</td>\n      <td>Durant</td>\n      <td>True</td>\n      <td>0.211062</td>\n    </tr>\n    <tr>\n      <th>3</th>\n      <td>201942</td>\n      <td>DeMar DeRozan</td>\n      <td>DeMar</td>\n      <td>DeRozan</td>\n      <td>True</td>\n      <td>0.153535</td>\n    </tr>\n    <tr>\n      <th>4</th>\n      <td>203897</td>\n      <td>Zach LaVine</td>\n      <td>Zach</td>\n      <td>LaVine</td>\n      <td>True</td>\n      <td>0.143162</td>\n    </tr>\n    <tr>\n      <th>5</th>\n      <td>201939</td>\n      <td>Stephen Curry</td>\n      <td>Stephen</td>\n      <td>Curry</td>\n      <td>True</td>\n      <td>0.142067</td>\n    </tr>\n    <tr>\n      <th>6</th>\n      <td>203507</td>\n      <td>Giannis Antetokounmpo</td>\n      <td>Giannis</td>\n      <td>Antetokounmpo</td>\n      <td>True</td>\n      <td>0.030409</td>\n    </tr>\n    <tr>\n      <th>7</th>\n      <td>1629630</td>\n      <td>Ja Morant</td>\n      <td>Ja</td>\n      <td>Morant</td>\n      <td>True</td>\n      <td>0.016026</td>\n    </tr>\n    <tr>\n      <th>8</th>\n      <td>202710</td>\n      <td>Jimmy Butler</td>\n      <td>Jimmy</td>\n      <td>Butler</td>\n      <td>True</td>\n      <td>0.008201</td>\n    </tr>\n    <tr>\n      <th>9</th>\n      <td>1626164</td>\n      <td>Devin Booker</td>\n      <td>Devin</td>\n      <td>Booker</td>\n      <td>True</td>\n      <td>0.002748</td>\n    </tr>\n  </tbody>\n</table>\n</div>"
     },
     "execution_count": 25,
     "metadata": {},
     "output_type": "execute_result"
    }
   ],
   "source": [
    "\n",
    "# test_2021_labels = season_2021_norm[[\"MVP\"]]\n",
    "#\n",
    "# with open(\"log_reg.pkl\", \"rb\") as f:\n",
    "#     log_reg = pickle.load(f)\n",
    "\n",
    "#train_2021 = season_2021_norm[[\"GP\", \"MIN\", \"FGM\", \"FG_PCT\", \"FG3M\", \"FG3_PCT\", \"FTM\", \"FT_PCT\", \"OREB\", \"DREB\", \"AST\", \"STL\", \"BLK\", \"TOV\", \"PF\", 'CONF_RANK']]\n",
    "predicted_labels = pd.DataFrame(log_reg.predict_proba(train_2021))\n",
    "\n",
    "predicted_labels.rename(columns={0:'NOT',1:'MVP'},inplace=True)\n",
    "\n",
    "predicted_labels = pd.DataFrame(predicted_labels, columns=[\"MVP\"])\n",
    "predicted_labels[\"PLAYER_ID\"] = list(season_2021[\"PLAYER_ID\"])\n",
    "\n",
    "#Sort\n",
    "mvp_candidates = predicted_labels.sort_values(by='MVP',ascending=False)\n",
    "\n",
    "#Take only better\n",
    "mvp_candidates = mvp_candidates.head(10)\n",
    "\n",
    "mvp_candidates_names = pd.DataFrame()\n",
    "# for row, id in mvp_candidates[\"PLAYER_ID\"].iterrows():\n",
    "#     name_player = players.find_player_by_id(id[\"PLAYER_ID\"])\n",
    "#     if name_player is not None:\n",
    "#         name = pd.DataFrame.from_dict(name_player, orient=\"index\")\n",
    "#\n",
    "#         name = name.transpose()\n",
    "#         name[\"mvp_prob\"] = list(id[\"MVP\"])\n",
    "#         mvp_candidates_names = pd.concat([mvp_candidates_names,name], axis=0, ignore_index=True)\n",
    "\n",
    "for id in list(mvp_candidates[\"PLAYER_ID\"]):\n",
    "    name_player = players.find_player_by_id(id)\n",
    "    name = pd.DataFrame.from_dict(name_player, orient=\"index\")\n",
    "\n",
    "    name = name.transpose()\n",
    "    mvp_candidates_names = pd.concat([mvp_candidates_names,name], axis=0, ignore_index=True)\n",
    "\n",
    "mvp_candidates_names[\"mvp_prob\"] = list(mvp_candidates[\"MVP\"])\n",
    "mvp_candidates_names"
   ]
  },
  {
   "cell_type": "code",
   "execution_count": 26,
   "metadata": {
    "collapsed": false,
    "jupyter": {
     "outputs_hidden": false
    },
    "pycharm": {
     "name": "#%%\n"
    }
   },
   "outputs": [
    {
     "data": {
      "text/plain": "(array([0, 1, 2, 3, 4, 5, 6, 7, 8, 9]),\n [Text(0, 0, 'James Harden'),\n  Text(1, 0, 'Chris Paul'),\n  Text(2, 0, 'Kevin Durant'),\n  Text(3, 0, 'DeMar DeRozan'),\n  Text(4, 0, 'Zach LaVine'),\n  Text(5, 0, 'Stephen Curry'),\n  Text(6, 0, 'Giannis Antetokounmpo'),\n  Text(7, 0, 'Ja Morant'),\n  Text(8, 0, 'Jimmy Butler'),\n  Text(9, 0, 'Devin Booker')])"
     },
     "execution_count": 26,
     "metadata": {},
     "output_type": "execute_result"
    },
    {
     "data": {
      "text/plain": "<Figure size 432x288 with 1 Axes>",
      "image/png": "[encoded data removed]"
     },
     "metadata": {
      "needs_background": "light"
     },
     "output_type": "display_data"
    }
   ],
   "source": [
    "import seaborn as sns\n",
    "import matplotlib.pyplot as plt\n",
    "#mvp_candidates_names.plot.bar(x='full_name',y='mvp_prob' )\n",
    "sns.barplot(x='full_name',y='mvp_prob',data=mvp_candidates_names.head(10))\n",
    "plt.xticks(rotation=90)\n",
    "#plt.savefig('plot/'+name_model+'_test30.png', bbox_inches='tight')"
   ]
  },
  {
   "cell_type": "code",
   "execution_count": 82,
   "outputs": [
    {
     "data": {
      "text/plain": "0.0"
     },
     "execution_count": 82,
     "metadata": {},
     "output_type": "execute_result"
    }
   ],
   "source": [
    "real_winners_2021 = [\"NIKOLA JOKIC\", \"JOEL EMBIID\", \"STEPHEN CURRY\", \"GIANNIS ANTETOKOUNMPO\", \"CHRIS PAUL\", \"LUKA DONCIC\", \"DAMIAN LILLARD\", \"JULIUS RANDLE\", \"DERRICK ROSE\", \"RUDY GOBERT\"]\n",
    "\n",
    "real_winners_2021 = [str.title() for str in real_winners_2021] #Title for capitalize name and surname\n",
    "\n",
    "versus = pd.DataFrame()\n",
    "versus[\"Predicted_rank\"] = list(mvp_candidates_names[\"full_name\"].head(10))\n",
    "versus[\"Real_rank\"] = real_winners_2021\n",
    "weight = list(reversed(range(1,11)))\n",
    "i = 0\n",
    "score = 0\n",
    "\n",
    "# for row, names in versus.iterrows():\n",
    "#     if names[\"Predicted_rank\"] == names[\"Real_rank\"]:\n",
    "#         score = score + weight[i]\n",
    "#     else:\n",
    "#         j = i + 1\n",
    "#         real_name = names[\"Real_rank\"]\n",
    "#         while names[\"Predicted_rank\"] != real_name or j < 9:\n",
    "#             real_name = versus.at[j,\"Real_rank\"]\n",
    "#             j = j + 1\n",
    "#\n",
    "#         if j > 10:\n",
    "#             score = score + weight[j]\n",
    "#\n",
    "#     i = i+1\n",
    "\n",
    "for row, names in versus.iterrows():\n",
    "    if names[\"Predicted_rank\"] == names[\"Real_rank\"]:\n",
    "        score = score + weight[0]\n",
    "\n",
    "score = score / sum(weight)\n",
    "score\n",
    "\n"
   ],
   "metadata": {
    "collapsed": false,
    "pycharm": {
     "name": "#%%\n"
    }
   }
  }
 ],
 "metadata": {
  "kernelspec": {
   "display_name": "Python 3 (ipykernel)",
   "language": "python",
   "name": "python3"
  },
  "language_info": {
   "codemirror_mode": {
    "name": "ipython",
    "version": 3
   },
   "file_extension": ".py",
   "mimetype": "text/x-python",
   "name": "python",
   "nbconvert_exporter": "python",
   "pygments_lexer": "ipython3",
   "version": "3.9.7"
  }
 },
 "nbformat": 4,
 "nbformat_minor": 4
}