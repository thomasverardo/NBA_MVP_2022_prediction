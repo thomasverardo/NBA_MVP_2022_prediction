{
 "cells": [
  {
   "cell_type": "markdown",
   "metadata": {
    "pycharm": {
     "name": "#%% md\n"
    }
   },
   "source": [
    "# Predict MVP 2022 TEST\n"
   ]
  },
  {
   "cell_type": "code",
   "execution_count": 1,
   "metadata": {
    "collapsed": false,
    "jupyter": {
     "outputs_hidden": false
    },
    "pycharm": {
     "name": "#%%\n"
    }
   },
   "outputs": [],
   "source": [
    "import pickle\n",
    "import pandas as pd\n",
    "import numpy as np\n",
    "from nba_api.stats.endpoints import commonallplayers #per avere l'elenco dei giocatori (id)\n",
    "from nba_api.stats.endpoints import playercareerstats #per avere i dati\n",
    "from nba_api.stats.endpoints import playerawards #per sapere chi ha vinto MVP\n",
    "from nba_api.stats.endpoints import teamyearbyyearstats #classifiche finali delle squadre\n",
    "import pandas as pd\n",
    "from tqdm import tqdm\n",
    "import pickle"
   ]
  },
  {
   "cell_type": "markdown",
   "source": [
    "## Scarico i giocatori 2022"
   ],
   "metadata": {
    "collapsed": false,
    "pycharm": {
     "name": "#%% md\n"
    }
   }
  },
  {
   "cell_type": "code",
   "execution_count": 2,
   "outputs": [
    {
     "data": {
      "text/plain": "      PERSON_ID DISPLAY_LAST_COMMA_FIRST DISPLAY_FIRST_LAST  ROSTERSTATUS  \\\n10      1630173        Achiuwa, Precious   Precious Achiuwa             1   \n22       203500            Adams, Steven       Steven Adams             1   \n24      1628389             Adebayo, Bam        Bam Adebayo             1   \n40      1630583            Aldama, Santi       Santi Aldama             1   \n43       200746       Aldridge, LaMarcus  LaMarcus Aldridge             1   \n...         ...                      ...                ...           ...   \n4701     201152          Young, Thaddeus     Thaddeus Young             1   \n4703    1629027              Young, Trae         Trae Young             1   \n4704    1630209          Yurtseven, Omer     Omer Yurtseven             1   \n4707     203469             Zeller, Cody        Cody Zeller             1   \n4723    1627826             Zubac, Ivica        Ivica Zubac             1   \n\n     FROM_YEAR  TO_YEAR          PLAYERCODE        PLAYER_SLUG     TEAM_ID  \\\n10        2020     2021    precious_achiuwa   precious_achiuwa  1610612761   \n22        2013     2021        steven_adams       steven_adams  1610612763   \n24        2017     2021         bam_adebayo        bam_adebayo  1610612748   \n40        2021     2021        santi_aldama       santi_aldama  1610612763   \n43        2006     2021   lamarcus_aldridge  lamarcus_aldridge  1610612751   \n...        ...      ...                 ...                ...         ...   \n4701      2007     2021      thaddeus_young     thaddeus_young  1610612759   \n4703      2018     2021          trae_young         trae_young  1610612737   \n4704      2020     2021  tmp_omer_yurtseven     omer_yurtseven  1610612748   \n4707      2013     2021         cody_zeller        cody_zeller  1610612757   \n4723      2016     2021         ivica_zubac        ivica_zubac  1610612746   \n\n        TEAM_CITY      TEAM_NAME TEAM_ABBREVIATION  TEAM_CODE  TEAM_SLUG  \\\n10        Toronto        Raptors               TOR    raptors    raptors   \n22        Memphis      Grizzlies               MEM  grizzlies  grizzlies   \n24          Miami           Heat               MIA       heat       heat   \n40        Memphis      Grizzlies               MEM  grizzlies  grizzlies   \n43       Brooklyn           Nets               BKN       nets       nets   \n...           ...            ...               ...        ...        ...   \n4701  San Antonio          Spurs               SAS      spurs      spurs   \n4703      Atlanta          Hawks               ATL      hawks      hawks   \n4704        Miami           Heat               MIA       heat       heat   \n4707     Portland  Trail Blazers               POR    blazers    blazers   \n4723           LA       Clippers               LAC   clippers   clippers   \n\n     GAMES_PLAYED_FLAG OTHERLEAGUE_EXPERIENCE_CH  \n10                   Y                        00  \n22                   Y                        00  \n24                   Y                        00  \n40                   Y                        00  \n43                   Y                        00  \n...                ...                       ...  \n4701                 Y                        00  \n4703                 Y                        00  \n4704                 Y                        01  \n4707                 Y                        00  \n4723                 Y                        01  \n\n[608 rows x 16 columns]",
      "text/html": "<div>\n<style scoped>\n    .dataframe tbody tr th:only-of-type {\n        vertical-align: middle;\n    }\n\n    .dataframe tbody tr th {\n        vertical-align: top;\n    }\n\n    .dataframe thead th {\n        text-align: right;\n    }\n</style>\n<table border=\"1\" class=\"dataframe\">\n  <thead>\n    <tr style=\"text-align: right;\">\n      <th></th>\n      <th>PERSON_ID</th>\n      <th>DISPLAY_LAST_COMMA_FIRST</th>\n      <th>DISPLAY_FIRST_LAST</th>\n      <th>ROSTERSTATUS</th>\n      <th>FROM_YEAR</th>\n      <th>TO_YEAR</th>\n      <th>PLAYERCODE</th>\n      <th>PLAYER_SLUG</th>\n      <th>TEAM_ID</th>\n      <th>TEAM_CITY</th>\n      <th>TEAM_NAME</th>\n      <th>TEAM_ABBREVIATION</th>\n      <th>TEAM_CODE</th>\n      <th>TEAM_SLUG</th>\n      <th>GAMES_PLAYED_FLAG</th>\n      <th>OTHERLEAGUE_EXPERIENCE_CH</th>\n    </tr>\n  </thead>\n  <tbody>\n    <tr>\n      <th>10</th>\n      <td>1630173</td>\n      <td>Achiuwa, Precious</td>\n      <td>Precious Achiuwa</td>\n      <td>1</td>\n      <td>2020</td>\n      <td>2021</td>\n      <td>precious_achiuwa</td>\n      <td>precious_achiuwa</td>\n      <td>1610612761</td>\n      <td>Toronto</td>\n      <td>Raptors</td>\n      <td>TOR</td>\n      <td>raptors</td>\n      <td>raptors</td>\n      <td>Y</td>\n      <td>00</td>\n    </tr>\n    <tr>\n      <th>22</th>\n      <td>203500</td>\n      <td>Adams, Steven</td>\n      <td>Steven Adams</td>\n      <td>1</td>\n      <td>2013</td>\n      <td>2021</td>\n      <td>steven_adams</td>\n      <td>steven_adams</td>\n      <td>1610612763</td>\n      <td>Memphis</td>\n      <td>Grizzlies</td>\n      <td>MEM</td>\n      <td>grizzlies</td>\n      <td>grizzlies</td>\n      <td>Y</td>\n      <td>00</td>\n    </tr>\n    <tr>\n      <th>24</th>\n      <td>1628389</td>\n      <td>Adebayo, Bam</td>\n      <td>Bam Adebayo</td>\n      <td>1</td>\n      <td>2017</td>\n      <td>2021</td>\n      <td>bam_adebayo</td>\n      <td>bam_adebayo</td>\n      <td>1610612748</td>\n      <td>Miami</td>\n      <td>Heat</td>\n      <td>MIA</td>\n      <td>heat</td>\n      <td>heat</td>\n      <td>Y</td>\n      <td>00</td>\n    </tr>\n    <tr>\n      <th>40</th>\n      <td>1630583</td>\n      <td>Aldama, Santi</td>\n      <td>Santi Aldama</td>\n      <td>1</td>\n      <td>2021</td>\n      <td>2021</td>\n      <td>santi_aldama</td>\n      <td>santi_aldama</td>\n      <td>1610612763</td>\n      <td>Memphis</td>\n      <td>Grizzlies</td>\n      <td>MEM</td>\n      <td>grizzlies</td>\n      <td>grizzlies</td>\n      <td>Y</td>\n      <td>00</td>\n    </tr>\n    <tr>\n      <th>43</th>\n      <td>200746</td>\n      <td>Aldridge, LaMarcus</td>\n      <td>LaMarcus Aldridge</td>\n      <td>1</td>\n      <td>2006</td>\n      <td>2021</td>\n      <td>lamarcus_aldridge</td>\n      <td>lamarcus_aldridge</td>\n      <td>1610612751</td>\n      <td>Brooklyn</td>\n      <td>Nets</td>\n      <td>BKN</td>\n      <td>nets</td>\n      <td>nets</td>\n      <td>Y</td>\n      <td>00</td>\n    </tr>\n    <tr>\n      <th>...</th>\n      <td>...</td>\n      <td>...</td>\n      <td>...</td>\n      <td>...</td>\n      <td>...</td>\n      <td>...</td>\n      <td>...</td>\n      <td>...</td>\n      <td>...</td>\n      <td>...</td>\n      <td>...</td>\n      <td>...</td>\n      <td>...</td>\n      <td>...</td>\n      <td>...</td>\n      <td>...</td>\n    </tr>\n    <tr>\n      <th>4701</th>\n      <td>201152</td>\n      <td>Young, Thaddeus</td>\n      <td>Thaddeus Young</td>\n      <td>1</td>\n      <td>2007</td>\n      <td>2021</td>\n      <td>thaddeus_young</td>\n      <td>thaddeus_young</td>\n      <td>1610612759</td>\n      <td>San Antonio</td>\n      <td>Spurs</td>\n      <td>SAS</td>\n      <td>spurs</td>\n      <td>spurs</td>\n      <td>Y</td>\n      <td>00</td>\n    </tr>\n    <tr>\n      <th>4703</th>\n      <td>1629027</td>\n      <td>Young, Trae</td>\n      <td>Trae Young</td>\n      <td>1</td>\n      <td>2018</td>\n      <td>2021</td>\n      <td>trae_young</td>\n      <td>trae_young</td>\n      <td>1610612737</td>\n      <td>Atlanta</td>\n      <td>Hawks</td>\n      <td>ATL</td>\n      <td>hawks</td>\n      <td>hawks</td>\n      <td>Y</td>\n      <td>00</td>\n    </tr>\n    <tr>\n      <th>4704</th>\n      <td>1630209</td>\n      <td>Yurtseven, Omer</td>\n      <td>Omer Yurtseven</td>\n      <td>1</td>\n      <td>2020</td>\n      <td>2021</td>\n      <td>tmp_omer_yurtseven</td>\n      <td>omer_yurtseven</td>\n      <td>1610612748</td>\n      <td>Miami</td>\n      <td>Heat</td>\n      <td>MIA</td>\n      <td>heat</td>\n      <td>heat</td>\n      <td>Y</td>\n      <td>01</td>\n    </tr>\n    <tr>\n      <th>4707</th>\n      <td>203469</td>\n      <td>Zeller, Cody</td>\n      <td>Cody Zeller</td>\n      <td>1</td>\n      <td>2013</td>\n      <td>2021</td>\n      <td>cody_zeller</td>\n      <td>cody_zeller</td>\n      <td>1610612757</td>\n      <td>Portland</td>\n      <td>Trail Blazers</td>\n      <td>POR</td>\n      <td>blazers</td>\n      <td>blazers</td>\n      <td>Y</td>\n      <td>00</td>\n    </tr>\n    <tr>\n      <th>4723</th>\n      <td>1627826</td>\n      <td>Zubac, Ivica</td>\n      <td>Ivica Zubac</td>\n      <td>1</td>\n      <td>2016</td>\n      <td>2021</td>\n      <td>ivica_zubac</td>\n      <td>ivica_zubac</td>\n      <td>1610612746</td>\n      <td>LA</td>\n      <td>Clippers</td>\n      <td>LAC</td>\n      <td>clippers</td>\n      <td>clippers</td>\n      <td>Y</td>\n      <td>01</td>\n    </tr>\n  </tbody>\n</table>\n<p>608 rows × 16 columns</p>\n</div>"
     },
     "execution_count": 2,
     "metadata": {},
     "output_type": "execute_result"
    }
   ],
   "source": [
    "from_year = 2021\n",
    "\n",
    "total_players = commonallplayers.CommonAllPlayers().get_data_frames()[0]\n",
    "total_players['TO_YEAR'] = total_players['TO_YEAR'].astype('int')\n",
    "total_players = total_players[total_players['TO_YEAR'] == from_year]\n",
    "\n",
    "#Ho controllato che in total_players, il PERSON_ID sia univoco\n",
    "total_players"
   ],
   "metadata": {
    "collapsed": false,
    "pycharm": {
     "name": "#%%\n"
    }
   }
  },
  {
   "cell_type": "code",
   "execution_count": 3,
   "outputs": [
    {
     "data": {
      "text/plain": "         TEAM_ID SEASON_ID CONF_RANK\n0     1610612761   1995-96        14\n1     1610612761   1996-97        12\n2     1610612761   1997-98        15\n3     1610612761   1998-99        10\n4     1610612761   1999-00         6\n...          ...       ...       ...\n1562  1610612742   2017-18        13\n1563  1610612742   2018-19        14\n1564  1610612742   2019-20         7\n1565  1610612742   2020-21         5\n1566  1610612742   2021-22         5\n\n[1567 rows x 3 columns]",
      "text/html": "<div>\n<style scoped>\n    .dataframe tbody tr th:only-of-type {\n        vertical-align: middle;\n    }\n\n    .dataframe tbody tr th {\n        vertical-align: top;\n    }\n\n    .dataframe thead th {\n        text-align: right;\n    }\n</style>\n<table border=\"1\" class=\"dataframe\">\n  <thead>\n    <tr style=\"text-align: right;\">\n      <th></th>\n      <th>TEAM_ID</th>\n      <th>SEASON_ID</th>\n      <th>CONF_RANK</th>\n    </tr>\n  </thead>\n  <tbody>\n    <tr>\n      <th>0</th>\n      <td>1610612761</td>\n      <td>1995-96</td>\n      <td>14</td>\n    </tr>\n    <tr>\n      <th>1</th>\n      <td>1610612761</td>\n      <td>1996-97</td>\n      <td>12</td>\n    </tr>\n    <tr>\n      <th>2</th>\n      <td>1610612761</td>\n      <td>1997-98</td>\n      <td>15</td>\n    </tr>\n    <tr>\n      <th>3</th>\n      <td>1610612761</td>\n      <td>1998-99</td>\n      <td>10</td>\n    </tr>\n    <tr>\n      <th>4</th>\n      <td>1610612761</td>\n      <td>1999-00</td>\n      <td>6</td>\n    </tr>\n    <tr>\n      <th>...</th>\n      <td>...</td>\n      <td>...</td>\n      <td>...</td>\n    </tr>\n    <tr>\n      <th>1562</th>\n      <td>1610612742</td>\n      <td>2017-18</td>\n      <td>13</td>\n    </tr>\n    <tr>\n      <th>1563</th>\n      <td>1610612742</td>\n      <td>2018-19</td>\n      <td>14</td>\n    </tr>\n    <tr>\n      <th>1564</th>\n      <td>1610612742</td>\n      <td>2019-20</td>\n      <td>7</td>\n    </tr>\n    <tr>\n      <th>1565</th>\n      <td>1610612742</td>\n      <td>2020-21</td>\n      <td>5</td>\n    </tr>\n    <tr>\n      <th>1566</th>\n      <td>1610612742</td>\n      <td>2021-22</td>\n      <td>5</td>\n    </tr>\n  </tbody>\n</table>\n<p>1567 rows × 3 columns</p>\n</div>"
     },
     "execution_count": 3,
     "metadata": {},
     "output_type": "execute_result"
    }
   ],
   "source": [
    "all_teams_history = list(total_players[\"TEAM_ID\"].drop_duplicates())\n",
    "data_all_team_stats = pd.DataFrame()\n",
    "\n",
    "for team in all_teams_history:\n",
    "    t = teamyearbyyearstats.TeamYearByYearStats(team_id=team).get_data_frames()[0]\n",
    "    #t[\"SEASON_ID\"] = t[t[\"SEASON_ID\"] == \"2021-22\"] # Non cambia tanto perchè nel get prende tutti\n",
    "    data_all_team_stats = pd.concat([data_all_team_stats, t], axis=0, ignore_index=True)\n",
    "\n",
    "data_all_team_stats = data_all_team_stats.rename(columns={\"YEAR\": \"SEASON_ID\"})\n",
    "data_all_team_stats = data_all_team_stats[[\"TEAM_ID\", \"SEASON_ID\", \"CONF_RANK\"]]\n",
    "\n",
    "with open(\"data_all_team_stats_2022.pkl\",'wb') as f:\n",
    "    pickle.dump(data_all_team_stats,f)\n",
    "\n",
    "data_all_team_stats"
   ],
   "metadata": {
    "collapsed": false,
    "pycharm": {
     "name": "#%%\n"
    }
   }
  },
  {
   "cell_type": "code",
   "execution_count": 4,
   "outputs": [
    {
     "name": "stderr",
     "output_type": "stream",
     "text": [
      "608it [25:50,  2.55s/it]\n"
     ]
    }
   ],
   "source": [
    "total_names = total_players[[\"PERSON_ID\", \"DISPLAY_FIRST_LAST\"]]\n",
    "total_stats = pd.DataFrame()\n",
    "with open(\"data_all_team_stats_2022.pkl\", \"rb\") as f:\n",
    "    data_all_team_stats = pickle.load(f)\n",
    "\n",
    "for index, row in tqdm(total_names.iterrows()):\n",
    "    stats = playercareerstats.PlayerCareerStats(player_id=row[\"PERSON_ID\"]).get_data_frames()[0]\n",
    "\n",
    "    stats = stats.drop(stats.columns[[2, 4, 7]], axis=1)\n",
    "\n",
    "    awards = playerawards.PlayerAwards(player_id=row[\"PERSON_ID\"]).get_data_frames()[0]\n",
    "\n",
    "    awards = awards.drop(awards.columns[[0, 1, 2, 3, 5, 7, 8, 9, 10, 11, 12, 13]], axis=1) #Tolgo anche PERSON_ID\n",
    "    awards = awards.rename(columns={\"SEASON\": \"SEASON_ID\"})\n",
    "    awards = awards.loc[awards[\"DESCRIPTION\"]==\"NBA Most Valuable Player\"]\n",
    "\n",
    "    #merge\n",
    "    stats=stats.merge(awards, how=\"left\", on=\"SEASON_ID\")\n",
    "    #1 to MVP, 0 to other\n",
    "    stats[\"DESCRIPTION\"] = stats[\"DESCRIPTION\"].replace(\"NBA Most Valuable Player\", 1) #Replace the description MVP with 1\n",
    "    stats[\"DESCRIPTION\"] = stats[\"DESCRIPTION\"].fillna(0) #Replace NULL with 0\n",
    "    stats = stats.rename(columns={\"DESCRIPTION\": \"MVP\"})\n",
    "\n",
    "    #merge della classifica in cui è arrivata la squadra in una certa stagione\n",
    "    stats = stats.merge(data_all_team_stats, how=\"inner\", on=[\"SEASON_ID\", \"TEAM_ID\"])\n",
    "\n",
    "    total_stats = pd.concat([total_stats, stats],axis=0,ignore_index=True)\n",
    "\n",
    "\n",
    "#Tolgo la formattazione \"year1-year2\" (2010-11) e lascio solo il secondo anno (2011)\n",
    "total_stats[\"SEASON_ID\"] = [int(\"20\"+x.split(\"-\")[1]) for x in list(total_stats[\"SEASON_ID\"])] #Problema se si prendono dati < anno 2000\n",
    "#Prendo i dati superiore all'anno FROM_YEAR\n",
    "total_stats= total_stats[total_stats[\"SEASON_ID\"] > from_year]\n",
    "\n",
    "\n",
    "with open(\"player_stats_2022.pkl\",'wb') as f:\n",
    "    pickle.dump(total_stats,f)"
   ],
   "metadata": {
    "collapsed": false,
    "pycharm": {
     "name": "#%%\n"
    }
   }
  },
  {
   "cell_type": "markdown",
   "source": [
    "## Predizione 2022, preparo i dati appena scaricati"
   ],
   "metadata": {
    "collapsed": false,
    "pycharm": {
     "name": "#%% md\n"
    }
   }
  },
  {
   "cell_type": "code",
   "execution_count": 6,
   "metadata": {
    "collapsed": false,
    "jupyter": {
     "outputs_hidden": false
    },
    "pycharm": {
     "name": "#%%\n"
    }
   },
   "outputs": [
    {
     "data": {
      "text/plain": "      MVP CONF_RANK PLAYER_ID  SEASON_ID     TEAM_ID  PLAYER_AGE  GP     MIN  \\\n1     0.0         8   1630173       2022  1610612761        22.0  31   772.0   \n10    0.0         3    203500       2022  1610612763        28.0  41  1046.0   \n15    0.0         3   1628389       2022  1610612748        24.0  18   592.0   \n16    0.0         3   1630583       2022  1610612763        21.0  23   245.0   \n33    0.0         2    200746       2022  1610612751        36.0  29   663.0   \n...   ...       ...       ...        ...         ...         ...  ..     ...   \n3329  0.0        12    201152       2022  1610612759        33.0  23   323.0   \n3333  0.0        12   1629027       2022  1610612737        23.0  38  1314.0   \n3334  0.0         3   1630209       2022  1610612748        23.0  34   538.0   \n3343  0.0        10    203469       2022  1610612757        29.0  27   355.0   \n3350  0.0         8   1627826       2022  1610612746        24.0  40   971.0   \n\n      FGM  FGA  ...  FT_PCT  OREB  DREB  REB  AST  STL  BLK  TOV  PF   PTS  \n1     104  254  ...   0.569    73   163  236   42   19   21   34  72   246  \n10    108  202  ...   0.600   176   205  381  122   35   25   65  69   285  \n15    126  243  ...   0.759    49   134  183   57   20    6   53  59   337  \n16     32   86  ...   0.579    22    38   60   13    2    6    8  23    79  \n33    165  292  ...   0.846    43   120  163   23   11   32   25  48   386  \n...   ...  ...  ...     ...   ...   ...  ...  ...  ...  ...  ...  ..   ...  \n3329   65  114  ...   0.444    34    45   79   55   20    6   23  33   138  \n3333  359  791  ...   0.898    27   123  150  354   37    4  156  64  1049  \n3334   96  186  ...   0.640    65   164  229   41   15   18   33  64   225  \n3343   51   90  ...   0.776    50    75  125   22    8    6   19  56   140  \n3350  140  213  ...   0.741   108   214  322   44   20   42   50  95   366  \n\n[616 rows x 26 columns]",
      "text/html": "<div>\n<style scoped>\n    .dataframe tbody tr th:only-of-type {\n        vertical-align: middle;\n    }\n\n    .dataframe tbody tr th {\n        vertical-align: top;\n    }\n\n    .dataframe thead th {\n        text-align: right;\n    }\n</style>\n<table border=\"1\" class=\"dataframe\">\n  <thead>\n    <tr style=\"text-align: right;\">\n      <th></th>\n      <th>MVP</th>\n      <th>CONF_RANK</th>\n      <th>PLAYER_ID</th>\n      <th>SEASON_ID</th>\n      <th>TEAM_ID</th>\n      <th>PLAYER_AGE</th>\n      <th>GP</th>\n      <th>MIN</th>\n      <th>FGM</th>\n      <th>FGA</th>\n      <th>...</th>\n      <th>FT_PCT</th>\n      <th>OREB</th>\n      <th>DREB</th>\n      <th>REB</th>\n      <th>AST</th>\n      <th>STL</th>\n      <th>BLK</th>\n      <th>TOV</th>\n      <th>PF</th>\n      <th>PTS</th>\n    </tr>\n  </thead>\n  <tbody>\n    <tr>\n      <th>1</th>\n      <td>0.0</td>\n      <td>8</td>\n      <td>1630173</td>\n      <td>2022</td>\n      <td>1610612761</td>\n      <td>22.0</td>\n      <td>31</td>\n      <td>772.0</td>\n      <td>104</td>\n      <td>254</td>\n      <td>...</td>\n      <td>0.569</td>\n      <td>73</td>\n      <td>163</td>\n      <td>236</td>\n      <td>42</td>\n      <td>19</td>\n      <td>21</td>\n      <td>34</td>\n      <td>72</td>\n      <td>246</td>\n    </tr>\n    <tr>\n      <th>10</th>\n      <td>0.0</td>\n      <td>3</td>\n      <td>203500</td>\n      <td>2022</td>\n      <td>1610612763</td>\n      <td>28.0</td>\n      <td>41</td>\n      <td>1046.0</td>\n      <td>108</td>\n      <td>202</td>\n      <td>...</td>\n      <td>0.600</td>\n      <td>176</td>\n      <td>205</td>\n      <td>381</td>\n      <td>122</td>\n      <td>35</td>\n      <td>25</td>\n      <td>65</td>\n      <td>69</td>\n      <td>285</td>\n    </tr>\n    <tr>\n      <th>15</th>\n      <td>0.0</td>\n      <td>3</td>\n      <td>1628389</td>\n      <td>2022</td>\n      <td>1610612748</td>\n      <td>24.0</td>\n      <td>18</td>\n      <td>592.0</td>\n      <td>126</td>\n      <td>243</td>\n      <td>...</td>\n      <td>0.759</td>\n      <td>49</td>\n      <td>134</td>\n      <td>183</td>\n      <td>57</td>\n      <td>20</td>\n      <td>6</td>\n      <td>53</td>\n      <td>59</td>\n      <td>337</td>\n    </tr>\n    <tr>\n      <th>16</th>\n      <td>0.0</td>\n      <td>3</td>\n      <td>1630583</td>\n      <td>2022</td>\n      <td>1610612763</td>\n      <td>21.0</td>\n      <td>23</td>\n      <td>245.0</td>\n      <td>32</td>\n      <td>86</td>\n      <td>...</td>\n      <td>0.579</td>\n      <td>22</td>\n      <td>38</td>\n      <td>60</td>\n      <td>13</td>\n      <td>2</td>\n      <td>6</td>\n      <td>8</td>\n      <td>23</td>\n      <td>79</td>\n    </tr>\n    <tr>\n      <th>33</th>\n      <td>0.0</td>\n      <td>2</td>\n      <td>200746</td>\n      <td>2022</td>\n      <td>1610612751</td>\n      <td>36.0</td>\n      <td>29</td>\n      <td>663.0</td>\n      <td>165</td>\n      <td>292</td>\n      <td>...</td>\n      <td>0.846</td>\n      <td>43</td>\n      <td>120</td>\n      <td>163</td>\n      <td>23</td>\n      <td>11</td>\n      <td>32</td>\n      <td>25</td>\n      <td>48</td>\n      <td>386</td>\n    </tr>\n    <tr>\n      <th>...</th>\n      <td>...</td>\n      <td>...</td>\n      <td>...</td>\n      <td>...</td>\n      <td>...</td>\n      <td>...</td>\n      <td>...</td>\n      <td>...</td>\n      <td>...</td>\n      <td>...</td>\n      <td>...</td>\n      <td>...</td>\n      <td>...</td>\n      <td>...</td>\n      <td>...</td>\n      <td>...</td>\n      <td>...</td>\n      <td>...</td>\n      <td>...</td>\n      <td>...</td>\n      <td>...</td>\n    </tr>\n    <tr>\n      <th>3329</th>\n      <td>0.0</td>\n      <td>12</td>\n      <td>201152</td>\n      <td>2022</td>\n      <td>1610612759</td>\n      <td>33.0</td>\n      <td>23</td>\n      <td>323.0</td>\n      <td>65</td>\n      <td>114</td>\n      <td>...</td>\n      <td>0.444</td>\n      <td>34</td>\n      <td>45</td>\n      <td>79</td>\n      <td>55</td>\n      <td>20</td>\n      <td>6</td>\n      <td>23</td>\n      <td>33</td>\n      <td>138</td>\n    </tr>\n    <tr>\n      <th>3333</th>\n      <td>0.0</td>\n      <td>12</td>\n      <td>1629027</td>\n      <td>2022</td>\n      <td>1610612737</td>\n      <td>23.0</td>\n      <td>38</td>\n      <td>1314.0</td>\n      <td>359</td>\n      <td>791</td>\n      <td>...</td>\n      <td>0.898</td>\n      <td>27</td>\n      <td>123</td>\n      <td>150</td>\n      <td>354</td>\n      <td>37</td>\n      <td>4</td>\n      <td>156</td>\n      <td>64</td>\n      <td>1049</td>\n    </tr>\n    <tr>\n      <th>3334</th>\n      <td>0.0</td>\n      <td>3</td>\n      <td>1630209</td>\n      <td>2022</td>\n      <td>1610612748</td>\n      <td>23.0</td>\n      <td>34</td>\n      <td>538.0</td>\n      <td>96</td>\n      <td>186</td>\n      <td>...</td>\n      <td>0.640</td>\n      <td>65</td>\n      <td>164</td>\n      <td>229</td>\n      <td>41</td>\n      <td>15</td>\n      <td>18</td>\n      <td>33</td>\n      <td>64</td>\n      <td>225</td>\n    </tr>\n    <tr>\n      <th>3343</th>\n      <td>0.0</td>\n      <td>10</td>\n      <td>203469</td>\n      <td>2022</td>\n      <td>1610612757</td>\n      <td>29.0</td>\n      <td>27</td>\n      <td>355.0</td>\n      <td>51</td>\n      <td>90</td>\n      <td>...</td>\n      <td>0.776</td>\n      <td>50</td>\n      <td>75</td>\n      <td>125</td>\n      <td>22</td>\n      <td>8</td>\n      <td>6</td>\n      <td>19</td>\n      <td>56</td>\n      <td>140</td>\n    </tr>\n    <tr>\n      <th>3350</th>\n      <td>0.0</td>\n      <td>8</td>\n      <td>1627826</td>\n      <td>2022</td>\n      <td>1610612746</td>\n      <td>24.0</td>\n      <td>40</td>\n      <td>971.0</td>\n      <td>140</td>\n      <td>213</td>\n      <td>...</td>\n      <td>0.741</td>\n      <td>108</td>\n      <td>214</td>\n      <td>322</td>\n      <td>44</td>\n      <td>20</td>\n      <td>42</td>\n      <td>50</td>\n      <td>95</td>\n      <td>366</td>\n    </tr>\n  </tbody>\n</table>\n<p>616 rows × 26 columns</p>\n</div>"
     },
     "execution_count": 6,
     "metadata": {},
     "output_type": "execute_result"
    }
   ],
   "source": [
    "with open(\"player_stats_2022.pkl\", \"rb\") as f:\n",
    "    season_2021 = pickle.load(f)\n",
    "#tolgo seasons che non ci servono\n",
    "season_2021 = season_2021[season_2021[\"SEASON_ID\"] == 2022]\n",
    "\n",
    "\n",
    "#sposto la colonna MVP per prima per comodita\n",
    "cols = season_2021.columns.tolist()\n",
    "cols = cols[-2:] + cols[:-2]\n",
    "season_2021 = season_2021[cols]\n",
    "\n",
    "season_2021[\"GP\"]=season_2021[\"GP\"].astype('int')\n",
    "season_2021[\"FGM\"]=season_2021[\"FGM\"].astype('int')\n",
    "season_2021[\"FGA\"]=season_2021[\"FGA\"].astype('int')\n",
    "season_2021[\"FG3M\"]=season_2021[\"FG3M\"].astype('int')\n",
    "season_2021[\"FG3A\"]=season_2021[\"FG3A\"].astype('int')\n",
    "season_2021[\"FTM\"]=season_2021[\"FTM\"].astype('int')\n",
    "season_2021[\"FTA\"]=season_2021[\"FTA\"].astype('int')\n",
    "season_2021[\"OREB\"]=season_2021[\"OREB\"].astype('int')\n",
    "season_2021[\"DREB\"]=season_2021[\"DREB\"].astype('int')\n",
    "season_2021[\"REB\"]=season_2021[\"REB\"].astype('int')\n",
    "season_2021[\"AST\"]=season_2021[\"AST\"].astype('int')\n",
    "season_2021[\"STL\"]=season_2021[\"STL\"].astype('int')\n",
    "season_2021[\"BLK\"]=season_2021[\"BLK\"].astype('int')\n",
    "season_2021[\"TOV\"]=season_2021[\"TOV\"].astype('int')\n",
    "season_2021[\"PF\"]=season_2021[\"PF\"].astype('int')\n",
    "season_2021[\"PTS\"]=season_2021[\"PTS\"].astype('int')\n",
    "\n",
    "\n",
    "season_2021"
   ]
  },
  {
   "cell_type": "code",
   "execution_count": 7,
   "metadata": {
    "collapsed": false,
    "jupyter": {
     "outputs_hidden": false
    },
    "pycharm": {
     "name": "#%%\n"
    }
   },
   "outputs": [],
   "source": [
    "#standardizzazione i nostri dati per anno\n",
    "\n",
    "from sklearn.preprocessing import StandardScaler\n",
    "scaler=StandardScaler()\n",
    "\n",
    "num_cols = season_2021.columns\n",
    "num_cols = num_cols.drop([\"MVP\",'CONF_RANK', 'PLAYER_ID', 'SEASON_ID', 'TEAM_ID'])\n",
    "\n",
    "season_2021_norm=pd.DataFrame()\n",
    "season_2021_norm = pd.concat([season_2021_norm, season_2021],axis=0,ignore_index=True)\n"
   ]
  },
  {
   "cell_type": "code",
   "execution_count": 8,
   "metadata": {
    "collapsed": false,
    "jupyter": {
     "outputs_hidden": false
    },
    "pycharm": {
     "name": "#%%\n"
    }
   },
   "outputs": [
    {
     "data": {
      "text/plain": "     MVP CONF_RANK PLAYER_ID  SEASON_ID     TEAM_ID  PLAYER_AGE        GP  \\\n0    0.0         8   1630173       2022  1610612761   -0.914562  0.604307   \n1    0.0         3    203500       2022  1610612763    0.533070  1.308133   \n2    0.0         3   1628389       2022  1610612748   -0.432018 -0.310666   \n3    0.0         3   1630583       2022  1610612763   -1.155833  0.041247   \n4    0.0         2    200746       2022  1610612751    2.463245  0.463542   \n..   ...       ...       ...        ...         ...         ...       ...   \n611  0.0        12    201152       2022  1610612759    1.739430  0.041247   \n612  0.0        12   1629027       2022  1610612737   -0.673290  1.096985   \n613  0.0         3   1630209       2022  1610612748   -0.673290  0.815455   \n614  0.0        10    203469       2022  1610612757    0.774342  0.322777   \n615  0.0         8   1627826       2022  1610612746   -0.432018  1.237750   \n\n          MIN       FGM       FGA  ...    FT_PCT      OREB      DREB  \\\n0    0.604807  0.234068  0.364835  ... -0.211331  1.945856  1.207153   \n1    1.220566  0.279285  0.094829  ... -0.110186  5.841128  1.764042   \n2    0.200294  0.482762  0.307719  ...  0.408589  1.038219  0.822634   \n3   -0.579518 -0.579839 -0.507492  ... -0.178704  0.017129 -0.450255   \n4    0.359852  0.923628  0.562148  ...  0.692448  0.811310  0.637004   \n..        ...       ...       ...  ...       ...       ...       ...   \n611 -0.404229 -0.206798 -0.362104  ... -0.619174  0.470947 -0.357440   \n612  1.822841  3.116656  3.153168  ...  0.862111  0.206220  0.676782   \n613  0.078940  0.143634  0.011750  ...  0.020323  1.643310  1.220412   \n614 -0.332315 -0.365058 -0.486723  ...  0.464056  1.076038  0.040337   \n615  1.052019  0.641022  0.151946  ...  0.349860  3.269492  1.883375   \n\n          REB       AST       STL       BLK       TOV        PF       PTS  \n0    1.456797 -0.121993  0.181823  0.796619  0.196904  0.921963  0.082193  \n1    2.939203  1.092762  1.164307  1.090154  1.173040  0.834956  0.242483  \n2    0.914952  0.105773  0.243229 -0.304137  0.795181  0.544929  0.456203  \n3   -0.342537 -0.562342 -0.862066 -0.304137 -0.621791 -0.499165 -0.604176  \n4    0.710483 -0.410498 -0.309419  1.603840 -0.086490  0.225900  0.657592  \n..        ...       ...       ...       ...       ...       ...       ...  \n611 -0.148290  0.075405  0.243229 -0.304137 -0.149467 -0.209139 -0.361686  \n612  0.577577  4.615552  1.287118 -0.450905  4.038471  0.689942  3.382518  \n613  1.385233 -0.137178 -0.063798  0.576467  0.165416  0.689942 -0.004117  \n614  0.321990 -0.425682 -0.493634 -0.304137 -0.275420  0.457921 -0.353466  \n615  2.336017 -0.091624  0.243229  2.337677  0.700716  1.589024  0.575392  \n\n[616 rows x 26 columns]",
      "text/html": "<div>\n<style scoped>\n    .dataframe tbody tr th:only-of-type {\n        vertical-align: middle;\n    }\n\n    .dataframe tbody tr th {\n        vertical-align: top;\n    }\n\n    .dataframe thead th {\n        text-align: right;\n    }\n</style>\n<table border=\"1\" class=\"dataframe\">\n  <thead>\n    <tr style=\"text-align: right;\">\n      <th></th>\n      <th>MVP</th>\n      <th>CONF_RANK</th>\n      <th>PLAYER_ID</th>\n      <th>SEASON_ID</th>\n      <th>TEAM_ID</th>\n      <th>PLAYER_AGE</th>\n      <th>GP</th>\n      <th>MIN</th>\n      <th>FGM</th>\n      <th>FGA</th>\n      <th>...</th>\n      <th>FT_PCT</th>\n      <th>OREB</th>\n      <th>DREB</th>\n      <th>REB</th>\n      <th>AST</th>\n      <th>STL</th>\n      <th>BLK</th>\n      <th>TOV</th>\n      <th>PF</th>\n      <th>PTS</th>\n    </tr>\n  </thead>\n  <tbody>\n    <tr>\n      <th>0</th>\n      <td>0.0</td>\n      <td>8</td>\n      <td>1630173</td>\n      <td>2022</td>\n      <td>1610612761</td>\n      <td>-0.914562</td>\n      <td>0.604307</td>\n      <td>0.604807</td>\n      <td>0.234068</td>\n      <td>0.364835</td>\n      <td>...</td>\n      <td>-0.211331</td>\n      <td>1.945856</td>\n      <td>1.207153</td>\n      <td>1.456797</td>\n      <td>-0.121993</td>\n      <td>0.181823</td>\n      <td>0.796619</td>\n      <td>0.196904</td>\n      <td>0.921963</td>\n      <td>0.082193</td>\n    </tr>\n    <tr>\n      <th>1</th>\n      <td>0.0</td>\n      <td>3</td>\n      <td>203500</td>\n      <td>2022</td>\n      <td>1610612763</td>\n      <td>0.533070</td>\n      <td>1.308133</td>\n      <td>1.220566</td>\n      <td>0.279285</td>\n      <td>0.094829</td>\n      <td>...</td>\n      <td>-0.110186</td>\n      <td>5.841128</td>\n      <td>1.764042</td>\n      <td>2.939203</td>\n      <td>1.092762</td>\n      <td>1.164307</td>\n      <td>1.090154</td>\n      <td>1.173040</td>\n      <td>0.834956</td>\n      <td>0.242483</td>\n    </tr>\n    <tr>\n      <th>2</th>\n      <td>0.0</td>\n      <td>3</td>\n      <td>1628389</td>\n      <td>2022</td>\n      <td>1610612748</td>\n      <td>-0.432018</td>\n      <td>-0.310666</td>\n      <td>0.200294</td>\n      <td>0.482762</td>\n      <td>0.307719</td>\n      <td>...</td>\n      <td>0.408589</td>\n      <td>1.038219</td>\n      <td>0.822634</td>\n      <td>0.914952</td>\n      <td>0.105773</td>\n      <td>0.243229</td>\n      <td>-0.304137</td>\n      <td>0.795181</td>\n      <td>0.544929</td>\n      <td>0.456203</td>\n    </tr>\n    <tr>\n      <th>3</th>\n      <td>0.0</td>\n      <td>3</td>\n      <td>1630583</td>\n      <td>2022</td>\n      <td>1610612763</td>\n      <td>-1.155833</td>\n      <td>0.041247</td>\n      <td>-0.579518</td>\n      <td>-0.579839</td>\n      <td>-0.507492</td>\n      <td>...</td>\n      <td>-0.178704</td>\n      <td>0.017129</td>\n      <td>-0.450255</td>\n      <td>-0.342537</td>\n      <td>-0.562342</td>\n      <td>-0.862066</td>\n      <td>-0.304137</td>\n      <td>-0.621791</td>\n      <td>-0.499165</td>\n      <td>-0.604176</td>\n    </tr>\n    <tr>\n      <th>4</th>\n      <td>0.0</td>\n      <td>2</td>\n      <td>200746</td>\n      <td>2022</td>\n      <td>1610612751</td>\n      <td>2.463245</td>\n      <td>0.463542</td>\n      <td>0.359852</td>\n      <td>0.923628</td>\n      <td>0.562148</td>\n      <td>...</td>\n      <td>0.692448</td>\n      <td>0.811310</td>\n      <td>0.637004</td>\n      <td>0.710483</td>\n      <td>-0.410498</td>\n      <td>-0.309419</td>\n      <td>1.603840</td>\n      <td>-0.086490</td>\n      <td>0.225900</td>\n      <td>0.657592</td>\n    </tr>\n    <tr>\n      <th>...</th>\n      <td>...</td>\n      <td>...</td>\n      <td>...</td>\n      <td>...</td>\n      <td>...</td>\n      <td>...</td>\n      <td>...</td>\n      <td>...</td>\n      <td>...</td>\n      <td>...</td>\n      <td>...</td>\n      <td>...</td>\n      <td>...</td>\n      <td>...</td>\n      <td>...</td>\n      <td>...</td>\n      <td>...</td>\n      <td>...</td>\n      <td>...</td>\n      <td>...</td>\n      <td>...</td>\n    </tr>\n    <tr>\n      <th>611</th>\n      <td>0.0</td>\n      <td>12</td>\n      <td>201152</td>\n      <td>2022</td>\n      <td>1610612759</td>\n      <td>1.739430</td>\n      <td>0.041247</td>\n      <td>-0.404229</td>\n      <td>-0.206798</td>\n      <td>-0.362104</td>\n      <td>...</td>\n      <td>-0.619174</td>\n      <td>0.470947</td>\n      <td>-0.357440</td>\n      <td>-0.148290</td>\n      <td>0.075405</td>\n      <td>0.243229</td>\n      <td>-0.304137</td>\n      <td>-0.149467</td>\n      <td>-0.209139</td>\n      <td>-0.361686</td>\n    </tr>\n    <tr>\n      <th>612</th>\n      <td>0.0</td>\n      <td>12</td>\n      <td>1629027</td>\n      <td>2022</td>\n      <td>1610612737</td>\n      <td>-0.673290</td>\n      <td>1.096985</td>\n      <td>1.822841</td>\n      <td>3.116656</td>\n      <td>3.153168</td>\n      <td>...</td>\n      <td>0.862111</td>\n      <td>0.206220</td>\n      <td>0.676782</td>\n      <td>0.577577</td>\n      <td>4.615552</td>\n      <td>1.287118</td>\n      <td>-0.450905</td>\n      <td>4.038471</td>\n      <td>0.689942</td>\n      <td>3.382518</td>\n    </tr>\n    <tr>\n      <th>613</th>\n      <td>0.0</td>\n      <td>3</td>\n      <td>1630209</td>\n      <td>2022</td>\n      <td>1610612748</td>\n      <td>-0.673290</td>\n      <td>0.815455</td>\n      <td>0.078940</td>\n      <td>0.143634</td>\n      <td>0.011750</td>\n      <td>...</td>\n      <td>0.020323</td>\n      <td>1.643310</td>\n      <td>1.220412</td>\n      <td>1.385233</td>\n      <td>-0.137178</td>\n      <td>-0.063798</td>\n      <td>0.576467</td>\n      <td>0.165416</td>\n      <td>0.689942</td>\n      <td>-0.004117</td>\n    </tr>\n    <tr>\n      <th>614</th>\n      <td>0.0</td>\n      <td>10</td>\n      <td>203469</td>\n      <td>2022</td>\n      <td>1610612757</td>\n      <td>0.774342</td>\n      <td>0.322777</td>\n      <td>-0.332315</td>\n      <td>-0.365058</td>\n      <td>-0.486723</td>\n      <td>...</td>\n      <td>0.464056</td>\n      <td>1.076038</td>\n      <td>0.040337</td>\n      <td>0.321990</td>\n      <td>-0.425682</td>\n      <td>-0.493634</td>\n      <td>-0.304137</td>\n      <td>-0.275420</td>\n      <td>0.457921</td>\n      <td>-0.353466</td>\n    </tr>\n    <tr>\n      <th>615</th>\n      <td>0.0</td>\n      <td>8</td>\n      <td>1627826</td>\n      <td>2022</td>\n      <td>1610612746</td>\n      <td>-0.432018</td>\n      <td>1.237750</td>\n      <td>1.052019</td>\n      <td>0.641022</td>\n      <td>0.151946</td>\n      <td>...</td>\n      <td>0.349860</td>\n      <td>3.269492</td>\n      <td>1.883375</td>\n      <td>2.336017</td>\n      <td>-0.091624</td>\n      <td>0.243229</td>\n      <td>2.337677</td>\n      <td>0.700716</td>\n      <td>1.589024</td>\n      <td>0.575392</td>\n    </tr>\n  </tbody>\n</table>\n<p>616 rows × 26 columns</p>\n</div>"
     },
     "execution_count": 8,
     "metadata": {},
     "output_type": "execute_result"
    }
   ],
   "source": [
    "\n",
    "for col in num_cols.tolist():\n",
    "    season_2021_norm[[col]] = scaler.fit_transform(season_2021[[col]].to_numpy().reshape(-1,1))\n",
    "\n",
    "season_2021_norm"
   ]
  },
  {
   "cell_type": "markdown",
   "metadata": {
    "pycharm": {
     "name": "#%% md\n"
    }
   },
   "source": [
    "## Predict 2021"
   ]
  },
  {
   "cell_type": "code",
   "execution_count": 23,
   "metadata": {
    "collapsed": false,
    "jupyter": {
     "outputs_hidden": false
    },
    "pycharm": {
     "name": "#%%\n"
    }
   },
   "outputs": [
    {
     "name": "stdout",
     "output_type": "stream",
     "text": [
      "The balanced accuracy score is  0.9951298701298701\n"
     ]
    },
    {
     "name": "stderr",
     "output_type": "stream",
     "text": [
      "/home/thomas/anaconda3/envs/ml/lib/python3.10/site-packages/sklearn/metrics/_classification.py:1987: UserWarning: y_pred contains classes not in y_true\n",
      "  warnings.warn(\"y_pred contains classes not in y_true\")\n"
     ]
    }
   ],
   "source": [
    "from sklearn.metrics import accuracy_score, confusion_matrix, classification_report, balanced_accuracy_score\n",
    "test_2021_labels = season_2021_norm[[\"MVP\"]]\n",
    "\n",
    "name_model = \"log_reg\"\n",
    "\n",
    "# with open(\"svm_40.pkl\", \"rb\") as f:\n",
    "with open(name_model+\".pkl\", \"rb\") as f:\n",
    "# with open(\"svm.pkl\", \"rb\") as f:\n",
    "# with open(\"rf.pkl\", \"rb\") as f:\n",
    "# with open(\"log_reg.pkl\", \"rb\") as f:\n",
    "\n",
    "    log_reg = pickle.load(f)\n",
    "\n",
    "\n",
    "    ###                             ###\n",
    "\n",
    "# train_2021 = season_2021_norm[[\"CONF_RANK\", \"GP\", \"MIN\", \"FGM\", \"FG_PCT\", \"FG3M\", \"FG3_PCT\", \"FTM\", \"FT_PCT\", \"OREB\", \"DREB\", \"AST\", \"STL\", \"BLK\", \"TOV\", \"PF\"]]\n",
    "train_2021 = season_2021_norm[[\"CONF_RANK\", \"GP\", \"MIN\", \"FG_PCT\", \"FG3M\", \"FG3_PCT\", \"FTM\", \"FT_PCT\", \"OREB\", \"DREB\", \"AST\", \"STL\", \"BLK\", \"PF\"]]\n",
    "# train_2021 = season_2021_norm.drop([\"MVP\", 'PLAYER_ID', 'SEASON_ID', 'TEAM_ID', \"PLAYER_AGE\"], axis=1)\n",
    "\n",
    "\n",
    "predicted_labels = log_reg.predict(train_2021)\n",
    "print(f\"The balanced accuracy score is  {balanced_accuracy_score(test_2021_labels,predicted_labels)}\")"
   ]
  },
  {
   "cell_type": "code",
   "execution_count": 24,
   "metadata": {
    "collapsed": false,
    "jupyter": {
     "outputs_hidden": false
    },
    "pycharm": {
     "name": "#%%\n"
    }
   },
   "outputs": [],
   "source": [
    "#Unisco i dataset\n",
    "predict_2021 = pd.DataFrame(predicted_labels, columns=[\"MVP_Predict\"])\n",
    "predict_2021[\"PLAYER_ID\"] = list(season_2021[\"PLAYER_ID\"])\n",
    "\n",
    "winners_id = predict_2021.loc[predict_2021[\"MVP_Predict\"] == 1, \"PLAYER_ID\"]"
   ]
  },
  {
   "cell_type": "code",
   "execution_count": 25,
   "metadata": {
    "collapsed": false,
    "jupyter": {
     "outputs_hidden": false
    },
    "pycharm": {
     "name": "#%%\n"
    }
   },
   "outputs": [
    {
     "name": "stdout",
     "output_type": "stream",
     "text": [
      "{'id': 201142, 'full_name': 'Kevin Durant', 'first_name': 'Kevin', 'last_name': 'Durant', 'is_active': True}\n",
      "{'id': 201935, 'full_name': 'James Harden', 'first_name': 'James', 'last_name': 'Harden', 'is_active': True}\n",
      "{'id': 101108, 'full_name': 'Chris Paul', 'first_name': 'Chris', 'last_name': 'Paul', 'is_active': True}\n"
     ]
    }
   ],
   "source": [
    "from nba_api.stats.static import players\n",
    "\n",
    "for id in list(winners_id):\n",
    "    print(players.find_player_by_id(id))"
   ]
  },
  {
   "cell_type": "markdown",
   "metadata": {
    "pycharm": {
     "name": "#%% md\n"
    }
   },
   "source": [
    "### PROBABILITIES 2021"
   ]
  },
  {
   "cell_type": "code",
   "execution_count": 26,
   "metadata": {
    "collapsed": false,
    "jupyter": {
     "outputs_hidden": false
    },
    "pycharm": {
     "name": "#%%\n"
    }
   },
   "outputs": [
    {
     "data": {
      "text/plain": "        id              full_name first_name      last_name is_active  \\\n0   201935           James Harden      James         Harden      True   \n1   101108             Chris Paul      Chris           Paul      True   \n2   201142           Kevin Durant      Kevin         Durant      True   \n3   201942          DeMar DeRozan      DeMar        DeRozan      True   \n4   201939          Stephen Curry    Stephen          Curry      True   \n5   203897            Zach LaVine       Zach         LaVine      True   \n6   203507  Giannis Antetokounmpo    Giannis  Antetokounmpo      True   \n7  1629630              Ja Morant         Ja         Morant      True   \n8  1626164           Devin Booker      Devin         Booker      True   \n9   202696         Nikola Vucevic     Nikola        Vucevic      True   \n\n   mvp_prob  \n0  0.996156  \n1  0.862613  \n2  0.739993  \n3  0.271939  \n4  0.118169  \n5  0.109804  \n6  0.028612  \n7  0.015830  \n8  0.004846  \n9  0.003292  ",
      "text/html": "<div>\n<style scoped>\n    .dataframe tbody tr th:only-of-type {\n        vertical-align: middle;\n    }\n\n    .dataframe tbody tr th {\n        vertical-align: top;\n    }\n\n    .dataframe thead th {\n        text-align: right;\n    }\n</style>\n<table border=\"1\" class=\"dataframe\">\n  <thead>\n    <tr style=\"text-align: right;\">\n      <th></th>\n      <th>id</th>\n      <th>full_name</th>\n      <th>first_name</th>\n      <th>last_name</th>\n      <th>is_active</th>\n      <th>mvp_prob</th>\n    </tr>\n  </thead>\n  <tbody>\n    <tr>\n      <th>0</th>\n      <td>201935</td>\n      <td>James Harden</td>\n      <td>James</td>\n      <td>Harden</td>\n      <td>True</td>\n      <td>0.996156</td>\n    </tr>\n    <tr>\n      <th>1</th>\n      <td>101108</td>\n      <td>Chris Paul</td>\n      <td>Chris</td>\n      <td>Paul</td>\n      <td>True</td>\n      <td>0.862613</td>\n    </tr>\n    <tr>\n      <th>2</th>\n      <td>201142</td>\n      <td>Kevin Durant</td>\n      <td>Kevin</td>\n      <td>Durant</td>\n      <td>True</td>\n      <td>0.739993</td>\n    </tr>\n    <tr>\n      <th>3</th>\n      <td>201942</td>\n      <td>DeMar DeRozan</td>\n      <td>DeMar</td>\n      <td>DeRozan</td>\n      <td>True</td>\n      <td>0.271939</td>\n    </tr>\n    <tr>\n      <th>4</th>\n      <td>201939</td>\n      <td>Stephen Curry</td>\n      <td>Stephen</td>\n      <td>Curry</td>\n      <td>True</td>\n      <td>0.118169</td>\n    </tr>\n    <tr>\n      <th>5</th>\n      <td>203897</td>\n      <td>Zach LaVine</td>\n      <td>Zach</td>\n      <td>LaVine</td>\n      <td>True</td>\n      <td>0.109804</td>\n    </tr>\n    <tr>\n      <th>6</th>\n      <td>203507</td>\n      <td>Giannis Antetokounmpo</td>\n      <td>Giannis</td>\n      <td>Antetokounmpo</td>\n      <td>True</td>\n      <td>0.028612</td>\n    </tr>\n    <tr>\n      <th>7</th>\n      <td>1629630</td>\n      <td>Ja Morant</td>\n      <td>Ja</td>\n      <td>Morant</td>\n      <td>True</td>\n      <td>0.015830</td>\n    </tr>\n    <tr>\n      <th>8</th>\n      <td>1626164</td>\n      <td>Devin Booker</td>\n      <td>Devin</td>\n      <td>Booker</td>\n      <td>True</td>\n      <td>0.004846</td>\n    </tr>\n    <tr>\n      <th>9</th>\n      <td>202696</td>\n      <td>Nikola Vucevic</td>\n      <td>Nikola</td>\n      <td>Vucevic</td>\n      <td>True</td>\n      <td>0.003292</td>\n    </tr>\n  </tbody>\n</table>\n</div>"
     },
     "execution_count": 26,
     "metadata": {},
     "output_type": "execute_result"
    }
   ],
   "source": [
    "\n",
    "# test_2021_labels = season_2021_norm[[\"MVP\"]]\n",
    "#\n",
    "# with open(\"log_reg.pkl\", \"rb\") as f:\n",
    "#     log_reg = pickle.load(f)\n",
    "\n",
    "#train_2021 = season_2021_norm[[\"GP\", \"MIN\", \"FGM\", \"FG_PCT\", \"FG3M\", \"FG3_PCT\", \"FTM\", \"FT_PCT\", \"OREB\", \"DREB\", \"AST\", \"STL\", \"BLK\", \"TOV\", \"PF\", 'CONF_RANK']]\n",
    "predicted_labels = pd.DataFrame(log_reg.predict_proba(train_2021))\n",
    "\n",
    "predicted_labels.rename(columns={0:'NOT',1:'MVP'},inplace=True)\n",
    "\n",
    "predicted_labels = pd.DataFrame(predicted_labels, columns=[\"MVP\"])\n",
    "predicted_labels[\"PLAYER_ID\"] = list(season_2021[\"PLAYER_ID\"])\n",
    "\n",
    "#Sort\n",
    "mvp_candidates = predicted_labels.sort_values(by='MVP',ascending=False)\n",
    "\n",
    "#Take only better\n",
    "mvp_candidates = mvp_candidates.head(10)\n",
    "\n",
    "mvp_candidates_names = pd.DataFrame()\n",
    "# for row, id in mvp_candidates[\"PLAYER_ID\"].iterrows():\n",
    "#     name_player = players.find_player_by_id(id[\"PLAYER_ID\"])\n",
    "#     if name_player is not None:\n",
    "#         name = pd.DataFrame.from_dict(name_player, orient=\"index\")\n",
    "#\n",
    "#         name = name.transpose()\n",
    "#         name[\"mvp_prob\"] = list(id[\"MVP\"])\n",
    "#         mvp_candidates_names = pd.concat([mvp_candidates_names,name], axis=0, ignore_index=True)\n",
    "\n",
    "for id in list(mvp_candidates[\"PLAYER_ID\"]):\n",
    "    name_player = players.find_player_by_id(id)\n",
    "    name = pd.DataFrame.from_dict(name_player, orient=\"index\")\n",
    "\n",
    "    name = name.transpose()\n",
    "    mvp_candidates_names = pd.concat([mvp_candidates_names,name], axis=0, ignore_index=True)\n",
    "\n",
    "mvp_candidates_names[\"mvp_prob\"] = list(mvp_candidates[\"MVP\"])\n",
    "mvp_candidates_names"
   ]
  },
  {
   "cell_type": "code",
   "execution_count": 27,
   "metadata": {
    "collapsed": false,
    "jupyter": {
     "outputs_hidden": false
    },
    "pycharm": {
     "name": "#%%\n"
    }
   },
   "outputs": [
    {
     "data": {
      "text/plain": "<Figure size 432x288 with 1 Axes>",
      "image/png": "[encoded data removed]"
     },
     "metadata": {
      "needs_background": "light"
     },
     "output_type": "display_data"
    }
   ],
   "source": [
    "import seaborn as sns\n",
    "import matplotlib.pyplot as plt\n",
    "#mvp_candidates_names.plot.bar(x='full_name',y='mvp_prob' )\n",
    "sns.barplot(x='full_name',y='mvp_prob',data=mvp_candidates_names.head(10))\n",
    "plt.xticks(rotation=90)\n",
    "plt.savefig('plot/'+name_model+'_2022.png', bbox_inches='tight')"
   ]
  },
  {
   "cell_type": "code",
   "execution_count": 82,
   "outputs": [
    {
     "data": {
      "text/plain": "0.0"
     },
     "execution_count": 82,
     "metadata": {},
     "output_type": "execute_result"
    }
   ],
   "source": [
    "real_winners_2021 = [\"NIKOLA JOKIC\", \"JOEL EMBIID\", \"STEPHEN CURRY\", \"GIANNIS ANTETOKOUNMPO\", \"CHRIS PAUL\", \"LUKA DONCIC\", \"DAMIAN LILLARD\", \"JULIUS RANDLE\", \"DERRICK ROSE\", \"RUDY GOBERT\"]\n",
    "\n",
    "real_winners_2021 = [str.title() for str in real_winners_2021] #Title for capitalize name and surname\n",
    "\n",
    "versus = pd.DataFrame()\n",
    "versus[\"Predicted_rank\"] = list(mvp_candidates_names[\"full_name\"].head(10))\n",
    "versus[\"Real_rank\"] = real_winners_2021\n",
    "weight = list(reversed(range(1,11)))\n",
    "i = 0\n",
    "score = 0\n",
    "\n",
    "# for row, names in versus.iterrows():\n",
    "#     if names[\"Predicted_rank\"] == names[\"Real_rank\"]:\n",
    "#         score = score + weight[i]\n",
    "#     else:\n",
    "#         j = i + 1\n",
    "#         real_name = names[\"Real_rank\"]\n",
    "#         while names[\"Predicted_rank\"] != real_name or j < 9:\n",
    "#             real_name = versus.at[j,\"Real_rank\"]\n",
    "#             j = j + 1\n",
    "#\n",
    "#         if j > 10:\n",
    "#             score = score + weight[j]\n",
    "#\n",
    "#     i = i+1\n",
    "\n",
    "for row, names in versus.iterrows():\n",
    "    if names[\"Predicted_rank\"] == names[\"Real_rank\"]:\n",
    "        score = score + weight[0]\n",
    "\n",
    "score = score / sum(weight)\n",
    "score\n",
    "\n"
   ],
   "metadata": {
    "collapsed": false,
    "pycharm": {
     "name": "#%%\n"
    }
   }
  }
 ],
 "metadata": {
  "kernelspec": {
   "display_name": "Python 3 (ipykernel)",
   "language": "python",
   "name": "python3"
  },
  "language_info": {
   "codemirror_mode": {
    "name": "ipython",
    "version": 3
   },
   "file_extension": ".py",
   "mimetype": "text/x-python",
   "name": "python",
   "nbconvert_exporter": "python",
   "pygments_lexer": "ipython3",
   "version": "3.9.7"
  }
 },
 "nbformat": 4,
 "nbformat_minor": 4
}