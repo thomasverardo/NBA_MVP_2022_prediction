{
 "cells": [
  {
   "cell_type": "markdown",
   "metadata": {
    "pycharm": {
     "name": "#%% md\n"
    }
   },
   "source": [
    "# Predict MVP 2022 TEST\n"
   ]
  },
  {
   "cell_type": "code",
   "execution_count": 1,
   "metadata": {
    "collapsed": false,
    "jupyter": {
     "outputs_hidden": false
    },
    "pycharm": {
     "name": "#%%\n"
    }
   },
   "outputs": [],
   "source": [
    "import pickle\n",
    "import pandas as pd\n",
    "import numpy as np\n",
    "from nba_api.stats.endpoints import commonallplayers #per avere l'elenco dei giocatori (id)\n",
    "from nba_api.stats.endpoints import playercareerstats #per avere i dati\n",
    "from nba_api.stats.endpoints import playerawards #per sapere chi ha vinto MVP\n",
    "from nba_api.stats.endpoints import teamyearbyyearstats #classifiche finali delle squadre\n",
    "import pandas as pd\n",
    "from tqdm import tqdm\n",
    "import pickle"
   ]
  },
  {
   "cell_type": "markdown",
   "source": [
    "## Scarico i giocatori 2022"
   ],
   "metadata": {
    "collapsed": false,
    "pycharm": {
     "name": "#%% md\n"
    }
   }
  },
  {
   "cell_type": "code",
   "execution_count": 2,
   "outputs": [
    {
     "data": {
      "text/plain": "      PERSON_ID DISPLAY_LAST_COMMA_FIRST DISPLAY_FIRST_LAST  ROSTERSTATUS  \\\n10      1630173        Achiuwa, Precious   Precious Achiuwa             1   \n22       203500            Adams, Steven       Steven Adams             1   \n24      1628389             Adebayo, Bam        Bam Adebayo             1   \n40      1630583            Aldama, Santi       Santi Aldama             1   \n43       200746       Aldridge, LaMarcus  LaMarcus Aldridge             1   \n...         ...                      ...                ...           ...   \n4701     201152          Young, Thaddeus     Thaddeus Young             1   \n4703    1629027              Young, Trae         Trae Young             1   \n4704    1630209          Yurtseven, Omer     Omer Yurtseven             1   \n4707     203469             Zeller, Cody        Cody Zeller             1   \n4723    1627826             Zubac, Ivica        Ivica Zubac             1   \n\n     FROM_YEAR  TO_YEAR          PLAYERCODE        PLAYER_SLUG     TEAM_ID  \\\n10        2020     2021    precious_achiuwa   precious_achiuwa  1610612761   \n22        2013     2021        steven_adams       steven_adams  1610612763   \n24        2017     2021         bam_adebayo        bam_adebayo  1610612748   \n40        2021     2021        santi_aldama       santi_aldama  1610612763   \n43        2006     2021   lamarcus_aldridge  lamarcus_aldridge  1610612751   \n...        ...      ...                 ...                ...         ...   \n4701      2007     2021      thaddeus_young     thaddeus_young  1610612759   \n4703      2018     2021          trae_young         trae_young  1610612737   \n4704      2020     2021  tmp_omer_yurtseven     omer_yurtseven  1610612748   \n4707      2013     2021         cody_zeller        cody_zeller  1610612757   \n4723      2016     2021         ivica_zubac        ivica_zubac  1610612746   \n\n        TEAM_CITY      TEAM_NAME TEAM_ABBREVIATION  TEAM_CODE  TEAM_SLUG  \\\n10        Toronto        Raptors               TOR    raptors    raptors   \n22        Memphis      Grizzlies               MEM  grizzlies  grizzlies   \n24          Miami           Heat               MIA       heat       heat   \n40        Memphis      Grizzlies               MEM  grizzlies  grizzlies   \n43       Brooklyn           Nets               BKN       nets       nets   \n...           ...            ...               ...        ...        ...   \n4701  San Antonio          Spurs               SAS      spurs      spurs   \n4703      Atlanta          Hawks               ATL      hawks      hawks   \n4704        Miami           Heat               MIA       heat       heat   \n4707     Portland  Trail Blazers               POR    blazers    blazers   \n4723           LA       Clippers               LAC   clippers   clippers   \n\n     GAMES_PLAYED_FLAG OTHERLEAGUE_EXPERIENCE_CH  \n10                   Y                        00  \n22                   Y                        00  \n24                   Y                        00  \n40                   Y                        11  \n43                   Y                        00  \n...                ...                       ...  \n4701                 Y                        00  \n4703                 Y                        00  \n4704                 Y                        01  \n4707                 Y                        00  \n4723                 Y                        01  \n\n[608 rows x 16 columns]",
      "text/html": "<div>\n<style scoped>\n    .dataframe tbody tr th:only-of-type {\n        vertical-align: middle;\n    }\n\n    .dataframe tbody tr th {\n        vertical-align: top;\n    }\n\n    .dataframe thead th {\n        text-align: right;\n    }\n</style>\n<table border=\"1\" class=\"dataframe\">\n  <thead>\n    <tr style=\"text-align: right;\">\n      <th></th>\n      <th>PERSON_ID</th>\n      <th>DISPLAY_LAST_COMMA_FIRST</th>\n      <th>DISPLAY_FIRST_LAST</th>\n      <th>ROSTERSTATUS</th>\n      <th>FROM_YEAR</th>\n      <th>TO_YEAR</th>\n      <th>PLAYERCODE</th>\n      <th>PLAYER_SLUG</th>\n      <th>TEAM_ID</th>\n      <th>TEAM_CITY</th>\n      <th>TEAM_NAME</th>\n      <th>TEAM_ABBREVIATION</th>\n      <th>TEAM_CODE</th>\n      <th>TEAM_SLUG</th>\n      <th>GAMES_PLAYED_FLAG</th>\n      <th>OTHERLEAGUE_EXPERIENCE_CH</th>\n    </tr>\n  </thead>\n  <tbody>\n    <tr>\n      <th>10</th>\n      <td>1630173</td>\n      <td>Achiuwa, Precious</td>\n      <td>Precious Achiuwa</td>\n      <td>1</td>\n      <td>2020</td>\n      <td>2021</td>\n      <td>precious_achiuwa</td>\n      <td>precious_achiuwa</td>\n      <td>1610612761</td>\n      <td>Toronto</td>\n      <td>Raptors</td>\n      <td>TOR</td>\n      <td>raptors</td>\n      <td>raptors</td>\n      <td>Y</td>\n      <td>00</td>\n    </tr>\n    <tr>\n      <th>22</th>\n      <td>203500</td>\n      <td>Adams, Steven</td>\n      <td>Steven Adams</td>\n      <td>1</td>\n      <td>2013</td>\n      <td>2021</td>\n      <td>steven_adams</td>\n      <td>steven_adams</td>\n      <td>1610612763</td>\n      <td>Memphis</td>\n      <td>Grizzlies</td>\n      <td>MEM</td>\n      <td>grizzlies</td>\n      <td>grizzlies</td>\n      <td>Y</td>\n      <td>00</td>\n    </tr>\n    <tr>\n      <th>24</th>\n      <td>1628389</td>\n      <td>Adebayo, Bam</td>\n      <td>Bam Adebayo</td>\n      <td>1</td>\n      <td>2017</td>\n      <td>2021</td>\n      <td>bam_adebayo</td>\n      <td>bam_adebayo</td>\n      <td>1610612748</td>\n      <td>Miami</td>\n      <td>Heat</td>\n      <td>MIA</td>\n      <td>heat</td>\n      <td>heat</td>\n      <td>Y</td>\n      <td>00</td>\n    </tr>\n    <tr>\n      <th>40</th>\n      <td>1630583</td>\n      <td>Aldama, Santi</td>\n      <td>Santi Aldama</td>\n      <td>1</td>\n      <td>2021</td>\n      <td>2021</td>\n      <td>santi_aldama</td>\n      <td>santi_aldama</td>\n      <td>1610612763</td>\n      <td>Memphis</td>\n      <td>Grizzlies</td>\n      <td>MEM</td>\n      <td>grizzlies</td>\n      <td>grizzlies</td>\n      <td>Y</td>\n      <td>11</td>\n    </tr>\n    <tr>\n      <th>43</th>\n      <td>200746</td>\n      <td>Aldridge, LaMarcus</td>\n      <td>LaMarcus Aldridge</td>\n      <td>1</td>\n      <td>2006</td>\n      <td>2021</td>\n      <td>lamarcus_aldridge</td>\n      <td>lamarcus_aldridge</td>\n      <td>1610612751</td>\n      <td>Brooklyn</td>\n      <td>Nets</td>\n      <td>BKN</td>\n      <td>nets</td>\n      <td>nets</td>\n      <td>Y</td>\n      <td>00</td>\n    </tr>\n    <tr>\n      <th>...</th>\n      <td>...</td>\n      <td>...</td>\n      <td>...</td>\n      <td>...</td>\n      <td>...</td>\n      <td>...</td>\n      <td>...</td>\n      <td>...</td>\n      <td>...</td>\n      <td>...</td>\n      <td>...</td>\n      <td>...</td>\n      <td>...</td>\n      <td>...</td>\n      <td>...</td>\n      <td>...</td>\n    </tr>\n    <tr>\n      <th>4701</th>\n      <td>201152</td>\n      <td>Young, Thaddeus</td>\n      <td>Thaddeus Young</td>\n      <td>1</td>\n      <td>2007</td>\n      <td>2021</td>\n      <td>thaddeus_young</td>\n      <td>thaddeus_young</td>\n      <td>1610612759</td>\n      <td>San Antonio</td>\n      <td>Spurs</td>\n      <td>SAS</td>\n      <td>spurs</td>\n      <td>spurs</td>\n      <td>Y</td>\n      <td>00</td>\n    </tr>\n    <tr>\n      <th>4703</th>\n      <td>1629027</td>\n      <td>Young, Trae</td>\n      <td>Trae Young</td>\n      <td>1</td>\n      <td>2018</td>\n      <td>2021</td>\n      <td>trae_young</td>\n      <td>trae_young</td>\n      <td>1610612737</td>\n      <td>Atlanta</td>\n      <td>Hawks</td>\n      <td>ATL</td>\n      <td>hawks</td>\n      <td>hawks</td>\n      <td>Y</td>\n      <td>00</td>\n    </tr>\n    <tr>\n      <th>4704</th>\n      <td>1630209</td>\n      <td>Yurtseven, Omer</td>\n      <td>Omer Yurtseven</td>\n      <td>1</td>\n      <td>2020</td>\n      <td>2021</td>\n      <td>tmp_omer_yurtseven</td>\n      <td>omer_yurtseven</td>\n      <td>1610612748</td>\n      <td>Miami</td>\n      <td>Heat</td>\n      <td>MIA</td>\n      <td>heat</td>\n      <td>heat</td>\n      <td>Y</td>\n      <td>01</td>\n    </tr>\n    <tr>\n      <th>4707</th>\n      <td>203469</td>\n      <td>Zeller, Cody</td>\n      <td>Cody Zeller</td>\n      <td>1</td>\n      <td>2013</td>\n      <td>2021</td>\n      <td>cody_zeller</td>\n      <td>cody_zeller</td>\n      <td>1610612757</td>\n      <td>Portland</td>\n      <td>Trail Blazers</td>\n      <td>POR</td>\n      <td>blazers</td>\n      <td>blazers</td>\n      <td>Y</td>\n      <td>00</td>\n    </tr>\n    <tr>\n      <th>4723</th>\n      <td>1627826</td>\n      <td>Zubac, Ivica</td>\n      <td>Ivica Zubac</td>\n      <td>1</td>\n      <td>2016</td>\n      <td>2021</td>\n      <td>ivica_zubac</td>\n      <td>ivica_zubac</td>\n      <td>1610612746</td>\n      <td>LA</td>\n      <td>Clippers</td>\n      <td>LAC</td>\n      <td>clippers</td>\n      <td>clippers</td>\n      <td>Y</td>\n      <td>01</td>\n    </tr>\n  </tbody>\n</table>\n<p>608 rows × 16 columns</p>\n</div>"
     },
     "execution_count": 2,
     "metadata": {},
     "output_type": "execute_result"
    }
   ],
   "source": [
    "from_year = 2021\n",
    "\n",
    "total_players = commonallplayers.CommonAllPlayers().get_data_frames()[0]\n",
    "total_players['TO_YEAR'] = total_players['TO_YEAR'].astype('int')\n",
    "total_players = total_players[total_players['TO_YEAR'] == from_year]\n",
    "\n",
    "#Ho controllato che in total_players, il PERSON_ID sia univoco\n",
    "total_players"
   ],
   "metadata": {
    "collapsed": false,
    "pycharm": {
     "name": "#%%\n"
    }
   }
  },
  {
   "cell_type": "code",
   "execution_count": null,
   "outputs": [],
   "source": [
    "# all_teams_history = list(total_players[\"TEAM_ID\"].drop_duplicates())\n",
    "# data_all_team_stats = pd.DataFrame()\n",
    "#\n",
    "# for team in all_teams_history:\n",
    "#     t = teamyearbyyearstats.TeamYearByYearStats(team_id=team).get_data_frames()[0]\n",
    "#     #t[\"SEASON_ID\"] = t[t[\"SEASON_ID\"] == \"2021-22\"] # Non cambia tanto perchè nel get prende tutti\n",
    "#     data_all_team_stats = pd.concat([data_all_team_stats, t], axis=0, ignore_index=True)\n",
    "#\n",
    "# data_all_team_stats = data_all_team_stats.rename(columns={\"YEAR\": \"SEASON_ID\"})\n",
    "# data_all_team_stats = data_all_team_stats[[\"TEAM_ID\", \"SEASON_ID\", \"CONF_RANK\"]]\n",
    "#\n",
    "# with open(\"data_all_team_stats_2022.pkl\",'wb') as f:\n",
    "#     pickle.dump(data_all_team_stats,f)\n",
    "#\n",
    "# data_all_team_stats"
   ],
   "metadata": {
    "collapsed": false,
    "pycharm": {
     "name": "#%%\n",
     "is_executing": true
    }
   }
  },
  {
   "cell_type": "code",
   "execution_count": 3,
   "outputs": [
    {
     "name": "stderr",
     "output_type": "stream",
     "text": [
      "608it [19:13,  1.90s/it]\n"
     ]
    }
   ],
   "source": [
    "total_names = total_players[[\"PERSON_ID\", \"DISPLAY_FIRST_LAST\"]]\n",
    "total_stats = pd.DataFrame()\n",
    "with open(\"data_all_team_stats_2022.pkl\", \"rb\") as f:\n",
    "    data_all_team_stats = pickle.load(f)\n",
    "\n",
    "for index, row in tqdm(total_names.iterrows()):\n",
    "    stats = playercareerstats.PlayerCareerStats(player_id=row[\"PERSON_ID\"]).get_data_frames()[0]\n",
    "\n",
    "    stats = stats.drop(stats.columns[[2, 4, 7]], axis=1)\n",
    "\n",
    "    awards = playerawards.PlayerAwards(player_id=row[\"PERSON_ID\"]).get_data_frames()[0]\n",
    "\n",
    "    awards = awards.drop(awards.columns[[0, 1, 2, 3, 5, 7, 8, 9, 10, 11, 12, 13]], axis=1) #Tolgo anche PERSON_ID\n",
    "    awards = awards.rename(columns={\"SEASON\": \"SEASON_ID\"})\n",
    "    awards = awards.loc[awards[\"DESCRIPTION\"]==\"NBA Most Valuable Player\"]\n",
    "\n",
    "    #merge\n",
    "    stats=stats.merge(awards, how=\"left\", on=\"SEASON_ID\")\n",
    "    #1 to MVP, 0 to other\n",
    "    stats[\"DESCRIPTION\"] = stats[\"DESCRIPTION\"].replace(\"NBA Most Valuable Player\", 1) #Replace the description MVP with 1\n",
    "    stats[\"DESCRIPTION\"] = stats[\"DESCRIPTION\"].fillna(0) #Replace NULL with 0\n",
    "    stats = stats.rename(columns={\"DESCRIPTION\": \"MVP\"})\n",
    "\n",
    "    #merge della classifica in cui è arrivata la squadra in una certa stagione\n",
    "    stats = stats.merge(data_all_team_stats, how=\"inner\", on=[\"SEASON_ID\", \"TEAM_ID\"])\n",
    "\n",
    "    total_stats = pd.concat([total_stats, stats],axis=0,ignore_index=True)\n",
    "\n",
    "\n",
    "#Tolgo la formattazione \"year1-year2\" (2010-11) e lascio solo il secondo anno (2011)\n",
    "total_stats[\"SEASON_ID\"] = [int(\"20\"+x.split(\"-\")[1]) for x in list(total_stats[\"SEASON_ID\"])] #Problema se si prendono dati < anno 2000\n",
    "#Prendo i dati superiore all'anno FROM_YEAR\n",
    "total_stats= total_stats[total_stats[\"SEASON_ID\"] > from_year]\n",
    "\n",
    "\n",
    "with open(\"player_stats_2022.pkl\",'wb') as f:\n",
    "    pickle.dump(total_stats,f)"
   ],
   "metadata": {
    "collapsed": false,
    "pycharm": {
     "name": "#%%\n"
    }
   }
  },
  {
   "cell_type": "markdown",
   "source": [
    "## Predizione 2022, preparo i dati appena scaricati"
   ],
   "metadata": {
    "collapsed": false,
    "pycharm": {
     "name": "#%% md\n"
    }
   }
  },
  {
   "cell_type": "code",
   "execution_count": 4,
   "metadata": {
    "collapsed": false,
    "jupyter": {
     "outputs_hidden": false
    },
    "pycharm": {
     "name": "#%%\n"
    }
   },
   "outputs": [
    {
     "data": {
      "text/plain": "      MVP CONF_RANK PLAYER_ID  SEASON_ID     TEAM_ID  PLAYER_AGE  GP     MIN  \\\n1     0.0         8   1630173       2022  1610612761        22.0  42  1013.0   \n10    0.0         3    203500       2022  1610612763        28.0  50  1311.0   \n15    0.0         3   1628389       2022  1610612748        24.0  28   933.0   \n16    0.0         3   1630583       2022  1610612763        21.0  27   277.0   \n33    0.0         2    200746       2022  1610612751        36.0  36   825.0   \n...   ...       ...       ...        ...         ...         ...  ..     ...   \n3336  0.0        12    201152       2022  1610612759        33.0  26   370.0   \n3340  0.0        12   1629027       2022  1610612737        23.0  47  1625.0   \n3341  0.0         3   1630209       2022  1610612748        23.0  37   547.0   \n3350  0.0        10    203469       2022  1610612757        29.0  27   355.0   \n3357  0.0         8   1627826       2022  1610612746        24.0  48  1164.0   \n\n      FGM  FGA  ...  FT_PCT  OREB  DREB  REB  AST  STL  BLK  TOV   PF   PTS  \n1     137  322  ...   0.545    96   208  304   49   22   27   42   87   326  \n10    125  243  ...   0.573   220   254  474  151   48   33   80   87   325  \n15    191  364  ...   0.764    76   204  280   99   43   17   83   92   508  \n16     37   97  ...   0.600    23    41   64   14    2    7    9   27    90  \n33    207  373  ...   0.853    54   148  202   31   13   39   32   63   484  \n...   ...  ...  ...     ...   ...   ...  ...  ...  ...  ...  ...  ...   ...  \n3336   74  128  ...   0.455    40    53   93   59   23    7   30   38   158  \n3340  443  970  ...   0.892    30   159  189  435   48    4  194   75  1313  \n3341   99  189  ...   0.640    66   165  231   41   15   18   34   67   231  \n3350   51   90  ...   0.776    50    75  125   22    8    6   19   56   140  \n3357  176  270  ...   0.735   127   259  386   61   22   50   67  119   460  \n\n[623 rows x 26 columns]",
      "text/html": "<div>\n<style scoped>\n    .dataframe tbody tr th:only-of-type {\n        vertical-align: middle;\n    }\n\n    .dataframe tbody tr th {\n        vertical-align: top;\n    }\n\n    .dataframe thead th {\n        text-align: right;\n    }\n</style>\n<table border=\"1\" class=\"dataframe\">\n  <thead>\n    <tr style=\"text-align: right;\">\n      <th></th>\n      <th>MVP</th>\n      <th>CONF_RANK</th>\n      <th>PLAYER_ID</th>\n      <th>SEASON_ID</th>\n      <th>TEAM_ID</th>\n      <th>PLAYER_AGE</th>\n      <th>GP</th>\n      <th>MIN</th>\n      <th>FGM</th>\n      <th>FGA</th>\n      <th>...</th>\n      <th>FT_PCT</th>\n      <th>OREB</th>\n      <th>DREB</th>\n      <th>REB</th>\n      <th>AST</th>\n      <th>STL</th>\n      <th>BLK</th>\n      <th>TOV</th>\n      <th>PF</th>\n      <th>PTS</th>\n    </tr>\n  </thead>\n  <tbody>\n    <tr>\n      <th>1</th>\n      <td>0.0</td>\n      <td>8</td>\n      <td>1630173</td>\n      <td>2022</td>\n      <td>1610612761</td>\n      <td>22.0</td>\n      <td>42</td>\n      <td>1013.0</td>\n      <td>137</td>\n      <td>322</td>\n      <td>...</td>\n      <td>0.545</td>\n      <td>96</td>\n      <td>208</td>\n      <td>304</td>\n      <td>49</td>\n      <td>22</td>\n      <td>27</td>\n      <td>42</td>\n      <td>87</td>\n      <td>326</td>\n    </tr>\n    <tr>\n      <th>10</th>\n      <td>0.0</td>\n      <td>3</td>\n      <td>203500</td>\n      <td>2022</td>\n      <td>1610612763</td>\n      <td>28.0</td>\n      <td>50</td>\n      <td>1311.0</td>\n      <td>125</td>\n      <td>243</td>\n      <td>...</td>\n      <td>0.573</td>\n      <td>220</td>\n      <td>254</td>\n      <td>474</td>\n      <td>151</td>\n      <td>48</td>\n      <td>33</td>\n      <td>80</td>\n      <td>87</td>\n      <td>325</td>\n    </tr>\n    <tr>\n      <th>15</th>\n      <td>0.0</td>\n      <td>3</td>\n      <td>1628389</td>\n      <td>2022</td>\n      <td>1610612748</td>\n      <td>24.0</td>\n      <td>28</td>\n      <td>933.0</td>\n      <td>191</td>\n      <td>364</td>\n      <td>...</td>\n      <td>0.764</td>\n      <td>76</td>\n      <td>204</td>\n      <td>280</td>\n      <td>99</td>\n      <td>43</td>\n      <td>17</td>\n      <td>83</td>\n      <td>92</td>\n      <td>508</td>\n    </tr>\n    <tr>\n      <th>16</th>\n      <td>0.0</td>\n      <td>3</td>\n      <td>1630583</td>\n      <td>2022</td>\n      <td>1610612763</td>\n      <td>21.0</td>\n      <td>27</td>\n      <td>277.0</td>\n      <td>37</td>\n      <td>97</td>\n      <td>...</td>\n      <td>0.600</td>\n      <td>23</td>\n      <td>41</td>\n      <td>64</td>\n      <td>14</td>\n      <td>2</td>\n      <td>7</td>\n      <td>9</td>\n      <td>27</td>\n      <td>90</td>\n    </tr>\n    <tr>\n      <th>33</th>\n      <td>0.0</td>\n      <td>2</td>\n      <td>200746</td>\n      <td>2022</td>\n      <td>1610612751</td>\n      <td>36.0</td>\n      <td>36</td>\n      <td>825.0</td>\n      <td>207</td>\n      <td>373</td>\n      <td>...</td>\n      <td>0.853</td>\n      <td>54</td>\n      <td>148</td>\n      <td>202</td>\n      <td>31</td>\n      <td>13</td>\n      <td>39</td>\n      <td>32</td>\n      <td>63</td>\n      <td>484</td>\n    </tr>\n    <tr>\n      <th>...</th>\n      <td>...</td>\n      <td>...</td>\n      <td>...</td>\n      <td>...</td>\n      <td>...</td>\n      <td>...</td>\n      <td>...</td>\n      <td>...</td>\n      <td>...</td>\n      <td>...</td>\n      <td>...</td>\n      <td>...</td>\n      <td>...</td>\n      <td>...</td>\n      <td>...</td>\n      <td>...</td>\n      <td>...</td>\n      <td>...</td>\n      <td>...</td>\n      <td>...</td>\n      <td>...</td>\n    </tr>\n    <tr>\n      <th>3336</th>\n      <td>0.0</td>\n      <td>12</td>\n      <td>201152</td>\n      <td>2022</td>\n      <td>1610612759</td>\n      <td>33.0</td>\n      <td>26</td>\n      <td>370.0</td>\n      <td>74</td>\n      <td>128</td>\n      <td>...</td>\n      <td>0.455</td>\n      <td>40</td>\n      <td>53</td>\n      <td>93</td>\n      <td>59</td>\n      <td>23</td>\n      <td>7</td>\n      <td>30</td>\n      <td>38</td>\n      <td>158</td>\n    </tr>\n    <tr>\n      <th>3340</th>\n      <td>0.0</td>\n      <td>12</td>\n      <td>1629027</td>\n      <td>2022</td>\n      <td>1610612737</td>\n      <td>23.0</td>\n      <td>47</td>\n      <td>1625.0</td>\n      <td>443</td>\n      <td>970</td>\n      <td>...</td>\n      <td>0.892</td>\n      <td>30</td>\n      <td>159</td>\n      <td>189</td>\n      <td>435</td>\n      <td>48</td>\n      <td>4</td>\n      <td>194</td>\n      <td>75</td>\n      <td>1313</td>\n    </tr>\n    <tr>\n      <th>3341</th>\n      <td>0.0</td>\n      <td>3</td>\n      <td>1630209</td>\n      <td>2022</td>\n      <td>1610612748</td>\n      <td>23.0</td>\n      <td>37</td>\n      <td>547.0</td>\n      <td>99</td>\n      <td>189</td>\n      <td>...</td>\n      <td>0.640</td>\n      <td>66</td>\n      <td>165</td>\n      <td>231</td>\n      <td>41</td>\n      <td>15</td>\n      <td>18</td>\n      <td>34</td>\n      <td>67</td>\n      <td>231</td>\n    </tr>\n    <tr>\n      <th>3350</th>\n      <td>0.0</td>\n      <td>10</td>\n      <td>203469</td>\n      <td>2022</td>\n      <td>1610612757</td>\n      <td>29.0</td>\n      <td>27</td>\n      <td>355.0</td>\n      <td>51</td>\n      <td>90</td>\n      <td>...</td>\n      <td>0.776</td>\n      <td>50</td>\n      <td>75</td>\n      <td>125</td>\n      <td>22</td>\n      <td>8</td>\n      <td>6</td>\n      <td>19</td>\n      <td>56</td>\n      <td>140</td>\n    </tr>\n    <tr>\n      <th>3357</th>\n      <td>0.0</td>\n      <td>8</td>\n      <td>1627826</td>\n      <td>2022</td>\n      <td>1610612746</td>\n      <td>24.0</td>\n      <td>48</td>\n      <td>1164.0</td>\n      <td>176</td>\n      <td>270</td>\n      <td>...</td>\n      <td>0.735</td>\n      <td>127</td>\n      <td>259</td>\n      <td>386</td>\n      <td>61</td>\n      <td>22</td>\n      <td>50</td>\n      <td>67</td>\n      <td>119</td>\n      <td>460</td>\n    </tr>\n  </tbody>\n</table>\n<p>623 rows × 26 columns</p>\n</div>"
     },
     "execution_count": 4,
     "metadata": {},
     "output_type": "execute_result"
    }
   ],
   "source": [
    "with open(\"player_stats_2022.pkl\", \"rb\") as f:\n",
    "    season_2021 = pickle.load(f)\n",
    "#tolgo seasons che non ci servono\n",
    "season_2021 = season_2021[season_2021[\"SEASON_ID\"] == 2022]\n",
    "\n",
    "\n",
    "#sposto la colonna MVP per prima per comodita\n",
    "cols = season_2021.columns.tolist()\n",
    "cols = cols[-2:] + cols[:-2]\n",
    "season_2021 = season_2021[cols]\n",
    "\n",
    "season_2021[\"GP\"]=season_2021[\"GP\"].astype('int')\n",
    "season_2021[\"FGM\"]=season_2021[\"FGM\"].astype('int')\n",
    "season_2021[\"FGA\"]=season_2021[\"FGA\"].astype('int')\n",
    "season_2021[\"FG3M\"]=season_2021[\"FG3M\"].astype('int')\n",
    "season_2021[\"FG3A\"]=season_2021[\"FG3A\"].astype('int')\n",
    "season_2021[\"FTM\"]=season_2021[\"FTM\"].astype('int')\n",
    "season_2021[\"FTA\"]=season_2021[\"FTA\"].astype('int')\n",
    "season_2021[\"OREB\"]=season_2021[\"OREB\"].astype('int')\n",
    "season_2021[\"DREB\"]=season_2021[\"DREB\"].astype('int')\n",
    "season_2021[\"REB\"]=season_2021[\"REB\"].astype('int')\n",
    "season_2021[\"AST\"]=season_2021[\"AST\"].astype('int')\n",
    "season_2021[\"STL\"]=season_2021[\"STL\"].astype('int')\n",
    "season_2021[\"BLK\"]=season_2021[\"BLK\"].astype('int')\n",
    "season_2021[\"TOV\"]=season_2021[\"TOV\"].astype('int')\n",
    "season_2021[\"PF\"]=season_2021[\"PF\"].astype('int')\n",
    "season_2021[\"PTS\"]=season_2021[\"PTS\"].astype('int')\n",
    "\n",
    "\n",
    "season_2021"
   ]
  },
  {
   "cell_type": "code",
   "execution_count": 5,
   "metadata": {
    "collapsed": false,
    "jupyter": {
     "outputs_hidden": false
    },
    "pycharm": {
     "name": "#%%\n"
    }
   },
   "outputs": [],
   "source": [
    "#standardizzazione i nostri dati per anno\n",
    "\n",
    "from sklearn.preprocessing import StandardScaler\n",
    "scaler=StandardScaler()\n",
    "\n",
    "num_cols = season_2021.columns\n",
    "num_cols = num_cols.drop([\"MVP\",'CONF_RANK', 'PLAYER_ID', 'SEASON_ID', 'TEAM_ID'])\n",
    "\n",
    "season_2021_norm=pd.DataFrame()\n",
    "season_2021_norm = pd.concat([season_2021_norm, season_2021],axis=0,ignore_index=True)\n"
   ]
  },
  {
   "cell_type": "code",
   "execution_count": 6,
   "metadata": {
    "collapsed": false,
    "jupyter": {
     "outputs_hidden": false
    },
    "pycharm": {
     "name": "#%%\n"
    }
   },
   "outputs": [
    {
     "data": {
      "text/plain": "     MVP CONF_RANK PLAYER_ID  SEASON_ID     TEAM_ID  PLAYER_AGE        GP  \\\n0    0.0         8   1630173       2022  1610612761   -0.929611  0.860350   \n1    0.0         3    203500       2022  1610612763    0.523708  1.321374   \n2    0.0         3   1628389       2022  1610612748   -0.445171  0.053558   \n3    0.0         3   1630583       2022  1610612763   -1.171831 -0.004070   \n4    0.0         2    200746       2022  1610612751    2.461468  0.514582   \n..   ...       ...       ...        ...         ...         ...       ...   \n618  0.0        12    201152       2022  1610612759    1.734808 -0.061698   \n619  0.0        12   1629027       2022  1610612737   -0.687391  1.148490   \n620  0.0         3   1630209       2022  1610612748   -0.687391  0.572210   \n621  0.0        10    203469       2022  1610612757    0.765928 -0.004070   \n622  0.0         8   1627826       2022  1610612746   -0.445171  1.206118   \n\n          MIN       FGM       FGA  ...    FT_PCT      OREB      DREB  \\\n0    0.741159  0.329215  0.423458  ... -0.316168  2.157283  1.323123   \n1    1.290858  0.217868  0.085640  ... -0.222848  5.989125  1.826629   \n2    0.593589  0.830276  0.603057  ...  0.413731  1.539244  1.279340   \n3   -0.616488 -0.598676 -0.538681  ... -0.132860 -0.098559 -0.504824   \n4    0.394369  0.978738  0.641542  ...  0.710357  0.859401  0.666375   \n..        ...       ...       ...  ...       ...       ...       ...   \n618 -0.444938 -0.255356 -0.406119  ... -0.616127  0.426774 -0.373475   \n619  1.870072  3.168560  3.194416  ...  0.840339  0.117755  0.786779   \n620 -0.118438 -0.023383 -0.145273  ...  0.000455  1.230225  0.852454   \n621 -0.472607 -0.468771 -0.568614  ...  0.453726  0.735794 -0.132667   \n622  1.019698  0.691092  0.201097  ...  0.317078  3.115244  1.881358   \n\n          REB       AST       STL       BLK       TOV        PF       PTS  \n0    1.604114 -0.153074  0.133208  0.907689  0.222727  0.898943  0.170034  \n1    3.034179  1.119291  1.464303  1.276968  1.220239  0.898943  0.166659  \n2    1.402223  0.470634  1.208323  0.292223  1.298990  1.017531  0.784306  \n3   -0.414801 -0.589670 -0.890711 -0.323243 -0.643533 -0.524108 -0.626493  \n4    0.746075 -0.377609 -0.327555  1.646248 -0.039776  0.329723  0.703303  \n..        ...       ...       ...       ...       ...       ...       ...  \n618 -0.170849 -0.028332  0.184404 -0.323243 -0.092276 -0.263215 -0.396985  \n619  0.636717  4.661954  1.464303 -0.507883  4.212775  0.614333  3.501274  \n620  0.990027 -0.252867 -0.225164  0.353769  0.012725  0.424593 -0.150602  \n621  0.098340 -0.489876 -0.583535 -0.384790 -0.381030  0.163700 -0.457737  \n622  2.293910 -0.003384  0.133208  2.323261  0.878985  1.657904  0.622300  \n\n[623 rows x 26 columns]",
      "text/html": "<div>\n<style scoped>\n    .dataframe tbody tr th:only-of-type {\n        vertical-align: middle;\n    }\n\n    .dataframe tbody tr th {\n        vertical-align: top;\n    }\n\n    .dataframe thead th {\n        text-align: right;\n    }\n</style>\n<table border=\"1\" class=\"dataframe\">\n  <thead>\n    <tr style=\"text-align: right;\">\n      <th></th>\n      <th>MVP</th>\n      <th>CONF_RANK</th>\n      <th>PLAYER_ID</th>\n      <th>SEASON_ID</th>\n      <th>TEAM_ID</th>\n      <th>PLAYER_AGE</th>\n      <th>GP</th>\n      <th>MIN</th>\n      <th>FGM</th>\n      <th>FGA</th>\n      <th>...</th>\n      <th>FT_PCT</th>\n      <th>OREB</th>\n      <th>DREB</th>\n      <th>REB</th>\n      <th>AST</th>\n      <th>STL</th>\n      <th>BLK</th>\n      <th>TOV</th>\n      <th>PF</th>\n      <th>PTS</th>\n    </tr>\n  </thead>\n  <tbody>\n    <tr>\n      <th>0</th>\n      <td>0.0</td>\n      <td>8</td>\n      <td>1630173</td>\n      <td>2022</td>\n      <td>1610612761</td>\n      <td>-0.929611</td>\n      <td>0.860350</td>\n      <td>0.741159</td>\n      <td>0.329215</td>\n      <td>0.423458</td>\n      <td>...</td>\n      <td>-0.316168</td>\n      <td>2.157283</td>\n      <td>1.323123</td>\n      <td>1.604114</td>\n      <td>-0.153074</td>\n      <td>0.133208</td>\n      <td>0.907689</td>\n      <td>0.222727</td>\n      <td>0.898943</td>\n      <td>0.170034</td>\n    </tr>\n    <tr>\n      <th>1</th>\n      <td>0.0</td>\n      <td>3</td>\n      <td>203500</td>\n      <td>2022</td>\n      <td>1610612763</td>\n      <td>0.523708</td>\n      <td>1.321374</td>\n      <td>1.290858</td>\n      <td>0.217868</td>\n      <td>0.085640</td>\n      <td>...</td>\n      <td>-0.222848</td>\n      <td>5.989125</td>\n      <td>1.826629</td>\n      <td>3.034179</td>\n      <td>1.119291</td>\n      <td>1.464303</td>\n      <td>1.276968</td>\n      <td>1.220239</td>\n      <td>0.898943</td>\n      <td>0.166659</td>\n    </tr>\n    <tr>\n      <th>2</th>\n      <td>0.0</td>\n      <td>3</td>\n      <td>1628389</td>\n      <td>2022</td>\n      <td>1610612748</td>\n      <td>-0.445171</td>\n      <td>0.053558</td>\n      <td>0.593589</td>\n      <td>0.830276</td>\n      <td>0.603057</td>\n      <td>...</td>\n      <td>0.413731</td>\n      <td>1.539244</td>\n      <td>1.279340</td>\n      <td>1.402223</td>\n      <td>0.470634</td>\n      <td>1.208323</td>\n      <td>0.292223</td>\n      <td>1.298990</td>\n      <td>1.017531</td>\n      <td>0.784306</td>\n    </tr>\n    <tr>\n      <th>3</th>\n      <td>0.0</td>\n      <td>3</td>\n      <td>1630583</td>\n      <td>2022</td>\n      <td>1610612763</td>\n      <td>-1.171831</td>\n      <td>-0.004070</td>\n      <td>-0.616488</td>\n      <td>-0.598676</td>\n      <td>-0.538681</td>\n      <td>...</td>\n      <td>-0.132860</td>\n      <td>-0.098559</td>\n      <td>-0.504824</td>\n      <td>-0.414801</td>\n      <td>-0.589670</td>\n      <td>-0.890711</td>\n      <td>-0.323243</td>\n      <td>-0.643533</td>\n      <td>-0.524108</td>\n      <td>-0.626493</td>\n    </tr>\n    <tr>\n      <th>4</th>\n      <td>0.0</td>\n      <td>2</td>\n      <td>200746</td>\n      <td>2022</td>\n      <td>1610612751</td>\n      <td>2.461468</td>\n      <td>0.514582</td>\n      <td>0.394369</td>\n      <td>0.978738</td>\n      <td>0.641542</td>\n      <td>...</td>\n      <td>0.710357</td>\n      <td>0.859401</td>\n      <td>0.666375</td>\n      <td>0.746075</td>\n      <td>-0.377609</td>\n      <td>-0.327555</td>\n      <td>1.646248</td>\n      <td>-0.039776</td>\n      <td>0.329723</td>\n      <td>0.703303</td>\n    </tr>\n    <tr>\n      <th>...</th>\n      <td>...</td>\n      <td>...</td>\n      <td>...</td>\n      <td>...</td>\n      <td>...</td>\n      <td>...</td>\n      <td>...</td>\n      <td>...</td>\n      <td>...</td>\n      <td>...</td>\n      <td>...</td>\n      <td>...</td>\n      <td>...</td>\n      <td>...</td>\n      <td>...</td>\n      <td>...</td>\n      <td>...</td>\n      <td>...</td>\n      <td>...</td>\n      <td>...</td>\n      <td>...</td>\n    </tr>\n    <tr>\n      <th>618</th>\n      <td>0.0</td>\n      <td>12</td>\n      <td>201152</td>\n      <td>2022</td>\n      <td>1610612759</td>\n      <td>1.734808</td>\n      <td>-0.061698</td>\n      <td>-0.444938</td>\n      <td>-0.255356</td>\n      <td>-0.406119</td>\n      <td>...</td>\n      <td>-0.616127</td>\n      <td>0.426774</td>\n      <td>-0.373475</td>\n      <td>-0.170849</td>\n      <td>-0.028332</td>\n      <td>0.184404</td>\n      <td>-0.323243</td>\n      <td>-0.092276</td>\n      <td>-0.263215</td>\n      <td>-0.396985</td>\n    </tr>\n    <tr>\n      <th>619</th>\n      <td>0.0</td>\n      <td>12</td>\n      <td>1629027</td>\n      <td>2022</td>\n      <td>1610612737</td>\n      <td>-0.687391</td>\n      <td>1.148490</td>\n      <td>1.870072</td>\n      <td>3.168560</td>\n      <td>3.194416</td>\n      <td>...</td>\n      <td>0.840339</td>\n      <td>0.117755</td>\n      <td>0.786779</td>\n      <td>0.636717</td>\n      <td>4.661954</td>\n      <td>1.464303</td>\n      <td>-0.507883</td>\n      <td>4.212775</td>\n      <td>0.614333</td>\n      <td>3.501274</td>\n    </tr>\n    <tr>\n      <th>620</th>\n      <td>0.0</td>\n      <td>3</td>\n      <td>1630209</td>\n      <td>2022</td>\n      <td>1610612748</td>\n      <td>-0.687391</td>\n      <td>0.572210</td>\n      <td>-0.118438</td>\n      <td>-0.023383</td>\n      <td>-0.145273</td>\n      <td>...</td>\n      <td>0.000455</td>\n      <td>1.230225</td>\n      <td>0.852454</td>\n      <td>0.990027</td>\n      <td>-0.252867</td>\n      <td>-0.225164</td>\n      <td>0.353769</td>\n      <td>0.012725</td>\n      <td>0.424593</td>\n      <td>-0.150602</td>\n    </tr>\n    <tr>\n      <th>621</th>\n      <td>0.0</td>\n      <td>10</td>\n      <td>203469</td>\n      <td>2022</td>\n      <td>1610612757</td>\n      <td>0.765928</td>\n      <td>-0.004070</td>\n      <td>-0.472607</td>\n      <td>-0.468771</td>\n      <td>-0.568614</td>\n      <td>...</td>\n      <td>0.453726</td>\n      <td>0.735794</td>\n      <td>-0.132667</td>\n      <td>0.098340</td>\n      <td>-0.489876</td>\n      <td>-0.583535</td>\n      <td>-0.384790</td>\n      <td>-0.381030</td>\n      <td>0.163700</td>\n      <td>-0.457737</td>\n    </tr>\n    <tr>\n      <th>622</th>\n      <td>0.0</td>\n      <td>8</td>\n      <td>1627826</td>\n      <td>2022</td>\n      <td>1610612746</td>\n      <td>-0.445171</td>\n      <td>1.206118</td>\n      <td>1.019698</td>\n      <td>0.691092</td>\n      <td>0.201097</td>\n      <td>...</td>\n      <td>0.317078</td>\n      <td>3.115244</td>\n      <td>1.881358</td>\n      <td>2.293910</td>\n      <td>-0.003384</td>\n      <td>0.133208</td>\n      <td>2.323261</td>\n      <td>0.878985</td>\n      <td>1.657904</td>\n      <td>0.622300</td>\n    </tr>\n  </tbody>\n</table>\n<p>623 rows × 26 columns</p>\n</div>"
     },
     "execution_count": 6,
     "metadata": {},
     "output_type": "execute_result"
    }
   ],
   "source": [
    "\n",
    "for col in num_cols.tolist():\n",
    "    season_2021_norm[[col]] = scaler.fit_transform(season_2021[[col]].to_numpy().reshape(-1,1))\n",
    "\n",
    "season_2021_norm"
   ]
  },
  {
   "cell_type": "markdown",
   "metadata": {
    "pycharm": {
     "name": "#%% md\n"
    }
   },
   "source": [
    "## Predict 2022"
   ]
  },
  {
   "cell_type": "code",
   "execution_count": 7,
   "metadata": {
    "collapsed": false,
    "jupyter": {
     "outputs_hidden": false
    },
    "pycharm": {
     "name": "#%%\n"
    }
   },
   "outputs": [
    {
     "name": "stdout",
     "output_type": "stream",
     "text": [
      "The balanced accuracy score is  0.9951845906902087\n"
     ]
    },
    {
     "name": "stderr",
     "output_type": "stream",
     "text": [
      "/home/thomas/anaconda3/envs/ml/lib/python3.10/site-packages/sklearn/metrics/_classification.py:1987: UserWarning: y_pred contains classes not in y_true\n",
      "  warnings.warn(\"y_pred contains classes not in y_true\")\n"
     ]
    }
   ],
   "source": [
    "from sklearn.metrics import accuracy_score, confusion_matrix, classification_report, balanced_accuracy_score\n",
    "test_2021_labels = season_2021_norm[[\"MVP\"]]\n",
    "\n",
    "name_model = \"log_reg\"\n",
    "\n",
    "# with open(\"svm_40.pkl\", \"rb\") as f:\n",
    "with open(name_model+\".pkl\", \"rb\") as f:\n",
    "# with open(\"svm.pkl\", \"rb\") as f:\n",
    "# with open(\"rf.pkl\", \"rb\") as f:\n",
    "# with open(\"log_reg.pkl\", \"rb\") as f:\n",
    "\n",
    "    log_reg = pickle.load(f)\n",
    "\n",
    "\n",
    "    ###                             ###\n",
    "\n",
    "# train_2021 = season_2021_norm[[\"CONF_RANK\", \"GP\", \"MIN\", \"FGM\", \"FG_PCT\", \"FG3M\", \"FG3_PCT\", \"FTM\", \"FT_PCT\", \"OREB\", \"DREB\", \"AST\", \"STL\", \"BLK\", \"TOV\", \"PF\"]]\n",
    "train_2021 = season_2021_norm[[\"CONF_RANK\", \"GP\", \"MIN\", \"FG_PCT\", \"FG3M\", \"FG3_PCT\", \"FTM\", \"FT_PCT\", \"OREB\", \"DREB\", \"AST\", \"STL\", \"BLK\", \"PF\"]]\n",
    "# train_2021 = season_2021_norm.drop([\"MVP\", 'PLAYER_ID', 'SEASON_ID', 'TEAM_ID', \"PLAYER_AGE\"], axis=1)\n",
    "\n",
    "\n",
    "predicted_labels = log_reg.predict(train_2021)\n",
    "print(f\"The balanced accuracy score is  {balanced_accuracy_score(test_2021_labels,predicted_labels)}\")"
   ]
  },
  {
   "cell_type": "code",
   "execution_count": 8,
   "metadata": {
    "collapsed": false,
    "jupyter": {
     "outputs_hidden": false
    },
    "pycharm": {
     "name": "#%%\n"
    }
   },
   "outputs": [],
   "source": [
    "#Unisco i dataset\n",
    "predict_2021 = pd.DataFrame(predicted_labels, columns=[\"MVP_Predict\"])\n",
    "predict_2021[\"PLAYER_ID\"] = list(season_2021[\"PLAYER_ID\"])\n",
    "\n",
    "winners_id = predict_2021.loc[predict_2021[\"MVP_Predict\"] == 1, \"PLAYER_ID\"]"
   ]
  },
  {
   "cell_type": "code",
   "execution_count": 9,
   "metadata": {
    "collapsed": false,
    "jupyter": {
     "outputs_hidden": false
    },
    "pycharm": {
     "name": "#%%\n"
    }
   },
   "outputs": [
    {
     "name": "stdout",
     "output_type": "stream",
     "text": [
      "{'id': 201942, 'full_name': 'DeMar DeRozan', 'first_name': 'DeMar', 'last_name': 'DeRozan', 'is_active': True}\n",
      "{'id': 201935, 'full_name': 'James Harden', 'first_name': 'James', 'last_name': 'Harden', 'is_active': True}\n",
      "{'id': 101108, 'full_name': 'Chris Paul', 'first_name': 'Chris', 'last_name': 'Paul', 'is_active': True}\n"
     ]
    }
   ],
   "source": [
    "from nba_api.stats.static import players\n",
    "\n",
    "for id in list(winners_id):\n",
    "    print(players.find_player_by_id(id))"
   ]
  },
  {
   "cell_type": "markdown",
   "metadata": {
    "pycharm": {
     "name": "#%% md\n"
    }
   },
   "source": [
    "### PROBABILITIES 2021"
   ]
  },
  {
   "cell_type": "code",
   "execution_count": 10,
   "metadata": {
    "collapsed": false,
    "jupyter": {
     "outputs_hidden": false
    },
    "pycharm": {
     "name": "#%%\n"
    }
   },
   "outputs": [
    {
     "data": {
      "text/plain": "        id              full_name first_name      last_name is_active  \\\n0   201935           James Harden      James         Harden      True   \n1   101108             Chris Paul      Chris           Paul      True   \n2   201942          DeMar DeRozan      DeMar        DeRozan      True   \n3   201142           Kevin Durant      Kevin         Durant      True   \n4   201939          Stephen Curry    Stephen          Curry      True   \n5   203897            Zach LaVine       Zach         LaVine      True   \n6  1629630              Ja Morant         Ja         Morant      True   \n7   203999           Nikola Jokic     Nikola          Jokic      True   \n8   203507  Giannis Antetokounmpo    Giannis  Antetokounmpo      True   \n9   202696         Nikola Vucevic     Nikola        Vucevic      True   \n\n   mvp_prob  \n0  0.992424  \n1  0.967933  \n2  0.611086  \n3  0.164059  \n4  0.160973  \n5  0.076319  \n6  0.033209  \n7  0.022776  \n8  0.017760  \n9  0.007870  ",
      "text/html": "<div>\n<style scoped>\n    .dataframe tbody tr th:only-of-type {\n        vertical-align: middle;\n    }\n\n    .dataframe tbody tr th {\n        vertical-align: top;\n    }\n\n    .dataframe thead th {\n        text-align: right;\n    }\n</style>\n<table border=\"1\" class=\"dataframe\">\n  <thead>\n    <tr style=\"text-align: right;\">\n      <th></th>\n      <th>id</th>\n      <th>full_name</th>\n      <th>first_name</th>\n      <th>last_name</th>\n      <th>is_active</th>\n      <th>mvp_prob</th>\n    </tr>\n  </thead>\n  <tbody>\n    <tr>\n      <th>0</th>\n      <td>201935</td>\n      <td>James Harden</td>\n      <td>James</td>\n      <td>Harden</td>\n      <td>True</td>\n      <td>0.992424</td>\n    </tr>\n    <tr>\n      <th>1</th>\n      <td>101108</td>\n      <td>Chris Paul</td>\n      <td>Chris</td>\n      <td>Paul</td>\n      <td>True</td>\n      <td>0.967933</td>\n    </tr>\n    <tr>\n      <th>2</th>\n      <td>201942</td>\n      <td>DeMar DeRozan</td>\n      <td>DeMar</td>\n      <td>DeRozan</td>\n      <td>True</td>\n      <td>0.611086</td>\n    </tr>\n    <tr>\n      <th>3</th>\n      <td>201142</td>\n      <td>Kevin Durant</td>\n      <td>Kevin</td>\n      <td>Durant</td>\n      <td>True</td>\n      <td>0.164059</td>\n    </tr>\n    <tr>\n      <th>4</th>\n      <td>201939</td>\n      <td>Stephen Curry</td>\n      <td>Stephen</td>\n      <td>Curry</td>\n      <td>True</td>\n      <td>0.160973</td>\n    </tr>\n    <tr>\n      <th>5</th>\n      <td>203897</td>\n      <td>Zach LaVine</td>\n      <td>Zach</td>\n      <td>LaVine</td>\n      <td>True</td>\n      <td>0.076319</td>\n    </tr>\n    <tr>\n      <th>6</th>\n      <td>1629630</td>\n      <td>Ja Morant</td>\n      <td>Ja</td>\n      <td>Morant</td>\n      <td>True</td>\n      <td>0.033209</td>\n    </tr>\n    <tr>\n      <th>7</th>\n      <td>203999</td>\n      <td>Nikola Jokic</td>\n      <td>Nikola</td>\n      <td>Jokic</td>\n      <td>True</td>\n      <td>0.022776</td>\n    </tr>\n    <tr>\n      <th>8</th>\n      <td>203507</td>\n      <td>Giannis Antetokounmpo</td>\n      <td>Giannis</td>\n      <td>Antetokounmpo</td>\n      <td>True</td>\n      <td>0.017760</td>\n    </tr>\n    <tr>\n      <th>9</th>\n      <td>202696</td>\n      <td>Nikola Vucevic</td>\n      <td>Nikola</td>\n      <td>Vucevic</td>\n      <td>True</td>\n      <td>0.007870</td>\n    </tr>\n  </tbody>\n</table>\n</div>"
     },
     "execution_count": 10,
     "metadata": {},
     "output_type": "execute_result"
    }
   ],
   "source": [
    "\n",
    "# test_2021_labels = season_2021_norm[[\"MVP\"]]\n",
    "#\n",
    "# with open(\"log_reg.pkl\", \"rb\") as f:\n",
    "#     log_reg = pickle.load(f)\n",
    "\n",
    "#train_2021 = season_2021_norm[[\"GP\", \"MIN\", \"FGM\", \"FG_PCT\", \"FG3M\", \"FG3_PCT\", \"FTM\", \"FT_PCT\", \"OREB\", \"DREB\", \"AST\", \"STL\", \"BLK\", \"TOV\", \"PF\", 'CONF_RANK']]\n",
    "predicted_labels = pd.DataFrame(log_reg.predict_proba(train_2021))\n",
    "\n",
    "predicted_labels.rename(columns={0:'NOT',1:'MVP'},inplace=True)\n",
    "\n",
    "predicted_labels = pd.DataFrame(predicted_labels, columns=[\"MVP\"])\n",
    "predicted_labels[\"PLAYER_ID\"] = list(season_2021[\"PLAYER_ID\"])\n",
    "\n",
    "#Sort\n",
    "mvp_candidates = predicted_labels.sort_values(by='MVP',ascending=False)\n",
    "\n",
    "#Take only better\n",
    "mvp_candidates = mvp_candidates.head(10)\n",
    "\n",
    "mvp_candidates_names = pd.DataFrame()\n",
    "# for row, id in mvp_candidates[\"PLAYER_ID\"].iterrows():\n",
    "#     name_player = players.find_player_by_id(id[\"PLAYER_ID\"])\n",
    "#     if name_player is not None:\n",
    "#         name = pd.DataFrame.from_dict(name_player, orient=\"index\")\n",
    "#\n",
    "#         name = name.transpose()\n",
    "#         name[\"mvp_prob\"] = list(id[\"MVP\"])\n",
    "#         mvp_candidates_names = pd.concat([mvp_candidates_names,name], axis=0, ignore_index=True)\n",
    "\n",
    "for id in list(mvp_candidates[\"PLAYER_ID\"]):\n",
    "    name_player = players.find_player_by_id(id)\n",
    "    name = pd.DataFrame.from_dict(name_player, orient=\"index\")\n",
    "\n",
    "    name = name.transpose()\n",
    "    mvp_candidates_names = pd.concat([mvp_candidates_names,name], axis=0, ignore_index=True)\n",
    "\n",
    "mvp_candidates_names[\"mvp_prob\"] = list(mvp_candidates[\"MVP\"])\n",
    "mvp_candidates_names"
   ]
  },
  {
   "cell_type": "code",
   "execution_count": 11,
   "metadata": {
    "collapsed": false,
    "jupyter": {
     "outputs_hidden": false
    },
    "pycharm": {
     "name": "#%%\n"
    }
   },
   "outputs": [
    {
     "data": {
      "text/plain": "<Figure size 432x288 with 1 Axes>",
      "image/png": "[encoded data removed]"
     },
     "metadata": {
      "needs_background": "light"
     },
     "output_type": "display_data"
    }
   ],
   "source": [
    "import seaborn as sns\n",
    "import matplotlib.pyplot as plt\n",
    "#mvp_candidates_names.plot.bar(x='full_name',y='mvp_prob' )\n",
    "sns.barplot(x='full_name',y='mvp_prob',data=mvp_candidates_names.head(10))\n",
    "plt.xticks(rotation=90)\n",
    "plt.savefig('plot/'+name_model+'_2022.png', bbox_inches='tight')"
   ]
  }
 ],
 "metadata": {
  "kernelspec": {
   "display_name": "Python 3 (ipykernel)",
   "language": "python",
   "name": "python3"
  },
  "language_info": {
   "codemirror_mode": {
    "name": "ipython",
    "version": 3
   },
   "file_extension": ".py",
   "mimetype": "text/x-python",
   "name": "python",
   "nbconvert_exporter": "python",
   "pygments_lexer": "ipython3",
   "version": "3.9.7"
  }
 },
 "nbformat": 4,
 "nbformat_minor": 4
}