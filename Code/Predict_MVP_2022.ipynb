{
 "cells": [
  {
   "cell_type": "markdown",
   "metadata": {
    "pycharm": {
     "name": "#%% md\n"
    }
   },
   "source": [
    "# Predict MVP 2022 TEST\n"
   ]
  },
  {
   "cell_type": "code",
   "execution_count": 1,
   "metadata": {
    "collapsed": false,
    "jupyter": {
     "outputs_hidden": false
    },
    "pycharm": {
     "name": "#%%\n"
    }
   },
   "outputs": [],
   "source": [
    "import pickle\n",
    "import pandas as pd\n",
    "import numpy as np\n",
    "from nba_api.stats.endpoints import commonallplayers #per avere l'elenco dei giocatori (id)\n",
    "from nba_api.stats.endpoints import playercareerstats #per avere i dati\n",
    "from nba_api.stats.endpoints import playerawards #per sapere chi ha vinto MVP\n",
    "from nba_api.stats.endpoints import teamyearbyyearstats #classifiche finali delle squadre\n",
    "import pandas as pd\n",
    "from tqdm import tqdm\n",
    "import pickle"
   ]
  },
  {
   "cell_type": "markdown",
   "source": [
    "## Scarico i giocatori 2022"
   ],
   "metadata": {
    "collapsed": false,
    "pycharm": {
     "name": "#%% md\n"
    }
   }
  },
  {
   "cell_type": "code",
   "execution_count": 2,
   "outputs": [
    {
     "data": {
      "text/plain": "      PERSON_ID DISPLAY_LAST_COMMA_FIRST DISPLAY_FIRST_LAST  ROSTERSTATUS  \\\n10      1630173        Achiuwa, Precious   Precious Achiuwa             1   \n22       203500            Adams, Steven       Steven Adams             1   \n24      1628389             Adebayo, Bam        Bam Adebayo             1   \n40      1630583            Aldama, Santi       Santi Aldama             1   \n43       200746       Aldridge, LaMarcus  LaMarcus Aldridge             1   \n...         ...                      ...                ...           ...   \n4704     201152          Young, Thaddeus     Thaddeus Young             1   \n4706    1629027              Young, Trae         Trae Young             1   \n4707    1630209          Yurtseven, Omer     Omer Yurtseven             1   \n4710     203469             Zeller, Cody        Cody Zeller             0   \n4726    1627826             Zubac, Ivica        Ivica Zubac             1   \n\n     FROM_YEAR  TO_YEAR          PLAYERCODE        PLAYER_SLUG     TEAM_ID  \\\n10        2020     2021    precious_achiuwa   precious_achiuwa  1610612761   \n22        2013     2021        steven_adams       steven_adams  1610612763   \n24        2017     2021         bam_adebayo        bam_adebayo  1610612748   \n40        2021     2021        santi_aldama       santi_aldama  1610612763   \n43        2006     2021   lamarcus_aldridge  lamarcus_aldridge  1610612751   \n...        ...      ...                 ...                ...         ...   \n4704      2007     2021      thaddeus_young     thaddeus_young  1610612761   \n4706      2018     2021          trae_young         trae_young  1610612737   \n4707      2020     2021  tmp_omer_yurtseven     omer_yurtseven  1610612748   \n4710      2013     2021         cody_zeller        cody_zeller           0   \n4726      2016     2021         ivica_zubac        ivica_zubac  1610612746   \n\n     TEAM_CITY  TEAM_NAME TEAM_ABBREVIATION  TEAM_CODE  TEAM_SLUG  \\\n10     Toronto    Raptors               TOR    raptors    raptors   \n22     Memphis  Grizzlies               MEM  grizzlies  grizzlies   \n24       Miami       Heat               MIA       heat       heat   \n40     Memphis  Grizzlies               MEM  grizzlies  grizzlies   \n43    Brooklyn       Nets               BKN       nets       nets   \n...        ...        ...               ...        ...        ...   \n4704   Toronto    Raptors               TOR    raptors    raptors   \n4706   Atlanta      Hawks               ATL      hawks      hawks   \n4707     Miami       Heat               MIA       heat       heat   \n4710                                                         None   \n4726        LA   Clippers               LAC   clippers   clippers   \n\n     GAMES_PLAYED_FLAG OTHERLEAGUE_EXPERIENCE_CH  \n10                   Y                        00  \n22                   Y                        00  \n24                   Y                        00  \n40                   Y                        11  \n43                   Y                        00  \n...                ...                       ...  \n4704                 Y                        00  \n4706                 Y                        00  \n4707                 Y                        01  \n4710                 Y                        00  \n4726                 Y                        01  \n\n[610 rows x 16 columns]",
      "text/html": "<div>\n<style scoped>\n    .dataframe tbody tr th:only-of-type {\n        vertical-align: middle;\n    }\n\n    .dataframe tbody tr th {\n        vertical-align: top;\n    }\n\n    .dataframe thead th {\n        text-align: right;\n    }\n</style>\n<table border=\"1\" class=\"dataframe\">\n  <thead>\n    <tr style=\"text-align: right;\">\n      <th></th>\n      <th>PERSON_ID</th>\n      <th>DISPLAY_LAST_COMMA_FIRST</th>\n      <th>DISPLAY_FIRST_LAST</th>\n      <th>ROSTERSTATUS</th>\n      <th>FROM_YEAR</th>\n      <th>TO_YEAR</th>\n      <th>PLAYERCODE</th>\n      <th>PLAYER_SLUG</th>\n      <th>TEAM_ID</th>\n      <th>TEAM_CITY</th>\n      <th>TEAM_NAME</th>\n      <th>TEAM_ABBREVIATION</th>\n      <th>TEAM_CODE</th>\n      <th>TEAM_SLUG</th>\n      <th>GAMES_PLAYED_FLAG</th>\n      <th>OTHERLEAGUE_EXPERIENCE_CH</th>\n    </tr>\n  </thead>\n  <tbody>\n    <tr>\n      <th>10</th>\n      <td>1630173</td>\n      <td>Achiuwa, Precious</td>\n      <td>Precious Achiuwa</td>\n      <td>1</td>\n      <td>2020</td>\n      <td>2021</td>\n      <td>precious_achiuwa</td>\n      <td>precious_achiuwa</td>\n      <td>1610612761</td>\n      <td>Toronto</td>\n      <td>Raptors</td>\n      <td>TOR</td>\n      <td>raptors</td>\n      <td>raptors</td>\n      <td>Y</td>\n      <td>00</td>\n    </tr>\n    <tr>\n      <th>22</th>\n      <td>203500</td>\n      <td>Adams, Steven</td>\n      <td>Steven Adams</td>\n      <td>1</td>\n      <td>2013</td>\n      <td>2021</td>\n      <td>steven_adams</td>\n      <td>steven_adams</td>\n      <td>1610612763</td>\n      <td>Memphis</td>\n      <td>Grizzlies</td>\n      <td>MEM</td>\n      <td>grizzlies</td>\n      <td>grizzlies</td>\n      <td>Y</td>\n      <td>00</td>\n    </tr>\n    <tr>\n      <th>24</th>\n      <td>1628389</td>\n      <td>Adebayo, Bam</td>\n      <td>Bam Adebayo</td>\n      <td>1</td>\n      <td>2017</td>\n      <td>2021</td>\n      <td>bam_adebayo</td>\n      <td>bam_adebayo</td>\n      <td>1610612748</td>\n      <td>Miami</td>\n      <td>Heat</td>\n      <td>MIA</td>\n      <td>heat</td>\n      <td>heat</td>\n      <td>Y</td>\n      <td>00</td>\n    </tr>\n    <tr>\n      <th>40</th>\n      <td>1630583</td>\n      <td>Aldama, Santi</td>\n      <td>Santi Aldama</td>\n      <td>1</td>\n      <td>2021</td>\n      <td>2021</td>\n      <td>santi_aldama</td>\n      <td>santi_aldama</td>\n      <td>1610612763</td>\n      <td>Memphis</td>\n      <td>Grizzlies</td>\n      <td>MEM</td>\n      <td>grizzlies</td>\n      <td>grizzlies</td>\n      <td>Y</td>\n      <td>11</td>\n    </tr>\n    <tr>\n      <th>43</th>\n      <td>200746</td>\n      <td>Aldridge, LaMarcus</td>\n      <td>LaMarcus Aldridge</td>\n      <td>1</td>\n      <td>2006</td>\n      <td>2021</td>\n      <td>lamarcus_aldridge</td>\n      <td>lamarcus_aldridge</td>\n      <td>1610612751</td>\n      <td>Brooklyn</td>\n      <td>Nets</td>\n      <td>BKN</td>\n      <td>nets</td>\n      <td>nets</td>\n      <td>Y</td>\n      <td>00</td>\n    </tr>\n    <tr>\n      <th>...</th>\n      <td>...</td>\n      <td>...</td>\n      <td>...</td>\n      <td>...</td>\n      <td>...</td>\n      <td>...</td>\n      <td>...</td>\n      <td>...</td>\n      <td>...</td>\n      <td>...</td>\n      <td>...</td>\n      <td>...</td>\n      <td>...</td>\n      <td>...</td>\n      <td>...</td>\n      <td>...</td>\n    </tr>\n    <tr>\n      <th>4704</th>\n      <td>201152</td>\n      <td>Young, Thaddeus</td>\n      <td>Thaddeus Young</td>\n      <td>1</td>\n      <td>2007</td>\n      <td>2021</td>\n      <td>thaddeus_young</td>\n      <td>thaddeus_young</td>\n      <td>1610612761</td>\n      <td>Toronto</td>\n      <td>Raptors</td>\n      <td>TOR</td>\n      <td>raptors</td>\n      <td>raptors</td>\n      <td>Y</td>\n      <td>00</td>\n    </tr>\n    <tr>\n      <th>4706</th>\n      <td>1629027</td>\n      <td>Young, Trae</td>\n      <td>Trae Young</td>\n      <td>1</td>\n      <td>2018</td>\n      <td>2021</td>\n      <td>trae_young</td>\n      <td>trae_young</td>\n      <td>1610612737</td>\n      <td>Atlanta</td>\n      <td>Hawks</td>\n      <td>ATL</td>\n      <td>hawks</td>\n      <td>hawks</td>\n      <td>Y</td>\n      <td>00</td>\n    </tr>\n    <tr>\n      <th>4707</th>\n      <td>1630209</td>\n      <td>Yurtseven, Omer</td>\n      <td>Omer Yurtseven</td>\n      <td>1</td>\n      <td>2020</td>\n      <td>2021</td>\n      <td>tmp_omer_yurtseven</td>\n      <td>omer_yurtseven</td>\n      <td>1610612748</td>\n      <td>Miami</td>\n      <td>Heat</td>\n      <td>MIA</td>\n      <td>heat</td>\n      <td>heat</td>\n      <td>Y</td>\n      <td>01</td>\n    </tr>\n    <tr>\n      <th>4710</th>\n      <td>203469</td>\n      <td>Zeller, Cody</td>\n      <td>Cody Zeller</td>\n      <td>0</td>\n      <td>2013</td>\n      <td>2021</td>\n      <td>cody_zeller</td>\n      <td>cody_zeller</td>\n      <td>0</td>\n      <td></td>\n      <td></td>\n      <td></td>\n      <td></td>\n      <td>None</td>\n      <td>Y</td>\n      <td>00</td>\n    </tr>\n    <tr>\n      <th>4726</th>\n      <td>1627826</td>\n      <td>Zubac, Ivica</td>\n      <td>Ivica Zubac</td>\n      <td>1</td>\n      <td>2016</td>\n      <td>2021</td>\n      <td>ivica_zubac</td>\n      <td>ivica_zubac</td>\n      <td>1610612746</td>\n      <td>LA</td>\n      <td>Clippers</td>\n      <td>LAC</td>\n      <td>clippers</td>\n      <td>clippers</td>\n      <td>Y</td>\n      <td>01</td>\n    </tr>\n  </tbody>\n</table>\n<p>610 rows × 16 columns</p>\n</div>"
     },
     "execution_count": 2,
     "metadata": {},
     "output_type": "execute_result"
    }
   ],
   "source": [
    "from_year = 2021\n",
    "\n",
    "total_players = commonallplayers.CommonAllPlayers().get_data_frames()[0]\n",
    "total_players['TO_YEAR'] = total_players['TO_YEAR'].astype('int')\n",
    "total_players = total_players[total_players['TO_YEAR'] == from_year]\n",
    "\n",
    "#Ho controllato che in total_players, il PERSON_ID sia univoco\n",
    "total_players"
   ],
   "metadata": {
    "collapsed": false,
    "pycharm": {
     "name": "#%%\n"
    }
   }
  },
  {
   "cell_type": "code",
   "execution_count": null,
   "outputs": [],
   "source": [
    "# all_teams_history = list(total_players[\"TEAM_ID\"].drop_duplicates())\n",
    "# data_all_team_stats = pd.DataFrame()\n",
    "#\n",
    "# for team in all_teams_history:\n",
    "#     t = teamyearbyyearstats.TeamYearByYearStats(team_id=team).get_data_frames()[0]\n",
    "#     #t[\"SEASON_ID\"] = t[t[\"SEASON_ID\"] == \"2021-22\"] # Non cambia tanto perchè nel get prende tutti\n",
    "#     data_all_team_stats = pd.concat([data_all_team_stats, t], axis=0, ignore_index=True)\n",
    "#\n",
    "# data_all_team_stats = data_all_team_stats.rename(columns={\"YEAR\": \"SEASON_ID\"})\n",
    "# data_all_team_stats = data_all_team_stats[[\"TEAM_ID\", \"SEASON_ID\", \"CONF_RANK\"]]\n",
    "#\n",
    "# with open(\"data_all_team_stats_2022.pkl\",'wb') as f:\n",
    "#     pickle.dump(data_all_team_stats,f)\n",
    "#\n",
    "# data_all_team_stats"
   ],
   "metadata": {
    "collapsed": false,
    "pycharm": {
     "name": "#%%\n",
     "is_executing": true
    }
   }
  },
  {
   "cell_type": "code",
   "execution_count": 3,
   "outputs": [
    {
     "name": "stderr",
     "output_type": "stream",
     "text": [
      "610it [21:23,  2.10s/it]\n"
     ]
    }
   ],
   "source": [
    "total_names = total_players[[\"PERSON_ID\", \"DISPLAY_FIRST_LAST\"]]\n",
    "total_stats = pd.DataFrame()\n",
    "with open(\"data_all_team_stats_2022.pkl\", \"rb\") as f:\n",
    "    data_all_team_stats = pickle.load(f)\n",
    "\n",
    "for index, row in tqdm(total_names.iterrows()):\n",
    "    stats = playercareerstats.PlayerCareerStats(player_id=row[\"PERSON_ID\"]).get_data_frames()[0]\n",
    "\n",
    "    stats = stats.drop(stats.columns[[2, 4, 7]], axis=1)\n",
    "\n",
    "    awards = playerawards.PlayerAwards(player_id=row[\"PERSON_ID\"]).get_data_frames()[0]\n",
    "\n",
    "    awards = awards.drop(awards.columns[[0, 1, 2, 3, 5, 7, 8, 9, 10, 11, 12, 13]], axis=1) #Tolgo anche PERSON_ID\n",
    "    awards = awards.rename(columns={\"SEASON\": \"SEASON_ID\"})\n",
    "    awards = awards.loc[awards[\"DESCRIPTION\"]==\"NBA Most Valuable Player\"]\n",
    "\n",
    "    #merge\n",
    "    stats=stats.merge(awards, how=\"left\", on=\"SEASON_ID\")\n",
    "    #1 to MVP, 0 to other\n",
    "    stats[\"DESCRIPTION\"] = stats[\"DESCRIPTION\"].replace(\"NBA Most Valuable Player\", 1) #Replace the description MVP with 1\n",
    "    stats[\"DESCRIPTION\"] = stats[\"DESCRIPTION\"].fillna(0) #Replace NULL with 0\n",
    "    stats = stats.rename(columns={\"DESCRIPTION\": \"MVP\"})\n",
    "\n",
    "    #merge della classifica in cui è arrivata la squadra in una certa stagione\n",
    "    stats = stats.merge(data_all_team_stats, how=\"inner\", on=[\"SEASON_ID\", \"TEAM_ID\"])\n",
    "\n",
    "    total_stats = pd.concat([total_stats, stats],axis=0,ignore_index=True)\n",
    "\n",
    "\n",
    "#Tolgo la formattazione \"year1-year2\" (2010-11) e lascio solo il secondo anno (2011)\n",
    "total_stats[\"SEASON_ID\"] = [int(\"20\"+x.split(\"-\")[1]) for x in list(total_stats[\"SEASON_ID\"])] #Problema se si prendono dati < anno 2000\n",
    "#Prendo i dati superiore all'anno FROM_YEAR\n",
    "total_stats= total_stats[total_stats[\"SEASON_ID\"] > from_year]\n",
    "\n",
    "\n",
    "with open(\"player_stats_2022.pkl\",'wb') as f:\n",
    "    pickle.dump(total_stats,f)"
   ],
   "metadata": {
    "collapsed": false,
    "pycharm": {
     "name": "#%%\n"
    }
   }
  },
  {
   "cell_type": "markdown",
   "source": [
    "## Predizione 2022, preparo i dati appena scaricati"
   ],
   "metadata": {
    "collapsed": false,
    "pycharm": {
     "name": "#%% md\n"
    }
   }
  },
  {
   "cell_type": "code",
   "execution_count": 4,
   "metadata": {
    "collapsed": false,
    "jupyter": {
     "outputs_hidden": false
    },
    "pycharm": {
     "name": "#%%\n"
    }
   },
   "outputs": [
    {
     "data": {
      "text/plain": "      MVP CONF_RANK PLAYER_ID  SEASON_ID     TEAM_ID  PLAYER_AGE  GP     MIN  \\\n1     0.0         8   1630173       2022  1610612761        22.0  56  1295.0   \n10    0.0         3    203500       2022  1610612763        28.0  63  1672.0   \n15    0.0         3   1628389       2022  1610612748        24.0  42  1393.0   \n16    0.0         3   1630583       2022  1610612763        21.0  27   277.0   \n33    0.0         2    200746       2022  1610612751        36.0  45  1027.0   \n...   ...       ...       ...        ...         ...         ...  ..     ...   \n3389  0.0         8    201152       2022  1610612761        33.0   9   163.0   \n3393  0.0        12   1629027       2022  1610612737        23.0  60  2082.0   \n3394  0.0         3   1630209       2022  1610612748        23.0  48   625.0   \n3403  0.0        10    203469       2022  1610612757        29.0  27   355.0   \n3410  0.0         8   1627826       2022  1610612746        24.0  62  1502.0   \n\n      FGM   FGA  ...  FT_PCT  OREB  DREB  REB  AST  STL  BLK  TOV   PF   PTS  \n1     188   437  ...   0.570   120   262  382   63   29   31   60  117   462  \n10    178   320  ...   0.547   287   328  615  211   52   47   99  118   450  \n15    304   567  ...   0.748   106   321  427  150   62   35  115  133   789  \n16     37    97  ...   0.600    23    41   64   14    2    7    9   27    90  \n33    252   455  ...   0.873    71   181  252   41   14   46   42   74   607  \n...   ...   ...  ...     ...   ...   ...  ...  ...  ...  ...  ...  ...   ...  \n3389   25    56  ...   0.273    17    23   40   12    6    3   10   17    60  \n3393  557  1226  ...   0.895    38   191  229  564   56    7  239   96  1666  \n3394  120   221  ...   0.632    73   190  263   46   15   19   38   77   277  \n3403   51    90  ...   0.776    50    75  125   22    8    6   19   56   140  \n3410  237   376  ...   0.724   170   342  512   89   31   63   98  158   613  \n\n[692 rows x 26 columns]",
      "text/html": "<div>\n<style scoped>\n    .dataframe tbody tr th:only-of-type {\n        vertical-align: middle;\n    }\n\n    .dataframe tbody tr th {\n        vertical-align: top;\n    }\n\n    .dataframe thead th {\n        text-align: right;\n    }\n</style>\n<table border=\"1\" class=\"dataframe\">\n  <thead>\n    <tr style=\"text-align: right;\">\n      <th></th>\n      <th>MVP</th>\n      <th>CONF_RANK</th>\n      <th>PLAYER_ID</th>\n      <th>SEASON_ID</th>\n      <th>TEAM_ID</th>\n      <th>PLAYER_AGE</th>\n      <th>GP</th>\n      <th>MIN</th>\n      <th>FGM</th>\n      <th>FGA</th>\n      <th>...</th>\n      <th>FT_PCT</th>\n      <th>OREB</th>\n      <th>DREB</th>\n      <th>REB</th>\n      <th>AST</th>\n      <th>STL</th>\n      <th>BLK</th>\n      <th>TOV</th>\n      <th>PF</th>\n      <th>PTS</th>\n    </tr>\n  </thead>\n  <tbody>\n    <tr>\n      <th>1</th>\n      <td>0.0</td>\n      <td>8</td>\n      <td>1630173</td>\n      <td>2022</td>\n      <td>1610612761</td>\n      <td>22.0</td>\n      <td>56</td>\n      <td>1295.0</td>\n      <td>188</td>\n      <td>437</td>\n      <td>...</td>\n      <td>0.570</td>\n      <td>120</td>\n      <td>262</td>\n      <td>382</td>\n      <td>63</td>\n      <td>29</td>\n      <td>31</td>\n      <td>60</td>\n      <td>117</td>\n      <td>462</td>\n    </tr>\n    <tr>\n      <th>10</th>\n      <td>0.0</td>\n      <td>3</td>\n      <td>203500</td>\n      <td>2022</td>\n      <td>1610612763</td>\n      <td>28.0</td>\n      <td>63</td>\n      <td>1672.0</td>\n      <td>178</td>\n      <td>320</td>\n      <td>...</td>\n      <td>0.547</td>\n      <td>287</td>\n      <td>328</td>\n      <td>615</td>\n      <td>211</td>\n      <td>52</td>\n      <td>47</td>\n      <td>99</td>\n      <td>118</td>\n      <td>450</td>\n    </tr>\n    <tr>\n      <th>15</th>\n      <td>0.0</td>\n      <td>3</td>\n      <td>1628389</td>\n      <td>2022</td>\n      <td>1610612748</td>\n      <td>24.0</td>\n      <td>42</td>\n      <td>1393.0</td>\n      <td>304</td>\n      <td>567</td>\n      <td>...</td>\n      <td>0.748</td>\n      <td>106</td>\n      <td>321</td>\n      <td>427</td>\n      <td>150</td>\n      <td>62</td>\n      <td>35</td>\n      <td>115</td>\n      <td>133</td>\n      <td>789</td>\n    </tr>\n    <tr>\n      <th>16</th>\n      <td>0.0</td>\n      <td>3</td>\n      <td>1630583</td>\n      <td>2022</td>\n      <td>1610612763</td>\n      <td>21.0</td>\n      <td>27</td>\n      <td>277.0</td>\n      <td>37</td>\n      <td>97</td>\n      <td>...</td>\n      <td>0.600</td>\n      <td>23</td>\n      <td>41</td>\n      <td>64</td>\n      <td>14</td>\n      <td>2</td>\n      <td>7</td>\n      <td>9</td>\n      <td>27</td>\n      <td>90</td>\n    </tr>\n    <tr>\n      <th>33</th>\n      <td>0.0</td>\n      <td>2</td>\n      <td>200746</td>\n      <td>2022</td>\n      <td>1610612751</td>\n      <td>36.0</td>\n      <td>45</td>\n      <td>1027.0</td>\n      <td>252</td>\n      <td>455</td>\n      <td>...</td>\n      <td>0.873</td>\n      <td>71</td>\n      <td>181</td>\n      <td>252</td>\n      <td>41</td>\n      <td>14</td>\n      <td>46</td>\n      <td>42</td>\n      <td>74</td>\n      <td>607</td>\n    </tr>\n    <tr>\n      <th>...</th>\n      <td>...</td>\n      <td>...</td>\n      <td>...</td>\n      <td>...</td>\n      <td>...</td>\n      <td>...</td>\n      <td>...</td>\n      <td>...</td>\n      <td>...</td>\n      <td>...</td>\n      <td>...</td>\n      <td>...</td>\n      <td>...</td>\n      <td>...</td>\n      <td>...</td>\n      <td>...</td>\n      <td>...</td>\n      <td>...</td>\n      <td>...</td>\n      <td>...</td>\n      <td>...</td>\n    </tr>\n    <tr>\n      <th>3389</th>\n      <td>0.0</td>\n      <td>8</td>\n      <td>201152</td>\n      <td>2022</td>\n      <td>1610612761</td>\n      <td>33.0</td>\n      <td>9</td>\n      <td>163.0</td>\n      <td>25</td>\n      <td>56</td>\n      <td>...</td>\n      <td>0.273</td>\n      <td>17</td>\n      <td>23</td>\n      <td>40</td>\n      <td>12</td>\n      <td>6</td>\n      <td>3</td>\n      <td>10</td>\n      <td>17</td>\n      <td>60</td>\n    </tr>\n    <tr>\n      <th>3393</th>\n      <td>0.0</td>\n      <td>12</td>\n      <td>1629027</td>\n      <td>2022</td>\n      <td>1610612737</td>\n      <td>23.0</td>\n      <td>60</td>\n      <td>2082.0</td>\n      <td>557</td>\n      <td>1226</td>\n      <td>...</td>\n      <td>0.895</td>\n      <td>38</td>\n      <td>191</td>\n      <td>229</td>\n      <td>564</td>\n      <td>56</td>\n      <td>7</td>\n      <td>239</td>\n      <td>96</td>\n      <td>1666</td>\n    </tr>\n    <tr>\n      <th>3394</th>\n      <td>0.0</td>\n      <td>3</td>\n      <td>1630209</td>\n      <td>2022</td>\n      <td>1610612748</td>\n      <td>23.0</td>\n      <td>48</td>\n      <td>625.0</td>\n      <td>120</td>\n      <td>221</td>\n      <td>...</td>\n      <td>0.632</td>\n      <td>73</td>\n      <td>190</td>\n      <td>263</td>\n      <td>46</td>\n      <td>15</td>\n      <td>19</td>\n      <td>38</td>\n      <td>77</td>\n      <td>277</td>\n    </tr>\n    <tr>\n      <th>3403</th>\n      <td>0.0</td>\n      <td>10</td>\n      <td>203469</td>\n      <td>2022</td>\n      <td>1610612757</td>\n      <td>29.0</td>\n      <td>27</td>\n      <td>355.0</td>\n      <td>51</td>\n      <td>90</td>\n      <td>...</td>\n      <td>0.776</td>\n      <td>50</td>\n      <td>75</td>\n      <td>125</td>\n      <td>22</td>\n      <td>8</td>\n      <td>6</td>\n      <td>19</td>\n      <td>56</td>\n      <td>140</td>\n    </tr>\n    <tr>\n      <th>3410</th>\n      <td>0.0</td>\n      <td>8</td>\n      <td>1627826</td>\n      <td>2022</td>\n      <td>1610612746</td>\n      <td>24.0</td>\n      <td>62</td>\n      <td>1502.0</td>\n      <td>237</td>\n      <td>376</td>\n      <td>...</td>\n      <td>0.724</td>\n      <td>170</td>\n      <td>342</td>\n      <td>512</td>\n      <td>89</td>\n      <td>31</td>\n      <td>63</td>\n      <td>98</td>\n      <td>158</td>\n      <td>613</td>\n    </tr>\n  </tbody>\n</table>\n<p>692 rows × 26 columns</p>\n</div>"
     },
     "execution_count": 4,
     "metadata": {},
     "output_type": "execute_result"
    }
   ],
   "source": [
    "with open(\"player_stats_2022.pkl\", \"rb\") as f:\n",
    "    season_2021 = pickle.load(f)\n",
    "#tolgo seasons che non ci servono\n",
    "season_2021 = season_2021[season_2021[\"SEASON_ID\"] == 2022]\n",
    "\n",
    "\n",
    "#sposto la colonna MVP per prima per comodita\n",
    "cols = season_2021.columns.tolist()\n",
    "cols = cols[-2:] + cols[:-2]\n",
    "season_2021 = season_2021[cols]\n",
    "\n",
    "season_2021[\"GP\"]=season_2021[\"GP\"].astype('int')\n",
    "season_2021[\"FGM\"]=season_2021[\"FGM\"].astype('int')\n",
    "season_2021[\"FGA\"]=season_2021[\"FGA\"].astype('int')\n",
    "season_2021[\"FG3M\"]=season_2021[\"FG3M\"].astype('int')\n",
    "season_2021[\"FG3A\"]=season_2021[\"FG3A\"].astype('int')\n",
    "season_2021[\"FTM\"]=season_2021[\"FTM\"].astype('int')\n",
    "season_2021[\"FTA\"]=season_2021[\"FTA\"].astype('int')\n",
    "season_2021[\"OREB\"]=season_2021[\"OREB\"].astype('int')\n",
    "season_2021[\"DREB\"]=season_2021[\"DREB\"].astype('int')\n",
    "season_2021[\"REB\"]=season_2021[\"REB\"].astype('int')\n",
    "season_2021[\"AST\"]=season_2021[\"AST\"].astype('int')\n",
    "season_2021[\"STL\"]=season_2021[\"STL\"].astype('int')\n",
    "season_2021[\"BLK\"]=season_2021[\"BLK\"].astype('int')\n",
    "season_2021[\"TOV\"]=season_2021[\"TOV\"].astype('int')\n",
    "season_2021[\"PF\"]=season_2021[\"PF\"].astype('int')\n",
    "season_2021[\"PTS\"]=season_2021[\"PTS\"].astype('int')\n",
    "\n",
    "\n",
    "season_2021"
   ]
  },
  {
   "cell_type": "code",
   "execution_count": 5,
   "metadata": {
    "collapsed": false,
    "jupyter": {
     "outputs_hidden": false
    },
    "pycharm": {
     "name": "#%%\n"
    }
   },
   "outputs": [],
   "source": [
    "#standardizzazione i nostri dati per anno\n",
    "\n",
    "from sklearn.preprocessing import StandardScaler\n",
    "scaler=StandardScaler()\n",
    "\n",
    "num_cols = season_2021.columns\n",
    "num_cols = num_cols.drop([\"MVP\",'CONF_RANK', 'PLAYER_ID', 'SEASON_ID', 'TEAM_ID'])\n",
    "\n",
    "season_2021_norm=pd.DataFrame()\n",
    "season_2021_norm = pd.concat([season_2021_norm, season_2021],axis=0,ignore_index=True)\n"
   ]
  },
  {
   "cell_type": "code",
   "execution_count": 6,
   "metadata": {
    "collapsed": false,
    "jupyter": {
     "outputs_hidden": false
    },
    "pycharm": {
     "name": "#%%\n"
    }
   },
   "outputs": [
    {
     "data": {
      "text/plain": "     MVP CONF_RANK PLAYER_ID  SEASON_ID     TEAM_ID  PLAYER_AGE        GP  \\\n0    0.0         8   1630173       2022  1610612761   -0.995499  1.157795   \n1    0.0         3    203500       2022  1610612763    0.465035  1.476126   \n2    0.0         3   1628389       2022  1610612748   -0.508654  0.521133   \n3    0.0         3   1630583       2022  1610612763   -1.238922 -0.161006   \n4    0.0         2    200746       2022  1610612751    2.412414  0.657560   \n..   ...       ...       ...        ...         ...         ...       ...   \n687  0.0         8    201152       2022  1610612761    1.682147 -0.979571   \n688  0.0        12   1629027       2022  1610612737   -0.752077  1.339698   \n689  0.0         3   1630209       2022  1610612748   -0.752077  0.793988   \n690  0.0        10    203469       2022  1610612757    0.708458 -0.161006   \n691  0.0         8   1627826       2022  1610612746   -0.508654  1.430650   \n\n          MIN       FGM       FGA  ...    FT_PCT      OREB      DREB  \\\n0    0.907019  0.545456  0.646217  ... -0.220389  2.300861  1.471296   \n1    1.474823  0.469867  0.235362  ... -0.297243  6.557388  2.065192   \n2    1.054618  1.422293  1.102722  ...  0.374397  1.944027  2.002203   \n3   -0.626200 -0.595944 -0.547720  ... -0.120144 -0.171493 -0.517358   \n4    0.503382  1.029228  0.709425  ...  0.792083  1.051940  0.742423   \n..        ...       ...       ...  ...       ...       ...       ...   \n687 -0.797896 -0.686651 -0.691695  ... -1.212811 -0.324422 -0.679330   \n688  2.092327  3.334705  3.416851  ...  0.865596  0.210830  0.832407   \n689 -0.102074  0.031448 -0.112284  ... -0.013216  1.102916  0.823409   \n690 -0.508723 -0.490119 -0.572301  ...  0.467958  0.516688 -0.211411   \n691  1.218784  0.915844  0.432010  ...  0.294201  3.575270  2.191170   \n\n          REB       AST       STL       BLK       TOV        PF       PTS  \n0    1.752418 -0.073090  0.304068  0.903101  0.487237  1.156893  0.404514  \n1    3.361362  1.489007  1.291127  1.740128  1.342604  1.175938  0.371520  \n2    2.063159  0.845170  1.720283  1.112358  1.693523  1.461611  1.303618  \n3   -0.443478 -0.590270 -0.854653 -0.352441 -0.631319 -0.557145 -0.618320  \n4    0.854725 -0.305293 -0.339666  1.687814  0.092452  0.337964  0.803199  \n..        ...       ...       ...       ...       ...       ...       ...  \n687 -0.609206 -0.611380 -0.682991 -0.561697 -0.609387 -0.747594 -0.700806  \n688  0.695902  5.214818  1.462789 -0.352441  4.413151  0.756951  3.714977  \n689  0.930684 -0.252520 -0.296750  0.275330  0.004722  0.395099 -0.104153  \n690 -0.022253 -0.505833 -0.597159 -0.404755 -0.411995 -0.004844 -0.480842  \n691  2.650112  0.201333  0.389899  2.577156  1.320671  1.937733  0.819697  \n\n[692 rows x 26 columns]",
      "text/html": "<div>\n<style scoped>\n    .dataframe tbody tr th:only-of-type {\n        vertical-align: middle;\n    }\n\n    .dataframe tbody tr th {\n        vertical-align: top;\n    }\n\n    .dataframe thead th {\n        text-align: right;\n    }\n</style>\n<table border=\"1\" class=\"dataframe\">\n  <thead>\n    <tr style=\"text-align: right;\">\n      <th></th>\n      <th>MVP</th>\n      <th>CONF_RANK</th>\n      <th>PLAYER_ID</th>\n      <th>SEASON_ID</th>\n      <th>TEAM_ID</th>\n      <th>PLAYER_AGE</th>\n      <th>GP</th>\n      <th>MIN</th>\n      <th>FGM</th>\n      <th>FGA</th>\n      <th>...</th>\n      <th>FT_PCT</th>\n      <th>OREB</th>\n      <th>DREB</th>\n      <th>REB</th>\n      <th>AST</th>\n      <th>STL</th>\n      <th>BLK</th>\n      <th>TOV</th>\n      <th>PF</th>\n      <th>PTS</th>\n    </tr>\n  </thead>\n  <tbody>\n    <tr>\n      <th>0</th>\n      <td>0.0</td>\n      <td>8</td>\n      <td>1630173</td>\n      <td>2022</td>\n      <td>1610612761</td>\n      <td>-0.995499</td>\n      <td>1.157795</td>\n      <td>0.907019</td>\n      <td>0.545456</td>\n      <td>0.646217</td>\n      <td>...</td>\n      <td>-0.220389</td>\n      <td>2.300861</td>\n      <td>1.471296</td>\n      <td>1.752418</td>\n      <td>-0.073090</td>\n      <td>0.304068</td>\n      <td>0.903101</td>\n      <td>0.487237</td>\n      <td>1.156893</td>\n      <td>0.404514</td>\n    </tr>\n    <tr>\n      <th>1</th>\n      <td>0.0</td>\n      <td>3</td>\n      <td>203500</td>\n      <td>2022</td>\n      <td>1610612763</td>\n      <td>0.465035</td>\n      <td>1.476126</td>\n      <td>1.474823</td>\n      <td>0.469867</td>\n      <td>0.235362</td>\n      <td>...</td>\n      <td>-0.297243</td>\n      <td>6.557388</td>\n      <td>2.065192</td>\n      <td>3.361362</td>\n      <td>1.489007</td>\n      <td>1.291127</td>\n      <td>1.740128</td>\n      <td>1.342604</td>\n      <td>1.175938</td>\n      <td>0.371520</td>\n    </tr>\n    <tr>\n      <th>2</th>\n      <td>0.0</td>\n      <td>3</td>\n      <td>1628389</td>\n      <td>2022</td>\n      <td>1610612748</td>\n      <td>-0.508654</td>\n      <td>0.521133</td>\n      <td>1.054618</td>\n      <td>1.422293</td>\n      <td>1.102722</td>\n      <td>...</td>\n      <td>0.374397</td>\n      <td>1.944027</td>\n      <td>2.002203</td>\n      <td>2.063159</td>\n      <td>0.845170</td>\n      <td>1.720283</td>\n      <td>1.112358</td>\n      <td>1.693523</td>\n      <td>1.461611</td>\n      <td>1.303618</td>\n    </tr>\n    <tr>\n      <th>3</th>\n      <td>0.0</td>\n      <td>3</td>\n      <td>1630583</td>\n      <td>2022</td>\n      <td>1610612763</td>\n      <td>-1.238922</td>\n      <td>-0.161006</td>\n      <td>-0.626200</td>\n      <td>-0.595944</td>\n      <td>-0.547720</td>\n      <td>...</td>\n      <td>-0.120144</td>\n      <td>-0.171493</td>\n      <td>-0.517358</td>\n      <td>-0.443478</td>\n      <td>-0.590270</td>\n      <td>-0.854653</td>\n      <td>-0.352441</td>\n      <td>-0.631319</td>\n      <td>-0.557145</td>\n      <td>-0.618320</td>\n    </tr>\n    <tr>\n      <th>4</th>\n      <td>0.0</td>\n      <td>2</td>\n      <td>200746</td>\n      <td>2022</td>\n      <td>1610612751</td>\n      <td>2.412414</td>\n      <td>0.657560</td>\n      <td>0.503382</td>\n      <td>1.029228</td>\n      <td>0.709425</td>\n      <td>...</td>\n      <td>0.792083</td>\n      <td>1.051940</td>\n      <td>0.742423</td>\n      <td>0.854725</td>\n      <td>-0.305293</td>\n      <td>-0.339666</td>\n      <td>1.687814</td>\n      <td>0.092452</td>\n      <td>0.337964</td>\n      <td>0.803199</td>\n    </tr>\n    <tr>\n      <th>...</th>\n      <td>...</td>\n      <td>...</td>\n      <td>...</td>\n      <td>...</td>\n      <td>...</td>\n      <td>...</td>\n      <td>...</td>\n      <td>...</td>\n      <td>...</td>\n      <td>...</td>\n      <td>...</td>\n      <td>...</td>\n      <td>...</td>\n      <td>...</td>\n      <td>...</td>\n      <td>...</td>\n      <td>...</td>\n      <td>...</td>\n      <td>...</td>\n      <td>...</td>\n      <td>...</td>\n    </tr>\n    <tr>\n      <th>687</th>\n      <td>0.0</td>\n      <td>8</td>\n      <td>201152</td>\n      <td>2022</td>\n      <td>1610612761</td>\n      <td>1.682147</td>\n      <td>-0.979571</td>\n      <td>-0.797896</td>\n      <td>-0.686651</td>\n      <td>-0.691695</td>\n      <td>...</td>\n      <td>-1.212811</td>\n      <td>-0.324422</td>\n      <td>-0.679330</td>\n      <td>-0.609206</td>\n      <td>-0.611380</td>\n      <td>-0.682991</td>\n      <td>-0.561697</td>\n      <td>-0.609387</td>\n      <td>-0.747594</td>\n      <td>-0.700806</td>\n    </tr>\n    <tr>\n      <th>688</th>\n      <td>0.0</td>\n      <td>12</td>\n      <td>1629027</td>\n      <td>2022</td>\n      <td>1610612737</td>\n      <td>-0.752077</td>\n      <td>1.339698</td>\n      <td>2.092327</td>\n      <td>3.334705</td>\n      <td>3.416851</td>\n      <td>...</td>\n      <td>0.865596</td>\n      <td>0.210830</td>\n      <td>0.832407</td>\n      <td>0.695902</td>\n      <td>5.214818</td>\n      <td>1.462789</td>\n      <td>-0.352441</td>\n      <td>4.413151</td>\n      <td>0.756951</td>\n      <td>3.714977</td>\n    </tr>\n    <tr>\n      <th>689</th>\n      <td>0.0</td>\n      <td>3</td>\n      <td>1630209</td>\n      <td>2022</td>\n      <td>1610612748</td>\n      <td>-0.752077</td>\n      <td>0.793988</td>\n      <td>-0.102074</td>\n      <td>0.031448</td>\n      <td>-0.112284</td>\n      <td>...</td>\n      <td>-0.013216</td>\n      <td>1.102916</td>\n      <td>0.823409</td>\n      <td>0.930684</td>\n      <td>-0.252520</td>\n      <td>-0.296750</td>\n      <td>0.275330</td>\n      <td>0.004722</td>\n      <td>0.395099</td>\n      <td>-0.104153</td>\n    </tr>\n    <tr>\n      <th>690</th>\n      <td>0.0</td>\n      <td>10</td>\n      <td>203469</td>\n      <td>2022</td>\n      <td>1610612757</td>\n      <td>0.708458</td>\n      <td>-0.161006</td>\n      <td>-0.508723</td>\n      <td>-0.490119</td>\n      <td>-0.572301</td>\n      <td>...</td>\n      <td>0.467958</td>\n      <td>0.516688</td>\n      <td>-0.211411</td>\n      <td>-0.022253</td>\n      <td>-0.505833</td>\n      <td>-0.597159</td>\n      <td>-0.404755</td>\n      <td>-0.411995</td>\n      <td>-0.004844</td>\n      <td>-0.480842</td>\n    </tr>\n    <tr>\n      <th>691</th>\n      <td>0.0</td>\n      <td>8</td>\n      <td>1627826</td>\n      <td>2022</td>\n      <td>1610612746</td>\n      <td>-0.508654</td>\n      <td>1.430650</td>\n      <td>1.218784</td>\n      <td>0.915844</td>\n      <td>0.432010</td>\n      <td>...</td>\n      <td>0.294201</td>\n      <td>3.575270</td>\n      <td>2.191170</td>\n      <td>2.650112</td>\n      <td>0.201333</td>\n      <td>0.389899</td>\n      <td>2.577156</td>\n      <td>1.320671</td>\n      <td>1.937733</td>\n      <td>0.819697</td>\n    </tr>\n  </tbody>\n</table>\n<p>692 rows × 26 columns</p>\n</div>"
     },
     "execution_count": 6,
     "metadata": {},
     "output_type": "execute_result"
    }
   ],
   "source": [
    "\n",
    "for col in num_cols.tolist():\n",
    "    season_2021_norm[[col]] = scaler.fit_transform(season_2021[[col]].to_numpy().reshape(-1,1))\n",
    "\n",
    "season_2021_norm"
   ]
  },
  {
   "cell_type": "markdown",
   "metadata": {
    "pycharm": {
     "name": "#%% md\n"
    }
   },
   "source": [
    "## Predict 2022"
   ]
  },
  {
   "cell_type": "code",
   "execution_count": 7,
   "metadata": {
    "collapsed": false,
    "jupyter": {
     "outputs_hidden": false
    },
    "pycharm": {
     "name": "#%%\n"
    }
   },
   "outputs": [
    {
     "name": "stdout",
     "output_type": "stream",
     "text": [
      "The balanced accuracy score is  0.9956647398843931\n"
     ]
    },
    {
     "name": "stderr",
     "output_type": "stream",
     "text": [
      "/home/thomas/anaconda3/envs/ml/lib/python3.10/site-packages/sklearn/metrics/_classification.py:1987: UserWarning: y_pred contains classes not in y_true\n",
      "  warnings.warn(\"y_pred contains classes not in y_true\")\n"
     ]
    }
   ],
   "source": [
    "from sklearn.metrics import accuracy_score, confusion_matrix, classification_report, balanced_accuracy_score\n",
    "test_2021_labels = season_2021_norm[[\"MVP\"]]\n",
    "\n",
    "name_model = \"log_reg\"\n",
    "\n",
    "# with open(\"svm_40.pkl\", \"rb\") as f:\n",
    "with open(name_model+\".pkl\", \"rb\") as f:\n",
    "# with open(\"svm.pkl\", \"rb\") as f:\n",
    "# with open(\"rf.pkl\", \"rb\") as f:\n",
    "# with open(\"log_reg.pkl\", \"rb\") as f:\n",
    "\n",
    "    log_reg = pickle.load(f)\n",
    "\n",
    "\n",
    "    ###                             ###\n",
    "\n",
    "# train_2021 = season_2021_norm[[\"CONF_RANK\", \"GP\", \"MIN\", \"FGM\", \"FG_PCT\", \"FG3M\", \"FG3_PCT\", \"FTM\", \"FT_PCT\", \"OREB\", \"DREB\", \"AST\", \"STL\", \"BLK\", \"TOV\", \"PF\"]]\n",
    "train_2021 = season_2021_norm[[\"CONF_RANK\", \"GP\", \"MIN\", \"FG_PCT\", \"FG3M\", \"FG3_PCT\", \"FTM\", \"FT_PCT\", \"OREB\", \"DREB\", \"AST\", \"STL\", \"BLK\", \"PF\"]]\n",
    "# train_2021 = season_2021_norm.drop([\"MVP\", 'PLAYER_ID', 'SEASON_ID', 'TEAM_ID', \"PLAYER_AGE\"], axis=1)\n",
    "\n",
    "\n",
    "predicted_labels = log_reg.predict(train_2021)\n",
    "print(f\"The balanced accuracy score is  {balanced_accuracy_score(test_2021_labels,predicted_labels)}\")"
   ]
  },
  {
   "cell_type": "code",
   "execution_count": 8,
   "metadata": {
    "collapsed": false,
    "jupyter": {
     "outputs_hidden": false
    },
    "pycharm": {
     "name": "#%%\n"
    }
   },
   "outputs": [],
   "source": [
    "#Unisco i dataset\n",
    "predict_2021 = pd.DataFrame(predicted_labels, columns=[\"MVP_Predict\"])\n",
    "predict_2021[\"PLAYER_ID\"] = list(season_2021[\"PLAYER_ID\"])\n",
    "\n",
    "winners_id = predict_2021.loc[predict_2021[\"MVP_Predict\"] == 1, \"PLAYER_ID\"]"
   ]
  },
  {
   "cell_type": "code",
   "execution_count": 9,
   "metadata": {
    "collapsed": false,
    "jupyter": {
     "outputs_hidden": false
    },
    "pycharm": {
     "name": "#%%\n"
    }
   },
   "outputs": [
    {
     "name": "stdout",
     "output_type": "stream",
     "text": [
      "{'id': 201942, 'full_name': 'DeMar DeRozan', 'first_name': 'DeMar', 'last_name': 'DeRozan', 'is_active': True}\n",
      "{'id': 201935, 'full_name': 'James Harden', 'first_name': 'James', 'last_name': 'Harden', 'is_active': True}\n",
      "{'id': 101108, 'full_name': 'Chris Paul', 'first_name': 'Chris', 'last_name': 'Paul', 'is_active': True}\n"
     ]
    }
   ],
   "source": [
    "from nba_api.stats.static import players\n",
    "\n",
    "for id in list(winners_id):\n",
    "    print(players.find_player_by_id(id))"
   ]
  },
  {
   "cell_type": "markdown",
   "metadata": {
    "pycharm": {
     "name": "#%% md\n"
    }
   },
   "source": [
    "### PROBABILITIES 2021"
   ]
  },
  {
   "cell_type": "code",
   "execution_count": 10,
   "metadata": {
    "collapsed": false,
    "jupyter": {
     "outputs_hidden": false
    },
    "pycharm": {
     "name": "#%%\n"
    }
   },
   "outputs": [
    {
     "data": {
      "text/plain": "        id              full_name first_name      last_name is_active  \\\n0   101108             Chris Paul      Chris           Paul      True   \n1   201942          DeMar DeRozan      DeMar        DeRozan      True   \n2   201935           James Harden      James         Harden      True   \n3   201939          Stephen Curry    Stephen          Curry      True   \n4   203507  Giannis Antetokounmpo    Giannis  Antetokounmpo      True   \n5   203999           Nikola Jokic     Nikola          Jokic      True   \n6  1629630              Ja Morant         Ja         Morant      True   \n7   203897            Zach LaVine       Zach         LaVine      True   \n8   201142           Kevin Durant      Kevin         Durant      True   \n9  1626164           Devin Booker      Devin         Booker      True   \n\n   mvp_prob  \n0  0.977793  \n1  0.888254  \n2  0.824682  \n3  0.342354  \n4  0.220261  \n5  0.204263  \n6  0.123049  \n7  0.083277  \n8  0.060656  \n9  0.017900  ",
      "text/html": "<div>\n<style scoped>\n    .dataframe tbody tr th:only-of-type {\n        vertical-align: middle;\n    }\n\n    .dataframe tbody tr th {\n        vertical-align: top;\n    }\n\n    .dataframe thead th {\n        text-align: right;\n    }\n</style>\n<table border=\"1\" class=\"dataframe\">\n  <thead>\n    <tr style=\"text-align: right;\">\n      <th></th>\n      <th>id</th>\n      <th>full_name</th>\n      <th>first_name</th>\n      <th>last_name</th>\n      <th>is_active</th>\n      <th>mvp_prob</th>\n    </tr>\n  </thead>\n  <tbody>\n    <tr>\n      <th>0</th>\n      <td>101108</td>\n      <td>Chris Paul</td>\n      <td>Chris</td>\n      <td>Paul</td>\n      <td>True</td>\n      <td>0.977793</td>\n    </tr>\n    <tr>\n      <th>1</th>\n      <td>201942</td>\n      <td>DeMar DeRozan</td>\n      <td>DeMar</td>\n      <td>DeRozan</td>\n      <td>True</td>\n      <td>0.888254</td>\n    </tr>\n    <tr>\n      <th>2</th>\n      <td>201935</td>\n      <td>James Harden</td>\n      <td>James</td>\n      <td>Harden</td>\n      <td>True</td>\n      <td>0.824682</td>\n    </tr>\n    <tr>\n      <th>3</th>\n      <td>201939</td>\n      <td>Stephen Curry</td>\n      <td>Stephen</td>\n      <td>Curry</td>\n      <td>True</td>\n      <td>0.342354</td>\n    </tr>\n    <tr>\n      <th>4</th>\n      <td>203507</td>\n      <td>Giannis Antetokounmpo</td>\n      <td>Giannis</td>\n      <td>Antetokounmpo</td>\n      <td>True</td>\n      <td>0.220261</td>\n    </tr>\n    <tr>\n      <th>5</th>\n      <td>203999</td>\n      <td>Nikola Jokic</td>\n      <td>Nikola</td>\n      <td>Jokic</td>\n      <td>True</td>\n      <td>0.204263</td>\n    </tr>\n    <tr>\n      <th>6</th>\n      <td>1629630</td>\n      <td>Ja Morant</td>\n      <td>Ja</td>\n      <td>Morant</td>\n      <td>True</td>\n      <td>0.123049</td>\n    </tr>\n    <tr>\n      <th>7</th>\n      <td>203897</td>\n      <td>Zach LaVine</td>\n      <td>Zach</td>\n      <td>LaVine</td>\n      <td>True</td>\n      <td>0.083277</td>\n    </tr>\n    <tr>\n      <th>8</th>\n      <td>201142</td>\n      <td>Kevin Durant</td>\n      <td>Kevin</td>\n      <td>Durant</td>\n      <td>True</td>\n      <td>0.060656</td>\n    </tr>\n    <tr>\n      <th>9</th>\n      <td>1626164</td>\n      <td>Devin Booker</td>\n      <td>Devin</td>\n      <td>Booker</td>\n      <td>True</td>\n      <td>0.017900</td>\n    </tr>\n  </tbody>\n</table>\n</div>"
     },
     "execution_count": 10,
     "metadata": {},
     "output_type": "execute_result"
    }
   ],
   "source": [
    "\n",
    "# test_2021_labels = season_2021_norm[[\"MVP\"]]\n",
    "#\n",
    "# with open(\"log_reg.pkl\", \"rb\") as f:\n",
    "#     log_reg = pickle.load(f)\n",
    "\n",
    "#train_2021 = season_2021_norm[[\"GP\", \"MIN\", \"FGM\", \"FG_PCT\", \"FG3M\", \"FG3_PCT\", \"FTM\", \"FT_PCT\", \"OREB\", \"DREB\", \"AST\", \"STL\", \"BLK\", \"TOV\", \"PF\", 'CONF_RANK']]\n",
    "predicted_labels = pd.DataFrame(log_reg.predict_proba(train_2021))\n",
    "\n",
    "predicted_labels.rename(columns={0:'NOT',1:'MVP'},inplace=True)\n",
    "\n",
    "predicted_labels = pd.DataFrame(predicted_labels, columns=[\"MVP\"])\n",
    "predicted_labels[\"PLAYER_ID\"] = list(season_2021[\"PLAYER_ID\"])\n",
    "\n",
    "#Sort\n",
    "mvp_candidates = predicted_labels.sort_values(by='MVP',ascending=False)\n",
    "\n",
    "#Take only better\n",
    "mvp_candidates = mvp_candidates.head(10)\n",
    "\n",
    "mvp_candidates_names = pd.DataFrame()\n",
    "# for row, id in mvp_candidates[\"PLAYER_ID\"].iterrows():\n",
    "#     name_player = players.find_player_by_id(id[\"PLAYER_ID\"])\n",
    "#     if name_player is not None:\n",
    "#         name = pd.DataFrame.from_dict(name_player, orient=\"index\")\n",
    "#\n",
    "#         name = name.transpose()\n",
    "#         name[\"mvp_prob\"] = list(id[\"MVP\"])\n",
    "#         mvp_candidates_names = pd.concat([mvp_candidates_names,name], axis=0, ignore_index=True)\n",
    "\n",
    "for id in list(mvp_candidates[\"PLAYER_ID\"]):\n",
    "    name_player = players.find_player_by_id(id)\n",
    "    name = pd.DataFrame.from_dict(name_player, orient=\"index\")\n",
    "\n",
    "    name = name.transpose()\n",
    "    mvp_candidates_names = pd.concat([mvp_candidates_names,name], axis=0, ignore_index=True)\n",
    "\n",
    "mvp_candidates_names[\"mvp_prob\"] = list(mvp_candidates[\"MVP\"])\n",
    "mvp_candidates_names"
   ]
  },
  {
   "cell_type": "code",
   "execution_count": 11,
   "metadata": {
    "collapsed": false,
    "jupyter": {
     "outputs_hidden": false
    },
    "pycharm": {
     "name": "#%%\n"
    }
   },
   "outputs": [
    {
     "data": {
      "text/plain": "<Figure size 432x288 with 1 Axes>",
      "image/png": "[encoded data removed]"
     },
     "metadata": {
      "needs_background": "light"
     },
     "output_type": "display_data"
    }
   ],
   "source": [
    "import seaborn as sns\n",
    "import matplotlib.pyplot as plt\n",
    "#mvp_candidates_names.plot.bar(x='full_name',y='mvp_prob' )\n",
    "sns.barplot(x='full_name',y='mvp_prob',data=mvp_candidates_names.head(10))\n",
    "plt.xticks(rotation=90)\n",
    "plt.savefig('plot/'+name_model+'_2022.png', bbox_inches='tight')"
   ]
  }
 ],
 "metadata": {
  "kernelspec": {
   "display_name": "Python 3 (ipykernel)",
   "language": "python",
   "name": "python3"
  },
  "language_info": {
   "codemirror_mode": {
    "name": "ipython",
    "version": 3
   },
   "file_extension": ".py",
   "mimetype": "text/x-python",
   "name": "python",
   "nbconvert_exporter": "python",
   "pygments_lexer": "ipython3",
   "version": "3.9.7"
  }
 },
 "nbformat": 4,
 "nbformat_minor": 4
}