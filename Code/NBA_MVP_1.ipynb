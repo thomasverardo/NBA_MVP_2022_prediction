{
 "cells": [
  {
   "cell_type": "code",
   "execution_count": 3,
   "metadata": {
    "collapsed": false,
    "jupyter": {
     "outputs_hidden": false
    },
    "pycharm": {
     "name": "#%%\n"
    }
   },
   "outputs": [],
   "source": [
    "#from nba_api.stats.static import players\n",
    "#\n",
    "#\n",
    "# players.find_players_by_full_name(\"Lebron James\")\n",
    "#\n",
    "#players.find_player_by_id(2544)"
   ]
  },
  {
   "cell_type": "code",
   "execution_count": 1,
   "metadata": {
    "collapsed": false,
    "jupyter": {
     "outputs_hidden": false
    },
    "pycharm": {
     "name": "#%%\n"
    }
   },
   "outputs": [],
   "source": [
    "#Module load\n",
    "from nba_api.stats.endpoints import commonallplayers #per avere l'elenco dei giocatori (id)\n",
    "from nba_api.stats.endpoints import playercareerstats #per avere i dati\n",
    "from nba_api.stats.endpoints import playerawards #per sapere chi ha vinto MVP\n",
    "from nba_api.stats.endpoints import TeamYearByYearStats #classifiche finali delle squadre\n",
    "import pandas as pd\n",
    "from tqdm import tqdm\n",
    "import pickle"
   ]
  },
  {
   "cell_type": "code",
   "execution_count": 2,
   "metadata": {
    "collapsed": false,
    "jupyter": {
     "outputs_hidden": false
    },
    "pycharm": {
     "name": "#%%\n"
    }
   },
   "outputs": [
    {
     "data": {
      "text/plain": "      PERSON_ID DISPLAY_LAST_COMMA_FIRST DISPLAY_FIRST_LAST  ROSTERSTATUS  \\\n9        203518            Abrines, Alex       Alex Abrines             0   \n10      1630173        Achiuwa, Precious   Precious Achiuwa             1   \n15       203112              Acy, Quincy         Quincy Acy             0   \n19      1629121            Adams, Jaylen       Jaylen Adams             0   \n20       203919            Adams, Jordan       Jordan Adams             0   \n...         ...                      ...                ...           ...   \n4714     203092            Zeller, Tyler       Tyler Zeller             0   \n4720    1627757       Zimmerman, Stephen  Stephen Zimmerman             0   \n4721    1627835             Zipser, Paul        Paul Zipser             0   \n4722    1627790              Zizic, Ante         Ante Zizic             0   \n4725    1627826             Zubac, Ivica        Ivica Zubac             1   \n\n     FROM_YEAR  TO_YEAR         PLAYERCODE        PLAYER_SLUG     TEAM_ID  \\\n9         2016     2018       alex_abrines       alex_abrines           0   \n10        2020     2021   precious_achiuwa   precious_achiuwa  1610612761   \n15        2012     2018         quincy_acy         quincy_acy           0   \n19        2018     2020       jaylen_adams       jaylen_adams           0   \n20        2014     2015       jordan_adams       jordan_adams           0   \n...        ...      ...                ...                ...         ...   \n4714      2012     2019       tyler_zeller       tyler_zeller           0   \n4720      2016     2016  stephen_zimmerman  stephen_zimmerman           0   \n4721      2016     2017        paul_zipser        paul_zipser           0   \n4722      2017     2019         ante_zizic         ante_zizic           0   \n4725      2016     2021        ivica_zubac        ivica_zubac  1610612746   \n\n     TEAM_CITY TEAM_NAME TEAM_ABBREVIATION TEAM_CODE TEAM_SLUG  \\\n9                                                         None   \n10     Toronto   Raptors               TOR   raptors   raptors   \n15                                                        None   \n19                                                        None   \n20                                                        None   \n...        ...       ...               ...       ...       ...   \n4714                                                      None   \n4720                                                      None   \n4721                                                      None   \n4722                                                      None   \n4725        LA  Clippers               LAC  clippers  clippers   \n\n     GAMES_PLAYED_FLAG OTHERLEAGUE_EXPERIENCE_CH  \n9                    Y                        00  \n10                   Y                        00  \n15                   Y                        01  \n19                   Y                        01  \n20                   Y                        01  \n...                ...                       ...  \n4714                 Y                        00  \n4720                 Y                        01  \n4721                 Y                        01  \n4722                 Y                        01  \n4725                 Y                        01  \n\n[1472 rows x 16 columns]",
      "text/html": "<div>\n<style scoped>\n    .dataframe tbody tr th:only-of-type {\n        vertical-align: middle;\n    }\n\n    .dataframe tbody tr th {\n        vertical-align: top;\n    }\n\n    .dataframe thead th {\n        text-align: right;\n    }\n</style>\n<table border=\"1\" class=\"dataframe\">\n  <thead>\n    <tr style=\"text-align: right;\">\n      <th></th>\n      <th>PERSON_ID</th>\n      <th>DISPLAY_LAST_COMMA_FIRST</th>\n      <th>DISPLAY_FIRST_LAST</th>\n      <th>ROSTERSTATUS</th>\n      <th>FROM_YEAR</th>\n      <th>TO_YEAR</th>\n      <th>PLAYERCODE</th>\n      <th>PLAYER_SLUG</th>\n      <th>TEAM_ID</th>\n      <th>TEAM_CITY</th>\n      <th>TEAM_NAME</th>\n      <th>TEAM_ABBREVIATION</th>\n      <th>TEAM_CODE</th>\n      <th>TEAM_SLUG</th>\n      <th>GAMES_PLAYED_FLAG</th>\n      <th>OTHERLEAGUE_EXPERIENCE_CH</th>\n    </tr>\n  </thead>\n  <tbody>\n    <tr>\n      <th>9</th>\n      <td>203518</td>\n      <td>Abrines, Alex</td>\n      <td>Alex Abrines</td>\n      <td>0</td>\n      <td>2016</td>\n      <td>2018</td>\n      <td>alex_abrines</td>\n      <td>alex_abrines</td>\n      <td>0</td>\n      <td></td>\n      <td></td>\n      <td></td>\n      <td></td>\n      <td>None</td>\n      <td>Y</td>\n      <td>00</td>\n    </tr>\n    <tr>\n      <th>10</th>\n      <td>1630173</td>\n      <td>Achiuwa, Precious</td>\n      <td>Precious Achiuwa</td>\n      <td>1</td>\n      <td>2020</td>\n      <td>2021</td>\n      <td>precious_achiuwa</td>\n      <td>precious_achiuwa</td>\n      <td>1610612761</td>\n      <td>Toronto</td>\n      <td>Raptors</td>\n      <td>TOR</td>\n      <td>raptors</td>\n      <td>raptors</td>\n      <td>Y</td>\n      <td>00</td>\n    </tr>\n    <tr>\n      <th>15</th>\n      <td>203112</td>\n      <td>Acy, Quincy</td>\n      <td>Quincy Acy</td>\n      <td>0</td>\n      <td>2012</td>\n      <td>2018</td>\n      <td>quincy_acy</td>\n      <td>quincy_acy</td>\n      <td>0</td>\n      <td></td>\n      <td></td>\n      <td></td>\n      <td></td>\n      <td>None</td>\n      <td>Y</td>\n      <td>01</td>\n    </tr>\n    <tr>\n      <th>19</th>\n      <td>1629121</td>\n      <td>Adams, Jaylen</td>\n      <td>Jaylen Adams</td>\n      <td>0</td>\n      <td>2018</td>\n      <td>2020</td>\n      <td>jaylen_adams</td>\n      <td>jaylen_adams</td>\n      <td>0</td>\n      <td></td>\n      <td></td>\n      <td></td>\n      <td></td>\n      <td>None</td>\n      <td>Y</td>\n      <td>01</td>\n    </tr>\n    <tr>\n      <th>20</th>\n      <td>203919</td>\n      <td>Adams, Jordan</td>\n      <td>Jordan Adams</td>\n      <td>0</td>\n      <td>2014</td>\n      <td>2015</td>\n      <td>jordan_adams</td>\n      <td>jordan_adams</td>\n      <td>0</td>\n      <td></td>\n      <td></td>\n      <td></td>\n      <td></td>\n      <td>None</td>\n      <td>Y</td>\n      <td>01</td>\n    </tr>\n    <tr>\n      <th>...</th>\n      <td>...</td>\n      <td>...</td>\n      <td>...</td>\n      <td>...</td>\n      <td>...</td>\n      <td>...</td>\n      <td>...</td>\n      <td>...</td>\n      <td>...</td>\n      <td>...</td>\n      <td>...</td>\n      <td>...</td>\n      <td>...</td>\n      <td>...</td>\n      <td>...</td>\n      <td>...</td>\n    </tr>\n    <tr>\n      <th>4714</th>\n      <td>203092</td>\n      <td>Zeller, Tyler</td>\n      <td>Tyler Zeller</td>\n      <td>0</td>\n      <td>2012</td>\n      <td>2019</td>\n      <td>tyler_zeller</td>\n      <td>tyler_zeller</td>\n      <td>0</td>\n      <td></td>\n      <td></td>\n      <td></td>\n      <td></td>\n      <td>None</td>\n      <td>Y</td>\n      <td>00</td>\n    </tr>\n    <tr>\n      <th>4720</th>\n      <td>1627757</td>\n      <td>Zimmerman, Stephen</td>\n      <td>Stephen Zimmerman</td>\n      <td>0</td>\n      <td>2016</td>\n      <td>2016</td>\n      <td>stephen_zimmerman</td>\n      <td>stephen_zimmerman</td>\n      <td>0</td>\n      <td></td>\n      <td></td>\n      <td></td>\n      <td></td>\n      <td>None</td>\n      <td>Y</td>\n      <td>01</td>\n    </tr>\n    <tr>\n      <th>4721</th>\n      <td>1627835</td>\n      <td>Zipser, Paul</td>\n      <td>Paul Zipser</td>\n      <td>0</td>\n      <td>2016</td>\n      <td>2017</td>\n      <td>paul_zipser</td>\n      <td>paul_zipser</td>\n      <td>0</td>\n      <td></td>\n      <td></td>\n      <td></td>\n      <td></td>\n      <td>None</td>\n      <td>Y</td>\n      <td>01</td>\n    </tr>\n    <tr>\n      <th>4722</th>\n      <td>1627790</td>\n      <td>Zizic, Ante</td>\n      <td>Ante Zizic</td>\n      <td>0</td>\n      <td>2017</td>\n      <td>2019</td>\n      <td>ante_zizic</td>\n      <td>ante_zizic</td>\n      <td>0</td>\n      <td></td>\n      <td></td>\n      <td></td>\n      <td></td>\n      <td>None</td>\n      <td>Y</td>\n      <td>01</td>\n    </tr>\n    <tr>\n      <th>4725</th>\n      <td>1627826</td>\n      <td>Zubac, Ivica</td>\n      <td>Ivica Zubac</td>\n      <td>1</td>\n      <td>2016</td>\n      <td>2021</td>\n      <td>ivica_zubac</td>\n      <td>ivica_zubac</td>\n      <td>1610612746</td>\n      <td>LA</td>\n      <td>Clippers</td>\n      <td>LAC</td>\n      <td>clippers</td>\n      <td>clippers</td>\n      <td>Y</td>\n      <td>01</td>\n    </tr>\n  </tbody>\n</table>\n<p>1472 rows × 16 columns</p>\n</div>"
     },
     "execution_count": 2,
     "metadata": {},
     "output_type": "execute_result"
    }
   ],
   "source": [
    "from_year = 2010\n",
    "\n",
    "total_players = commonallplayers.CommonAllPlayers().get_data_frames()[0]\n",
    "total_players['TO_YEAR'] = total_players['TO_YEAR'].astype('int')\n",
    "total_players = total_players[total_players['TO_YEAR'] > from_year]\n",
    "\n",
    "#Ho controllato che in total_players, il PERSON_ID sia univoco\n",
    "total_players"
   ]
  },
  {
   "cell_type": "code",
   "execution_count": null,
   "metadata": {
    "collapsed": false,
    "jupyter": {
     "outputs_hidden": false
    },
    "pycharm": {
     "is_executing": true,
     "name": "#%%\n"
    }
   },
   "outputs": [],
   "source": []
  },
  {
   "cell_type": "code",
   "execution_count": 43,
   "metadata": {
    "collapsed": false,
    "jupyter": {
     "outputs_hidden": false
    },
    "pycharm": {
     "name": "#%%\n"
    }
   },
   "outputs": [
    {
     "name": "stderr",
     "output_type": "stream",
     "text": [
      "7it [02:50, 24.37s/it]\n"
     ]
    },
    {
     "ename": "KeyboardInterrupt",
     "evalue": "",
     "output_type": "error",
     "traceback": [
      "\u001B[0;31m---------------------------------------------------------------------------\u001B[0m",
      "\u001B[0;31mKeyboardInterrupt\u001B[0m                         Traceback (most recent call last)",
      "\u001B[0;32m/tmp/ipykernel_961/417723883.py\u001B[0m in \u001B[0;36m<module>\u001B[0;34m\u001B[0m\n\u001B[1;32m     18\u001B[0m \u001B[0;34m\u001B[0m\u001B[0m\n\u001B[1;32m     19\u001B[0m \u001B[0;34m\u001B[0m\u001B[0m\n\u001B[0;32m---> 20\u001B[0;31m     \u001B[0mtotal_stats\u001B[0m \u001B[0;34m=\u001B[0m \u001B[0mpd\u001B[0m\u001B[0;34m.\u001B[0m\u001B[0mconcat\u001B[0m\u001B[0;34m(\u001B[0m\u001B[0;34m[\u001B[0m\u001B[0mtotal_stats\u001B[0m\u001B[0;34m,\u001B[0m \u001B[0mstats\u001B[0m\u001B[0;34m,\u001B[0m \u001B[0mawards\u001B[0m\u001B[0;34m]\u001B[0m\u001B[0;34m,\u001B[0m\u001B[0maxis\u001B[0m\u001B[0;34m=\u001B[0m\u001B[0;36m0\u001B[0m\u001B[0;34m,\u001B[0m\u001B[0mignore_index\u001B[0m\u001B[0;34m=\u001B[0m\u001B[0;32mTrue\u001B[0m\u001B[0;34m)\u001B[0m\u001B[0;34m\u001B[0m\u001B[0;34m\u001B[0m\u001B[0m\n\u001B[0m\u001B[1;32m     21\u001B[0m \u001B[0;34m\u001B[0m\u001B[0m\n\u001B[1;32m     22\u001B[0m \u001B[0;32mwith\u001B[0m \u001B[0mopen\u001B[0m\u001B[0;34m(\u001B[0m\u001B[0;34m\"player_stats.pkl\"\u001B[0m\u001B[0;34m,\u001B[0m\u001B[0;34m'wb'\u001B[0m\u001B[0;34m)\u001B[0m \u001B[0;32mas\u001B[0m \u001B[0mf\u001B[0m\u001B[0;34m:\u001B[0m\u001B[0;34m\u001B[0m\u001B[0;34m\u001B[0m\u001B[0m\n",
      "\u001B[0;32m/tmp/ipykernel_961/417723883.py\u001B[0m in \u001B[0;36m<module>\u001B[0;34m\u001B[0m\n\u001B[1;32m     18\u001B[0m \u001B[0;34m\u001B[0m\u001B[0m\n\u001B[1;32m     19\u001B[0m \u001B[0;34m\u001B[0m\u001B[0m\n\u001B[0;32m---> 20\u001B[0;31m     \u001B[0mtotal_stats\u001B[0m \u001B[0;34m=\u001B[0m \u001B[0mpd\u001B[0m\u001B[0;34m.\u001B[0m\u001B[0mconcat\u001B[0m\u001B[0;34m(\u001B[0m\u001B[0;34m[\u001B[0m\u001B[0mtotal_stats\u001B[0m\u001B[0;34m,\u001B[0m \u001B[0mstats\u001B[0m\u001B[0;34m,\u001B[0m \u001B[0mawards\u001B[0m\u001B[0;34m]\u001B[0m\u001B[0;34m,\u001B[0m\u001B[0maxis\u001B[0m\u001B[0;34m=\u001B[0m\u001B[0;36m0\u001B[0m\u001B[0;34m,\u001B[0m\u001B[0mignore_index\u001B[0m\u001B[0;34m=\u001B[0m\u001B[0;32mTrue\u001B[0m\u001B[0;34m)\u001B[0m\u001B[0;34m\u001B[0m\u001B[0;34m\u001B[0m\u001B[0m\n\u001B[0m\u001B[1;32m     21\u001B[0m \u001B[0;34m\u001B[0m\u001B[0m\n\u001B[1;32m     22\u001B[0m \u001B[0;32mwith\u001B[0m \u001B[0mopen\u001B[0m\u001B[0;34m(\u001B[0m\u001B[0;34m\"player_stats.pkl\"\u001B[0m\u001B[0;34m,\u001B[0m\u001B[0;34m'wb'\u001B[0m\u001B[0;34m)\u001B[0m \u001B[0;32mas\u001B[0m \u001B[0mf\u001B[0m\u001B[0;34m:\u001B[0m\u001B[0;34m\u001B[0m\u001B[0;34m\u001B[0m\u001B[0m\n",
      "\u001B[0;32m/app/extra/plugins/python/helpers/pydev/_pydevd_bundle/pydevd_frame.py\u001B[0m in \u001B[0;36mtrace_dispatch\u001B[0;34m(self, frame, event, arg)\u001B[0m\n\u001B[1;32m    745\u001B[0m                 \u001B[0;31m# if thread has a suspend flag, we suspend with a busy wait\u001B[0m\u001B[0;34m\u001B[0m\u001B[0;34m\u001B[0m\u001B[0m\n\u001B[1;32m    746\u001B[0m                 \u001B[0;32mif\u001B[0m \u001B[0minfo\u001B[0m\u001B[0;34m.\u001B[0m\u001B[0mpydev_state\u001B[0m \u001B[0;34m==\u001B[0m \u001B[0mSTATE_SUSPEND\u001B[0m\u001B[0;34m:\u001B[0m\u001B[0;34m\u001B[0m\u001B[0;34m\u001B[0m\u001B[0m\n\u001B[0;32m--> 747\u001B[0;31m                     \u001B[0mself\u001B[0m\u001B[0;34m.\u001B[0m\u001B[0mdo_wait_suspend\u001B[0m\u001B[0;34m(\u001B[0m\u001B[0mthread\u001B[0m\u001B[0;34m,\u001B[0m \u001B[0mframe\u001B[0m\u001B[0;34m,\u001B[0m \u001B[0mevent\u001B[0m\u001B[0;34m,\u001B[0m \u001B[0marg\u001B[0m\u001B[0;34m)\u001B[0m\u001B[0;34m\u001B[0m\u001B[0;34m\u001B[0m\u001B[0m\n\u001B[0m\u001B[1;32m    748\u001B[0m                     \u001B[0;31m# No need to reset frame.f_trace to keep the same trace function.\u001B[0m\u001B[0;34m\u001B[0m\u001B[0;34m\u001B[0m\u001B[0m\n\u001B[1;32m    749\u001B[0m                     \u001B[0;32mreturn\u001B[0m \u001B[0mself\u001B[0m\u001B[0;34m.\u001B[0m\u001B[0mtrace_dispatch\u001B[0m\u001B[0;34m\u001B[0m\u001B[0;34m\u001B[0m\u001B[0m\n",
      "\u001B[0;32m/app/extra/plugins/python/helpers/pydev/_pydevd_bundle/pydevd_frame.py\u001B[0m in \u001B[0;36mdo_wait_suspend\u001B[0;34m(self, *args, **kwargs)\u001B[0m\n\u001B[1;32m    142\u001B[0m \u001B[0;34m\u001B[0m\u001B[0m\n\u001B[1;32m    143\u001B[0m     \u001B[0;32mdef\u001B[0m \u001B[0mdo_wait_suspend\u001B[0m\u001B[0;34m(\u001B[0m\u001B[0mself\u001B[0m\u001B[0;34m,\u001B[0m \u001B[0;34m*\u001B[0m\u001B[0margs\u001B[0m\u001B[0;34m,\u001B[0m \u001B[0;34m**\u001B[0m\u001B[0mkwargs\u001B[0m\u001B[0;34m)\u001B[0m\u001B[0;34m:\u001B[0m\u001B[0;34m\u001B[0m\u001B[0;34m\u001B[0m\u001B[0m\n\u001B[0;32m--> 144\u001B[0;31m         \u001B[0mself\u001B[0m\u001B[0;34m.\u001B[0m\u001B[0m_args\u001B[0m\u001B[0;34m[\u001B[0m\u001B[0;36m0\u001B[0m\u001B[0;34m]\u001B[0m\u001B[0;34m.\u001B[0m\u001B[0mdo_wait_suspend\u001B[0m\u001B[0;34m(\u001B[0m\u001B[0;34m*\u001B[0m\u001B[0margs\u001B[0m\u001B[0;34m,\u001B[0m \u001B[0;34m**\u001B[0m\u001B[0mkwargs\u001B[0m\u001B[0;34m)\u001B[0m\u001B[0;34m\u001B[0m\u001B[0;34m\u001B[0m\u001B[0m\n\u001B[0m\u001B[1;32m    145\u001B[0m \u001B[0;34m\u001B[0m\u001B[0m\n\u001B[1;32m    146\u001B[0m     \u001B[0;31m# IFDEF CYTHON\u001B[0m\u001B[0;34m\u001B[0m\u001B[0;34m\u001B[0m\u001B[0m\n",
      "\u001B[0;32m/app/extra/plugins/python/helpers/pydev/pydevd.py\u001B[0m in \u001B[0;36mdo_wait_suspend\u001B[0;34m(self, thread, frame, event, arg, send_suspend_message, is_unhandled_exception)\u001B[0m\n\u001B[1;32m   1145\u001B[0m \u001B[0;34m\u001B[0m\u001B[0m\n\u001B[1;32m   1146\u001B[0m         \u001B[0;32mwith\u001B[0m \u001B[0mself\u001B[0m\u001B[0;34m.\u001B[0m\u001B[0m_threads_suspended_single_notification\u001B[0m\u001B[0;34m.\u001B[0m\u001B[0mnotify_thread_suspended\u001B[0m\u001B[0;34m(\u001B[0m\u001B[0mthread_id\u001B[0m\u001B[0;34m,\u001B[0m \u001B[0mstop_reason\u001B[0m\u001B[0;34m)\u001B[0m\u001B[0;34m:\u001B[0m\u001B[0;34m\u001B[0m\u001B[0;34m\u001B[0m\u001B[0m\n\u001B[0;32m-> 1147\u001B[0;31m             \u001B[0mself\u001B[0m\u001B[0;34m.\u001B[0m\u001B[0m_do_wait_suspend\u001B[0m\u001B[0;34m(\u001B[0m\u001B[0mthread\u001B[0m\u001B[0;34m,\u001B[0m \u001B[0mframe\u001B[0m\u001B[0;34m,\u001B[0m \u001B[0mevent\u001B[0m\u001B[0;34m,\u001B[0m \u001B[0marg\u001B[0m\u001B[0;34m,\u001B[0m \u001B[0msuspend_type\u001B[0m\u001B[0;34m,\u001B[0m \u001B[0mfrom_this_thread\u001B[0m\u001B[0;34m)\u001B[0m\u001B[0;34m\u001B[0m\u001B[0;34m\u001B[0m\u001B[0m\n\u001B[0m\u001B[1;32m   1148\u001B[0m \u001B[0;34m\u001B[0m\u001B[0m\n\u001B[1;32m   1149\u001B[0m     \u001B[0;32mdef\u001B[0m \u001B[0m_do_wait_suspend\u001B[0m\u001B[0;34m(\u001B[0m\u001B[0mself\u001B[0m\u001B[0;34m,\u001B[0m \u001B[0mthread\u001B[0m\u001B[0;34m,\u001B[0m \u001B[0mframe\u001B[0m\u001B[0;34m,\u001B[0m \u001B[0mevent\u001B[0m\u001B[0;34m,\u001B[0m \u001B[0marg\u001B[0m\u001B[0;34m,\u001B[0m \u001B[0msuspend_type\u001B[0m\u001B[0;34m,\u001B[0m \u001B[0mfrom_this_thread\u001B[0m\u001B[0;34m)\u001B[0m\u001B[0;34m:\u001B[0m\u001B[0;34m\u001B[0m\u001B[0;34m\u001B[0m\u001B[0m\n",
      "\u001B[0;32m/app/extra/plugins/python/helpers/pydev/pydevd.py\u001B[0m in \u001B[0;36m_do_wait_suspend\u001B[0;34m(self, thread, frame, event, arg, suspend_type, from_this_thread)\u001B[0m\n\u001B[1;32m   1160\u001B[0m \u001B[0;34m\u001B[0m\u001B[0m\n\u001B[1;32m   1161\u001B[0m                 \u001B[0mself\u001B[0m\u001B[0;34m.\u001B[0m\u001B[0mprocess_internal_commands\u001B[0m\u001B[0;34m(\u001B[0m\u001B[0;34m)\u001B[0m\u001B[0;34m\u001B[0m\u001B[0;34m\u001B[0m\u001B[0m\n\u001B[0;32m-> 1162\u001B[0;31m                 \u001B[0mtime\u001B[0m\u001B[0;34m.\u001B[0m\u001B[0msleep\u001B[0m\u001B[0;34m(\u001B[0m\u001B[0;36m0.01\u001B[0m\u001B[0;34m)\u001B[0m\u001B[0;34m\u001B[0m\u001B[0;34m\u001B[0m\u001B[0m\n\u001B[0m\u001B[1;32m   1163\u001B[0m \u001B[0;34m\u001B[0m\u001B[0m\n\u001B[1;32m   1164\u001B[0m         \u001B[0mself\u001B[0m\u001B[0;34m.\u001B[0m\u001B[0mcancel_async_evaluation\u001B[0m\u001B[0;34m(\u001B[0m\u001B[0mget_current_thread_id\u001B[0m\u001B[0;34m(\u001B[0m\u001B[0mthread\u001B[0m\u001B[0;34m)\u001B[0m\u001B[0;34m,\u001B[0m \u001B[0mstr\u001B[0m\u001B[0;34m(\u001B[0m\u001B[0mid\u001B[0m\u001B[0;34m(\u001B[0m\u001B[0mframe\u001B[0m\u001B[0;34m)\u001B[0m\u001B[0;34m)\u001B[0m\u001B[0;34m)\u001B[0m\u001B[0;34m\u001B[0m\u001B[0;34m\u001B[0m\u001B[0m\n",
      "\u001B[0;31mKeyboardInterrupt\u001B[0m: "
     ]
    }
   ],
   "source": [
    "\n",
    "\n",
    "total_names = total_players[[\"PERSON_ID\", \"DISPLAY_FIRST_LAST\"]]\n",
    "total_stats = pd.DataFrame()\n",
    "\n",
    "\n",
    "for index, row in tqdm(total_names.iterrows()):\n",
    "    stats = playercareerstats.PlayerCareerStats(player_id=row[\"PERSON_ID\"]).get_data_frames()[0]\n",
    "    stats = stats.drop(stats.columns[[2, 4, 7]], axis=1)\n",
    "    #stats = stats[stats[]] PRENDERE SOLO I DATI SUPERIORE ALL'ANNO FROM_YEAR\n",
    "    #name = row[[\"DISPLAY_FIRST_LAST\"]].repeat(stats.shape[0])\n",
    "    #tot = pd.concat([stats, name], axis=1, ignore_index=True)\n",
    "    awards = playerawards.PlayerAwards(player_id=row[\"PERSON_ID\"]).get_data_frames()[0]\n",
    "    awards = awards.drop(awards.columns[[1, 2, 3, 5, 7, 8, 9, 10, 11, 12, 13]], axis=1)\n",
    "    awards = awards.rename(columns={\"SEASON\": \"SEASON_ID\"})\n",
    "    awards = awards.rename(columns={\"PERSON_ID\": \"PLAYER_ID\"})\n",
    "    #awards = awards.drop(awards.row()) #togliere tutti quelli != da MVP\n",
    "\n",
    "\n",
    "    total_stats = pd.concat([total_stats, stats, awards],axis=0,ignore_index=True)\n",
    "\n",
    "#Tolgo la formattazione \"year1-year2\" (2010-11) e lascio solo il secondo anno (2011)\n",
    "total_stats[\"SEASON_ID\"] = [int(\"20\"+x.split(\"-\")[1]) for x in list(total_stats[\"SEASON_ID\"])]\n",
    "#Prendo i dati superiore all'anno FROM_YEAR\n",
    "total_stats= total_stats[total_stats[\"SEASON_ID\"] > from_year]\n",
    "\n",
    "with open(\"player_stats.pkl\",'wb') as f:\n",
    "    pickle.dump(total_stats,f)\n",
    "\n",
    "#Find lebron james totals stats\n",
    "#playercareerstats.PlayerCareerStats(player_id=2544).get_data_frames()[0]"
   ]
  },
  {
   "cell_type": "markdown",
   "metadata": {
    "pycharm": {
     "name": "#%% md\n"
    }
   },
   "source": [
    "#How it's structured this dataset\n",
    "- Player_id --> id del giocatore(da ritrovare il nome con players.find_player_by_id())\n",
    "- Season_id --> id della stagione\n",
    "- ...other...\n",
    "- GP --> Games Played\n",
    "- GS --> Games ... (idk but similar to GP) (I think is not usefull)\n",
    "- MIN Minutes Played\n",
    "- FGM Field Goals Made --> Numero canestri fatti\n",
    "- FGA Field Goals Attempted --> Numero tiri provati\n",
    "- FG% Field Goal Percentage --> FGM/FGA, rapporto precisione tiri\n",
    "- 3PM 3 Point Field Goals Made --> Numero canestri da 3 fatti\n",
    "- 3PA 3 Point Field Goals Attempted --> Numero tiri da 3 provati\n",
    "- 3P% 3 Point Field Goals Percentage --> 3PM/3PA, precisione tiri da 3\n",
    "- FTM Free Throws Made --> Tiri liberi fatti\n",
    "- FTA Free Throws Attempted --> tiri liberi provati\n",
    "- FT% Free Throw Percentage --> FTM/FTA\n",
    "- OREB Offensive Rebounds --> Rimbalzi conquistati in attacco\n",
    "- DREB Defensive Rebounds --> rimbalzi conquistati in difesa\n",
    "- REB Rebounds --> OREB + DREB, rimbalzi totali\n",
    "- AST Assists\n",
    "- TOV Turnovers --> palla persa\n",
    "- STL Steals --> palla rubata\n",
    "- BLK Blocks --> blocchi\n",
    "- PF Personal Fouls --> falli personali\n",
    "- DD2 Double Doubles --> doppie doppie\n",
    "- TD3 Trible Doubles --> triple doppie\n",
    "- PTS Points"
   ]
  },
  {
   "cell_type": "code",
   "execution_count": 36,
   "metadata": {
    "collapsed": false,
    "jupyter": {
     "outputs_hidden": false
    },
    "pycharm": {
     "name": "#%%\n"
    }
   },
   "outputs": [],
   "source": [
    "with open(\"player_stats.pkl\", \"rb\") as f:\n",
    "    total_stats = pickle.load(f)\n",
    "\n",
    "\n"
   ]
  },
  {
   "cell_type": "code",
   "execution_count": 37,
   "outputs": [
    {
     "data": {
      "text/plain": "     PLAYER_ID  SEASON_ID LEAGUE_ID     TEAM_ID TEAM_ABBREVIATION  PLAYER_AGE  \\\n0       203518       2017        00  1610612760               OKC        23.0   \n1       203518       2018        00  1610612760               OKC        24.0   \n2       203518       2019        00  1610612760               OKC        25.0   \n3      1630173       2021        00  1610612748               MIA        21.0   \n4      1630173       2022        00  1610612761               TOR        22.0   \n...        ...        ...       ...         ...               ...         ...   \n9774   1627826       2019        00  1610612746               LAC        22.0   \n9775   1627826       2019        00           0               TOT        22.0   \n9776   1627826       2020        00  1610612746               LAC        23.0   \n9777   1627826       2021        00  1610612746               LAC        24.0   \n9778   1627826       2022        00  1610612746               LAC        24.0   \n\n      GP  GS     MIN  FGM  ... FT_PCT  OREB DREB  REB  AST STL BLK  TOV   PF  \\\n0     68   6  1055.0  134  ...  0.898    18   68   86   40  37   8   33  114   \n1     75   8  1134.0  115  ...  0.848    26   88  114   28  38   8   25  124   \n2     31   2   588.0   56  ...  0.923     5   43   48   20  17   6   14   53   \n3     61   4   737.0  124  ...  0.509    73  135  208   29  20  28   43   91   \n4     25  17   625.0   83  ...  0.574    56  134  190   37  13  14   30   56   \n...   ..  ..     ...  ...  ...    ...   ...  ...  ...  ...  ..  ..  ...  ...   \n9774  26  25   524.0  100  ...  0.733    61  139  200   38  10  24   37   64   \n9775  59  37  1039.0  212  ...  0.802   115  247  362   63  14  51   70  137   \n9776  72  70  1326.0  236  ...  0.747   197  346  543   82  16  66   61  168   \n9777  72  33  1609.0  257  ...  0.789   189  330  519   90  24  62   81  187   \n9778  35  35   876.0  126  ...  0.737    95  193  288   38  19  41   48   80   \n\n      PTS  \n0     406  \n1     353  \n2     165  \n3     304  \n4     201  \n...   ...  \n9774  244  \n9775  525  \n9776  596  \n9777  650  \n9778  336  \n\n[7524 rows x 27 columns]",
      "text/html": "<div>\n<style scoped>\n    .dataframe tbody tr th:only-of-type {\n        vertical-align: middle;\n    }\n\n    .dataframe tbody tr th {\n        vertical-align: top;\n    }\n\n    .dataframe thead th {\n        text-align: right;\n    }\n</style>\n<table border=\"1\" class=\"dataframe\">\n  <thead>\n    <tr style=\"text-align: right;\">\n      <th></th>\n      <th>PLAYER_ID</th>\n      <th>SEASON_ID</th>\n      <th>LEAGUE_ID</th>\n      <th>TEAM_ID</th>\n      <th>TEAM_ABBREVIATION</th>\n      <th>PLAYER_AGE</th>\n      <th>GP</th>\n      <th>GS</th>\n      <th>MIN</th>\n      <th>FGM</th>\n      <th>...</th>\n      <th>FT_PCT</th>\n      <th>OREB</th>\n      <th>DREB</th>\n      <th>REB</th>\n      <th>AST</th>\n      <th>STL</th>\n      <th>BLK</th>\n      <th>TOV</th>\n      <th>PF</th>\n      <th>PTS</th>\n    </tr>\n  </thead>\n  <tbody>\n    <tr>\n      <th>0</th>\n      <td>203518</td>\n      <td>2017</td>\n      <td>00</td>\n      <td>1610612760</td>\n      <td>OKC</td>\n      <td>23.0</td>\n      <td>68</td>\n      <td>6</td>\n      <td>1055.0</td>\n      <td>134</td>\n      <td>...</td>\n      <td>0.898</td>\n      <td>18</td>\n      <td>68</td>\n      <td>86</td>\n      <td>40</td>\n      <td>37</td>\n      <td>8</td>\n      <td>33</td>\n      <td>114</td>\n      <td>406</td>\n    </tr>\n    <tr>\n      <th>1</th>\n      <td>203518</td>\n      <td>2018</td>\n      <td>00</td>\n      <td>1610612760</td>\n      <td>OKC</td>\n      <td>24.0</td>\n      <td>75</td>\n      <td>8</td>\n      <td>1134.0</td>\n      <td>115</td>\n      <td>...</td>\n      <td>0.848</td>\n      <td>26</td>\n      <td>88</td>\n      <td>114</td>\n      <td>28</td>\n      <td>38</td>\n      <td>8</td>\n      <td>25</td>\n      <td>124</td>\n      <td>353</td>\n    </tr>\n    <tr>\n      <th>2</th>\n      <td>203518</td>\n      <td>2019</td>\n      <td>00</td>\n      <td>1610612760</td>\n      <td>OKC</td>\n      <td>25.0</td>\n      <td>31</td>\n      <td>2</td>\n      <td>588.0</td>\n      <td>56</td>\n      <td>...</td>\n      <td>0.923</td>\n      <td>5</td>\n      <td>43</td>\n      <td>48</td>\n      <td>20</td>\n      <td>17</td>\n      <td>6</td>\n      <td>14</td>\n      <td>53</td>\n      <td>165</td>\n    </tr>\n    <tr>\n      <th>3</th>\n      <td>1630173</td>\n      <td>2021</td>\n      <td>00</td>\n      <td>1610612748</td>\n      <td>MIA</td>\n      <td>21.0</td>\n      <td>61</td>\n      <td>4</td>\n      <td>737.0</td>\n      <td>124</td>\n      <td>...</td>\n      <td>0.509</td>\n      <td>73</td>\n      <td>135</td>\n      <td>208</td>\n      <td>29</td>\n      <td>20</td>\n      <td>28</td>\n      <td>43</td>\n      <td>91</td>\n      <td>304</td>\n    </tr>\n    <tr>\n      <th>4</th>\n      <td>1630173</td>\n      <td>2022</td>\n      <td>00</td>\n      <td>1610612761</td>\n      <td>TOR</td>\n      <td>22.0</td>\n      <td>25</td>\n      <td>17</td>\n      <td>625.0</td>\n      <td>83</td>\n      <td>...</td>\n      <td>0.574</td>\n      <td>56</td>\n      <td>134</td>\n      <td>190</td>\n      <td>37</td>\n      <td>13</td>\n      <td>14</td>\n      <td>30</td>\n      <td>56</td>\n      <td>201</td>\n    </tr>\n    <tr>\n      <th>...</th>\n      <td>...</td>\n      <td>...</td>\n      <td>...</td>\n      <td>...</td>\n      <td>...</td>\n      <td>...</td>\n      <td>...</td>\n      <td>...</td>\n      <td>...</td>\n      <td>...</td>\n      <td>...</td>\n      <td>...</td>\n      <td>...</td>\n      <td>...</td>\n      <td>...</td>\n      <td>...</td>\n      <td>...</td>\n      <td>...</td>\n      <td>...</td>\n      <td>...</td>\n      <td>...</td>\n    </tr>\n    <tr>\n      <th>9774</th>\n      <td>1627826</td>\n      <td>2019</td>\n      <td>00</td>\n      <td>1610612746</td>\n      <td>LAC</td>\n      <td>22.0</td>\n      <td>26</td>\n      <td>25</td>\n      <td>524.0</td>\n      <td>100</td>\n      <td>...</td>\n      <td>0.733</td>\n      <td>61</td>\n      <td>139</td>\n      <td>200</td>\n      <td>38</td>\n      <td>10</td>\n      <td>24</td>\n      <td>37</td>\n      <td>64</td>\n      <td>244</td>\n    </tr>\n    <tr>\n      <th>9775</th>\n      <td>1627826</td>\n      <td>2019</td>\n      <td>00</td>\n      <td>0</td>\n      <td>TOT</td>\n      <td>22.0</td>\n      <td>59</td>\n      <td>37</td>\n      <td>1039.0</td>\n      <td>212</td>\n      <td>...</td>\n      <td>0.802</td>\n      <td>115</td>\n      <td>247</td>\n      <td>362</td>\n      <td>63</td>\n      <td>14</td>\n      <td>51</td>\n      <td>70</td>\n      <td>137</td>\n      <td>525</td>\n    </tr>\n    <tr>\n      <th>9776</th>\n      <td>1627826</td>\n      <td>2020</td>\n      <td>00</td>\n      <td>1610612746</td>\n      <td>LAC</td>\n      <td>23.0</td>\n      <td>72</td>\n      <td>70</td>\n      <td>1326.0</td>\n      <td>236</td>\n      <td>...</td>\n      <td>0.747</td>\n      <td>197</td>\n      <td>346</td>\n      <td>543</td>\n      <td>82</td>\n      <td>16</td>\n      <td>66</td>\n      <td>61</td>\n      <td>168</td>\n      <td>596</td>\n    </tr>\n    <tr>\n      <th>9777</th>\n      <td>1627826</td>\n      <td>2021</td>\n      <td>00</td>\n      <td>1610612746</td>\n      <td>LAC</td>\n      <td>24.0</td>\n      <td>72</td>\n      <td>33</td>\n      <td>1609.0</td>\n      <td>257</td>\n      <td>...</td>\n      <td>0.789</td>\n      <td>189</td>\n      <td>330</td>\n      <td>519</td>\n      <td>90</td>\n      <td>24</td>\n      <td>62</td>\n      <td>81</td>\n      <td>187</td>\n      <td>650</td>\n    </tr>\n    <tr>\n      <th>9778</th>\n      <td>1627826</td>\n      <td>2022</td>\n      <td>00</td>\n      <td>1610612746</td>\n      <td>LAC</td>\n      <td>24.0</td>\n      <td>35</td>\n      <td>35</td>\n      <td>876.0</td>\n      <td>126</td>\n      <td>...</td>\n      <td>0.737</td>\n      <td>95</td>\n      <td>193</td>\n      <td>288</td>\n      <td>38</td>\n      <td>19</td>\n      <td>41</td>\n      <td>48</td>\n      <td>80</td>\n      <td>336</td>\n    </tr>\n  </tbody>\n</table>\n<p>7524 rows × 27 columns</p>\n</div>"
     },
     "execution_count": 37,
     "metadata": {},
     "output_type": "execute_result"
    }
   ],
   "source": [
    "\n",
    "total_stats\n"
   ],
   "metadata": {
    "collapsed": false,
    "pycharm": {
     "name": "#%%\n"
    }
   }
  },
  {
   "cell_type": "code",
   "execution_count": 4,
   "metadata": {
    "collapsed": false,
    "jupyter": {
     "outputs_hidden": false
    },
    "pycharm": {
     "name": "#%%\n"
    }
   },
   "outputs": [
    {
     "data": {
      "text/plain": "       TEAM_ID TEAM_CITY TEAM_NAME     YEAR  GP  WINS  LOSSES  WIN_PCT  \\\n0   1610612748     Miami      Heat  1988-89  82    15      67    0.183   \n1   1610612748     Miami      Heat  1989-90  82    18      64    0.220   \n2   1610612748     Miami      Heat  1990-91  82    24      58    0.293   \n3   1610612748     Miami      Heat  1991-92  82    38      44    0.463   \n4   1610612748     Miami      Heat  1992-93  82    36      46    0.439   \n5   1610612748     Miami      Heat  1993-94  82    42      40    0.512   \n6   1610612748     Miami      Heat  1994-95  82    32      50    0.390   \n7   1610612748     Miami      Heat  1995-96  82    42      40    0.512   \n8   1610612748     Miami      Heat  1996-97  82    61      21    0.744   \n9   1610612748     Miami      Heat  1997-98  82    55      27    0.671   \n10  1610612748     Miami      Heat  1998-99  50    33      17    0.660   \n11  1610612748     Miami      Heat  1999-00  82    52      30    0.634   \n12  1610612748     Miami      Heat  2000-01  82    50      32    0.610   \n13  1610612748     Miami      Heat  2001-02  82    36      46    0.439   \n14  1610612748     Miami      Heat  2002-03  82    25      57    0.305   \n15  1610612748     Miami      Heat  2003-04  82    42      40    0.512   \n16  1610612748     Miami      Heat  2004-05  82    59      23    0.720   \n17  1610612748     Miami      Heat  2005-06  82    52      30    0.634   \n18  1610612748     Miami      Heat  2006-07  82    44      38    0.537   \n19  1610612748     Miami      Heat  2007-08  82    15      67    0.183   \n20  1610612748     Miami      Heat  2008-09  82    43      39    0.524   \n21  1610612748     Miami      Heat  2009-10  82    47      35    0.573   \n22  1610612748     Miami      Heat  2010-11  82    58      24    0.707   \n23  1610612748     Miami      Heat  2011-12  66    46      20    0.697   \n24  1610612748     Miami      Heat  2012-13  82    66      16    0.805   \n25  1610612748     Miami      Heat  2013-14  82    54      28    0.659   \n26  1610612748     Miami      Heat  2014-15  82    37      45    0.451   \n27  1610612748     Miami      Heat  2015-16  82    48      34    0.585   \n28  1610612748     Miami      Heat  2016-17  82    41      41    0.500   \n29  1610612748     Miami      Heat  2017-18  82    44      38    0.537   \n30  1610612748     Miami      Heat  2018-19  82    39      43    0.476   \n31  1610612748     Miami      Heat  2019-20  73    44      29    0.603   \n32  1610612748     Miami      Heat  2020-21  72    40      32    0.556   \n33  1610612748     Miami      Heat  2021-22  39    24      15    0.615   \n\n    CONF_RANK  DIV_RANK  ...  OREB  DREB   REB   AST    PF  STL   TOV  BLK  \\\n0          13         6  ...  1309  2211  3520  1958  2124  744  1728  408   \n1          11         5  ...  1242  2313  3555  1957  2123  736  1557  388   \n2          13         6  ...  1232  2302  3534  1904  2080  756  1551  387   \n3           8         4  ...  1187  2366  3553  1749  1819  670  1377  373   \n4          11         5  ...  1134  2384  3518  1688  2011  609  1287  350   \n5           8         4  ...  1235  2407  3642  1856  2024  643  1315  374   \n6          10         4  ...  1092  2272  3364  1779  2000  662  1291  298   \n7           8         3  ...   999  2495  3494  1752  2158  574  1394  439   \n8           2         1  ...   957  2402  3359  1735  1919  650  1306  439   \n9           2         1  ...  1028  2419  3447  1758  1982  665  1226  429   \n10          1         1  ...   503  1512  2015  1019  1035  327   744  304   \n11          2         1  ...   921  2619  3540  1931  1947  582  1231  524   \n12          3         2  ...   813  2435  3248  1630  1726  633  1122  304   \n13         11         6  ...   902  2544  3446  1664  1846  547  1217  448   \n14         13         7  ...   948  2464  3412  1501  1856  592  1167  324   \n15          4         2  ...   940  2459  3399  1565  1812  590  1137  313   \n16          1         1  ...   887  2639  3526  1790  1814  528  1127  474   \n17          2         1  ...   858  2675  3533  1692  1871  522  1186  442   \n18          4         1  ...   817  2526  3343  1681  1749  566  1201  442   \n19         15         5  ...   743  2342  3085  1644  1670  589  1202  355   \n20          5         3  ...   828  2411  3239  1671  1696  651  1026  451   \n21          5         3  ...   875  2553  3428  1548  1710  605  1079  457   \n22          2         1  ...   790  2666  3456  1639  1674  544  1142  430   \n23          2         1  ...   686  2060  2746  1317  1282  585  1002  355   \n24          1         1  ...   676  2490  3166  1890  1533  710  1143  441   \n25          2         1  ...   627  2397  3024  1847  1596  732  1212  367   \n26         10         3  ...   747  2461  3208  1626  1636  642  1214  372   \n27          3         1  ...   807  2811  3618  1709  1502  553  1155  531   \n28          9         3  ...   872  2705  3577  1742  1680  588  1102  469   \n29          6         1  ...   763  2801  3564  1862  1648  620  1178  437   \n30         10         3  ...   921  2879  3800  1991  1712  627  1208  448   \n31          5         1  ...   620  2619  3239  1892  1501  547  1088  332   \n32          6         2  ...   579  2409  2988  1895  1363  569  1013  286   \n33          4         1  ...   426  1318  1744   987   776  270   563  122   \n\n     PTS  PTS_RANK  \n0   8016        25  \n1   8247        24  \n2   8349        21  \n3   8608        14  \n4   8495        20  \n5   8475         7  \n6   8293        14  \n7   7909        23  \n8   7776        22  \n9   7787        16  \n10  4449        23  \n11  7739        24  \n12  7289        27  \n13  7150        29  \n14  7016        28  \n15  7402        22  \n16  8327         4  \n17  8191         6  \n18  7759        28  \n19  7491        30  \n20  8061        18  \n21  7914        25  \n22  8369         8  \n23  6500         7  \n24  8436         5  \n25  8380        12  \n26  7764        27  \n27  8204        23  \n28  8460        21  \n29  8480        23  \n30  8668        26  \n31  8179        11  \n32  7781        25  \n33  4214         7  \n\n[34 rows x 34 columns]",
      "text/html": "<div>\n<style scoped>\n    .dataframe tbody tr th:only-of-type {\n        vertical-align: middle;\n    }\n\n    .dataframe tbody tr th {\n        vertical-align: top;\n    }\n\n    .dataframe thead th {\n        text-align: right;\n    }\n</style>\n<table border=\"1\" class=\"dataframe\">\n  <thead>\n    <tr style=\"text-align: right;\">\n      <th></th>\n      <th>TEAM_ID</th>\n      <th>TEAM_CITY</th>\n      <th>TEAM_NAME</th>\n      <th>YEAR</th>\n      <th>GP</th>\n      <th>WINS</th>\n      <th>LOSSES</th>\n      <th>WIN_PCT</th>\n      <th>CONF_RANK</th>\n      <th>DIV_RANK</th>\n      <th>...</th>\n      <th>OREB</th>\n      <th>DREB</th>\n      <th>REB</th>\n      <th>AST</th>\n      <th>PF</th>\n      <th>STL</th>\n      <th>TOV</th>\n      <th>BLK</th>\n      <th>PTS</th>\n      <th>PTS_RANK</th>\n    </tr>\n  </thead>\n  <tbody>\n    <tr>\n      <th>0</th>\n      <td>1610612748</td>\n      <td>Miami</td>\n      <td>Heat</td>\n      <td>1988-89</td>\n      <td>82</td>\n      <td>15</td>\n      <td>67</td>\n      <td>0.183</td>\n      <td>13</td>\n      <td>6</td>\n      <td>...</td>\n      <td>1309</td>\n      <td>2211</td>\n      <td>3520</td>\n      <td>1958</td>\n      <td>2124</td>\n      <td>744</td>\n      <td>1728</td>\n      <td>408</td>\n      <td>8016</td>\n      <td>25</td>\n    </tr>\n    <tr>\n      <th>1</th>\n      <td>1610612748</td>\n      <td>Miami</td>\n      <td>Heat</td>\n      <td>1989-90</td>\n      <td>82</td>\n      <td>18</td>\n      <td>64</td>\n      <td>0.220</td>\n      <td>11</td>\n      <td>5</td>\n      <td>...</td>\n      <td>1242</td>\n      <td>2313</td>\n      <td>3555</td>\n      <td>1957</td>\n      <td>2123</td>\n      <td>736</td>\n      <td>1557</td>\n      <td>388</td>\n      <td>8247</td>\n      <td>24</td>\n    </tr>\n    <tr>\n      <th>2</th>\n      <td>1610612748</td>\n      <td>Miami</td>\n      <td>Heat</td>\n      <td>1990-91</td>\n      <td>82</td>\n      <td>24</td>\n      <td>58</td>\n      <td>0.293</td>\n      <td>13</td>\n      <td>6</td>\n      <td>...</td>\n      <td>1232</td>\n      <td>2302</td>\n      <td>3534</td>\n      <td>1904</td>\n      <td>2080</td>\n      <td>756</td>\n      <td>1551</td>\n      <td>387</td>\n      <td>8349</td>\n      <td>21</td>\n    </tr>\n    <tr>\n      <th>3</th>\n      <td>1610612748</td>\n      <td>Miami</td>\n      <td>Heat</td>\n      <td>1991-92</td>\n      <td>82</td>\n      <td>38</td>\n      <td>44</td>\n      <td>0.463</td>\n      <td>8</td>\n      <td>4</td>\n      <td>...</td>\n      <td>1187</td>\n      <td>2366</td>\n      <td>3553</td>\n      <td>1749</td>\n      <td>1819</td>\n      <td>670</td>\n      <td>1377</td>\n      <td>373</td>\n      <td>8608</td>\n      <td>14</td>\n    </tr>\n    <tr>\n      <th>4</th>\n      <td>1610612748</td>\n      <td>Miami</td>\n      <td>Heat</td>\n      <td>1992-93</td>\n      <td>82</td>\n      <td>36</td>\n      <td>46</td>\n      <td>0.439</td>\n      <td>11</td>\n      <td>5</td>\n      <td>...</td>\n      <td>1134</td>\n      <td>2384</td>\n      <td>3518</td>\n      <td>1688</td>\n      <td>2011</td>\n      <td>609</td>\n      <td>1287</td>\n      <td>350</td>\n      <td>8495</td>\n      <td>20</td>\n    </tr>\n    <tr>\n      <th>5</th>\n      <td>1610612748</td>\n      <td>Miami</td>\n      <td>Heat</td>\n      <td>1993-94</td>\n      <td>82</td>\n      <td>42</td>\n      <td>40</td>\n      <td>0.512</td>\n      <td>8</td>\n      <td>4</td>\n      <td>...</td>\n      <td>1235</td>\n      <td>2407</td>\n      <td>3642</td>\n      <td>1856</td>\n      <td>2024</td>\n      <td>643</td>\n      <td>1315</td>\n      <td>374</td>\n      <td>8475</td>\n      <td>7</td>\n    </tr>\n    <tr>\n      <th>6</th>\n      <td>1610612748</td>\n      <td>Miami</td>\n      <td>Heat</td>\n      <td>1994-95</td>\n      <td>82</td>\n      <td>32</td>\n      <td>50</td>\n      <td>0.390</td>\n      <td>10</td>\n      <td>4</td>\n      <td>...</td>\n      <td>1092</td>\n      <td>2272</td>\n      <td>3364</td>\n      <td>1779</td>\n      <td>2000</td>\n      <td>662</td>\n      <td>1291</td>\n      <td>298</td>\n      <td>8293</td>\n      <td>14</td>\n    </tr>\n    <tr>\n      <th>7</th>\n      <td>1610612748</td>\n      <td>Miami</td>\n      <td>Heat</td>\n      <td>1995-96</td>\n      <td>82</td>\n      <td>42</td>\n      <td>40</td>\n      <td>0.512</td>\n      <td>8</td>\n      <td>3</td>\n      <td>...</td>\n      <td>999</td>\n      <td>2495</td>\n      <td>3494</td>\n      <td>1752</td>\n      <td>2158</td>\n      <td>574</td>\n      <td>1394</td>\n      <td>439</td>\n      <td>7909</td>\n      <td>23</td>\n    </tr>\n    <tr>\n      <th>8</th>\n      <td>1610612748</td>\n      <td>Miami</td>\n      <td>Heat</td>\n      <td>1996-97</td>\n      <td>82</td>\n      <td>61</td>\n      <td>21</td>\n      <td>0.744</td>\n      <td>2</td>\n      <td>1</td>\n      <td>...</td>\n      <td>957</td>\n      <td>2402</td>\n      <td>3359</td>\n      <td>1735</td>\n      <td>1919</td>\n      <td>650</td>\n      <td>1306</td>\n      <td>439</td>\n      <td>7776</td>\n      <td>22</td>\n    </tr>\n    <tr>\n      <th>9</th>\n      <td>1610612748</td>\n      <td>Miami</td>\n      <td>Heat</td>\n      <td>1997-98</td>\n      <td>82</td>\n      <td>55</td>\n      <td>27</td>\n      <td>0.671</td>\n      <td>2</td>\n      <td>1</td>\n      <td>...</td>\n      <td>1028</td>\n      <td>2419</td>\n      <td>3447</td>\n      <td>1758</td>\n      <td>1982</td>\n      <td>665</td>\n      <td>1226</td>\n      <td>429</td>\n      <td>7787</td>\n      <td>16</td>\n    </tr>\n    <tr>\n      <th>10</th>\n      <td>1610612748</td>\n      <td>Miami</td>\n      <td>Heat</td>\n      <td>1998-99</td>\n      <td>50</td>\n      <td>33</td>\n      <td>17</td>\n      <td>0.660</td>\n      <td>1</td>\n      <td>1</td>\n      <td>...</td>\n      <td>503</td>\n      <td>1512</td>\n      <td>2015</td>\n      <td>1019</td>\n      <td>1035</td>\n      <td>327</td>\n      <td>744</td>\n      <td>304</td>\n      <td>4449</td>\n      <td>23</td>\n    </tr>\n    <tr>\n      <th>11</th>\n      <td>1610612748</td>\n      <td>Miami</td>\n      <td>Heat</td>\n      <td>1999-00</td>\n      <td>82</td>\n      <td>52</td>\n      <td>30</td>\n      <td>0.634</td>\n      <td>2</td>\n      <td>1</td>\n      <td>...</td>\n      <td>921</td>\n      <td>2619</td>\n      <td>3540</td>\n      <td>1931</td>\n      <td>1947</td>\n      <td>582</td>\n      <td>1231</td>\n      <td>524</td>\n      <td>7739</td>\n      <td>24</td>\n    </tr>\n    <tr>\n      <th>12</th>\n      <td>1610612748</td>\n      <td>Miami</td>\n      <td>Heat</td>\n      <td>2000-01</td>\n      <td>82</td>\n      <td>50</td>\n      <td>32</td>\n      <td>0.610</td>\n      <td>3</td>\n      <td>2</td>\n      <td>...</td>\n      <td>813</td>\n      <td>2435</td>\n      <td>3248</td>\n      <td>1630</td>\n      <td>1726</td>\n      <td>633</td>\n      <td>1122</td>\n      <td>304</td>\n      <td>7289</td>\n      <td>27</td>\n    </tr>\n    <tr>\n      <th>13</th>\n      <td>1610612748</td>\n      <td>Miami</td>\n      <td>Heat</td>\n      <td>2001-02</td>\n      <td>82</td>\n      <td>36</td>\n      <td>46</td>\n      <td>0.439</td>\n      <td>11</td>\n      <td>6</td>\n      <td>...</td>\n      <td>902</td>\n      <td>2544</td>\n      <td>3446</td>\n      <td>1664</td>\n      <td>1846</td>\n      <td>547</td>\n      <td>1217</td>\n      <td>448</td>\n      <td>7150</td>\n      <td>29</td>\n    </tr>\n    <tr>\n      <th>14</th>\n      <td>1610612748</td>\n      <td>Miami</td>\n      <td>Heat</td>\n      <td>2002-03</td>\n      <td>82</td>\n      <td>25</td>\n      <td>57</td>\n      <td>0.305</td>\n      <td>13</td>\n      <td>7</td>\n      <td>...</td>\n      <td>948</td>\n      <td>2464</td>\n      <td>3412</td>\n      <td>1501</td>\n      <td>1856</td>\n      <td>592</td>\n      <td>1167</td>\n      <td>324</td>\n      <td>7016</td>\n      <td>28</td>\n    </tr>\n    <tr>\n      <th>15</th>\n      <td>1610612748</td>\n      <td>Miami</td>\n      <td>Heat</td>\n      <td>2003-04</td>\n      <td>82</td>\n      <td>42</td>\n      <td>40</td>\n      <td>0.512</td>\n      <td>4</td>\n      <td>2</td>\n      <td>...</td>\n      <td>940</td>\n      <td>2459</td>\n      <td>3399</td>\n      <td>1565</td>\n      <td>1812</td>\n      <td>590</td>\n      <td>1137</td>\n      <td>313</td>\n      <td>7402</td>\n      <td>22</td>\n    </tr>\n    <tr>\n      <th>16</th>\n      <td>1610612748</td>\n      <td>Miami</td>\n      <td>Heat</td>\n      <td>2004-05</td>\n      <td>82</td>\n      <td>59</td>\n      <td>23</td>\n      <td>0.720</td>\n      <td>1</td>\n      <td>1</td>\n      <td>...</td>\n      <td>887</td>\n      <td>2639</td>\n      <td>3526</td>\n      <td>1790</td>\n      <td>1814</td>\n      <td>528</td>\n      <td>1127</td>\n      <td>474</td>\n      <td>8327</td>\n      <td>4</td>\n    </tr>\n    <tr>\n      <th>17</th>\n      <td>1610612748</td>\n      <td>Miami</td>\n      <td>Heat</td>\n      <td>2005-06</td>\n      <td>82</td>\n      <td>52</td>\n      <td>30</td>\n      <td>0.634</td>\n      <td>2</td>\n      <td>1</td>\n      <td>...</td>\n      <td>858</td>\n      <td>2675</td>\n      <td>3533</td>\n      <td>1692</td>\n      <td>1871</td>\n      <td>522</td>\n      <td>1186</td>\n      <td>442</td>\n      <td>8191</td>\n      <td>6</td>\n    </tr>\n    <tr>\n      <th>18</th>\n      <td>1610612748</td>\n      <td>Miami</td>\n      <td>Heat</td>\n      <td>2006-07</td>\n      <td>82</td>\n      <td>44</td>\n      <td>38</td>\n      <td>0.537</td>\n      <td>4</td>\n      <td>1</td>\n      <td>...</td>\n      <td>817</td>\n      <td>2526</td>\n      <td>3343</td>\n      <td>1681</td>\n      <td>1749</td>\n      <td>566</td>\n      <td>1201</td>\n      <td>442</td>\n      <td>7759</td>\n      <td>28</td>\n    </tr>\n    <tr>\n      <th>19</th>\n      <td>1610612748</td>\n      <td>Miami</td>\n      <td>Heat</td>\n      <td>2007-08</td>\n      <td>82</td>\n      <td>15</td>\n      <td>67</td>\n      <td>0.183</td>\n      <td>15</td>\n      <td>5</td>\n      <td>...</td>\n      <td>743</td>\n      <td>2342</td>\n      <td>3085</td>\n      <td>1644</td>\n      <td>1670</td>\n      <td>589</td>\n      <td>1202</td>\n      <td>355</td>\n      <td>7491</td>\n      <td>30</td>\n    </tr>\n    <tr>\n      <th>20</th>\n      <td>1610612748</td>\n      <td>Miami</td>\n      <td>Heat</td>\n      <td>2008-09</td>\n      <td>82</td>\n      <td>43</td>\n      <td>39</td>\n      <td>0.524</td>\n      <td>5</td>\n      <td>3</td>\n      <td>...</td>\n      <td>828</td>\n      <td>2411</td>\n      <td>3239</td>\n      <td>1671</td>\n      <td>1696</td>\n      <td>651</td>\n      <td>1026</td>\n      <td>451</td>\n      <td>8061</td>\n      <td>18</td>\n    </tr>\n    <tr>\n      <th>21</th>\n      <td>1610612748</td>\n      <td>Miami</td>\n      <td>Heat</td>\n      <td>2009-10</td>\n      <td>82</td>\n      <td>47</td>\n      <td>35</td>\n      <td>0.573</td>\n      <td>5</td>\n      <td>3</td>\n      <td>...</td>\n      <td>875</td>\n      <td>2553</td>\n      <td>3428</td>\n      <td>1548</td>\n      <td>1710</td>\n      <td>605</td>\n      <td>1079</td>\n      <td>457</td>\n      <td>7914</td>\n      <td>25</td>\n    </tr>\n    <tr>\n      <th>22</th>\n      <td>1610612748</td>\n      <td>Miami</td>\n      <td>Heat</td>\n      <td>2010-11</td>\n      <td>82</td>\n      <td>58</td>\n      <td>24</td>\n      <td>0.707</td>\n      <td>2</td>\n      <td>1</td>\n      <td>...</td>\n      <td>790</td>\n      <td>2666</td>\n      <td>3456</td>\n      <td>1639</td>\n      <td>1674</td>\n      <td>544</td>\n      <td>1142</td>\n      <td>430</td>\n      <td>8369</td>\n      <td>8</td>\n    </tr>\n    <tr>\n      <th>23</th>\n      <td>1610612748</td>\n      <td>Miami</td>\n      <td>Heat</td>\n      <td>2011-12</td>\n      <td>66</td>\n      <td>46</td>\n      <td>20</td>\n      <td>0.697</td>\n      <td>2</td>\n      <td>1</td>\n      <td>...</td>\n      <td>686</td>\n      <td>2060</td>\n      <td>2746</td>\n      <td>1317</td>\n      <td>1282</td>\n      <td>585</td>\n      <td>1002</td>\n      <td>355</td>\n      <td>6500</td>\n      <td>7</td>\n    </tr>\n    <tr>\n      <th>24</th>\n      <td>1610612748</td>\n      <td>Miami</td>\n      <td>Heat</td>\n      <td>2012-13</td>\n      <td>82</td>\n      <td>66</td>\n      <td>16</td>\n      <td>0.805</td>\n      <td>1</td>\n      <td>1</td>\n      <td>...</td>\n      <td>676</td>\n      <td>2490</td>\n      <td>3166</td>\n      <td>1890</td>\n      <td>1533</td>\n      <td>710</td>\n      <td>1143</td>\n      <td>441</td>\n      <td>8436</td>\n      <td>5</td>\n    </tr>\n    <tr>\n      <th>25</th>\n      <td>1610612748</td>\n      <td>Miami</td>\n      <td>Heat</td>\n      <td>2013-14</td>\n      <td>82</td>\n      <td>54</td>\n      <td>28</td>\n      <td>0.659</td>\n      <td>2</td>\n      <td>1</td>\n      <td>...</td>\n      <td>627</td>\n      <td>2397</td>\n      <td>3024</td>\n      <td>1847</td>\n      <td>1596</td>\n      <td>732</td>\n      <td>1212</td>\n      <td>367</td>\n      <td>8380</td>\n      <td>12</td>\n    </tr>\n    <tr>\n      <th>26</th>\n      <td>1610612748</td>\n      <td>Miami</td>\n      <td>Heat</td>\n      <td>2014-15</td>\n      <td>82</td>\n      <td>37</td>\n      <td>45</td>\n      <td>0.451</td>\n      <td>10</td>\n      <td>3</td>\n      <td>...</td>\n      <td>747</td>\n      <td>2461</td>\n      <td>3208</td>\n      <td>1626</td>\n      <td>1636</td>\n      <td>642</td>\n      <td>1214</td>\n      <td>372</td>\n      <td>7764</td>\n      <td>27</td>\n    </tr>\n    <tr>\n      <th>27</th>\n      <td>1610612748</td>\n      <td>Miami</td>\n      <td>Heat</td>\n      <td>2015-16</td>\n      <td>82</td>\n      <td>48</td>\n      <td>34</td>\n      <td>0.585</td>\n      <td>3</td>\n      <td>1</td>\n      <td>...</td>\n      <td>807</td>\n      <td>2811</td>\n      <td>3618</td>\n      <td>1709</td>\n      <td>1502</td>\n      <td>553</td>\n      <td>1155</td>\n      <td>531</td>\n      <td>8204</td>\n      <td>23</td>\n    </tr>\n    <tr>\n      <th>28</th>\n      <td>1610612748</td>\n      <td>Miami</td>\n      <td>Heat</td>\n      <td>2016-17</td>\n      <td>82</td>\n      <td>41</td>\n      <td>41</td>\n      <td>0.500</td>\n      <td>9</td>\n      <td>3</td>\n      <td>...</td>\n      <td>872</td>\n      <td>2705</td>\n      <td>3577</td>\n      <td>1742</td>\n      <td>1680</td>\n      <td>588</td>\n      <td>1102</td>\n      <td>469</td>\n      <td>8460</td>\n      <td>21</td>\n    </tr>\n    <tr>\n      <th>29</th>\n      <td>1610612748</td>\n      <td>Miami</td>\n      <td>Heat</td>\n      <td>2017-18</td>\n      <td>82</td>\n      <td>44</td>\n      <td>38</td>\n      <td>0.537</td>\n      <td>6</td>\n      <td>1</td>\n      <td>...</td>\n      <td>763</td>\n      <td>2801</td>\n      <td>3564</td>\n      <td>1862</td>\n      <td>1648</td>\n      <td>620</td>\n      <td>1178</td>\n      <td>437</td>\n      <td>8480</td>\n      <td>23</td>\n    </tr>\n    <tr>\n      <th>30</th>\n      <td>1610612748</td>\n      <td>Miami</td>\n      <td>Heat</td>\n      <td>2018-19</td>\n      <td>82</td>\n      <td>39</td>\n      <td>43</td>\n      <td>0.476</td>\n      <td>10</td>\n      <td>3</td>\n      <td>...</td>\n      <td>921</td>\n      <td>2879</td>\n      <td>3800</td>\n      <td>1991</td>\n      <td>1712</td>\n      <td>627</td>\n      <td>1208</td>\n      <td>448</td>\n      <td>8668</td>\n      <td>26</td>\n    </tr>\n    <tr>\n      <th>31</th>\n      <td>1610612748</td>\n      <td>Miami</td>\n      <td>Heat</td>\n      <td>2019-20</td>\n      <td>73</td>\n      <td>44</td>\n      <td>29</td>\n      <td>0.603</td>\n      <td>5</td>\n      <td>1</td>\n      <td>...</td>\n      <td>620</td>\n      <td>2619</td>\n      <td>3239</td>\n      <td>1892</td>\n      <td>1501</td>\n      <td>547</td>\n      <td>1088</td>\n      <td>332</td>\n      <td>8179</td>\n      <td>11</td>\n    </tr>\n    <tr>\n      <th>32</th>\n      <td>1610612748</td>\n      <td>Miami</td>\n      <td>Heat</td>\n      <td>2020-21</td>\n      <td>72</td>\n      <td>40</td>\n      <td>32</td>\n      <td>0.556</td>\n      <td>6</td>\n      <td>2</td>\n      <td>...</td>\n      <td>579</td>\n      <td>2409</td>\n      <td>2988</td>\n      <td>1895</td>\n      <td>1363</td>\n      <td>569</td>\n      <td>1013</td>\n      <td>286</td>\n      <td>7781</td>\n      <td>25</td>\n    </tr>\n    <tr>\n      <th>33</th>\n      <td>1610612748</td>\n      <td>Miami</td>\n      <td>Heat</td>\n      <td>2021-22</td>\n      <td>39</td>\n      <td>24</td>\n      <td>15</td>\n      <td>0.615</td>\n      <td>4</td>\n      <td>1</td>\n      <td>...</td>\n      <td>426</td>\n      <td>1318</td>\n      <td>1744</td>\n      <td>987</td>\n      <td>776</td>\n      <td>270</td>\n      <td>563</td>\n      <td>122</td>\n      <td>4214</td>\n      <td>7</td>\n    </tr>\n  </tbody>\n</table>\n<p>34 rows × 34 columns</p>\n</div>"
     },
     "execution_count": 4,
     "metadata": {},
     "output_type": "execute_result"
    }
   ],
   "source": [
    "from nba_api.stats.endpoints import teamyearbyyearstats\n",
    "\n",
    "teamyearbyyearstats.TeamYearByYearStats(team_id=1610612748).get_data_frames()[0]"
   ]
  },
  {
   "cell_type": "code",
   "execution_count": 9,
   "metadata": {},
   "outputs": [
    {
     "data": {
      "text/plain": "     PERSON_ID FIRST_NAME LAST_NAME                 TEAM  \\\n0         2544     LeBron     James  Cleveland Cavaliers   \n1         2544     LeBron     James  Cleveland Cavaliers   \n2         2544     LeBron     James           Miami Heat   \n3         2544     LeBron     James           Miami Heat   \n4         2544     LeBron     James           Miami Heat   \n..         ...        ...       ...                  ...   \n144       2544     LeBron     James  Cleveland Cavaliers   \n145       2544     LeBron     James  Cleveland Cavaliers   \n146       2544     LeBron     James                  USA   \n147       2544     LeBron     James                  USA   \n148       2544     LeBron     James                  USA   \n\n                                           DESCRIPTION ALL_NBA_TEAM_NUMBER  \\\n0                                   All-Defensive Team                   1   \n1                                   All-Defensive Team                   1   \n2                                   All-Defensive Team                   1   \n3                                   All-Defensive Team                   1   \n4                                   All-Defensive Team                   1   \n..                                                 ...                 ...   \n144  NBA Sporting News Most Valuable Player of the ...                None   \n145               NBA Sporting News Rookie of the Year                None   \n146                               Olympic Bronze Medal                None   \n147                                 Olympic Gold Medal                None   \n148                                 Olympic Gold Medal                None   \n\n      SEASON MONTH  WEEK  CONFERENCE   TYPE       SUBTYPE1 SUBTYPE2 SUBTYPE3  \n0    2008-09  None  None  1610612739  Award     Kia Motors    KIADT     None  \n1    2009-10  None  None  1610612739  Award     Kia Motors    KIADT     None  \n2    2010-11  None  None  1610612748  Award     Kia Motors    KIADT     None  \n3    2011-12  None  None  1610612748  Award     Kia Motors    KIADT     None  \n4    2012-13  None  None  1610612748  Award     Kia Motors    KIADT     None  \n..       ...   ...   ...         ...    ...            ...      ...      ...  \n144  2005-06  None  None        None  Award  Sporting News    SNMVP     None  \n145  2003-04  None  None        None  Award  Sporting News    SNROY     None  \n146     2004  None  None        None  Award        Olympic   Bronze     None  \n147     2008  None  None        None  Award        Olympic     Gold     None  \n148     2012  None  None        None  Award        Olympic     Gold     None  \n\n[149 rows x 14 columns]",
      "text/html": "<div>\n<style scoped>\n    .dataframe tbody tr th:only-of-type {\n        vertical-align: middle;\n    }\n\n    .dataframe tbody tr th {\n        vertical-align: top;\n    }\n\n    .dataframe thead th {\n        text-align: right;\n    }\n</style>\n<table border=\"1\" class=\"dataframe\">\n  <thead>\n    <tr style=\"text-align: right;\">\n      <th></th>\n      <th>PERSON_ID</th>\n      <th>FIRST_NAME</th>\n      <th>LAST_NAME</th>\n      <th>TEAM</th>\n      <th>DESCRIPTION</th>\n      <th>ALL_NBA_TEAM_NUMBER</th>\n      <th>SEASON</th>\n      <th>MONTH</th>\n      <th>WEEK</th>\n      <th>CONFERENCE</th>\n      <th>TYPE</th>\n      <th>SUBTYPE1</th>\n      <th>SUBTYPE2</th>\n      <th>SUBTYPE3</th>\n    </tr>\n  </thead>\n  <tbody>\n    <tr>\n      <th>0</th>\n      <td>2544</td>\n      <td>LeBron</td>\n      <td>James</td>\n      <td>Cleveland Cavaliers</td>\n      <td>All-Defensive Team</td>\n      <td>1</td>\n      <td>2008-09</td>\n      <td>None</td>\n      <td>None</td>\n      <td>1610612739</td>\n      <td>Award</td>\n      <td>Kia Motors</td>\n      <td>KIADT</td>\n      <td>None</td>\n    </tr>\n    <tr>\n      <th>1</th>\n      <td>2544</td>\n      <td>LeBron</td>\n      <td>James</td>\n      <td>Cleveland Cavaliers</td>\n      <td>All-Defensive Team</td>\n      <td>1</td>\n      <td>2009-10</td>\n      <td>None</td>\n      <td>None</td>\n      <td>1610612739</td>\n      <td>Award</td>\n      <td>Kia Motors</td>\n      <td>KIADT</td>\n      <td>None</td>\n    </tr>\n    <tr>\n      <th>2</th>\n      <td>2544</td>\n      <td>LeBron</td>\n      <td>James</td>\n      <td>Miami Heat</td>\n      <td>All-Defensive Team</td>\n      <td>1</td>\n      <td>2010-11</td>\n      <td>None</td>\n      <td>None</td>\n      <td>1610612748</td>\n      <td>Award</td>\n      <td>Kia Motors</td>\n      <td>KIADT</td>\n      <td>None</td>\n    </tr>\n    <tr>\n      <th>3</th>\n      <td>2544</td>\n      <td>LeBron</td>\n      <td>James</td>\n      <td>Miami Heat</td>\n      <td>All-Defensive Team</td>\n      <td>1</td>\n      <td>2011-12</td>\n      <td>None</td>\n      <td>None</td>\n      <td>1610612748</td>\n      <td>Award</td>\n      <td>Kia Motors</td>\n      <td>KIADT</td>\n      <td>None</td>\n    </tr>\n    <tr>\n      <th>4</th>\n      <td>2544</td>\n      <td>LeBron</td>\n      <td>James</td>\n      <td>Miami Heat</td>\n      <td>All-Defensive Team</td>\n      <td>1</td>\n      <td>2012-13</td>\n      <td>None</td>\n      <td>None</td>\n      <td>1610612748</td>\n      <td>Award</td>\n      <td>Kia Motors</td>\n      <td>KIADT</td>\n      <td>None</td>\n    </tr>\n    <tr>\n      <th>...</th>\n      <td>...</td>\n      <td>...</td>\n      <td>...</td>\n      <td>...</td>\n      <td>...</td>\n      <td>...</td>\n      <td>...</td>\n      <td>...</td>\n      <td>...</td>\n      <td>...</td>\n      <td>...</td>\n      <td>...</td>\n      <td>...</td>\n      <td>...</td>\n    </tr>\n    <tr>\n      <th>144</th>\n      <td>2544</td>\n      <td>LeBron</td>\n      <td>James</td>\n      <td>Cleveland Cavaliers</td>\n      <td>NBA Sporting News Most Valuable Player of the ...</td>\n      <td>None</td>\n      <td>2005-06</td>\n      <td>None</td>\n      <td>None</td>\n      <td>None</td>\n      <td>Award</td>\n      <td>Sporting News</td>\n      <td>SNMVP</td>\n      <td>None</td>\n    </tr>\n    <tr>\n      <th>145</th>\n      <td>2544</td>\n      <td>LeBron</td>\n      <td>James</td>\n      <td>Cleveland Cavaliers</td>\n      <td>NBA Sporting News Rookie of the Year</td>\n      <td>None</td>\n      <td>2003-04</td>\n      <td>None</td>\n      <td>None</td>\n      <td>None</td>\n      <td>Award</td>\n      <td>Sporting News</td>\n      <td>SNROY</td>\n      <td>None</td>\n    </tr>\n    <tr>\n      <th>146</th>\n      <td>2544</td>\n      <td>LeBron</td>\n      <td>James</td>\n      <td>USA</td>\n      <td>Olympic Bronze Medal</td>\n      <td>None</td>\n      <td>2004</td>\n      <td>None</td>\n      <td>None</td>\n      <td>None</td>\n      <td>Award</td>\n      <td>Olympic</td>\n      <td>Bronze</td>\n      <td>None</td>\n    </tr>\n    <tr>\n      <th>147</th>\n      <td>2544</td>\n      <td>LeBron</td>\n      <td>James</td>\n      <td>USA</td>\n      <td>Olympic Gold Medal</td>\n      <td>None</td>\n      <td>2008</td>\n      <td>None</td>\n      <td>None</td>\n      <td>None</td>\n      <td>Award</td>\n      <td>Olympic</td>\n      <td>Gold</td>\n      <td>None</td>\n    </tr>\n    <tr>\n      <th>148</th>\n      <td>2544</td>\n      <td>LeBron</td>\n      <td>James</td>\n      <td>USA</td>\n      <td>Olympic Gold Medal</td>\n      <td>None</td>\n      <td>2012</td>\n      <td>None</td>\n      <td>None</td>\n      <td>None</td>\n      <td>Award</td>\n      <td>Olympic</td>\n      <td>Gold</td>\n      <td>None</td>\n    </tr>\n  </tbody>\n</table>\n<p>149 rows × 14 columns</p>\n</div>"
     },
     "execution_count": 9,
     "metadata": {},
     "output_type": "execute_result"
    }
   ],
   "source": [
    "from nba_api.stats.endpoints import playerawards\n",
    "\n",
    "playerawards.PlayerAwards(player_id=2544).get_data_frames()[0]"
   ]
  }
 ],
 "metadata": {
  "kernelspec": {
   "display_name": "Python 3 (ipykernel)",
   "language": "python",
   "name": "python3"
  },
  "language_info": {
   "codemirror_mode": {
    "name": "ipython",
    "version": 3
   },
   "file_extension": ".py",
   "mimetype": "text/x-python",
   "name": "python",
   "nbconvert_exporter": "python",
   "pygments_lexer": "ipython3",
   "version": "3.9.7"
  }
 },
 "nbformat": 4,
 "nbformat_minor": 4
}