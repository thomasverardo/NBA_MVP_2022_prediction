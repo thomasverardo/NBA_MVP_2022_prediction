{
 "cells": [
  {
   "cell_type": "code",
   "execution_count": 12,
   "outputs": [
    {
     "data": {
      "text/plain": "[{'id': 2544,\n  'full_name': 'LeBron James',\n  'first_name': 'LeBron',\n  'last_name': 'James',\n  'is_active': True}]"
     },
     "execution_count": 12,
     "metadata": {},
     "output_type": "execute_result"
    }
   ],
   "source": [
    "from nba_api.stats.static import players\n",
    "\n",
    "players.find_players_by_full_name(\"Lebron James\")\n",
    "\n",
    "players.find_player_by_id()"
   ],
   "metadata": {
    "collapsed": false,
    "pycharm": {
     "name": "#%%\n"
    }
   }
  },
  {
   "cell_type": "code",
   "execution_count": null,
   "outputs": [],
   "source": [],
   "metadata": {
    "collapsed": false,
    "pycharm": {
     "name": "#%%\n"
    }
   }
  },
  {
   "cell_type": "code",
   "execution_count": 14,
   "outputs": [
    {
     "data": {
      "text/plain": "    PLAYER_ID SEASON_ID LEAGUE_ID     TEAM_ID TEAM_ABBREVIATION  PLAYER_AGE  \\\n0        2544   2003-04        00  1610612739               CLE        19.0   \n1        2544   2004-05        00  1610612739               CLE        20.0   \n2        2544   2005-06        00  1610612739               CLE        21.0   \n3        2544   2006-07        00  1610612739               CLE        22.0   \n4        2544   2007-08        00  1610612739               CLE        23.0   \n5        2544   2008-09        00  1610612739               CLE        24.0   \n6        2544   2009-10        00  1610612739               CLE        25.0   \n7        2544   2010-11        00  1610612748               MIA        26.0   \n8        2544   2011-12        00  1610612748               MIA        27.0   \n9        2544   2012-13        00  1610612748               MIA        28.0   \n10       2544   2013-14        00  1610612748               MIA        29.0   \n11       2544   2014-15        00  1610612739               CLE        30.0   \n12       2544   2015-16        00  1610612739               CLE        31.0   \n13       2544   2016-17        00  1610612739               CLE        32.0   \n14       2544   2017-18        00  1610612739               CLE        33.0   \n15       2544   2018-19        00  1610612747               LAL        34.0   \n16       2544   2019-20        00  1610612747               LAL        35.0   \n17       2544   2020-21        00  1610612747               LAL        36.0   \n18       2544   2021-22        00  1610612747               LAL        37.0   \n\n    GP  GS     MIN  FGM  ...  FT_PCT  OREB  DREB  REB  AST  STL  BLK  TOV  \\\n0   79  79  3120.0  622  ...   0.754    99   333  432  465  130   58  273   \n1   80  80  3388.0  795  ...   0.750   111   477  588  577  177   52  262   \n2   79  79  3361.0  875  ...   0.738    75   481  556  521  123   66  260   \n3   78  78  3190.0  772  ...   0.698    83   443  526  470  125   55  250   \n4   75  74  3027.0  794  ...   0.712   133   459  592  539  138   81  255   \n5   81  81  3054.0  789  ...   0.780   106   507  613  587  137   93  241   \n6   76  76  2966.0  768  ...   0.767    71   483  554  651  125   77  261   \n7   79  79  3063.0  758  ...   0.759    80   510  590  554  124   50  284   \n8   62  62  2326.0  621  ...   0.771    94   398  492  387  115   50  213   \n9   76  76  2877.0  765  ...   0.753    97   513  610  551  129   67  226   \n10  77  77  2902.0  767  ...   0.750    81   452  533  488  121   26  270   \n11  69  69  2493.0  624  ...   0.710    51   365  416  511  109   49  272   \n12  76  76  2709.0  737  ...   0.731   111   454  565  514  104   49  249   \n13  74  74  2795.0  736  ...   0.674    97   542  639  646   92   44  303   \n14  82  82  3026.0  857  ...   0.731    97   612  709  747  116   71  347   \n15  55  55  1937.0  558  ...   0.665    57   408  465  454   72   33  197   \n16  67  67  2316.0  643  ...   0.693    66   459  525  684   78   36  261   \n17  45  45  1504.0  422  ...   0.698    29   317  346  350   48   25  168   \n18  26  26   961.0  274  ...   0.772    24   170  194  171   46   29   87   \n\n     PF   PTS  \n0   149  1654  \n1   146  2175  \n2   181  2478  \n3   171  2132  \n4   165  2250  \n5   139  2304  \n6   119  2258  \n7   163  2111  \n8    96  1683  \n9   110  2036  \n10  126  2089  \n11  135  1743  \n12  143  1920  \n13  134  1954  \n14  136  2251  \n15   94  1505  \n16  118  1698  \n17   70  1126  \n18   57   740  \n\n[19 rows x 27 columns]",
      "text/html": "<div>\n<style scoped>\n    .dataframe tbody tr th:only-of-type {\n        vertical-align: middle;\n    }\n\n    .dataframe tbody tr th {\n        vertical-align: top;\n    }\n\n    .dataframe thead th {\n        text-align: right;\n    }\n</style>\n<table border=\"1\" class=\"dataframe\">\n  <thead>\n    <tr style=\"text-align: right;\">\n      <th></th>\n      <th>PLAYER_ID</th>\n      <th>SEASON_ID</th>\n      <th>LEAGUE_ID</th>\n      <th>TEAM_ID</th>\n      <th>TEAM_ABBREVIATION</th>\n      <th>PLAYER_AGE</th>\n      <th>GP</th>\n      <th>GS</th>\n      <th>MIN</th>\n      <th>FGM</th>\n      <th>...</th>\n      <th>FT_PCT</th>\n      <th>OREB</th>\n      <th>DREB</th>\n      <th>REB</th>\n      <th>AST</th>\n      <th>STL</th>\n      <th>BLK</th>\n      <th>TOV</th>\n      <th>PF</th>\n      <th>PTS</th>\n    </tr>\n  </thead>\n  <tbody>\n    <tr>\n      <th>0</th>\n      <td>2544</td>\n      <td>2003-04</td>\n      <td>00</td>\n      <td>1610612739</td>\n      <td>CLE</td>\n      <td>19.0</td>\n      <td>79</td>\n      <td>79</td>\n      <td>3120.0</td>\n      <td>622</td>\n      <td>...</td>\n      <td>0.754</td>\n      <td>99</td>\n      <td>333</td>\n      <td>432</td>\n      <td>465</td>\n      <td>130</td>\n      <td>58</td>\n      <td>273</td>\n      <td>149</td>\n      <td>1654</td>\n    </tr>\n    <tr>\n      <th>1</th>\n      <td>2544</td>\n      <td>2004-05</td>\n      <td>00</td>\n      <td>1610612739</td>\n      <td>CLE</td>\n      <td>20.0</td>\n      <td>80</td>\n      <td>80</td>\n      <td>3388.0</td>\n      <td>795</td>\n      <td>...</td>\n      <td>0.750</td>\n      <td>111</td>\n      <td>477</td>\n      <td>588</td>\n      <td>577</td>\n      <td>177</td>\n      <td>52</td>\n      <td>262</td>\n      <td>146</td>\n      <td>2175</td>\n    </tr>\n    <tr>\n      <th>2</th>\n      <td>2544</td>\n      <td>2005-06</td>\n      <td>00</td>\n      <td>1610612739</td>\n      <td>CLE</td>\n      <td>21.0</td>\n      <td>79</td>\n      <td>79</td>\n      <td>3361.0</td>\n      <td>875</td>\n      <td>...</td>\n      <td>0.738</td>\n      <td>75</td>\n      <td>481</td>\n      <td>556</td>\n      <td>521</td>\n      <td>123</td>\n      <td>66</td>\n      <td>260</td>\n      <td>181</td>\n      <td>2478</td>\n    </tr>\n    <tr>\n      <th>3</th>\n      <td>2544</td>\n      <td>2006-07</td>\n      <td>00</td>\n      <td>1610612739</td>\n      <td>CLE</td>\n      <td>22.0</td>\n      <td>78</td>\n      <td>78</td>\n      <td>3190.0</td>\n      <td>772</td>\n      <td>...</td>\n      <td>0.698</td>\n      <td>83</td>\n      <td>443</td>\n      <td>526</td>\n      <td>470</td>\n      <td>125</td>\n      <td>55</td>\n      <td>250</td>\n      <td>171</td>\n      <td>2132</td>\n    </tr>\n    <tr>\n      <th>4</th>\n      <td>2544</td>\n      <td>2007-08</td>\n      <td>00</td>\n      <td>1610612739</td>\n      <td>CLE</td>\n      <td>23.0</td>\n      <td>75</td>\n      <td>74</td>\n      <td>3027.0</td>\n      <td>794</td>\n      <td>...</td>\n      <td>0.712</td>\n      <td>133</td>\n      <td>459</td>\n      <td>592</td>\n      <td>539</td>\n      <td>138</td>\n      <td>81</td>\n      <td>255</td>\n      <td>165</td>\n      <td>2250</td>\n    </tr>\n    <tr>\n      <th>5</th>\n      <td>2544</td>\n      <td>2008-09</td>\n      <td>00</td>\n      <td>1610612739</td>\n      <td>CLE</td>\n      <td>24.0</td>\n      <td>81</td>\n      <td>81</td>\n      <td>3054.0</td>\n      <td>789</td>\n      <td>...</td>\n      <td>0.780</td>\n      <td>106</td>\n      <td>507</td>\n      <td>613</td>\n      <td>587</td>\n      <td>137</td>\n      <td>93</td>\n      <td>241</td>\n      <td>139</td>\n      <td>2304</td>\n    </tr>\n    <tr>\n      <th>6</th>\n      <td>2544</td>\n      <td>2009-10</td>\n      <td>00</td>\n      <td>1610612739</td>\n      <td>CLE</td>\n      <td>25.0</td>\n      <td>76</td>\n      <td>76</td>\n      <td>2966.0</td>\n      <td>768</td>\n      <td>...</td>\n      <td>0.767</td>\n      <td>71</td>\n      <td>483</td>\n      <td>554</td>\n      <td>651</td>\n      <td>125</td>\n      <td>77</td>\n      <td>261</td>\n      <td>119</td>\n      <td>2258</td>\n    </tr>\n    <tr>\n      <th>7</th>\n      <td>2544</td>\n      <td>2010-11</td>\n      <td>00</td>\n      <td>1610612748</td>\n      <td>MIA</td>\n      <td>26.0</td>\n      <td>79</td>\n      <td>79</td>\n      <td>3063.0</td>\n      <td>758</td>\n      <td>...</td>\n      <td>0.759</td>\n      <td>80</td>\n      <td>510</td>\n      <td>590</td>\n      <td>554</td>\n      <td>124</td>\n      <td>50</td>\n      <td>284</td>\n      <td>163</td>\n      <td>2111</td>\n    </tr>\n    <tr>\n      <th>8</th>\n      <td>2544</td>\n      <td>2011-12</td>\n      <td>00</td>\n      <td>1610612748</td>\n      <td>MIA</td>\n      <td>27.0</td>\n      <td>62</td>\n      <td>62</td>\n      <td>2326.0</td>\n      <td>621</td>\n      <td>...</td>\n      <td>0.771</td>\n      <td>94</td>\n      <td>398</td>\n      <td>492</td>\n      <td>387</td>\n      <td>115</td>\n      <td>50</td>\n      <td>213</td>\n      <td>96</td>\n      <td>1683</td>\n    </tr>\n    <tr>\n      <th>9</th>\n      <td>2544</td>\n      <td>2012-13</td>\n      <td>00</td>\n      <td>1610612748</td>\n      <td>MIA</td>\n      <td>28.0</td>\n      <td>76</td>\n      <td>76</td>\n      <td>2877.0</td>\n      <td>765</td>\n      <td>...</td>\n      <td>0.753</td>\n      <td>97</td>\n      <td>513</td>\n      <td>610</td>\n      <td>551</td>\n      <td>129</td>\n      <td>67</td>\n      <td>226</td>\n      <td>110</td>\n      <td>2036</td>\n    </tr>\n    <tr>\n      <th>10</th>\n      <td>2544</td>\n      <td>2013-14</td>\n      <td>00</td>\n      <td>1610612748</td>\n      <td>MIA</td>\n      <td>29.0</td>\n      <td>77</td>\n      <td>77</td>\n      <td>2902.0</td>\n      <td>767</td>\n      <td>...</td>\n      <td>0.750</td>\n      <td>81</td>\n      <td>452</td>\n      <td>533</td>\n      <td>488</td>\n      <td>121</td>\n      <td>26</td>\n      <td>270</td>\n      <td>126</td>\n      <td>2089</td>\n    </tr>\n    <tr>\n      <th>11</th>\n      <td>2544</td>\n      <td>2014-15</td>\n      <td>00</td>\n      <td>1610612739</td>\n      <td>CLE</td>\n      <td>30.0</td>\n      <td>69</td>\n      <td>69</td>\n      <td>2493.0</td>\n      <td>624</td>\n      <td>...</td>\n      <td>0.710</td>\n      <td>51</td>\n      <td>365</td>\n      <td>416</td>\n      <td>511</td>\n      <td>109</td>\n      <td>49</td>\n      <td>272</td>\n      <td>135</td>\n      <td>1743</td>\n    </tr>\n    <tr>\n      <th>12</th>\n      <td>2544</td>\n      <td>2015-16</td>\n      <td>00</td>\n      <td>1610612739</td>\n      <td>CLE</td>\n      <td>31.0</td>\n      <td>76</td>\n      <td>76</td>\n      <td>2709.0</td>\n      <td>737</td>\n      <td>...</td>\n      <td>0.731</td>\n      <td>111</td>\n      <td>454</td>\n      <td>565</td>\n      <td>514</td>\n      <td>104</td>\n      <td>49</td>\n      <td>249</td>\n      <td>143</td>\n      <td>1920</td>\n    </tr>\n    <tr>\n      <th>13</th>\n      <td>2544</td>\n      <td>2016-17</td>\n      <td>00</td>\n      <td>1610612739</td>\n      <td>CLE</td>\n      <td>32.0</td>\n      <td>74</td>\n      <td>74</td>\n      <td>2795.0</td>\n      <td>736</td>\n      <td>...</td>\n      <td>0.674</td>\n      <td>97</td>\n      <td>542</td>\n      <td>639</td>\n      <td>646</td>\n      <td>92</td>\n      <td>44</td>\n      <td>303</td>\n      <td>134</td>\n      <td>1954</td>\n    </tr>\n    <tr>\n      <th>14</th>\n      <td>2544</td>\n      <td>2017-18</td>\n      <td>00</td>\n      <td>1610612739</td>\n      <td>CLE</td>\n      <td>33.0</td>\n      <td>82</td>\n      <td>82</td>\n      <td>3026.0</td>\n      <td>857</td>\n      <td>...</td>\n      <td>0.731</td>\n      <td>97</td>\n      <td>612</td>\n      <td>709</td>\n      <td>747</td>\n      <td>116</td>\n      <td>71</td>\n      <td>347</td>\n      <td>136</td>\n      <td>2251</td>\n    </tr>\n    <tr>\n      <th>15</th>\n      <td>2544</td>\n      <td>2018-19</td>\n      <td>00</td>\n      <td>1610612747</td>\n      <td>LAL</td>\n      <td>34.0</td>\n      <td>55</td>\n      <td>55</td>\n      <td>1937.0</td>\n      <td>558</td>\n      <td>...</td>\n      <td>0.665</td>\n      <td>57</td>\n      <td>408</td>\n      <td>465</td>\n      <td>454</td>\n      <td>72</td>\n      <td>33</td>\n      <td>197</td>\n      <td>94</td>\n      <td>1505</td>\n    </tr>\n    <tr>\n      <th>16</th>\n      <td>2544</td>\n      <td>2019-20</td>\n      <td>00</td>\n      <td>1610612747</td>\n      <td>LAL</td>\n      <td>35.0</td>\n      <td>67</td>\n      <td>67</td>\n      <td>2316.0</td>\n      <td>643</td>\n      <td>...</td>\n      <td>0.693</td>\n      <td>66</td>\n      <td>459</td>\n      <td>525</td>\n      <td>684</td>\n      <td>78</td>\n      <td>36</td>\n      <td>261</td>\n      <td>118</td>\n      <td>1698</td>\n    </tr>\n    <tr>\n      <th>17</th>\n      <td>2544</td>\n      <td>2020-21</td>\n      <td>00</td>\n      <td>1610612747</td>\n      <td>LAL</td>\n      <td>36.0</td>\n      <td>45</td>\n      <td>45</td>\n      <td>1504.0</td>\n      <td>422</td>\n      <td>...</td>\n      <td>0.698</td>\n      <td>29</td>\n      <td>317</td>\n      <td>346</td>\n      <td>350</td>\n      <td>48</td>\n      <td>25</td>\n      <td>168</td>\n      <td>70</td>\n      <td>1126</td>\n    </tr>\n    <tr>\n      <th>18</th>\n      <td>2544</td>\n      <td>2021-22</td>\n      <td>00</td>\n      <td>1610612747</td>\n      <td>LAL</td>\n      <td>37.0</td>\n      <td>26</td>\n      <td>26</td>\n      <td>961.0</td>\n      <td>274</td>\n      <td>...</td>\n      <td>0.772</td>\n      <td>24</td>\n      <td>170</td>\n      <td>194</td>\n      <td>171</td>\n      <td>46</td>\n      <td>29</td>\n      <td>87</td>\n      <td>57</td>\n      <td>740</td>\n    </tr>\n  </tbody>\n</table>\n<p>19 rows × 27 columns</p>\n</div>"
     },
     "execution_count": 14,
     "metadata": {},
     "output_type": "execute_result"
    }
   ],
   "source": [
    "from nba_api.stats.endpoints import playercareerstats\n",
    "\n",
    "#Find lebron james totals stats\n",
    "playercareerstats.PlayerCareerStats(player_id=2544).get_data_frames()[0]"
   ],
   "metadata": {
    "collapsed": false,
    "pycharm": {
     "name": "#%%\n"
    }
   }
  },
  {
   "cell_type": "markdown",
   "source": [
    "#How it's structured this dataset\n",
    "- Player_id --> id del giocatore(da ritrovare il nome con players.find_player_by_id())\n",
    "- Season_id --> id della stagione\n",
    "- ...other...\n",
    "- GP --> Games Played\n",
    "- GS --> Games ... (idk but similar to GP) (I think is not usefull)\n",
    "- MIN Minutes Played\n",
    "- FGM Field Goals Made --> Numero canestri fatti\n",
    "- FGA Field Goals Attempted --> Numero tiri provati\n",
    "- FG% Field Goal Percentage --> FGM/FGA, rapporto precisione tiri\n",
    "- 3PM 3 Point Field Goals Made --> Numero canestri da 3 fatti\n",
    "- 3PA 3 Point Field Goals Attempted --> Numero tiri da 3 provati\n",
    "- 3P% 3 Point Field Goals Percentage --> 3PM/3PA, precisione tiri da 3\n",
    "- FTM Free Throws Made --> Tiri liberi fatti\n",
    "- FTA Free Throws Attempted --> tiri liberi provati\n",
    "- FT% Free Throw Percentage --> FTM/FTA\n",
    "- OREB Offensive Rebounds --> Rimbalzi conquistati in attacco\n",
    "- DREB Defensive Rebounds --> rimbalzi conquistati in difesa\n",
    "- REB Rebounds --> OREB + DREB, rimbalzi totali\n",
    "- AST Assists\n",
    "- TOV Turnovers\n",
    "- STL Steals --> ruba palla\n",
    "- BLK Blocks --> blocchi\n",
    "- PF Personal Fouls --> falli personali\n",
    "- DD2 Double Doubles --> doppie doppie\n",
    "- TD3 Trible Doubles --> triple doppie\n",
    "- PTS Points"
   ],
   "metadata": {
    "collapsed": false,
    "pycharm": {
     "name": "#%% md\n"
    }
   }
  }
 ],
 "metadata": {
  "kernelspec": {
   "display_name": "Python 3",
   "language": "python",
   "name": "python3"
  },
  "language_info": {
   "codemirror_mode": {
    "name": "ipython",
    "version": 2
   },
   "file_extension": ".py",
   "mimetype": "text/x-python",
   "name": "python",
   "nbconvert_exporter": "python",
   "pygments_lexer": "ipython2",
   "version": "2.7.6"
  }
 },
 "nbformat": 4,
 "nbformat_minor": 0
}