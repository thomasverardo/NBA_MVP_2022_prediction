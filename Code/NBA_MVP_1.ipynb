{
 "cells": [
  {
   "cell_type": "code",
   "execution_count": 3,
   "metadata": {
    "collapsed": false,
    "jupyter": {
     "outputs_hidden": false
    },
    "pycharm": {
     "name": "#%%\n"
    }
   },
   "outputs": [],
   "source": [
    "#from nba_api.stats.static import players\n",
    "#\n",
    "#\n",
    "# players.find_players_by_full_name(\"Lebron James\")\n",
    "#\n",
    "#players.find_player_by_id(2544)"
   ]
  },
  {
   "cell_type": "code",
   "execution_count": 1,
   "metadata": {
    "collapsed": false,
    "jupyter": {
     "outputs_hidden": false
    },
    "pycharm": {
     "name": "#%%\n"
    }
   },
   "outputs": [],
   "source": [
    "#Module load\n",
    "from nba_api.stats.endpoints import commonallplayers #per avere l'elenco dei giocatori (id)\n",
    "from nba_api.stats.endpoints import playercareerstats #per avere i dati\n",
    "from nba_api.stats.endpoints import playerawards #per sapere chi ha vinto MVP\n",
    "from nba_api.stats.endpoints import teamyearbyyearstats #classifiche finali delle squadre\n",
    "import pandas as pd\n",
    "from tqdm import tqdm\n",
    "import pickle"
   ]
  },
  {
   "cell_type": "code",
   "execution_count": 2,
   "metadata": {
    "collapsed": false,
    "jupyter": {
     "outputs_hidden": false
    },
    "pycharm": {
     "name": "#%%\n"
    }
   },
   "outputs": [
    {
     "data": {
      "text/plain": "      PERSON_ID DISPLAY_LAST_COMMA_FIRST DISPLAY_FIRST_LAST  ROSTERSTATUS  \\\n9        203518            Abrines, Alex       Alex Abrines             0   \n10      1630173        Achiuwa, Precious   Precious Achiuwa             1   \n15       203112              Acy, Quincy         Quincy Acy             0   \n19      1629121            Adams, Jaylen       Jaylen Adams             0   \n20       203919            Adams, Jordan       Jordan Adams             0   \n...         ...                      ...                ...           ...   \n4714     203092            Zeller, Tyler       Tyler Zeller             0   \n4720    1627757       Zimmerman, Stephen  Stephen Zimmerman             0   \n4721    1627835             Zipser, Paul        Paul Zipser             0   \n4722    1627790              Zizic, Ante         Ante Zizic             0   \n4725    1627826             Zubac, Ivica        Ivica Zubac             1   \n\n     FROM_YEAR  TO_YEAR         PLAYERCODE        PLAYER_SLUG     TEAM_ID  \\\n9         2016     2018       alex_abrines       alex_abrines           0   \n10        2020     2021   precious_achiuwa   precious_achiuwa  1610612761   \n15        2012     2018         quincy_acy         quincy_acy           0   \n19        2018     2020       jaylen_adams       jaylen_adams           0   \n20        2014     2015       jordan_adams       jordan_adams           0   \n...        ...      ...                ...                ...         ...   \n4714      2012     2019       tyler_zeller       tyler_zeller           0   \n4720      2016     2016  stephen_zimmerman  stephen_zimmerman           0   \n4721      2016     2017        paul_zipser        paul_zipser           0   \n4722      2017     2019         ante_zizic         ante_zizic           0   \n4725      2016     2021        ivica_zubac        ivica_zubac  1610612746   \n\n     TEAM_CITY TEAM_NAME TEAM_ABBREVIATION TEAM_CODE TEAM_SLUG  \\\n9                                                         None   \n10     Toronto   Raptors               TOR   raptors   raptors   \n15                                                        None   \n19                                                        None   \n20                                                        None   \n...        ...       ...               ...       ...       ...   \n4714                                                      None   \n4720                                                      None   \n4721                                                      None   \n4722                                                      None   \n4725        LA  Clippers               LAC  clippers  clippers   \n\n     GAMES_PLAYED_FLAG OTHERLEAGUE_EXPERIENCE_CH  \n9                    Y                        00  \n10                   Y                        00  \n15                   Y                        01  \n19                   Y                        01  \n20                   Y                        01  \n...                ...                       ...  \n4714                 Y                        00  \n4720                 Y                        01  \n4721                 Y                        01  \n4722                 Y                        01  \n4725                 Y                        01  \n\n[1472 rows x 16 columns]",
      "text/html": "<div>\n<style scoped>\n    .dataframe tbody tr th:only-of-type {\n        vertical-align: middle;\n    }\n\n    .dataframe tbody tr th {\n        vertical-align: top;\n    }\n\n    .dataframe thead th {\n        text-align: right;\n    }\n</style>\n<table border=\"1\" class=\"dataframe\">\n  <thead>\n    <tr style=\"text-align: right;\">\n      <th></th>\n      <th>PERSON_ID</th>\n      <th>DISPLAY_LAST_COMMA_FIRST</th>\n      <th>DISPLAY_FIRST_LAST</th>\n      <th>ROSTERSTATUS</th>\n      <th>FROM_YEAR</th>\n      <th>TO_YEAR</th>\n      <th>PLAYERCODE</th>\n      <th>PLAYER_SLUG</th>\n      <th>TEAM_ID</th>\n      <th>TEAM_CITY</th>\n      <th>TEAM_NAME</th>\n      <th>TEAM_ABBREVIATION</th>\n      <th>TEAM_CODE</th>\n      <th>TEAM_SLUG</th>\n      <th>GAMES_PLAYED_FLAG</th>\n      <th>OTHERLEAGUE_EXPERIENCE_CH</th>\n    </tr>\n  </thead>\n  <tbody>\n    <tr>\n      <th>9</th>\n      <td>203518</td>\n      <td>Abrines, Alex</td>\n      <td>Alex Abrines</td>\n      <td>0</td>\n      <td>2016</td>\n      <td>2018</td>\n      <td>alex_abrines</td>\n      <td>alex_abrines</td>\n      <td>0</td>\n      <td></td>\n      <td></td>\n      <td></td>\n      <td></td>\n      <td>None</td>\n      <td>Y</td>\n      <td>00</td>\n    </tr>\n    <tr>\n      <th>10</th>\n      <td>1630173</td>\n      <td>Achiuwa, Precious</td>\n      <td>Precious Achiuwa</td>\n      <td>1</td>\n      <td>2020</td>\n      <td>2021</td>\n      <td>precious_achiuwa</td>\n      <td>precious_achiuwa</td>\n      <td>1610612761</td>\n      <td>Toronto</td>\n      <td>Raptors</td>\n      <td>TOR</td>\n      <td>raptors</td>\n      <td>raptors</td>\n      <td>Y</td>\n      <td>00</td>\n    </tr>\n    <tr>\n      <th>15</th>\n      <td>203112</td>\n      <td>Acy, Quincy</td>\n      <td>Quincy Acy</td>\n      <td>0</td>\n      <td>2012</td>\n      <td>2018</td>\n      <td>quincy_acy</td>\n      <td>quincy_acy</td>\n      <td>0</td>\n      <td></td>\n      <td></td>\n      <td></td>\n      <td></td>\n      <td>None</td>\n      <td>Y</td>\n      <td>01</td>\n    </tr>\n    <tr>\n      <th>19</th>\n      <td>1629121</td>\n      <td>Adams, Jaylen</td>\n      <td>Jaylen Adams</td>\n      <td>0</td>\n      <td>2018</td>\n      <td>2020</td>\n      <td>jaylen_adams</td>\n      <td>jaylen_adams</td>\n      <td>0</td>\n      <td></td>\n      <td></td>\n      <td></td>\n      <td></td>\n      <td>None</td>\n      <td>Y</td>\n      <td>01</td>\n    </tr>\n    <tr>\n      <th>20</th>\n      <td>203919</td>\n      <td>Adams, Jordan</td>\n      <td>Jordan Adams</td>\n      <td>0</td>\n      <td>2014</td>\n      <td>2015</td>\n      <td>jordan_adams</td>\n      <td>jordan_adams</td>\n      <td>0</td>\n      <td></td>\n      <td></td>\n      <td></td>\n      <td></td>\n      <td>None</td>\n      <td>Y</td>\n      <td>01</td>\n    </tr>\n    <tr>\n      <th>...</th>\n      <td>...</td>\n      <td>...</td>\n      <td>...</td>\n      <td>...</td>\n      <td>...</td>\n      <td>...</td>\n      <td>...</td>\n      <td>...</td>\n      <td>...</td>\n      <td>...</td>\n      <td>...</td>\n      <td>...</td>\n      <td>...</td>\n      <td>...</td>\n      <td>...</td>\n      <td>...</td>\n    </tr>\n    <tr>\n      <th>4714</th>\n      <td>203092</td>\n      <td>Zeller, Tyler</td>\n      <td>Tyler Zeller</td>\n      <td>0</td>\n      <td>2012</td>\n      <td>2019</td>\n      <td>tyler_zeller</td>\n      <td>tyler_zeller</td>\n      <td>0</td>\n      <td></td>\n      <td></td>\n      <td></td>\n      <td></td>\n      <td>None</td>\n      <td>Y</td>\n      <td>00</td>\n    </tr>\n    <tr>\n      <th>4720</th>\n      <td>1627757</td>\n      <td>Zimmerman, Stephen</td>\n      <td>Stephen Zimmerman</td>\n      <td>0</td>\n      <td>2016</td>\n      <td>2016</td>\n      <td>stephen_zimmerman</td>\n      <td>stephen_zimmerman</td>\n      <td>0</td>\n      <td></td>\n      <td></td>\n      <td></td>\n      <td></td>\n      <td>None</td>\n      <td>Y</td>\n      <td>01</td>\n    </tr>\n    <tr>\n      <th>4721</th>\n      <td>1627835</td>\n      <td>Zipser, Paul</td>\n      <td>Paul Zipser</td>\n      <td>0</td>\n      <td>2016</td>\n      <td>2017</td>\n      <td>paul_zipser</td>\n      <td>paul_zipser</td>\n      <td>0</td>\n      <td></td>\n      <td></td>\n      <td></td>\n      <td></td>\n      <td>None</td>\n      <td>Y</td>\n      <td>01</td>\n    </tr>\n    <tr>\n      <th>4722</th>\n      <td>1627790</td>\n      <td>Zizic, Ante</td>\n      <td>Ante Zizic</td>\n      <td>0</td>\n      <td>2017</td>\n      <td>2019</td>\n      <td>ante_zizic</td>\n      <td>ante_zizic</td>\n      <td>0</td>\n      <td></td>\n      <td></td>\n      <td></td>\n      <td></td>\n      <td>None</td>\n      <td>Y</td>\n      <td>01</td>\n    </tr>\n    <tr>\n      <th>4725</th>\n      <td>1627826</td>\n      <td>Zubac, Ivica</td>\n      <td>Ivica Zubac</td>\n      <td>1</td>\n      <td>2016</td>\n      <td>2021</td>\n      <td>ivica_zubac</td>\n      <td>ivica_zubac</td>\n      <td>1610612746</td>\n      <td>LA</td>\n      <td>Clippers</td>\n      <td>LAC</td>\n      <td>clippers</td>\n      <td>clippers</td>\n      <td>Y</td>\n      <td>01</td>\n    </tr>\n  </tbody>\n</table>\n<p>1472 rows × 16 columns</p>\n</div>"
     },
     "execution_count": 2,
     "metadata": {},
     "output_type": "execute_result"
    }
   ],
   "source": [
    "from_year = 2010\n",
    "\n",
    "total_players = commonallplayers.CommonAllPlayers().get_data_frames()[0]\n",
    "total_players['TO_YEAR'] = total_players['TO_YEAR'].astype('int')\n",
    "total_players = total_players[total_players['TO_YEAR'] > from_year]\n",
    "\n",
    "#Ho controllato che in total_players, il PERSON_ID sia univoco\n",
    "total_players"
   ]
  },
  {
   "cell_type": "code",
   "execution_count": 40,
   "metadata": {
    "collapsed": false,
    "jupyter": {
     "outputs_hidden": false
    },
    "pycharm": {
     "is_executing": true,
     "name": "#%%\n"
    }
   },
   "outputs": [],
   "source": [
    "# total_names = total_players[[\"PERSON_ID\", \"DISPLAY_FIRST_LAST\"]]\n",
    "# total_stats = pd.DataFrame()"
   ]
  },
  {
   "cell_type": "code",
   "execution_count": 41,
   "metadata": {},
   "outputs": [],
   "source": [
    "# stats = playercareerstats.PlayerCareerStats(player_id=2544).get_data_frames()[0]\n",
    "# stats = stats.drop(stats.columns[[2, 4, 7]], axis=1)\n",
    "# awards = playerawards.PlayerAwards(player_id=2544).get_data_frames()[0]\n",
    "# awards = awards.drop(awards.columns[[1, 2, 3, 5, 7, 8, 9, 10, 11, 12, 13]], axis=1)\n",
    "# awards = awards.rename(columns={\"SEASON\": \"SEASON_ID\"})\n",
    "# awards = awards.rename(columns={\"PERSON_ID\": \"PLAYER_ID\"})\n",
    "# awards = awards.loc[awards[\"DESCRIPTION\"]==\"NBA Most Valuable Player\"]"
   ]
  },
  {
   "cell_type": "code",
   "execution_count": 34,
   "metadata": {},
   "outputs": [
    {
     "data": {
      "text/plain": "         TEAM_ID TEAM_CITY  TEAM_NAME     YEAR  GP WINS LOSSES  WIN_PCT  \\\n0     1610612761   Toronto    Raptors  1995-96  82   21     61    0.256   \n1     1610612761   Toronto    Raptors  1996-97  82   30     52    0.366   \n2     1610612761   Toronto    Raptors  1997-98  82   16     66    0.195   \n3     1610612761   Toronto    Raptors  1998-99  50   23     27    0.460   \n4     1610612761   Toronto    Raptors  1999-00  82   45     37    0.549   \n...          ...       ...        ...      ...  ..  ...    ...      ...   \n1562  1610612742    Dallas  Mavericks  2017-18  82   24     58    0.293   \n1563  1610612742    Dallas  Mavericks  2018-19  82   33     49    0.402   \n1564  1610612742    Dallas  Mavericks  2019-20  75   43     32    0.573   \n1565  1610612742    Dallas  Mavericks  2020-21  72   42     30    0.583   \n1566  1610612742    Dallas  Mavericks  2021-22  38   20     18    0.526   \n\n     CONF_RANK DIV_RANK  ...  OREB  DREB   REB   AST    PF  STL   TOV  BLK  \\\n0           14        8  ...  1071  2213  3284  1927  1987  745  1544  493   \n1           12        8  ...  1135  2254  3389  1714  1883  722  1347  517   \n2           15        8  ...  1187  2149  3336  1746  1851  769  1371  663   \n3           10        6  ...   712  1447  2159  1036  1139  439   799  321   \n4            6        3  ...  1098  2449  3547  1947  1989  666  1137  544   \n...        ...      ...  ...   ...   ...   ...   ...   ...  ...   ...  ...   \n1562        13        4  ...   666  2717  3383  1858  1578  578  1007  310   \n1563        14        5  ...   832  2884  3716  1918  1650  533  1167  351   \n1564         7        2  ...   791  2729  3520  1849  1462  460   953  363   \n1565         5        1  ...   657  2463  3120  1647  1396  450   869  311   \n1566         5        2  ...   360  1285  1645   898   748  270   467  154   \n\n       PTS PTS_RANK  \n0     7994       21  \n1     7829       18  \n2     7781       17  \n3     4557       18  \n4     7968       17  \n...    ...      ...  \n1562  8390       28  \n1563  8927       21  \n1564  8776        1  \n1565  8096       17  \n1566  3988       21  \n\n[1567 rows x 34 columns]",
      "text/html": "<div>\n<style scoped>\n    .dataframe tbody tr th:only-of-type {\n        vertical-align: middle;\n    }\n\n    .dataframe tbody tr th {\n        vertical-align: top;\n    }\n\n    .dataframe thead th {\n        text-align: right;\n    }\n</style>\n<table border=\"1\" class=\"dataframe\">\n  <thead>\n    <tr style=\"text-align: right;\">\n      <th></th>\n      <th>TEAM_ID</th>\n      <th>TEAM_CITY</th>\n      <th>TEAM_NAME</th>\n      <th>YEAR</th>\n      <th>GP</th>\n      <th>WINS</th>\n      <th>LOSSES</th>\n      <th>WIN_PCT</th>\n      <th>CONF_RANK</th>\n      <th>DIV_RANK</th>\n      <th>...</th>\n      <th>OREB</th>\n      <th>DREB</th>\n      <th>REB</th>\n      <th>AST</th>\n      <th>PF</th>\n      <th>STL</th>\n      <th>TOV</th>\n      <th>BLK</th>\n      <th>PTS</th>\n      <th>PTS_RANK</th>\n    </tr>\n  </thead>\n  <tbody>\n    <tr>\n      <th>0</th>\n      <td>1610612761</td>\n      <td>Toronto</td>\n      <td>Raptors</td>\n      <td>1995-96</td>\n      <td>82</td>\n      <td>21</td>\n      <td>61</td>\n      <td>0.256</td>\n      <td>14</td>\n      <td>8</td>\n      <td>...</td>\n      <td>1071</td>\n      <td>2213</td>\n      <td>3284</td>\n      <td>1927</td>\n      <td>1987</td>\n      <td>745</td>\n      <td>1544</td>\n      <td>493</td>\n      <td>7994</td>\n      <td>21</td>\n    </tr>\n    <tr>\n      <th>1</th>\n      <td>1610612761</td>\n      <td>Toronto</td>\n      <td>Raptors</td>\n      <td>1996-97</td>\n      <td>82</td>\n      <td>30</td>\n      <td>52</td>\n      <td>0.366</td>\n      <td>12</td>\n      <td>8</td>\n      <td>...</td>\n      <td>1135</td>\n      <td>2254</td>\n      <td>3389</td>\n      <td>1714</td>\n      <td>1883</td>\n      <td>722</td>\n      <td>1347</td>\n      <td>517</td>\n      <td>7829</td>\n      <td>18</td>\n    </tr>\n    <tr>\n      <th>2</th>\n      <td>1610612761</td>\n      <td>Toronto</td>\n      <td>Raptors</td>\n      <td>1997-98</td>\n      <td>82</td>\n      <td>16</td>\n      <td>66</td>\n      <td>0.195</td>\n      <td>15</td>\n      <td>8</td>\n      <td>...</td>\n      <td>1187</td>\n      <td>2149</td>\n      <td>3336</td>\n      <td>1746</td>\n      <td>1851</td>\n      <td>769</td>\n      <td>1371</td>\n      <td>663</td>\n      <td>7781</td>\n      <td>17</td>\n    </tr>\n    <tr>\n      <th>3</th>\n      <td>1610612761</td>\n      <td>Toronto</td>\n      <td>Raptors</td>\n      <td>1998-99</td>\n      <td>50</td>\n      <td>23</td>\n      <td>27</td>\n      <td>0.460</td>\n      <td>10</td>\n      <td>6</td>\n      <td>...</td>\n      <td>712</td>\n      <td>1447</td>\n      <td>2159</td>\n      <td>1036</td>\n      <td>1139</td>\n      <td>439</td>\n      <td>799</td>\n      <td>321</td>\n      <td>4557</td>\n      <td>18</td>\n    </tr>\n    <tr>\n      <th>4</th>\n      <td>1610612761</td>\n      <td>Toronto</td>\n      <td>Raptors</td>\n      <td>1999-00</td>\n      <td>82</td>\n      <td>45</td>\n      <td>37</td>\n      <td>0.549</td>\n      <td>6</td>\n      <td>3</td>\n      <td>...</td>\n      <td>1098</td>\n      <td>2449</td>\n      <td>3547</td>\n      <td>1947</td>\n      <td>1989</td>\n      <td>666</td>\n      <td>1137</td>\n      <td>544</td>\n      <td>7968</td>\n      <td>17</td>\n    </tr>\n    <tr>\n      <th>...</th>\n      <td>...</td>\n      <td>...</td>\n      <td>...</td>\n      <td>...</td>\n      <td>...</td>\n      <td>...</td>\n      <td>...</td>\n      <td>...</td>\n      <td>...</td>\n      <td>...</td>\n      <td>...</td>\n      <td>...</td>\n      <td>...</td>\n      <td>...</td>\n      <td>...</td>\n      <td>...</td>\n      <td>...</td>\n      <td>...</td>\n      <td>...</td>\n      <td>...</td>\n      <td>...</td>\n    </tr>\n    <tr>\n      <th>1562</th>\n      <td>1610612742</td>\n      <td>Dallas</td>\n      <td>Mavericks</td>\n      <td>2017-18</td>\n      <td>82</td>\n      <td>24</td>\n      <td>58</td>\n      <td>0.293</td>\n      <td>13</td>\n      <td>4</td>\n      <td>...</td>\n      <td>666</td>\n      <td>2717</td>\n      <td>3383</td>\n      <td>1858</td>\n      <td>1578</td>\n      <td>578</td>\n      <td>1007</td>\n      <td>310</td>\n      <td>8390</td>\n      <td>28</td>\n    </tr>\n    <tr>\n      <th>1563</th>\n      <td>1610612742</td>\n      <td>Dallas</td>\n      <td>Mavericks</td>\n      <td>2018-19</td>\n      <td>82</td>\n      <td>33</td>\n      <td>49</td>\n      <td>0.402</td>\n      <td>14</td>\n      <td>5</td>\n      <td>...</td>\n      <td>832</td>\n      <td>2884</td>\n      <td>3716</td>\n      <td>1918</td>\n      <td>1650</td>\n      <td>533</td>\n      <td>1167</td>\n      <td>351</td>\n      <td>8927</td>\n      <td>21</td>\n    </tr>\n    <tr>\n      <th>1564</th>\n      <td>1610612742</td>\n      <td>Dallas</td>\n      <td>Mavericks</td>\n      <td>2019-20</td>\n      <td>75</td>\n      <td>43</td>\n      <td>32</td>\n      <td>0.573</td>\n      <td>7</td>\n      <td>2</td>\n      <td>...</td>\n      <td>791</td>\n      <td>2729</td>\n      <td>3520</td>\n      <td>1849</td>\n      <td>1462</td>\n      <td>460</td>\n      <td>953</td>\n      <td>363</td>\n      <td>8776</td>\n      <td>1</td>\n    </tr>\n    <tr>\n      <th>1565</th>\n      <td>1610612742</td>\n      <td>Dallas</td>\n      <td>Mavericks</td>\n      <td>2020-21</td>\n      <td>72</td>\n      <td>42</td>\n      <td>30</td>\n      <td>0.583</td>\n      <td>5</td>\n      <td>1</td>\n      <td>...</td>\n      <td>657</td>\n      <td>2463</td>\n      <td>3120</td>\n      <td>1647</td>\n      <td>1396</td>\n      <td>450</td>\n      <td>869</td>\n      <td>311</td>\n      <td>8096</td>\n      <td>17</td>\n    </tr>\n    <tr>\n      <th>1566</th>\n      <td>1610612742</td>\n      <td>Dallas</td>\n      <td>Mavericks</td>\n      <td>2021-22</td>\n      <td>38</td>\n      <td>20</td>\n      <td>18</td>\n      <td>0.526</td>\n      <td>5</td>\n      <td>2</td>\n      <td>...</td>\n      <td>360</td>\n      <td>1285</td>\n      <td>1645</td>\n      <td>898</td>\n      <td>748</td>\n      <td>270</td>\n      <td>467</td>\n      <td>154</td>\n      <td>3988</td>\n      <td>21</td>\n    </tr>\n  </tbody>\n</table>\n<p>1567 rows × 34 columns</p>\n</div>"
     },
     "execution_count": 34,
     "metadata": {},
     "output_type": "execute_result"
    }
   ],
   "source": [
    "all_teams_history = list(total_players[\"TEAM_ID\"].drop_duplicates())\n",
    "data_all_team_stats = pd.DataFrame()\n",
    "\n",
    "for team in all_teams_history:\n",
    "    t = teamyearbyyearstats.TeamYearByYearStats(team_id=team).get_data_frames()[0]\n",
    "    data_all_team_stats = pd.concat([data_all_team_stats, t], axis=0, ignore_index=True)\n",
    "\n",
    "#data_all_team_stats = [int(\"20\" + x.split(\"-\")[1]) for x in all_teams_history] NON SERVE, FACCIO DOPO -- ELIMINARE\n",
    "\n",
    "data_all_team_stats = data_all_team_stats.rename(columns={\"YEAR\": \"SEASON_ID\"})\n",
    "data_all_team_stats = data_all_team_stats[[\"TEAM_ID\", \"SEASON_ID\", \"CONF_RANK\"]]\n",
    "\n",
    "with open(\"data_all_team_stats.pkl\",'wb') as f:\n",
    "    pickle.dump(data_all_team_stats,f)\n",
    "\n",
    "data_all_team_stats\n"
   ]
  },
  {
   "cell_type": "code",
   "execution_count": null,
   "metadata": {
    "pycharm": {
     "is_executing": true
    }
   },
   "outputs": [
    {
     "name": "stderr",
     "output_type": "stream",
     "text": [
      "20it [00:51,  1.91s/it]"
     ]
    }
   ],
   "source": [
    "total_names = total_players[[\"PERSON_ID\", \"DISPLAY_FIRST_LAST\"]]\n",
    "total_stats = pd.DataFrame()\n",
    "with open(\"data_all_team_stats.pkl\", \"rb\") as f:\n",
    "    data_all_team_stats = pickle.load(f)\n",
    "data_all_team_stats = data_all_team_stats.rename(columns={\"YEAR\": \"SEASON_ID\"}) #prima ricaricare cella sopra e eliminare perché ridondante\n",
    "data_all_team_stats = data_all_team_stats[[\"TEAM_ID\", \"SEASON_ID\", \"CONF_RANK\"]] #prima ricaricare cella sopra e eliminare perché ridondante\n",
    "\n",
    "for index, row in tqdm(total_names.iterrows()):\n",
    "    stats = playercareerstats.PlayerCareerStats(player_id=row[\"PERSON_ID\"]).get_data_frames()[0]\n",
    "    #stats = playercareerstats.PlayerCareerStats(player_id=2544).get_data_frames()[0]\n",
    "\n",
    "    stats = stats.drop(stats.columns[[2, 4, 7]], axis=1)\n",
    "\n",
    "    awards = playerawards.PlayerAwards(player_id=row[\"PERSON_ID\"]).get_data_frames()[0]\n",
    "    #awards = playerawards.PlayerAwards(player_id=2544).get_data_frames()[0]\n",
    "\n",
    "    awards = awards.drop(awards.columns[[0, 1, 2, 3, 5, 7, 8, 9, 10, 11, 12, 13]], axis=1) #Tolgo anche PERSON_ID\n",
    "    awards = awards.rename(columns={\"SEASON\": \"SEASON_ID\"})\n",
    "    #awards = awards.rename(columns={\"PERSON_ID\": \"PLAYER_ID\"}) #tolto perché dava interferenza\n",
    "    awards = awards.loc[awards[\"DESCRIPTION\"]==\"NBA Most Valuable Player\"]\n",
    "\n",
    "    #merge\n",
    "    stats=stats.merge(awards, how=\"left\", on=\"SEASON_ID\")\n",
    "\n",
    "    #1 to MVP, 0 to other\n",
    "    awards[\"DESCRIPTION\"] = awards[\"DESCRIPTION\"].replace(\"NBA Most Valuable Player\", 1) #Replace the description MVP with 1\n",
    "    awards[\"DESCRIPTION\"] = awards[\"DESCRIPTION\"].fillna(0) #Replace NULL with 0\n",
    "    awards = awards.rename(columns={\"DESCRIPTION\": \"MVP\"})\n",
    "\n",
    "    #merge della classifica in cui è arrivata la squadra in una certa stagione\n",
    "    stats = stats.merge(data_all_team_stats, how=\"inner\", on=[\"SEASON_ID\", \"TEAM_ID\"])\n",
    "\n",
    "    total_stats = pd.concat([total_stats, stats],axis=0,ignore_index=True)\n",
    "\n",
    "\n",
    "#Tolgo la formattazione \"year1-year2\" (2010-11) e lascio solo il secondo anno (2011)\n",
    "total_stats[\"SEASON_ID\"] = [int(\"20\"+x.split(\"-\")[1]) for x in list(total_stats[\"SEASON_ID\"])] #Problema se si prendono dati < anno 2000\n",
    "#Prendo i dati superiore all'anno FROM_YEAR\n",
    "total_stats= total_stats[total_stats[\"SEASON_ID\"] > from_year]\n",
    "\n",
    "\n",
    "with open(\"player_stats.pkl\",'wb') as f:\n",
    "    pickle.dump(total_stats,f)\n"
   ]
  },
  {
   "cell_type": "code",
   "execution_count": 24,
   "metadata": {
    "collapsed": false,
    "jupyter": {
     "outputs_hidden": false
    },
    "pycharm": {
     "name": "#%%\n"
    }
   },
   "outputs": [
    {
     "data": {
      "text/plain": "     PLAYER_ID SEASON_ID LEAGUE_ID     TEAM_ID TEAM_ABBREVIATION  PLAYER_AGE  \\\n0       203518   2016-17        00  1610612760               OKC        23.0   \n1       203518   2017-18        00  1610612760               OKC        24.0   \n2       203518   2018-19        00  1610612760               OKC        25.0   \n3      1630173   2020-21        00  1610612748               MIA        21.0   \n4      1630173   2021-22        00  1610612761               TOR        22.0   \n...        ...       ...       ...         ...               ...         ...   \n9774   1627826   2018-19        00  1610612746               LAC        22.0   \n9775   1627826   2018-19        00           0               TOT        22.0   \n9776   1627826   2019-20        00  1610612746               LAC        23.0   \n9777   1627826   2020-21        00  1610612746               LAC        24.0   \n9778   1627826   2021-22        00  1610612746               LAC        24.0   \n\n      GP  GS     MIN  FGM  ... FT_PCT  OREB DREB  REB  AST STL BLK  TOV   PF  \\\n0     68   6  1055.0  134  ...  0.898    18   68   86   40  37   8   33  114   \n1     75   8  1134.0  115  ...  0.848    26   88  114   28  38   8   25  124   \n2     31   2   588.0   56  ...  0.923     5   43   48   20  17   6   14   53   \n3     61   4   737.0  124  ...  0.509    73  135  208   29  20  28   43   91   \n4     25  17   625.0   83  ...  0.574    56  134  190   37  13  14   30   56   \n...   ..  ..     ...  ...  ...    ...   ...  ...  ...  ...  ..  ..  ...  ...   \n9774  26  25   524.0  100  ...  0.733    61  139  200   38  10  24   37   64   \n9775  59  37  1039.0  212  ...  0.802   115  247  362   63  14  51   70  137   \n9776  72  70  1326.0  236  ...  0.747   197  346  543   82  16  66   61  168   \n9777  72  33  1609.0  257  ...  0.789   189  330  519   90  24  62   81  187   \n9778  35  35   876.0  126  ...  0.737    95  193  288   38  19  41   48   80   \n\n      PTS  \n0     406  \n1     353  \n2     165  \n3     304  \n4     201  \n...   ...  \n9774  244  \n9775  525  \n9776  596  \n9777  650  \n9778  336  \n\n[9779 rows x 27 columns]",
      "text/html": "<div>\n<style scoped>\n    .dataframe tbody tr th:only-of-type {\n        vertical-align: middle;\n    }\n\n    .dataframe tbody tr th {\n        vertical-align: top;\n    }\n\n    .dataframe thead th {\n        text-align: right;\n    }\n</style>\n<table border=\"1\" class=\"dataframe\">\n  <thead>\n    <tr style=\"text-align: right;\">\n      <th></th>\n      <th>PLAYER_ID</th>\n      <th>SEASON_ID</th>\n      <th>LEAGUE_ID</th>\n      <th>TEAM_ID</th>\n      <th>TEAM_ABBREVIATION</th>\n      <th>PLAYER_AGE</th>\n      <th>GP</th>\n      <th>GS</th>\n      <th>MIN</th>\n      <th>FGM</th>\n      <th>...</th>\n      <th>FT_PCT</th>\n      <th>OREB</th>\n      <th>DREB</th>\n      <th>REB</th>\n      <th>AST</th>\n      <th>STL</th>\n      <th>BLK</th>\n      <th>TOV</th>\n      <th>PF</th>\n      <th>PTS</th>\n    </tr>\n  </thead>\n  <tbody>\n    <tr>\n      <th>0</th>\n      <td>203518</td>\n      <td>2016-17</td>\n      <td>00</td>\n      <td>1610612760</td>\n      <td>OKC</td>\n      <td>23.0</td>\n      <td>68</td>\n      <td>6</td>\n      <td>1055.0</td>\n      <td>134</td>\n      <td>...</td>\n      <td>0.898</td>\n      <td>18</td>\n      <td>68</td>\n      <td>86</td>\n      <td>40</td>\n      <td>37</td>\n      <td>8</td>\n      <td>33</td>\n      <td>114</td>\n      <td>406</td>\n    </tr>\n    <tr>\n      <th>1</th>\n      <td>203518</td>\n      <td>2017-18</td>\n      <td>00</td>\n      <td>1610612760</td>\n      <td>OKC</td>\n      <td>24.0</td>\n      <td>75</td>\n      <td>8</td>\n      <td>1134.0</td>\n      <td>115</td>\n      <td>...</td>\n      <td>0.848</td>\n      <td>26</td>\n      <td>88</td>\n      <td>114</td>\n      <td>28</td>\n      <td>38</td>\n      <td>8</td>\n      <td>25</td>\n      <td>124</td>\n      <td>353</td>\n    </tr>\n    <tr>\n      <th>2</th>\n      <td>203518</td>\n      <td>2018-19</td>\n      <td>00</td>\n      <td>1610612760</td>\n      <td>OKC</td>\n      <td>25.0</td>\n      <td>31</td>\n      <td>2</td>\n      <td>588.0</td>\n      <td>56</td>\n      <td>...</td>\n      <td>0.923</td>\n      <td>5</td>\n      <td>43</td>\n      <td>48</td>\n      <td>20</td>\n      <td>17</td>\n      <td>6</td>\n      <td>14</td>\n      <td>53</td>\n      <td>165</td>\n    </tr>\n    <tr>\n      <th>3</th>\n      <td>1630173</td>\n      <td>2020-21</td>\n      <td>00</td>\n      <td>1610612748</td>\n      <td>MIA</td>\n      <td>21.0</td>\n      <td>61</td>\n      <td>4</td>\n      <td>737.0</td>\n      <td>124</td>\n      <td>...</td>\n      <td>0.509</td>\n      <td>73</td>\n      <td>135</td>\n      <td>208</td>\n      <td>29</td>\n      <td>20</td>\n      <td>28</td>\n      <td>43</td>\n      <td>91</td>\n      <td>304</td>\n    </tr>\n    <tr>\n      <th>4</th>\n      <td>1630173</td>\n      <td>2021-22</td>\n      <td>00</td>\n      <td>1610612761</td>\n      <td>TOR</td>\n      <td>22.0</td>\n      <td>25</td>\n      <td>17</td>\n      <td>625.0</td>\n      <td>83</td>\n      <td>...</td>\n      <td>0.574</td>\n      <td>56</td>\n      <td>134</td>\n      <td>190</td>\n      <td>37</td>\n      <td>13</td>\n      <td>14</td>\n      <td>30</td>\n      <td>56</td>\n      <td>201</td>\n    </tr>\n    <tr>\n      <th>...</th>\n      <td>...</td>\n      <td>...</td>\n      <td>...</td>\n      <td>...</td>\n      <td>...</td>\n      <td>...</td>\n      <td>...</td>\n      <td>...</td>\n      <td>...</td>\n      <td>...</td>\n      <td>...</td>\n      <td>...</td>\n      <td>...</td>\n      <td>...</td>\n      <td>...</td>\n      <td>...</td>\n      <td>...</td>\n      <td>...</td>\n      <td>...</td>\n      <td>...</td>\n      <td>...</td>\n    </tr>\n    <tr>\n      <th>9774</th>\n      <td>1627826</td>\n      <td>2018-19</td>\n      <td>00</td>\n      <td>1610612746</td>\n      <td>LAC</td>\n      <td>22.0</td>\n      <td>26</td>\n      <td>25</td>\n      <td>524.0</td>\n      <td>100</td>\n      <td>...</td>\n      <td>0.733</td>\n      <td>61</td>\n      <td>139</td>\n      <td>200</td>\n      <td>38</td>\n      <td>10</td>\n      <td>24</td>\n      <td>37</td>\n      <td>64</td>\n      <td>244</td>\n    </tr>\n    <tr>\n      <th>9775</th>\n      <td>1627826</td>\n      <td>2018-19</td>\n      <td>00</td>\n      <td>0</td>\n      <td>TOT</td>\n      <td>22.0</td>\n      <td>59</td>\n      <td>37</td>\n      <td>1039.0</td>\n      <td>212</td>\n      <td>...</td>\n      <td>0.802</td>\n      <td>115</td>\n      <td>247</td>\n      <td>362</td>\n      <td>63</td>\n      <td>14</td>\n      <td>51</td>\n      <td>70</td>\n      <td>137</td>\n      <td>525</td>\n    </tr>\n    <tr>\n      <th>9776</th>\n      <td>1627826</td>\n      <td>2019-20</td>\n      <td>00</td>\n      <td>1610612746</td>\n      <td>LAC</td>\n      <td>23.0</td>\n      <td>72</td>\n      <td>70</td>\n      <td>1326.0</td>\n      <td>236</td>\n      <td>...</td>\n      <td>0.747</td>\n      <td>197</td>\n      <td>346</td>\n      <td>543</td>\n      <td>82</td>\n      <td>16</td>\n      <td>66</td>\n      <td>61</td>\n      <td>168</td>\n      <td>596</td>\n    </tr>\n    <tr>\n      <th>9777</th>\n      <td>1627826</td>\n      <td>2020-21</td>\n      <td>00</td>\n      <td>1610612746</td>\n      <td>LAC</td>\n      <td>24.0</td>\n      <td>72</td>\n      <td>33</td>\n      <td>1609.0</td>\n      <td>257</td>\n      <td>...</td>\n      <td>0.789</td>\n      <td>189</td>\n      <td>330</td>\n      <td>519</td>\n      <td>90</td>\n      <td>24</td>\n      <td>62</td>\n      <td>81</td>\n      <td>187</td>\n      <td>650</td>\n    </tr>\n    <tr>\n      <th>9778</th>\n      <td>1627826</td>\n      <td>2021-22</td>\n      <td>00</td>\n      <td>1610612746</td>\n      <td>LAC</td>\n      <td>24.0</td>\n      <td>35</td>\n      <td>35</td>\n      <td>876.0</td>\n      <td>126</td>\n      <td>...</td>\n      <td>0.737</td>\n      <td>95</td>\n      <td>193</td>\n      <td>288</td>\n      <td>38</td>\n      <td>19</td>\n      <td>41</td>\n      <td>48</td>\n      <td>80</td>\n      <td>336</td>\n    </tr>\n  </tbody>\n</table>\n<p>9779 rows × 27 columns</p>\n</div>"
     },
     "execution_count": 24,
     "metadata": {},
     "output_type": "execute_result"
    }
   ],
   "source": [
    "\n",
    "#Find lebron james totals stats\n",
    "#playercareerstats.PlayerCareerStats(player_id=2544).get_data_frames()[0]\n",
    "\n",
    "total_stats"
   ]
  },
  {
   "cell_type": "markdown",
   "metadata": {
    "pycharm": {
     "name": "#%% md\n"
    }
   },
   "source": [
    "#How it's structured this dataset\n",
    "- Player_id --> id del giocatore(da ritrovare il nome con players.find_player_by_id())\n",
    "- Season_id --> id della stagione\n",
    "- ...other...\n",
    "- GP --> Games Played\n",
    "- GS --> Games ... (idk but similar to GP) (I think is not usefull)\n",
    "- MIN Minutes Played\n",
    "- FGM Field Goals Made --> Numero canestri fatti\n",
    "- FGA Field Goals Attempted --> Numero tiri provati\n",
    "- FG% Field Goal Percentage --> FGM/FGA, rapporto precisione tiri\n",
    "- 3PM 3 Point Field Goals Made --> Numero canestri da 3 fatti\n",
    "- 3PA 3 Point Field Goals Attempted --> Numero tiri da 3 provati\n",
    "- 3P% 3 Point Field Goals Percentage --> 3PM/3PA, precisione tiri da 3\n",
    "- FTM Free Throws Made --> Tiri liberi fatti\n",
    "- FTA Free Throws Attempted --> tiri liberi provati\n",
    "- FT% Free Throw Percentage --> FTM/FTA\n",
    "- OREB Offensive Rebounds --> Rimbalzi conquistati in attacco\n",
    "- DREB Defensive Rebounds --> rimbalzi conquistati in difesa\n",
    "- REB Rebounds --> OREB + DREB, rimbalzi totali\n",
    "- AST Assists\n",
    "- TOV Turnovers --> palla persa\n",
    "- STL Steals --> palla rubata\n",
    "- BLK Blocks --> blocchi\n",
    "- PF Personal Fouls --> falli personali\n",
    "- DD2 Double Doubles --> doppie doppie\n",
    "- TD3 Trible Doubles --> triple doppie\n",
    "- PTS Points"
   ]
  },
  {
   "cell_type": "code",
   "execution_count": 23,
   "metadata": {
    "collapsed": false,
    "jupyter": {
     "outputs_hidden": false
    },
    "pycharm": {
     "name": "#%%\n"
    }
   },
   "outputs": [
    {
     "name": "stderr",
     "output_type": "stream",
     "text": [
      "0it [00:03, ?it/s]\n"
     ]
    },
    {
     "ename": "ValueError",
     "evalue": "Can only compare identically-labeled Series objects",
     "output_type": "error",
     "traceback": [
      "\u001B[0;31m---------------------------------------------------------------------------\u001B[0m",
      "\u001B[0;31mValueError\u001B[0m                                Traceback (most recent call last)",
      "\u001B[0;32m/tmp/ipykernel_315/1579400226.py\u001B[0m in \u001B[0;36m<module>\u001B[0;34m\u001B[0m\n\u001B[1;32m      8\u001B[0m     \u001B[0mteam_stats\u001B[0m \u001B[0;34m=\u001B[0m \u001B[0mteamyearbyyearstats\u001B[0m\u001B[0;34m.\u001B[0m\u001B[0mTeamYearByYearStats\u001B[0m\u001B[0;34m(\u001B[0m\u001B[0mteam_id\u001B[0m\u001B[0;34m=\u001B[0m\u001B[0mrow\u001B[0m\u001B[0;34m[\u001B[0m\u001B[0;34m\"TEAM_ID\"\u001B[0m\u001B[0;34m]\u001B[0m\u001B[0;34m)\u001B[0m\u001B[0;34m.\u001B[0m\u001B[0mget_data_frames\u001B[0m\u001B[0;34m(\u001B[0m\u001B[0;34m)\u001B[0m\u001B[0;34m[\u001B[0m\u001B[0;36m0\u001B[0m\u001B[0;34m]\u001B[0m\u001B[0;34m\u001B[0m\u001B[0;34m\u001B[0m\u001B[0m\n\u001B[1;32m      9\u001B[0m     \u001B[0mteam_stats\u001B[0m\u001B[0;34m[\u001B[0m\u001B[0;34m\"YEAR\"\u001B[0m\u001B[0;34m]\u001B[0m \u001B[0;34m=\u001B[0m \u001B[0;34m[\u001B[0m\u001B[0mint\u001B[0m\u001B[0;34m(\u001B[0m\u001B[0;34m\"20\"\u001B[0m\u001B[0;34m+\u001B[0m\u001B[0mx\u001B[0m\u001B[0;34m.\u001B[0m\u001B[0msplit\u001B[0m\u001B[0;34m(\u001B[0m\u001B[0;34m\"-\"\u001B[0m\u001B[0;34m)\u001B[0m\u001B[0;34m[\u001B[0m\u001B[0;36m1\u001B[0m\u001B[0;34m]\u001B[0m\u001B[0;34m)\u001B[0m \u001B[0;32mfor\u001B[0m \u001B[0mx\u001B[0m \u001B[0;32min\u001B[0m \u001B[0mlist\u001B[0m\u001B[0;34m(\u001B[0m\u001B[0mteam_stats\u001B[0m\u001B[0;34m[\u001B[0m\u001B[0;34m\"YEAR\"\u001B[0m\u001B[0;34m]\u001B[0m\u001B[0;34m)\u001B[0m\u001B[0;34m]\u001B[0m \u001B[0;31m#problema se prendiamo anni più piccoli dell'anno 2000\u001B[0m\u001B[0;34m\u001B[0m\u001B[0;34m\u001B[0m\u001B[0m\n\u001B[0;32m---> 10\u001B[0;31m     \u001B[0ma\u001B[0m \u001B[0;34m=\u001B[0m \u001B[0mtotal_stats\u001B[0m\u001B[0;34m.\u001B[0m\u001B[0mwhere\u001B[0m\u001B[0;34m(\u001B[0m\u001B[0mtotal_stats\u001B[0m\u001B[0;34m[\u001B[0m\u001B[0;34m\"SEASON_ID\"\u001B[0m\u001B[0;34m]\u001B[0m \u001B[0;34m==\u001B[0m \u001B[0mteam_stats\u001B[0m\u001B[0;34m[\u001B[0m\u001B[0;34m\"YEAR\"\u001B[0m\u001B[0;34m]\u001B[0m\u001B[0;34m)\u001B[0m\u001B[0;34m\u001B[0m\u001B[0;34m\u001B[0m\u001B[0m\n\u001B[0m\u001B[1;32m     11\u001B[0m \u001B[0;34m\u001B[0m\u001B[0m\n\u001B[1;32m     12\u001B[0m \u001B[0;34m\u001B[0m\u001B[0m\n",
      "\u001B[0;32m~/anaconda3/envs/ml/lib/python3.10/site-packages/pandas/core/ops/common.py\u001B[0m in \u001B[0;36mnew_method\u001B[0;34m(self, other)\u001B[0m\n\u001B[1;32m     67\u001B[0m         \u001B[0mother\u001B[0m \u001B[0;34m=\u001B[0m \u001B[0mitem_from_zerodim\u001B[0m\u001B[0;34m(\u001B[0m\u001B[0mother\u001B[0m\u001B[0;34m)\u001B[0m\u001B[0;34m\u001B[0m\u001B[0;34m\u001B[0m\u001B[0m\n\u001B[1;32m     68\u001B[0m \u001B[0;34m\u001B[0m\u001B[0m\n\u001B[0;32m---> 69\u001B[0;31m         \u001B[0;32mreturn\u001B[0m \u001B[0mmethod\u001B[0m\u001B[0;34m(\u001B[0m\u001B[0mself\u001B[0m\u001B[0;34m,\u001B[0m \u001B[0mother\u001B[0m\u001B[0;34m)\u001B[0m\u001B[0;34m\u001B[0m\u001B[0;34m\u001B[0m\u001B[0m\n\u001B[0m\u001B[1;32m     70\u001B[0m \u001B[0;34m\u001B[0m\u001B[0m\n\u001B[1;32m     71\u001B[0m     \u001B[0;32mreturn\u001B[0m \u001B[0mnew_method\u001B[0m\u001B[0;34m\u001B[0m\u001B[0;34m\u001B[0m\u001B[0m\n",
      "\u001B[0;32m~/anaconda3/envs/ml/lib/python3.10/site-packages/pandas/core/arraylike.py\u001B[0m in \u001B[0;36m__eq__\u001B[0;34m(self, other)\u001B[0m\n\u001B[1;32m     30\u001B[0m     \u001B[0;34m@\u001B[0m\u001B[0munpack_zerodim_and_defer\u001B[0m\u001B[0;34m(\u001B[0m\u001B[0;34m\"__eq__\"\u001B[0m\u001B[0;34m)\u001B[0m\u001B[0;34m\u001B[0m\u001B[0;34m\u001B[0m\u001B[0m\n\u001B[1;32m     31\u001B[0m     \u001B[0;32mdef\u001B[0m \u001B[0m__eq__\u001B[0m\u001B[0;34m(\u001B[0m\u001B[0mself\u001B[0m\u001B[0;34m,\u001B[0m \u001B[0mother\u001B[0m\u001B[0;34m)\u001B[0m\u001B[0;34m:\u001B[0m\u001B[0;34m\u001B[0m\u001B[0;34m\u001B[0m\u001B[0m\n\u001B[0;32m---> 32\u001B[0;31m         \u001B[0;32mreturn\u001B[0m \u001B[0mself\u001B[0m\u001B[0;34m.\u001B[0m\u001B[0m_cmp_method\u001B[0m\u001B[0;34m(\u001B[0m\u001B[0mother\u001B[0m\u001B[0;34m,\u001B[0m \u001B[0moperator\u001B[0m\u001B[0;34m.\u001B[0m\u001B[0meq\u001B[0m\u001B[0;34m)\u001B[0m\u001B[0;34m\u001B[0m\u001B[0;34m\u001B[0m\u001B[0m\n\u001B[0m\u001B[1;32m     33\u001B[0m \u001B[0;34m\u001B[0m\u001B[0m\n\u001B[1;32m     34\u001B[0m     \u001B[0;34m@\u001B[0m\u001B[0munpack_zerodim_and_defer\u001B[0m\u001B[0;34m(\u001B[0m\u001B[0;34m\"__ne__\"\u001B[0m\u001B[0;34m)\u001B[0m\u001B[0;34m\u001B[0m\u001B[0;34m\u001B[0m\u001B[0m\n",
      "\u001B[0;32m~/anaconda3/envs/ml/lib/python3.10/site-packages/pandas/core/series.py\u001B[0m in \u001B[0;36m_cmp_method\u001B[0;34m(self, other, op)\u001B[0m\n\u001B[1;32m   5494\u001B[0m \u001B[0;34m\u001B[0m\u001B[0m\n\u001B[1;32m   5495\u001B[0m         \u001B[0;32mif\u001B[0m \u001B[0misinstance\u001B[0m\u001B[0;34m(\u001B[0m\u001B[0mother\u001B[0m\u001B[0;34m,\u001B[0m \u001B[0mSeries\u001B[0m\u001B[0;34m)\u001B[0m \u001B[0;32mand\u001B[0m \u001B[0;32mnot\u001B[0m \u001B[0mself\u001B[0m\u001B[0;34m.\u001B[0m\u001B[0m_indexed_same\u001B[0m\u001B[0;34m(\u001B[0m\u001B[0mother\u001B[0m\u001B[0;34m)\u001B[0m\u001B[0;34m:\u001B[0m\u001B[0;34m\u001B[0m\u001B[0;34m\u001B[0m\u001B[0m\n\u001B[0;32m-> 5496\u001B[0;31m             \u001B[0;32mraise\u001B[0m \u001B[0mValueError\u001B[0m\u001B[0;34m(\u001B[0m\u001B[0;34m\"Can only compare identically-labeled Series objects\"\u001B[0m\u001B[0;34m)\u001B[0m\u001B[0;34m\u001B[0m\u001B[0;34m\u001B[0m\u001B[0m\n\u001B[0m\u001B[1;32m   5497\u001B[0m \u001B[0;34m\u001B[0m\u001B[0m\n\u001B[1;32m   5498\u001B[0m         \u001B[0mlvalues\u001B[0m \u001B[0;34m=\u001B[0m \u001B[0mself\u001B[0m\u001B[0;34m.\u001B[0m\u001B[0m_values\u001B[0m\u001B[0;34m\u001B[0m\u001B[0;34m\u001B[0m\u001B[0m\n",
      "\u001B[0;31mValueError\u001B[0m: Can only compare identically-labeled Series objects"
     ]
    }
   ],
   "source": [
    "with open(\"player_stats.pkl\", \"rb\") as f:\n",
    "    total_stats = pickle.load(f)\n",
    "\n",
    "total_stats\n",
    "\n",
    "\n",
    "\n"
   ]
  },
  {
   "cell_type": "code",
   "execution_count": null,
   "metadata": {
    "collapsed": false,
    "jupyter": {
     "outputs_hidden": false
    },
    "pycharm": {
     "name": "#%%\n"
    }
   },
   "outputs": [],
   "source": [
    "\n",
    "\n"
   ]
  },
  {
   "cell_type": "code",
   "execution_count": 8,
   "metadata": {
    "collapsed": false,
    "jupyter": {
     "outputs_hidden": false
    },
    "pycharm": {
     "name": "#%%\n"
    }
   },
   "outputs": [
    {
     "ename": "TypeError",
     "evalue": "'NoneType' object is not callable",
     "output_type": "error",
     "traceback": [
      "\u001B[0;31m---------------------------------------------------------------------------\u001B[0m",
      "\u001B[0;31mTypeError\u001B[0m                                 Traceback (most recent call last)",
      "\u001B[0;32m/var/folders/y3/cbbh6yn577527f2swpfwv0qr0000gn/T/ipykernel_24931/2028601786.py\u001B[0m in \u001B[0;36m<module>\u001B[0;34m\u001B[0m\n\u001B[1;32m      1\u001B[0m \u001B[0;32mfrom\u001B[0m \u001B[0mnba_api\u001B[0m\u001B[0;34m.\u001B[0m\u001B[0mstats\u001B[0m\u001B[0;34m.\u001B[0m\u001B[0mendpoints\u001B[0m \u001B[0;32mimport\u001B[0m \u001B[0mBoxScoreAdvancedV2\u001B[0m\u001B[0;34m\u001B[0m\u001B[0;34m\u001B[0m\u001B[0m\n\u001B[1;32m      2\u001B[0m \u001B[0;34m\u001B[0m\u001B[0m\n\u001B[0;32m----> 3\u001B[0;31m \u001B[0mBoxScoreAdvancedV2\u001B[0m\u001B[0;34m.\u001B[0m\u001B[0mplayer_stats\u001B[0m\u001B[0;34m(\u001B[0m\u001B[0;34m)\u001B[0m\u001B[0;34m.\u001B[0m\u001B[0mget_data_frames\u001B[0m\u001B[0;34m(\u001B[0m\u001B[0;34m)\u001B[0m\u001B[0;34m[\u001B[0m\u001B[0;36m0\u001B[0m\u001B[0;34m]\u001B[0m\u001B[0;34m\u001B[0m\u001B[0;34m\u001B[0m\u001B[0m\n\u001B[0m",
      "\u001B[0;31mTypeError\u001B[0m: 'NoneType' object is not callable"
     ]
    }
   ],
   "source": [
    "from nba_api.stats.endpoints import BoxScoreAdvancedV2\n",
    "\n",
    "BoxScoreAdvancedV2.player_stats().get_data_frames()[0]"
   ]
  },
  {
   "cell_type": "code",
   "execution_count": 22,
   "metadata": {},
   "outputs": [
    {
     "data": {
      "text/plain": "     PERSON_ID FIRST_NAME LAST_NAME                 TEAM  \\\n0         2544     LeBron     James  Cleveland Cavaliers   \n1         2544     LeBron     James  Cleveland Cavaliers   \n2         2544     LeBron     James           Miami Heat   \n3         2544     LeBron     James           Miami Heat   \n4         2544     LeBron     James           Miami Heat   \n..         ...        ...       ...                  ...   \n144       2544     LeBron     James  Cleveland Cavaliers   \n145       2544     LeBron     James  Cleveland Cavaliers   \n146       2544     LeBron     James                  USA   \n147       2544     LeBron     James                  USA   \n148       2544     LeBron     James                  USA   \n\n                                           DESCRIPTION ALL_NBA_TEAM_NUMBER  \\\n0                                   All-Defensive Team                   1   \n1                                   All-Defensive Team                   1   \n2                                   All-Defensive Team                   1   \n3                                   All-Defensive Team                   1   \n4                                   All-Defensive Team                   1   \n..                                                 ...                 ...   \n144  NBA Sporting News Most Valuable Player of the ...                None   \n145               NBA Sporting News Rookie of the Year                None   \n146                               Olympic Bronze Medal                None   \n147                                 Olympic Gold Medal                None   \n148                                 Olympic Gold Medal                None   \n\n      SEASON MONTH  WEEK  CONFERENCE   TYPE       SUBTYPE1 SUBTYPE2 SUBTYPE3  \n0    2008-09  None  None  1610612739  Award     Kia Motors    KIADT     None  \n1    2009-10  None  None  1610612739  Award     Kia Motors    KIADT     None  \n2    2010-11  None  None  1610612748  Award     Kia Motors    KIADT     None  \n3    2011-12  None  None  1610612748  Award     Kia Motors    KIADT     None  \n4    2012-13  None  None  1610612748  Award     Kia Motors    KIADT     None  \n..       ...   ...   ...         ...    ...            ...      ...      ...  \n144  2005-06  None  None        None  Award  Sporting News    SNMVP     None  \n145  2003-04  None  None        None  Award  Sporting News    SNROY     None  \n146     2004  None  None        None  Award        Olympic   Bronze     None  \n147     2008  None  None        None  Award        Olympic     Gold     None  \n148     2012  None  None        None  Award        Olympic     Gold     None  \n\n[149 rows x 14 columns]",
      "text/html": "<div>\n<style scoped>\n    .dataframe tbody tr th:only-of-type {\n        vertical-align: middle;\n    }\n\n    .dataframe tbody tr th {\n        vertical-align: top;\n    }\n\n    .dataframe thead th {\n        text-align: right;\n    }\n</style>\n<table border=\"1\" class=\"dataframe\">\n  <thead>\n    <tr style=\"text-align: right;\">\n      <th></th>\n      <th>PERSON_ID</th>\n      <th>FIRST_NAME</th>\n      <th>LAST_NAME</th>\n      <th>TEAM</th>\n      <th>DESCRIPTION</th>\n      <th>ALL_NBA_TEAM_NUMBER</th>\n      <th>SEASON</th>\n      <th>MONTH</th>\n      <th>WEEK</th>\n      <th>CONFERENCE</th>\n      <th>TYPE</th>\n      <th>SUBTYPE1</th>\n      <th>SUBTYPE2</th>\n      <th>SUBTYPE3</th>\n    </tr>\n  </thead>\n  <tbody>\n    <tr>\n      <th>0</th>\n      <td>2544</td>\n      <td>LeBron</td>\n      <td>James</td>\n      <td>Cleveland Cavaliers</td>\n      <td>All-Defensive Team</td>\n      <td>1</td>\n      <td>2008-09</td>\n      <td>None</td>\n      <td>None</td>\n      <td>1610612739</td>\n      <td>Award</td>\n      <td>Kia Motors</td>\n      <td>KIADT</td>\n      <td>None</td>\n    </tr>\n    <tr>\n      <th>1</th>\n      <td>2544</td>\n      <td>LeBron</td>\n      <td>James</td>\n      <td>Cleveland Cavaliers</td>\n      <td>All-Defensive Team</td>\n      <td>1</td>\n      <td>2009-10</td>\n      <td>None</td>\n      <td>None</td>\n      <td>1610612739</td>\n      <td>Award</td>\n      <td>Kia Motors</td>\n      <td>KIADT</td>\n      <td>None</td>\n    </tr>\n    <tr>\n      <th>2</th>\n      <td>2544</td>\n      <td>LeBron</td>\n      <td>James</td>\n      <td>Miami Heat</td>\n      <td>All-Defensive Team</td>\n      <td>1</td>\n      <td>2010-11</td>\n      <td>None</td>\n      <td>None</td>\n      <td>1610612748</td>\n      <td>Award</td>\n      <td>Kia Motors</td>\n      <td>KIADT</td>\n      <td>None</td>\n    </tr>\n    <tr>\n      <th>3</th>\n      <td>2544</td>\n      <td>LeBron</td>\n      <td>James</td>\n      <td>Miami Heat</td>\n      <td>All-Defensive Team</td>\n      <td>1</td>\n      <td>2011-12</td>\n      <td>None</td>\n      <td>None</td>\n      <td>1610612748</td>\n      <td>Award</td>\n      <td>Kia Motors</td>\n      <td>KIADT</td>\n      <td>None</td>\n    </tr>\n    <tr>\n      <th>4</th>\n      <td>2544</td>\n      <td>LeBron</td>\n      <td>James</td>\n      <td>Miami Heat</td>\n      <td>All-Defensive Team</td>\n      <td>1</td>\n      <td>2012-13</td>\n      <td>None</td>\n      <td>None</td>\n      <td>1610612748</td>\n      <td>Award</td>\n      <td>Kia Motors</td>\n      <td>KIADT</td>\n      <td>None</td>\n    </tr>\n    <tr>\n      <th>...</th>\n      <td>...</td>\n      <td>...</td>\n      <td>...</td>\n      <td>...</td>\n      <td>...</td>\n      <td>...</td>\n      <td>...</td>\n      <td>...</td>\n      <td>...</td>\n      <td>...</td>\n      <td>...</td>\n      <td>...</td>\n      <td>...</td>\n      <td>...</td>\n    </tr>\n    <tr>\n      <th>144</th>\n      <td>2544</td>\n      <td>LeBron</td>\n      <td>James</td>\n      <td>Cleveland Cavaliers</td>\n      <td>NBA Sporting News Most Valuable Player of the ...</td>\n      <td>None</td>\n      <td>2005-06</td>\n      <td>None</td>\n      <td>None</td>\n      <td>None</td>\n      <td>Award</td>\n      <td>Sporting News</td>\n      <td>SNMVP</td>\n      <td>None</td>\n    </tr>\n    <tr>\n      <th>145</th>\n      <td>2544</td>\n      <td>LeBron</td>\n      <td>James</td>\n      <td>Cleveland Cavaliers</td>\n      <td>NBA Sporting News Rookie of the Year</td>\n      <td>None</td>\n      <td>2003-04</td>\n      <td>None</td>\n      <td>None</td>\n      <td>None</td>\n      <td>Award</td>\n      <td>Sporting News</td>\n      <td>SNROY</td>\n      <td>None</td>\n    </tr>\n    <tr>\n      <th>146</th>\n      <td>2544</td>\n      <td>LeBron</td>\n      <td>James</td>\n      <td>USA</td>\n      <td>Olympic Bronze Medal</td>\n      <td>None</td>\n      <td>2004</td>\n      <td>None</td>\n      <td>None</td>\n      <td>None</td>\n      <td>Award</td>\n      <td>Olympic</td>\n      <td>Bronze</td>\n      <td>None</td>\n    </tr>\n    <tr>\n      <th>147</th>\n      <td>2544</td>\n      <td>LeBron</td>\n      <td>James</td>\n      <td>USA</td>\n      <td>Olympic Gold Medal</td>\n      <td>None</td>\n      <td>2008</td>\n      <td>None</td>\n      <td>None</td>\n      <td>None</td>\n      <td>Award</td>\n      <td>Olympic</td>\n      <td>Gold</td>\n      <td>None</td>\n    </tr>\n    <tr>\n      <th>148</th>\n      <td>2544</td>\n      <td>LeBron</td>\n      <td>James</td>\n      <td>USA</td>\n      <td>Olympic Gold Medal</td>\n      <td>None</td>\n      <td>2012</td>\n      <td>None</td>\n      <td>None</td>\n      <td>None</td>\n      <td>Award</td>\n      <td>Olympic</td>\n      <td>Gold</td>\n      <td>None</td>\n    </tr>\n  </tbody>\n</table>\n<p>149 rows × 14 columns</p>\n</div>"
     },
     "execution_count": 22,
     "metadata": {},
     "output_type": "execute_result"
    }
   ],
   "source": [
    "from nba_api.stats.endpoints import playerawards\n",
    "\n",
    "playerawards.PlayerAwards(player_id=2544).get_data_frames()[0]"
   ]
  }
 ],
 "metadata": {
  "kernelspec": {
   "display_name": "Python 3 (ipykernel)",
   "language": "python",
   "name": "python3"
  },
  "language_info": {
   "codemirror_mode": {
    "name": "ipython",
    "version": 3
   },
   "file_extension": ".py",
   "mimetype": "text/x-python",
   "name": "python",
   "nbconvert_exporter": "python",
   "pygments_lexer": "ipython3",
   "version": "3.9.7"
  }
 },
 "nbformat": 4,
 "nbformat_minor": 4
}