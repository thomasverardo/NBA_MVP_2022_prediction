{
 "cells": [
  {
   "cell_type": "code",
   "execution_count": 2,
   "outputs": [
    {
     "ename": "TypeError",
     "evalue": "find_player_by_id() missing 1 required positional argument: 'player_id'",
     "output_type": "error",
     "traceback": [
      "\u001B[0;31m---------------------------------------------------------------------------\u001B[0m",
      "\u001B[0;31mTypeError\u001B[0m                                 Traceback (most recent call last)",
      "\u001B[0;32m/tmp/ipykernel_371/1644485537.py\u001B[0m in \u001B[0;36m<module>\u001B[0;34m\u001B[0m\n\u001B[1;32m      4\u001B[0m \u001B[0mplayers\u001B[0m\u001B[0;34m.\u001B[0m\u001B[0mfind_players_by_full_name\u001B[0m\u001B[0;34m(\u001B[0m\u001B[0;34m\"Lebron James\"\u001B[0m\u001B[0;34m)\u001B[0m\u001B[0;34m\u001B[0m\u001B[0;34m\u001B[0m\u001B[0m\n\u001B[1;32m      5\u001B[0m \u001B[0;34m\u001B[0m\u001B[0m\n\u001B[0;32m----> 6\u001B[0;31m \u001B[0mplayers\u001B[0m\u001B[0;34m.\u001B[0m\u001B[0mfind_player_by_id\u001B[0m\u001B[0;34m(\u001B[0m\u001B[0;34m)\u001B[0m\u001B[0;34m\u001B[0m\u001B[0;34m\u001B[0m\u001B[0m\n\u001B[0m",
      "\u001B[0;31mTypeError\u001B[0m: find_player_by_id() missing 1 required positional argument: 'player_id'"
     ]
    }
   ],
   "source": [
    "# from nba_api.stats.static import players\n",
    "#\n",
    "#\n",
    "# players.find_players_by_full_name(\"Lebron James\")\n",
    "#\n",
    "# players.find_player_by_id()"
   ],
   "metadata": {
    "collapsed": false,
    "pycharm": {
     "name": "#%%\n"
    }
   }
  },
  {
   "cell_type": "code",
   "execution_count": null,
   "outputs": [],
   "source": [],
   "metadata": {
    "collapsed": false,
    "pycharm": {
     "name": "#%%\n"
    }
   }
  },
  {
   "cell_type": "code",
   "execution_count": 52,
   "outputs": [
    {
     "data": {
      "text/plain": "      PERSON_ID DISPLAY_LAST_COMMA_FIRST DISPLAY_FIRST_LAST  ROSTERSTATUS  \\\n9        203518            Abrines, Alex       Alex Abrines             0   \n10      1630173        Achiuwa, Precious   Precious Achiuwa             1   \n15       203112              Acy, Quincy         Quincy Acy             0   \n19      1629121            Adams, Jaylen       Jaylen Adams             0   \n20       203919            Adams, Jordan       Jordan Adams             0   \n...         ...                      ...                ...           ...   \n4713     203092            Zeller, Tyler       Tyler Zeller             0   \n4719    1627757       Zimmerman, Stephen  Stephen Zimmerman             0   \n4720    1627835             Zipser, Paul        Paul Zipser             0   \n4721    1627790              Zizic, Ante         Ante Zizic             0   \n4724    1627826             Zubac, Ivica        Ivica Zubac             1   \n\n     FROM_YEAR  TO_YEAR         PLAYERCODE        PLAYER_SLUG     TEAM_ID  \\\n9         2016     2018       alex_abrines       alex_abrines           0   \n10        2020     2021   precious_achiuwa   precious_achiuwa  1610612761   \n15        2012     2018         quincy_acy         quincy_acy           0   \n19        2018     2020       jaylen_adams       jaylen_adams           0   \n20        2014     2015       jordan_adams       jordan_adams           0   \n...        ...      ...                ...                ...         ...   \n4713      2012     2019       tyler_zeller       tyler_zeller           0   \n4719      2016     2016  stephen_zimmerman  stephen_zimmerman           0   \n4720      2016     2017        paul_zipser        paul_zipser           0   \n4721      2017     2019         ante_zizic         ante_zizic           0   \n4724      2016     2021        ivica_zubac        ivica_zubac  1610612746   \n\n     TEAM_CITY TEAM_NAME TEAM_ABBREVIATION TEAM_CODE TEAM_SLUG  \\\n9                                                         None   \n10     Toronto   Raptors               TOR   raptors   raptors   \n15                                                        None   \n19                                                        None   \n20                                                        None   \n...        ...       ...               ...       ...       ...   \n4713                                                      None   \n4719                                                      None   \n4720                                                      None   \n4721                                                      None   \n4724        LA  Clippers               LAC  clippers  clippers   \n\n     GAMES_PLAYED_FLAG OTHERLEAGUE_EXPERIENCE_CH  \n9                    Y                        00  \n10                   Y                        00  \n15                   Y                        01  \n19                   Y                        01  \n20                   Y                        01  \n...                ...                       ...  \n4713                 Y                        00  \n4719                 Y                        01  \n4720                 Y                        01  \n4721                 Y                        01  \n4724                 Y                        01  \n\n[1471 rows x 16 columns]",
      "text/html": "<div>\n<style scoped>\n    .dataframe tbody tr th:only-of-type {\n        vertical-align: middle;\n    }\n\n    .dataframe tbody tr th {\n        vertical-align: top;\n    }\n\n    .dataframe thead th {\n        text-align: right;\n    }\n</style>\n<table border=\"1\" class=\"dataframe\">\n  <thead>\n    <tr style=\"text-align: right;\">\n      <th></th>\n      <th>PERSON_ID</th>\n      <th>DISPLAY_LAST_COMMA_FIRST</th>\n      <th>DISPLAY_FIRST_LAST</th>\n      <th>ROSTERSTATUS</th>\n      <th>FROM_YEAR</th>\n      <th>TO_YEAR</th>\n      <th>PLAYERCODE</th>\n      <th>PLAYER_SLUG</th>\n      <th>TEAM_ID</th>\n      <th>TEAM_CITY</th>\n      <th>TEAM_NAME</th>\n      <th>TEAM_ABBREVIATION</th>\n      <th>TEAM_CODE</th>\n      <th>TEAM_SLUG</th>\n      <th>GAMES_PLAYED_FLAG</th>\n      <th>OTHERLEAGUE_EXPERIENCE_CH</th>\n    </tr>\n  </thead>\n  <tbody>\n    <tr>\n      <th>9</th>\n      <td>203518</td>\n      <td>Abrines, Alex</td>\n      <td>Alex Abrines</td>\n      <td>0</td>\n      <td>2016</td>\n      <td>2018</td>\n      <td>alex_abrines</td>\n      <td>alex_abrines</td>\n      <td>0</td>\n      <td></td>\n      <td></td>\n      <td></td>\n      <td></td>\n      <td>None</td>\n      <td>Y</td>\n      <td>00</td>\n    </tr>\n    <tr>\n      <th>10</th>\n      <td>1630173</td>\n      <td>Achiuwa, Precious</td>\n      <td>Precious Achiuwa</td>\n      <td>1</td>\n      <td>2020</td>\n      <td>2021</td>\n      <td>precious_achiuwa</td>\n      <td>precious_achiuwa</td>\n      <td>1610612761</td>\n      <td>Toronto</td>\n      <td>Raptors</td>\n      <td>TOR</td>\n      <td>raptors</td>\n      <td>raptors</td>\n      <td>Y</td>\n      <td>00</td>\n    </tr>\n    <tr>\n      <th>15</th>\n      <td>203112</td>\n      <td>Acy, Quincy</td>\n      <td>Quincy Acy</td>\n      <td>0</td>\n      <td>2012</td>\n      <td>2018</td>\n      <td>quincy_acy</td>\n      <td>quincy_acy</td>\n      <td>0</td>\n      <td></td>\n      <td></td>\n      <td></td>\n      <td></td>\n      <td>None</td>\n      <td>Y</td>\n      <td>01</td>\n    </tr>\n    <tr>\n      <th>19</th>\n      <td>1629121</td>\n      <td>Adams, Jaylen</td>\n      <td>Jaylen Adams</td>\n      <td>0</td>\n      <td>2018</td>\n      <td>2020</td>\n      <td>jaylen_adams</td>\n      <td>jaylen_adams</td>\n      <td>0</td>\n      <td></td>\n      <td></td>\n      <td></td>\n      <td></td>\n      <td>None</td>\n      <td>Y</td>\n      <td>01</td>\n    </tr>\n    <tr>\n      <th>20</th>\n      <td>203919</td>\n      <td>Adams, Jordan</td>\n      <td>Jordan Adams</td>\n      <td>0</td>\n      <td>2014</td>\n      <td>2015</td>\n      <td>jordan_adams</td>\n      <td>jordan_adams</td>\n      <td>0</td>\n      <td></td>\n      <td></td>\n      <td></td>\n      <td></td>\n      <td>None</td>\n      <td>Y</td>\n      <td>01</td>\n    </tr>\n    <tr>\n      <th>...</th>\n      <td>...</td>\n      <td>...</td>\n      <td>...</td>\n      <td>...</td>\n      <td>...</td>\n      <td>...</td>\n      <td>...</td>\n      <td>...</td>\n      <td>...</td>\n      <td>...</td>\n      <td>...</td>\n      <td>...</td>\n      <td>...</td>\n      <td>...</td>\n      <td>...</td>\n      <td>...</td>\n    </tr>\n    <tr>\n      <th>4713</th>\n      <td>203092</td>\n      <td>Zeller, Tyler</td>\n      <td>Tyler Zeller</td>\n      <td>0</td>\n      <td>2012</td>\n      <td>2019</td>\n      <td>tyler_zeller</td>\n      <td>tyler_zeller</td>\n      <td>0</td>\n      <td></td>\n      <td></td>\n      <td></td>\n      <td></td>\n      <td>None</td>\n      <td>Y</td>\n      <td>00</td>\n    </tr>\n    <tr>\n      <th>4719</th>\n      <td>1627757</td>\n      <td>Zimmerman, Stephen</td>\n      <td>Stephen Zimmerman</td>\n      <td>0</td>\n      <td>2016</td>\n      <td>2016</td>\n      <td>stephen_zimmerman</td>\n      <td>stephen_zimmerman</td>\n      <td>0</td>\n      <td></td>\n      <td></td>\n      <td></td>\n      <td></td>\n      <td>None</td>\n      <td>Y</td>\n      <td>01</td>\n    </tr>\n    <tr>\n      <th>4720</th>\n      <td>1627835</td>\n      <td>Zipser, Paul</td>\n      <td>Paul Zipser</td>\n      <td>0</td>\n      <td>2016</td>\n      <td>2017</td>\n      <td>paul_zipser</td>\n      <td>paul_zipser</td>\n      <td>0</td>\n      <td></td>\n      <td></td>\n      <td></td>\n      <td></td>\n      <td>None</td>\n      <td>Y</td>\n      <td>01</td>\n    </tr>\n    <tr>\n      <th>4721</th>\n      <td>1627790</td>\n      <td>Zizic, Ante</td>\n      <td>Ante Zizic</td>\n      <td>0</td>\n      <td>2017</td>\n      <td>2019</td>\n      <td>ante_zizic</td>\n      <td>ante_zizic</td>\n      <td>0</td>\n      <td></td>\n      <td></td>\n      <td></td>\n      <td></td>\n      <td>None</td>\n      <td>Y</td>\n      <td>01</td>\n    </tr>\n    <tr>\n      <th>4724</th>\n      <td>1627826</td>\n      <td>Zubac, Ivica</td>\n      <td>Ivica Zubac</td>\n      <td>1</td>\n      <td>2016</td>\n      <td>2021</td>\n      <td>ivica_zubac</td>\n      <td>ivica_zubac</td>\n      <td>1610612746</td>\n      <td>LA</td>\n      <td>Clippers</td>\n      <td>LAC</td>\n      <td>clippers</td>\n      <td>clippers</td>\n      <td>Y</td>\n      <td>01</td>\n    </tr>\n  </tbody>\n</table>\n<p>1471 rows × 16 columns</p>\n</div>"
     },
     "execution_count": 52,
     "metadata": {},
     "output_type": "execute_result"
    }
   ],
   "source": [
    "from nba_api.stats.endpoints import commonallplayers\n",
    "\n",
    "from_year = 2010\n",
    "\n",
    "total_players = commonallplayers.CommonAllPlayers().get_data_frames()[0]\n",
    "total_players['TO_YEAR'] = total_players['TO_YEAR'].astype('int')\n",
    "total_players = total_players[total_players['TO_YEAR'] > from_year]\n",
    "\n",
    "#Ho controllato che in total_players, il PERSON_ID sia univoco\n",
    "total_players"
   ],
   "metadata": {
    "collapsed": false,
    "pycharm": {
     "name": "#%%\n"
    }
   }
  },
  {
   "cell_type": "code",
   "execution_count": null,
   "outputs": [],
   "source": [],
   "metadata": {
    "collapsed": false,
    "pycharm": {
     "name": "#%%\n",
     "is_executing": true
    }
   }
  },
  {
   "cell_type": "code",
   "execution_count": 53,
   "outputs": [
    {
     "name": "stderr",
     "output_type": "stream",
     "text": [
      "1471it [44:00,  1.79s/it]\n"
     ]
    }
   ],
   "source": [
    "from nba_api.stats.endpoints import playercareerstats\n",
    "import pandas as pd\n",
    "from tqdm import tqdm\n",
    "import pickle\n",
    "\n",
    "total_names = total_players[[\"PERSON_ID\", \"DISPLAY_FIRST_LAST\"]]\n",
    "total_stats = pd.DataFrame()\n",
    "\n",
    "\n",
    "for index, row in tqdm(total_names.iterrows()):\n",
    "    stats = playercareerstats.PlayerCareerStats(player_id=row[\"PERSON_ID\"]).get_data_frames()[0]\n",
    "    #stats = stats[stats[]] PRENDERE SOLO I DATI SUPERIORE ALL'ANNO FROM_YEAR\n",
    "    #name = row[[\"DISPLAY_FIRST_LAST\"]].repeat(stats.shape[0])\n",
    "    #tot = pd.concat([stats, name], axis=1, ignore_index=True)\n",
    "    total_stats = pd.concat([total_stats, stats],axis=0,ignore_index=True)\n",
    "\n",
    "with open(\"player_stats.pkl\",'wb') as f:\n",
    "    pickle.dump(total_stats,f)\n",
    "\n",
    "#Find lebron james totals stats\n",
    "#playercareerstats.PlayerCareerStats(player_id=2544).get_data_frames()[0]"
   ],
   "metadata": {
    "collapsed": false,
    "pycharm": {
     "name": "#%%\n"
    }
   }
  },
  {
   "cell_type": "markdown",
   "source": [
    "#How it's structured this dataset\n",
    "- Player_id --> id del giocatore(da ritrovare il nome con players.find_player_by_id())\n",
    "- Season_id --> id della stagione\n",
    "- ...other...\n",
    "- GP --> Games Played\n",
    "- GS --> Games ... (idk but similar to GP) (I think is not usefull)\n",
    "- MIN Minutes Played\n",
    "- FGM Field Goals Made --> Numero canestri fatti\n",
    "- FGA Field Goals Attempted --> Numero tiri provati\n",
    "- FG% Field Goal Percentage --> FGM/FGA, rapporto precisione tiri\n",
    "- 3PM 3 Point Field Goals Made --> Numero canestri da 3 fatti\n",
    "- 3PA 3 Point Field Goals Attempted --> Numero tiri da 3 provati\n",
    "- 3P% 3 Point Field Goals Percentage --> 3PM/3PA, precisione tiri da 3\n",
    "- FTM Free Throws Made --> Tiri liberi fatti\n",
    "- FTA Free Throws Attempted --> tiri liberi provati\n",
    "- FT% Free Throw Percentage --> FTM/FTA\n",
    "- OREB Offensive Rebounds --> Rimbalzi conquistati in attacco\n",
    "- DREB Defensive Rebounds --> rimbalzi conquistati in difesa\n",
    "- REB Rebounds --> OREB + DREB, rimbalzi totali\n",
    "- AST Assists\n",
    "- TOV Turnovers --> palla persa\n",
    "- STL Steals --> palla rubata\n",
    "- BLK Blocks --> blocchi\n",
    "- PF Personal Fouls --> falli personali\n",
    "- DD2 Double Doubles --> doppie doppie\n",
    "- TD3 Trible Doubles --> triple doppie\n",
    "- PTS Points"
   ],
   "metadata": {
    "collapsed": false,
    "pycharm": {
     "name": "#%% md\n"
    }
   }
  }
 ],
 "metadata": {
  "kernelspec": {
   "display_name": "Python 3",
   "language": "python",
   "name": "python3"
  },
  "language_info": {
   "codemirror_mode": {
    "name": "ipython",
    "version": 2
   },
   "file_extension": ".py",
   "mimetype": "text/x-python",
   "name": "python",
   "nbconvert_exporter": "python",
   "pygments_lexer": "ipython2",
   "version": "2.7.6"
  }
 },
 "nbformat": 4,
 "nbformat_minor": 0
}