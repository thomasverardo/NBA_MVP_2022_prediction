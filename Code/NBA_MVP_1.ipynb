{
 "cells": [
  {
   "cell_type": "code",
   "execution_count": 3,
   "metadata": {
    "collapsed": false,
    "jupyter": {
     "outputs_hidden": false
    },
    "pycharm": {
     "name": "#%%\n"
    }
   },
   "outputs": [],
   "source": [
    "#from nba_api.stats.static import players\n",
    "#\n",
    "#\n",
    "# players.find_players_by_full_name(\"Lebron James\")\n",
    "#\n",
    "#players.find_player_by_id(2544)"
   ]
  },
  {
   "cell_type": "code",
   "execution_count": 1,
   "metadata": {
    "collapsed": false,
    "jupyter": {
     "outputs_hidden": false
    },
    "pycharm": {
     "name": "#%%\n"
    }
   },
   "outputs": [],
   "source": [
    "#Module load\n",
    "from nba_api.stats.endpoints import commonallplayers #per avere l'elenco dei giocatori (id)\n",
    "from nba_api.stats.endpoints import playercareerstats #per avere i dati\n",
    "from nba_api.stats.endpoints import playerawards #per sapere chi ha vinto MVP\n",
    "from nba_api.stats.endpoints import teamyearbyyearstats #classifiche finali delle squadre\n",
    "import pandas as pd\n",
    "from tqdm import tqdm\n",
    "import pickle"
   ]
  },
  {
   "cell_type": "code",
   "execution_count": 7,
   "metadata": {
    "collapsed": false,
    "jupyter": {
     "outputs_hidden": false
    },
    "pycharm": {
     "name": "#%%\n"
    }
   },
   "outputs": [
    {
     "data": {
      "text/plain": "      PERSON_ID DISPLAY_LAST_COMMA_FIRST   DISPLAY_FIRST_LAST  ROSTERSTATUS  \\\n5           949     Abdur-Rahim, Shareef  Shareef Abdur-Rahim             0   \n9        203518            Abrines, Alex         Alex Abrines             0   \n10      1630173        Achiuwa, Precious     Precious Achiuwa             1   \n11       101165              Acker, Alex           Alex Acker             0   \n15       203112              Acy, Quincy           Quincy Acy             0   \n...         ...                      ...                  ...           ...   \n4717       2583       Zimmerman, Derrick    Derrick Zimmerman             0   \n4718    1627757       Zimmerman, Stephen    Stephen Zimmerman             0   \n4719    1627835             Zipser, Paul          Paul Zipser             0   \n4720    1627790              Zizic, Ante           Ante Zizic             0   \n4723    1627826             Zubac, Ivica          Ivica Zubac             1   \n\n     FROM_YEAR  TO_YEAR           PLAYERCODE          PLAYER_SLUG     TEAM_ID  \\\n5         1996     2007  shareef_abdur-rahim  shareef_abdur-rahim           0   \n9         2016     2018         alex_abrines         alex_abrines           0   \n10        2020     2021     precious_achiuwa     precious_achiuwa  1610612761   \n11        2005     2008           alex_acker           alex_acker           0   \n15        2012     2018           quincy_acy           quincy_acy           0   \n...        ...      ...                  ...                  ...         ...   \n4717      2005     2005    derrick_zimmerman    derrick_zimmerman           0   \n4718      2016     2016    stephen_zimmerman    stephen_zimmerman           0   \n4719      2016     2017          paul_zipser          paul_zipser           0   \n4720      2017     2019           ante_zizic           ante_zizic           0   \n4723      2016     2021          ivica_zubac          ivica_zubac  1610612746   \n\n     TEAM_CITY TEAM_NAME TEAM_ABBREVIATION TEAM_CODE TEAM_SLUG  \\\n5                                                         None   \n9                                                         None   \n10     Toronto   Raptors               TOR   raptors   raptors   \n11                                                        None   \n15                                                        None   \n...        ...       ...               ...       ...       ...   \n4717                                                      None   \n4718                                                      None   \n4719                                                      None   \n4720                                                      None   \n4723        LA  Clippers               LAC  clippers  clippers   \n\n     GAMES_PLAYED_FLAG OTHERLEAGUE_EXPERIENCE_CH  \n5                    Y                        00  \n9                    Y                        00  \n10                   Y                        00  \n11                   Y                        01  \n15                   Y                        01  \n...                ...                       ...  \n4717                 Y                        01  \n4718                 Y                        01  \n4719                 Y                        01  \n4720                 Y                        01  \n4723                 Y                        01  \n\n[1947 rows x 16 columns]",
      "text/html": "<div>\n<style scoped>\n    .dataframe tbody tr th:only-of-type {\n        vertical-align: middle;\n    }\n\n    .dataframe tbody tr th {\n        vertical-align: top;\n    }\n\n    .dataframe thead th {\n        text-align: right;\n    }\n</style>\n<table border=\"1\" class=\"dataframe\">\n  <thead>\n    <tr style=\"text-align: right;\">\n      <th></th>\n      <th>PERSON_ID</th>\n      <th>DISPLAY_LAST_COMMA_FIRST</th>\n      <th>DISPLAY_FIRST_LAST</th>\n      <th>ROSTERSTATUS</th>\n      <th>FROM_YEAR</th>\n      <th>TO_YEAR</th>\n      <th>PLAYERCODE</th>\n      <th>PLAYER_SLUG</th>\n      <th>TEAM_ID</th>\n      <th>TEAM_CITY</th>\n      <th>TEAM_NAME</th>\n      <th>TEAM_ABBREVIATION</th>\n      <th>TEAM_CODE</th>\n      <th>TEAM_SLUG</th>\n      <th>GAMES_PLAYED_FLAG</th>\n      <th>OTHERLEAGUE_EXPERIENCE_CH</th>\n    </tr>\n  </thead>\n  <tbody>\n    <tr>\n      <th>5</th>\n      <td>949</td>\n      <td>Abdur-Rahim, Shareef</td>\n      <td>Shareef Abdur-Rahim</td>\n      <td>0</td>\n      <td>1996</td>\n      <td>2007</td>\n      <td>shareef_abdur-rahim</td>\n      <td>shareef_abdur-rahim</td>\n      <td>0</td>\n      <td></td>\n      <td></td>\n      <td></td>\n      <td></td>\n      <td>None</td>\n      <td>Y</td>\n      <td>00</td>\n    </tr>\n    <tr>\n      <th>9</th>\n      <td>203518</td>\n      <td>Abrines, Alex</td>\n      <td>Alex Abrines</td>\n      <td>0</td>\n      <td>2016</td>\n      <td>2018</td>\n      <td>alex_abrines</td>\n      <td>alex_abrines</td>\n      <td>0</td>\n      <td></td>\n      <td></td>\n      <td></td>\n      <td></td>\n      <td>None</td>\n      <td>Y</td>\n      <td>00</td>\n    </tr>\n    <tr>\n      <th>10</th>\n      <td>1630173</td>\n      <td>Achiuwa, Precious</td>\n      <td>Precious Achiuwa</td>\n      <td>1</td>\n      <td>2020</td>\n      <td>2021</td>\n      <td>precious_achiuwa</td>\n      <td>precious_achiuwa</td>\n      <td>1610612761</td>\n      <td>Toronto</td>\n      <td>Raptors</td>\n      <td>TOR</td>\n      <td>raptors</td>\n      <td>raptors</td>\n      <td>Y</td>\n      <td>00</td>\n    </tr>\n    <tr>\n      <th>11</th>\n      <td>101165</td>\n      <td>Acker, Alex</td>\n      <td>Alex Acker</td>\n      <td>0</td>\n      <td>2005</td>\n      <td>2008</td>\n      <td>alex_acker</td>\n      <td>alex_acker</td>\n      <td>0</td>\n      <td></td>\n      <td></td>\n      <td></td>\n      <td></td>\n      <td>None</td>\n      <td>Y</td>\n      <td>01</td>\n    </tr>\n    <tr>\n      <th>15</th>\n      <td>203112</td>\n      <td>Acy, Quincy</td>\n      <td>Quincy Acy</td>\n      <td>0</td>\n      <td>2012</td>\n      <td>2018</td>\n      <td>quincy_acy</td>\n      <td>quincy_acy</td>\n      <td>0</td>\n      <td></td>\n      <td></td>\n      <td></td>\n      <td></td>\n      <td>None</td>\n      <td>Y</td>\n      <td>01</td>\n    </tr>\n    <tr>\n      <th>...</th>\n      <td>...</td>\n      <td>...</td>\n      <td>...</td>\n      <td>...</td>\n      <td>...</td>\n      <td>...</td>\n      <td>...</td>\n      <td>...</td>\n      <td>...</td>\n      <td>...</td>\n      <td>...</td>\n      <td>...</td>\n      <td>...</td>\n      <td>...</td>\n      <td>...</td>\n      <td>...</td>\n    </tr>\n    <tr>\n      <th>4717</th>\n      <td>2583</td>\n      <td>Zimmerman, Derrick</td>\n      <td>Derrick Zimmerman</td>\n      <td>0</td>\n      <td>2005</td>\n      <td>2005</td>\n      <td>derrick_zimmerman</td>\n      <td>derrick_zimmerman</td>\n      <td>0</td>\n      <td></td>\n      <td></td>\n      <td></td>\n      <td></td>\n      <td>None</td>\n      <td>Y</td>\n      <td>01</td>\n    </tr>\n    <tr>\n      <th>4718</th>\n      <td>1627757</td>\n      <td>Zimmerman, Stephen</td>\n      <td>Stephen Zimmerman</td>\n      <td>0</td>\n      <td>2016</td>\n      <td>2016</td>\n      <td>stephen_zimmerman</td>\n      <td>stephen_zimmerman</td>\n      <td>0</td>\n      <td></td>\n      <td></td>\n      <td></td>\n      <td></td>\n      <td>None</td>\n      <td>Y</td>\n      <td>01</td>\n    </tr>\n    <tr>\n      <th>4719</th>\n      <td>1627835</td>\n      <td>Zipser, Paul</td>\n      <td>Paul Zipser</td>\n      <td>0</td>\n      <td>2016</td>\n      <td>2017</td>\n      <td>paul_zipser</td>\n      <td>paul_zipser</td>\n      <td>0</td>\n      <td></td>\n      <td></td>\n      <td></td>\n      <td></td>\n      <td>None</td>\n      <td>Y</td>\n      <td>01</td>\n    </tr>\n    <tr>\n      <th>4720</th>\n      <td>1627790</td>\n      <td>Zizic, Ante</td>\n      <td>Ante Zizic</td>\n      <td>0</td>\n      <td>2017</td>\n      <td>2019</td>\n      <td>ante_zizic</td>\n      <td>ante_zizic</td>\n      <td>0</td>\n      <td></td>\n      <td></td>\n      <td></td>\n      <td></td>\n      <td>None</td>\n      <td>Y</td>\n      <td>01</td>\n    </tr>\n    <tr>\n      <th>4723</th>\n      <td>1627826</td>\n      <td>Zubac, Ivica</td>\n      <td>Ivica Zubac</td>\n      <td>1</td>\n      <td>2016</td>\n      <td>2021</td>\n      <td>ivica_zubac</td>\n      <td>ivica_zubac</td>\n      <td>1610612746</td>\n      <td>LA</td>\n      <td>Clippers</td>\n      <td>LAC</td>\n      <td>clippers</td>\n      <td>clippers</td>\n      <td>Y</td>\n      <td>01</td>\n    </tr>\n  </tbody>\n</table>\n<p>1947 rows × 16 columns</p>\n</div>"
     },
     "execution_count": 7,
     "metadata": {},
     "output_type": "execute_result"
    }
   ],
   "source": [
    "from_year = 2003\n",
    "\n",
    "total_players = commonallplayers.CommonAllPlayers().get_data_frames()[0]\n",
    "total_players['TO_YEAR'] = total_players['TO_YEAR'].astype('int')\n",
    "total_players = total_players[total_players['TO_YEAR'] > from_year]\n",
    "\n",
    "#Ho controllato che in total_players, il PERSON_ID sia univoco\n",
    "total_players"
   ]
  },
  {
   "cell_type": "code",
   "execution_count": 40,
   "metadata": {
    "collapsed": false,
    "jupyter": {
     "outputs_hidden": false
    },
    "pycharm": {
     "is_executing": true,
     "name": "#%%\n"
    }
   },
   "outputs": [],
   "source": [
    "# total_names = total_players[[\"PERSON_ID\", \"DISPLAY_FIRST_LAST\"]]\n",
    "# total_stats = pd.DataFrame()"
   ]
  },
  {
   "cell_type": "code",
   "execution_count": 41,
   "metadata": {},
   "outputs": [],
   "source": [
    "# stats = playercareerstats.PlayerCareerStats(player_id=2544).get_data_frames()[0]\n",
    "# stats = stats.drop(stats.columns[[2, 4, 7]], axis=1)\n",
    "# awards = playerawards.PlayerAwards(player_id=2544).get_data_frames()[0]\n",
    "# awards = awards.drop(awards.columns[[1, 2, 3, 5, 7, 8, 9, 10, 11, 12, 13]], axis=1)\n",
    "# awards = awards.rename(columns={\"SEASON\": \"SEASON_ID\"})\n",
    "# awards = awards.rename(columns={\"PERSON_ID\": \"PLAYER_ID\"})\n",
    "# awards = awards.loc[awards[\"DESCRIPTION\"]==\"NBA Most Valuable Player\"]"
   ]
  },
  {
   "cell_type": "code",
   "execution_count": 31,
   "metadata": {},
   "outputs": [
    {
     "ename": "KeyboardInterrupt",
     "evalue": "",
     "output_type": "error",
     "traceback": [
      "\u001B[0;31m---------------------------------------------------------------------------\u001B[0m",
      "\u001B[0;31mKeyboardInterrupt\u001B[0m                         Traceback (most recent call last)",
      "\u001B[0;32m/tmp/ipykernel_313/1381120951.py\u001B[0m in \u001B[0;36m<module>\u001B[0;34m\u001B[0m\n\u001B[1;32m      3\u001B[0m \u001B[0;34m\u001B[0m\u001B[0m\n\u001B[1;32m      4\u001B[0m \u001B[0;32mfor\u001B[0m \u001B[0mteam\u001B[0m \u001B[0;32min\u001B[0m \u001B[0mall_teams_history\u001B[0m\u001B[0;34m:\u001B[0m\u001B[0;34m\u001B[0m\u001B[0;34m\u001B[0m\u001B[0m\n\u001B[0;32m----> 5\u001B[0;31m     \u001B[0mt\u001B[0m \u001B[0;34m=\u001B[0m \u001B[0mteamyearbyyearstats\u001B[0m\u001B[0;34m.\u001B[0m\u001B[0mTeamYearByYearStats\u001B[0m\u001B[0;34m(\u001B[0m\u001B[0mteam_id\u001B[0m\u001B[0;34m=\u001B[0m\u001B[0mteam\u001B[0m\u001B[0;34m)\u001B[0m\u001B[0;34m.\u001B[0m\u001B[0mget_data_frames\u001B[0m\u001B[0;34m(\u001B[0m\u001B[0;34m)\u001B[0m\u001B[0;34m[\u001B[0m\u001B[0;36m0\u001B[0m\u001B[0;34m]\u001B[0m\u001B[0;34m\u001B[0m\u001B[0;34m\u001B[0m\u001B[0m\n\u001B[0m\u001B[1;32m      6\u001B[0m     \u001B[0mdata_all_team_stats\u001B[0m \u001B[0;34m=\u001B[0m \u001B[0mpd\u001B[0m\u001B[0;34m.\u001B[0m\u001B[0mconcat\u001B[0m\u001B[0;34m(\u001B[0m\u001B[0;34m[\u001B[0m\u001B[0mdata_all_team_stats\u001B[0m\u001B[0;34m,\u001B[0m \u001B[0mt\u001B[0m\u001B[0;34m]\u001B[0m\u001B[0;34m,\u001B[0m \u001B[0maxis\u001B[0m\u001B[0;34m=\u001B[0m\u001B[0;36m0\u001B[0m\u001B[0;34m,\u001B[0m \u001B[0mignore_index\u001B[0m\u001B[0;34m=\u001B[0m\u001B[0;32mTrue\u001B[0m\u001B[0;34m)\u001B[0m\u001B[0;34m\u001B[0m\u001B[0;34m\u001B[0m\u001B[0m\n\u001B[1;32m      7\u001B[0m \u001B[0;34m\u001B[0m\u001B[0m\n",
      "\u001B[0;32m~/anaconda3/envs/ml/lib/python3.10/site-packages/nba_api/stats/endpoints/teamyearbyyearstats.py\u001B[0m in \u001B[0;36m__init__\u001B[0;34m(self, team_id, league_id, per_mode_simple, season_type_all_star, proxy, headers, timeout, get_request)\u001B[0m\n\u001B[1;32m     34\u001B[0m         }\n\u001B[1;32m     35\u001B[0m         \u001B[0;32mif\u001B[0m \u001B[0mget_request\u001B[0m\u001B[0;34m:\u001B[0m\u001B[0;34m\u001B[0m\u001B[0;34m\u001B[0m\u001B[0m\n\u001B[0;32m---> 36\u001B[0;31m             \u001B[0mself\u001B[0m\u001B[0;34m.\u001B[0m\u001B[0mget_request\u001B[0m\u001B[0;34m(\u001B[0m\u001B[0;34m)\u001B[0m\u001B[0;34m\u001B[0m\u001B[0;34m\u001B[0m\u001B[0m\n\u001B[0m\u001B[1;32m     37\u001B[0m \u001B[0;34m\u001B[0m\u001B[0m\n\u001B[1;32m     38\u001B[0m     \u001B[0;32mdef\u001B[0m \u001B[0mget_request\u001B[0m\u001B[0;34m(\u001B[0m\u001B[0mself\u001B[0m\u001B[0;34m)\u001B[0m\u001B[0;34m:\u001B[0m\u001B[0;34m\u001B[0m\u001B[0;34m\u001B[0m\u001B[0m\n",
      "\u001B[0;32m~/anaconda3/envs/ml/lib/python3.10/site-packages/nba_api/stats/endpoints/teamyearbyyearstats.py\u001B[0m in \u001B[0;36mget_request\u001B[0;34m(self)\u001B[0m\n\u001B[1;32m     37\u001B[0m \u001B[0;34m\u001B[0m\u001B[0m\n\u001B[1;32m     38\u001B[0m     \u001B[0;32mdef\u001B[0m \u001B[0mget_request\u001B[0m\u001B[0;34m(\u001B[0m\u001B[0mself\u001B[0m\u001B[0;34m)\u001B[0m\u001B[0;34m:\u001B[0m\u001B[0;34m\u001B[0m\u001B[0;34m\u001B[0m\u001B[0m\n\u001B[0;32m---> 39\u001B[0;31m         self.nba_response = NBAStatsHTTP().send_api_request(\n\u001B[0m\u001B[1;32m     40\u001B[0m             \u001B[0mendpoint\u001B[0m\u001B[0;34m=\u001B[0m\u001B[0mself\u001B[0m\u001B[0;34m.\u001B[0m\u001B[0mendpoint\u001B[0m\u001B[0;34m,\u001B[0m\u001B[0;34m\u001B[0m\u001B[0;34m\u001B[0m\u001B[0m\n\u001B[1;32m     41\u001B[0m             \u001B[0mparameters\u001B[0m\u001B[0;34m=\u001B[0m\u001B[0mself\u001B[0m\u001B[0;34m.\u001B[0m\u001B[0mparameters\u001B[0m\u001B[0;34m,\u001B[0m\u001B[0;34m\u001B[0m\u001B[0;34m\u001B[0m\u001B[0m\n",
      "\u001B[0;32m~/anaconda3/envs/ml/lib/python3.10/site-packages/nba_api/library/http.py\u001B[0m in \u001B[0;36msend_api_request\u001B[0;34m(self, endpoint, parameters, referer, proxy, headers, timeout, raise_exception_on_error)\u001B[0m\n\u001B[1;32m    128\u001B[0m \u001B[0;34m\u001B[0m\u001B[0m\n\u001B[1;32m    129\u001B[0m         \u001B[0;32mif\u001B[0m \u001B[0;32mnot\u001B[0m \u001B[0mcontents\u001B[0m\u001B[0;34m:\u001B[0m\u001B[0;34m\u001B[0m\u001B[0;34m\u001B[0m\u001B[0m\n\u001B[0;32m--> 130\u001B[0;31m             \u001B[0mresponse\u001B[0m \u001B[0;34m=\u001B[0m \u001B[0mrequests\u001B[0m\u001B[0;34m.\u001B[0m\u001B[0mget\u001B[0m\u001B[0;34m(\u001B[0m\u001B[0murl\u001B[0m\u001B[0;34m=\u001B[0m\u001B[0mbase_url\u001B[0m\u001B[0;34m,\u001B[0m \u001B[0mparams\u001B[0m\u001B[0;34m=\u001B[0m\u001B[0mparameters\u001B[0m\u001B[0;34m,\u001B[0m \u001B[0mheaders\u001B[0m\u001B[0;34m=\u001B[0m\u001B[0mrequest_headers\u001B[0m\u001B[0;34m,\u001B[0m \u001B[0mproxies\u001B[0m\u001B[0;34m=\u001B[0m\u001B[0mproxies\u001B[0m\u001B[0;34m,\u001B[0m \u001B[0mtimeout\u001B[0m\u001B[0;34m=\u001B[0m\u001B[0mtimeout\u001B[0m\u001B[0;34m)\u001B[0m\u001B[0;34m\u001B[0m\u001B[0;34m\u001B[0m\u001B[0m\n\u001B[0m\u001B[1;32m    131\u001B[0m             \u001B[0murl\u001B[0m \u001B[0;34m=\u001B[0m \u001B[0mresponse\u001B[0m\u001B[0;34m.\u001B[0m\u001B[0murl\u001B[0m\u001B[0;34m\u001B[0m\u001B[0;34m\u001B[0m\u001B[0m\n\u001B[1;32m    132\u001B[0m             \u001B[0mstatus_code\u001B[0m \u001B[0;34m=\u001B[0m \u001B[0mresponse\u001B[0m\u001B[0;34m.\u001B[0m\u001B[0mstatus_code\u001B[0m\u001B[0;34m\u001B[0m\u001B[0;34m\u001B[0m\u001B[0m\n",
      "\u001B[0;32m~/anaconda3/envs/ml/lib/python3.10/site-packages/requests/api.py\u001B[0m in \u001B[0;36mget\u001B[0;34m(url, params, **kwargs)\u001B[0m\n\u001B[1;32m     73\u001B[0m     \"\"\"\n\u001B[1;32m     74\u001B[0m \u001B[0;34m\u001B[0m\u001B[0m\n\u001B[0;32m---> 75\u001B[0;31m     \u001B[0;32mreturn\u001B[0m \u001B[0mrequest\u001B[0m\u001B[0;34m(\u001B[0m\u001B[0;34m'get'\u001B[0m\u001B[0;34m,\u001B[0m \u001B[0murl\u001B[0m\u001B[0;34m,\u001B[0m \u001B[0mparams\u001B[0m\u001B[0;34m=\u001B[0m\u001B[0mparams\u001B[0m\u001B[0;34m,\u001B[0m \u001B[0;34m**\u001B[0m\u001B[0mkwargs\u001B[0m\u001B[0;34m)\u001B[0m\u001B[0;34m\u001B[0m\u001B[0;34m\u001B[0m\u001B[0m\n\u001B[0m\u001B[1;32m     76\u001B[0m \u001B[0;34m\u001B[0m\u001B[0m\n\u001B[1;32m     77\u001B[0m \u001B[0;34m\u001B[0m\u001B[0m\n",
      "\u001B[0;32m~/anaconda3/envs/ml/lib/python3.10/site-packages/requests/api.py\u001B[0m in \u001B[0;36mrequest\u001B[0;34m(method, url, **kwargs)\u001B[0m\n\u001B[1;32m     59\u001B[0m     \u001B[0;31m# cases, and look like a memory leak in others.\u001B[0m\u001B[0;34m\u001B[0m\u001B[0;34m\u001B[0m\u001B[0m\n\u001B[1;32m     60\u001B[0m     \u001B[0;32mwith\u001B[0m \u001B[0msessions\u001B[0m\u001B[0;34m.\u001B[0m\u001B[0mSession\u001B[0m\u001B[0;34m(\u001B[0m\u001B[0;34m)\u001B[0m \u001B[0;32mas\u001B[0m \u001B[0msession\u001B[0m\u001B[0;34m:\u001B[0m\u001B[0;34m\u001B[0m\u001B[0;34m\u001B[0m\u001B[0m\n\u001B[0;32m---> 61\u001B[0;31m         \u001B[0;32mreturn\u001B[0m \u001B[0msession\u001B[0m\u001B[0;34m.\u001B[0m\u001B[0mrequest\u001B[0m\u001B[0;34m(\u001B[0m\u001B[0mmethod\u001B[0m\u001B[0;34m=\u001B[0m\u001B[0mmethod\u001B[0m\u001B[0;34m,\u001B[0m \u001B[0murl\u001B[0m\u001B[0;34m=\u001B[0m\u001B[0murl\u001B[0m\u001B[0;34m,\u001B[0m \u001B[0;34m**\u001B[0m\u001B[0mkwargs\u001B[0m\u001B[0;34m)\u001B[0m\u001B[0;34m\u001B[0m\u001B[0;34m\u001B[0m\u001B[0m\n\u001B[0m\u001B[1;32m     62\u001B[0m \u001B[0;34m\u001B[0m\u001B[0m\n\u001B[1;32m     63\u001B[0m \u001B[0;34m\u001B[0m\u001B[0m\n",
      "\u001B[0;32m~/anaconda3/envs/ml/lib/python3.10/site-packages/requests/sessions.py\u001B[0m in \u001B[0;36mrequest\u001B[0;34m(self, method, url, params, data, headers, cookies, files, auth, timeout, allow_redirects, proxies, hooks, stream, verify, cert, json)\u001B[0m\n\u001B[1;32m    540\u001B[0m         }\n\u001B[1;32m    541\u001B[0m         \u001B[0msend_kwargs\u001B[0m\u001B[0;34m.\u001B[0m\u001B[0mupdate\u001B[0m\u001B[0;34m(\u001B[0m\u001B[0msettings\u001B[0m\u001B[0;34m)\u001B[0m\u001B[0;34m\u001B[0m\u001B[0;34m\u001B[0m\u001B[0m\n\u001B[0;32m--> 542\u001B[0;31m         \u001B[0mresp\u001B[0m \u001B[0;34m=\u001B[0m \u001B[0mself\u001B[0m\u001B[0;34m.\u001B[0m\u001B[0msend\u001B[0m\u001B[0;34m(\u001B[0m\u001B[0mprep\u001B[0m\u001B[0;34m,\u001B[0m \u001B[0;34m**\u001B[0m\u001B[0msend_kwargs\u001B[0m\u001B[0;34m)\u001B[0m\u001B[0;34m\u001B[0m\u001B[0;34m\u001B[0m\u001B[0m\n\u001B[0m\u001B[1;32m    543\u001B[0m \u001B[0;34m\u001B[0m\u001B[0m\n\u001B[1;32m    544\u001B[0m         \u001B[0;32mreturn\u001B[0m \u001B[0mresp\u001B[0m\u001B[0;34m\u001B[0m\u001B[0;34m\u001B[0m\u001B[0m\n",
      "\u001B[0;32m~/anaconda3/envs/ml/lib/python3.10/site-packages/requests/sessions.py\u001B[0m in \u001B[0;36msend\u001B[0;34m(self, request, **kwargs)\u001B[0m\n\u001B[1;32m    653\u001B[0m \u001B[0;34m\u001B[0m\u001B[0m\n\u001B[1;32m    654\u001B[0m         \u001B[0;31m# Send the request\u001B[0m\u001B[0;34m\u001B[0m\u001B[0;34m\u001B[0m\u001B[0m\n\u001B[0;32m--> 655\u001B[0;31m         \u001B[0mr\u001B[0m \u001B[0;34m=\u001B[0m \u001B[0madapter\u001B[0m\u001B[0;34m.\u001B[0m\u001B[0msend\u001B[0m\u001B[0;34m(\u001B[0m\u001B[0mrequest\u001B[0m\u001B[0;34m,\u001B[0m \u001B[0;34m**\u001B[0m\u001B[0mkwargs\u001B[0m\u001B[0;34m)\u001B[0m\u001B[0;34m\u001B[0m\u001B[0;34m\u001B[0m\u001B[0m\n\u001B[0m\u001B[1;32m    656\u001B[0m \u001B[0;34m\u001B[0m\u001B[0m\n\u001B[1;32m    657\u001B[0m         \u001B[0;31m# Total elapsed time of the request (approximately)\u001B[0m\u001B[0;34m\u001B[0m\u001B[0;34m\u001B[0m\u001B[0m\n",
      "\u001B[0;32m~/anaconda3/envs/ml/lib/python3.10/site-packages/requests/adapters.py\u001B[0m in \u001B[0;36msend\u001B[0;34m(self, request, stream, timeout, verify, cert, proxies)\u001B[0m\n\u001B[1;32m    437\u001B[0m         \u001B[0;32mtry\u001B[0m\u001B[0;34m:\u001B[0m\u001B[0;34m\u001B[0m\u001B[0;34m\u001B[0m\u001B[0m\n\u001B[1;32m    438\u001B[0m             \u001B[0;32mif\u001B[0m \u001B[0;32mnot\u001B[0m \u001B[0mchunked\u001B[0m\u001B[0;34m:\u001B[0m\u001B[0;34m\u001B[0m\u001B[0;34m\u001B[0m\u001B[0m\n\u001B[0;32m--> 439\u001B[0;31m                 resp = conn.urlopen(\n\u001B[0m\u001B[1;32m    440\u001B[0m                     \u001B[0mmethod\u001B[0m\u001B[0;34m=\u001B[0m\u001B[0mrequest\u001B[0m\u001B[0;34m.\u001B[0m\u001B[0mmethod\u001B[0m\u001B[0;34m,\u001B[0m\u001B[0;34m\u001B[0m\u001B[0;34m\u001B[0m\u001B[0m\n\u001B[1;32m    441\u001B[0m                     \u001B[0murl\u001B[0m\u001B[0;34m=\u001B[0m\u001B[0murl\u001B[0m\u001B[0;34m,\u001B[0m\u001B[0;34m\u001B[0m\u001B[0;34m\u001B[0m\u001B[0m\n",
      "\u001B[0;32m~/anaconda3/envs/ml/lib/python3.10/site-packages/urllib3/connectionpool.py\u001B[0m in \u001B[0;36murlopen\u001B[0;34m(self, method, url, body, headers, retries, redirect, assert_same_host, timeout, pool_timeout, release_conn, chunked, body_pos, **response_kw)\u001B[0m\n\u001B[1;32m    697\u001B[0m \u001B[0;34m\u001B[0m\u001B[0m\n\u001B[1;32m    698\u001B[0m             \u001B[0;31m# Make the request on the httplib connection object.\u001B[0m\u001B[0;34m\u001B[0m\u001B[0;34m\u001B[0m\u001B[0m\n\u001B[0;32m--> 699\u001B[0;31m             httplib_response = self._make_request(\n\u001B[0m\u001B[1;32m    700\u001B[0m                 \u001B[0mconn\u001B[0m\u001B[0;34m,\u001B[0m\u001B[0;34m\u001B[0m\u001B[0;34m\u001B[0m\u001B[0m\n\u001B[1;32m    701\u001B[0m                 \u001B[0mmethod\u001B[0m\u001B[0;34m,\u001B[0m\u001B[0;34m\u001B[0m\u001B[0;34m\u001B[0m\u001B[0m\n",
      "\u001B[0;32m~/anaconda3/envs/ml/lib/python3.10/site-packages/urllib3/connectionpool.py\u001B[0m in \u001B[0;36m_make_request\u001B[0;34m(self, conn, method, url, timeout, chunked, **httplib_request_kw)\u001B[0m\n\u001B[1;32m    380\u001B[0m         \u001B[0;31m# Trigger any extra validation we need to do.\u001B[0m\u001B[0;34m\u001B[0m\u001B[0;34m\u001B[0m\u001B[0m\n\u001B[1;32m    381\u001B[0m         \u001B[0;32mtry\u001B[0m\u001B[0;34m:\u001B[0m\u001B[0;34m\u001B[0m\u001B[0;34m\u001B[0m\u001B[0m\n\u001B[0;32m--> 382\u001B[0;31m             \u001B[0mself\u001B[0m\u001B[0;34m.\u001B[0m\u001B[0m_validate_conn\u001B[0m\u001B[0;34m(\u001B[0m\u001B[0mconn\u001B[0m\u001B[0;34m)\u001B[0m\u001B[0;34m\u001B[0m\u001B[0;34m\u001B[0m\u001B[0m\n\u001B[0m\u001B[1;32m    383\u001B[0m         \u001B[0;32mexcept\u001B[0m \u001B[0;34m(\u001B[0m\u001B[0mSocketTimeout\u001B[0m\u001B[0;34m,\u001B[0m \u001B[0mBaseSSLError\u001B[0m\u001B[0;34m)\u001B[0m \u001B[0;32mas\u001B[0m \u001B[0me\u001B[0m\u001B[0;34m:\u001B[0m\u001B[0;34m\u001B[0m\u001B[0;34m\u001B[0m\u001B[0m\n\u001B[1;32m    384\u001B[0m             \u001B[0;31m# Py2 raises this as a BaseSSLError, Py3 raises it as socket timeout.\u001B[0m\u001B[0;34m\u001B[0m\u001B[0;34m\u001B[0m\u001B[0m\n",
      "\u001B[0;32m~/anaconda3/envs/ml/lib/python3.10/site-packages/urllib3/connectionpool.py\u001B[0m in \u001B[0;36m_validate_conn\u001B[0;34m(self, conn)\u001B[0m\n\u001B[1;32m   1008\u001B[0m         \u001B[0;31m# Force connect early to allow us to validate the connection.\u001B[0m\u001B[0;34m\u001B[0m\u001B[0;34m\u001B[0m\u001B[0m\n\u001B[1;32m   1009\u001B[0m         \u001B[0;32mif\u001B[0m \u001B[0;32mnot\u001B[0m \u001B[0mgetattr\u001B[0m\u001B[0;34m(\u001B[0m\u001B[0mconn\u001B[0m\u001B[0;34m,\u001B[0m \u001B[0;34m\"sock\"\u001B[0m\u001B[0;34m,\u001B[0m \u001B[0;32mNone\u001B[0m\u001B[0;34m)\u001B[0m\u001B[0;34m:\u001B[0m  \u001B[0;31m# AppEngine might not have  `.sock`\u001B[0m\u001B[0;34m\u001B[0m\u001B[0;34m\u001B[0m\u001B[0m\n\u001B[0;32m-> 1010\u001B[0;31m             \u001B[0mconn\u001B[0m\u001B[0;34m.\u001B[0m\u001B[0mconnect\u001B[0m\u001B[0;34m(\u001B[0m\u001B[0;34m)\u001B[0m\u001B[0;34m\u001B[0m\u001B[0;34m\u001B[0m\u001B[0m\n\u001B[0m\u001B[1;32m   1011\u001B[0m \u001B[0;34m\u001B[0m\u001B[0m\n\u001B[1;32m   1012\u001B[0m         \u001B[0;32mif\u001B[0m \u001B[0;32mnot\u001B[0m \u001B[0mconn\u001B[0m\u001B[0;34m.\u001B[0m\u001B[0mis_verified\u001B[0m\u001B[0;34m:\u001B[0m\u001B[0;34m\u001B[0m\u001B[0;34m\u001B[0m\u001B[0m\n",
      "\u001B[0;32m~/anaconda3/envs/ml/lib/python3.10/site-packages/urllib3/connection.py\u001B[0m in \u001B[0;36mconnect\u001B[0;34m(self)\u001B[0m\n\u001B[1;32m    414\u001B[0m             \u001B[0mcontext\u001B[0m\u001B[0;34m.\u001B[0m\u001B[0mload_default_certs\u001B[0m\u001B[0;34m(\u001B[0m\u001B[0;34m)\u001B[0m\u001B[0;34m\u001B[0m\u001B[0;34m\u001B[0m\u001B[0m\n\u001B[1;32m    415\u001B[0m \u001B[0;34m\u001B[0m\u001B[0m\n\u001B[0;32m--> 416\u001B[0;31m         self.sock = ssl_wrap_socket(\n\u001B[0m\u001B[1;32m    417\u001B[0m             \u001B[0msock\u001B[0m\u001B[0;34m=\u001B[0m\u001B[0mconn\u001B[0m\u001B[0;34m,\u001B[0m\u001B[0;34m\u001B[0m\u001B[0;34m\u001B[0m\u001B[0m\n\u001B[1;32m    418\u001B[0m             \u001B[0mkeyfile\u001B[0m\u001B[0;34m=\u001B[0m\u001B[0mself\u001B[0m\u001B[0;34m.\u001B[0m\u001B[0mkey_file\u001B[0m\u001B[0;34m,\u001B[0m\u001B[0;34m\u001B[0m\u001B[0;34m\u001B[0m\u001B[0m\n",
      "\u001B[0;32m~/anaconda3/envs/ml/lib/python3.10/site-packages/urllib3/util/ssl_.py\u001B[0m in \u001B[0;36mssl_wrap_socket\u001B[0;34m(sock, keyfile, certfile, cert_reqs, ca_certs, server_hostname, ssl_version, ciphers, ssl_context, ca_cert_dir, key_password, ca_cert_data, tls_in_tls)\u001B[0m\n\u001B[1;32m    447\u001B[0m \u001B[0;34m\u001B[0m\u001B[0m\n\u001B[1;32m    448\u001B[0m     \u001B[0;32mif\u001B[0m \u001B[0msend_sni\u001B[0m\u001B[0;34m:\u001B[0m\u001B[0;34m\u001B[0m\u001B[0;34m\u001B[0m\u001B[0m\n\u001B[0;32m--> 449\u001B[0;31m         ssl_sock = _ssl_wrap_socket_impl(\n\u001B[0m\u001B[1;32m    450\u001B[0m             \u001B[0msock\u001B[0m\u001B[0;34m,\u001B[0m \u001B[0mcontext\u001B[0m\u001B[0;34m,\u001B[0m \u001B[0mtls_in_tls\u001B[0m\u001B[0;34m,\u001B[0m \u001B[0mserver_hostname\u001B[0m\u001B[0;34m=\u001B[0m\u001B[0mserver_hostname\u001B[0m\u001B[0;34m\u001B[0m\u001B[0;34m\u001B[0m\u001B[0m\n\u001B[1;32m    451\u001B[0m         )\n",
      "\u001B[0;32m~/anaconda3/envs/ml/lib/python3.10/site-packages/urllib3/util/ssl_.py\u001B[0m in \u001B[0;36m_ssl_wrap_socket_impl\u001B[0;34m(sock, ssl_context, tls_in_tls, server_hostname)\u001B[0m\n\u001B[1;32m    491\u001B[0m \u001B[0;34m\u001B[0m\u001B[0m\n\u001B[1;32m    492\u001B[0m     \u001B[0;32mif\u001B[0m \u001B[0mserver_hostname\u001B[0m\u001B[0;34m:\u001B[0m\u001B[0;34m\u001B[0m\u001B[0;34m\u001B[0m\u001B[0m\n\u001B[0;32m--> 493\u001B[0;31m         \u001B[0;32mreturn\u001B[0m \u001B[0mssl_context\u001B[0m\u001B[0;34m.\u001B[0m\u001B[0mwrap_socket\u001B[0m\u001B[0;34m(\u001B[0m\u001B[0msock\u001B[0m\u001B[0;34m,\u001B[0m \u001B[0mserver_hostname\u001B[0m\u001B[0;34m=\u001B[0m\u001B[0mserver_hostname\u001B[0m\u001B[0;34m)\u001B[0m\u001B[0;34m\u001B[0m\u001B[0;34m\u001B[0m\u001B[0m\n\u001B[0m\u001B[1;32m    494\u001B[0m     \u001B[0;32melse\u001B[0m\u001B[0;34m:\u001B[0m\u001B[0;34m\u001B[0m\u001B[0;34m\u001B[0m\u001B[0m\n\u001B[1;32m    495\u001B[0m         \u001B[0;32mreturn\u001B[0m \u001B[0mssl_context\u001B[0m\u001B[0;34m.\u001B[0m\u001B[0mwrap_socket\u001B[0m\u001B[0;34m(\u001B[0m\u001B[0msock\u001B[0m\u001B[0;34m)\u001B[0m\u001B[0;34m\u001B[0m\u001B[0;34m\u001B[0m\u001B[0m\n",
      "\u001B[0;32m~/anaconda3/envs/ml/lib/python3.10/ssl.py\u001B[0m in \u001B[0;36mwrap_socket\u001B[0;34m(self, sock, server_side, do_handshake_on_connect, suppress_ragged_eofs, server_hostname, session)\u001B[0m\n\u001B[1;32m    510\u001B[0m         \u001B[0;31m# SSLSocket class handles server_hostname encoding before it calls\u001B[0m\u001B[0;34m\u001B[0m\u001B[0;34m\u001B[0m\u001B[0m\n\u001B[1;32m    511\u001B[0m         \u001B[0;31m# ctx._wrap_socket()\u001B[0m\u001B[0;34m\u001B[0m\u001B[0;34m\u001B[0m\u001B[0m\n\u001B[0;32m--> 512\u001B[0;31m         return self.sslsocket_class._create(\n\u001B[0m\u001B[1;32m    513\u001B[0m             \u001B[0msock\u001B[0m\u001B[0;34m=\u001B[0m\u001B[0msock\u001B[0m\u001B[0;34m,\u001B[0m\u001B[0;34m\u001B[0m\u001B[0;34m\u001B[0m\u001B[0m\n\u001B[1;32m    514\u001B[0m             \u001B[0mserver_side\u001B[0m\u001B[0;34m=\u001B[0m\u001B[0mserver_side\u001B[0m\u001B[0;34m,\u001B[0m\u001B[0;34m\u001B[0m\u001B[0;34m\u001B[0m\u001B[0m\n",
      "\u001B[0;32m~/anaconda3/envs/ml/lib/python3.10/ssl.py\u001B[0m in \u001B[0;36m_create\u001B[0;34m(cls, sock, server_side, do_handshake_on_connect, suppress_ragged_eofs, server_hostname, context, session)\u001B[0m\n\u001B[1;32m   1068\u001B[0m                         \u001B[0;31m# non-blocking\u001B[0m\u001B[0;34m\u001B[0m\u001B[0;34m\u001B[0m\u001B[0m\n\u001B[1;32m   1069\u001B[0m                         \u001B[0;32mraise\u001B[0m \u001B[0mValueError\u001B[0m\u001B[0;34m(\u001B[0m\u001B[0;34m\"do_handshake_on_connect should not be specified for non-blocking sockets\"\u001B[0m\u001B[0;34m)\u001B[0m\u001B[0;34m\u001B[0m\u001B[0;34m\u001B[0m\u001B[0m\n\u001B[0;32m-> 1070\u001B[0;31m                     \u001B[0mself\u001B[0m\u001B[0;34m.\u001B[0m\u001B[0mdo_handshake\u001B[0m\u001B[0;34m(\u001B[0m\u001B[0;34m)\u001B[0m\u001B[0;34m\u001B[0m\u001B[0;34m\u001B[0m\u001B[0m\n\u001B[0m\u001B[1;32m   1071\u001B[0m             \u001B[0;32mexcept\u001B[0m \u001B[0;34m(\u001B[0m\u001B[0mOSError\u001B[0m\u001B[0;34m,\u001B[0m \u001B[0mValueError\u001B[0m\u001B[0;34m)\u001B[0m\u001B[0;34m:\u001B[0m\u001B[0;34m\u001B[0m\u001B[0;34m\u001B[0m\u001B[0m\n\u001B[1;32m   1072\u001B[0m                 \u001B[0mself\u001B[0m\u001B[0;34m.\u001B[0m\u001B[0mclose\u001B[0m\u001B[0;34m(\u001B[0m\u001B[0;34m)\u001B[0m\u001B[0;34m\u001B[0m\u001B[0;34m\u001B[0m\u001B[0m\n",
      "\u001B[0;32m~/anaconda3/envs/ml/lib/python3.10/ssl.py\u001B[0m in \u001B[0;36mdo_handshake\u001B[0;34m(self, block)\u001B[0m\n\u001B[1;32m   1339\u001B[0m             \u001B[0;32mif\u001B[0m \u001B[0mtimeout\u001B[0m \u001B[0;34m==\u001B[0m \u001B[0;36m0.0\u001B[0m \u001B[0;32mand\u001B[0m \u001B[0mblock\u001B[0m\u001B[0;34m:\u001B[0m\u001B[0;34m\u001B[0m\u001B[0;34m\u001B[0m\u001B[0m\n\u001B[1;32m   1340\u001B[0m                 \u001B[0mself\u001B[0m\u001B[0;34m.\u001B[0m\u001B[0msettimeout\u001B[0m\u001B[0;34m(\u001B[0m\u001B[0;32mNone\u001B[0m\u001B[0;34m)\u001B[0m\u001B[0;34m\u001B[0m\u001B[0;34m\u001B[0m\u001B[0m\n\u001B[0;32m-> 1341\u001B[0;31m             \u001B[0mself\u001B[0m\u001B[0;34m.\u001B[0m\u001B[0m_sslobj\u001B[0m\u001B[0;34m.\u001B[0m\u001B[0mdo_handshake\u001B[0m\u001B[0;34m(\u001B[0m\u001B[0;34m)\u001B[0m\u001B[0;34m\u001B[0m\u001B[0;34m\u001B[0m\u001B[0m\n\u001B[0m\u001B[1;32m   1342\u001B[0m         \u001B[0;32mfinally\u001B[0m\u001B[0;34m:\u001B[0m\u001B[0;34m\u001B[0m\u001B[0;34m\u001B[0m\u001B[0m\n\u001B[1;32m   1343\u001B[0m             \u001B[0mself\u001B[0m\u001B[0;34m.\u001B[0m\u001B[0msettimeout\u001B[0m\u001B[0;34m(\u001B[0m\u001B[0mtimeout\u001B[0m\u001B[0;34m)\u001B[0m\u001B[0;34m\u001B[0m\u001B[0;34m\u001B[0m\u001B[0m\n",
      "\u001B[0;31mKeyboardInterrupt\u001B[0m: "
     ]
    }
   ],
   "source": [
    "all_teams_history = list(total_players[\"TEAM_ID\"].drop_duplicates())\n",
    "data_all_team_stats = pd.DataFrame()\n",
    "\n",
    "for team in all_teams_history:\n",
    "    t = teamyearbyyearstats.TeamYearByYearStats(team_id=team).get_data_frames()[0]\n",
    "    data_all_team_stats = pd.concat([data_all_team_stats, t], axis=0, ignore_index=True)\n",
    "\n",
    "#data_all_team_stats = [int(\"20\" + x.split(\"-\")[1]) for x in all_teams_history] NON SERVE, FACCIO DOPO -- ELIMINARE\n",
    "\n",
    "data_all_team_stats = data_all_team_stats.rename(columns={\"YEAR\": \"SEASON_ID\"})\n",
    "data_all_team_stats = data_all_team_stats[[\"TEAM_ID\", \"SEASON_ID\", \"CONF_RANK\"]]\n",
    "\n",
    "with open(\"data_all_team_stats.pkl\",'wb') as f:\n",
    "    pickle.dump(data_all_team_stats,f)\n",
    "\n",
    "data_all_team_stats\n"
   ]
  },
  {
   "cell_type": "code",
   "execution_count": 18,
   "outputs": [
    {
     "data": {
      "text/plain": "      PERSON_ID DISPLAY_FIRST_LAST\n2297    1628994        George King\n2301    1629663         Louis King\n2308     200814     Tarence Kinsey\n2309       1905   Andrei Kirilenko\n2310     203945          Alex Kirk\n...         ...                ...\n4717       2583  Derrick Zimmerman\n4718    1627757  Stephen Zimmerman\n4719    1627835        Paul Zipser\n4720    1627790         Ante Zizic\n4723    1627826        Ivica Zubac\n\n[973 rows x 2 columns]",
      "text/html": "<div>\n<style scoped>\n    .dataframe tbody tr th:only-of-type {\n        vertical-align: middle;\n    }\n\n    .dataframe tbody tr th {\n        vertical-align: top;\n    }\n\n    .dataframe thead th {\n        text-align: right;\n    }\n</style>\n<table border=\"1\" class=\"dataframe\">\n  <thead>\n    <tr style=\"text-align: right;\">\n      <th></th>\n      <th>PERSON_ID</th>\n      <th>DISPLAY_FIRST_LAST</th>\n    </tr>\n  </thead>\n  <tbody>\n    <tr>\n      <th>2297</th>\n      <td>1628994</td>\n      <td>George King</td>\n    </tr>\n    <tr>\n      <th>2301</th>\n      <td>1629663</td>\n      <td>Louis King</td>\n    </tr>\n    <tr>\n      <th>2308</th>\n      <td>200814</td>\n      <td>Tarence Kinsey</td>\n    </tr>\n    <tr>\n      <th>2309</th>\n      <td>1905</td>\n      <td>Andrei Kirilenko</td>\n    </tr>\n    <tr>\n      <th>2310</th>\n      <td>203945</td>\n      <td>Alex Kirk</td>\n    </tr>\n    <tr>\n      <th>...</th>\n      <td>...</td>\n      <td>...</td>\n    </tr>\n    <tr>\n      <th>4717</th>\n      <td>2583</td>\n      <td>Derrick Zimmerman</td>\n    </tr>\n    <tr>\n      <th>4718</th>\n      <td>1627757</td>\n      <td>Stephen Zimmerman</td>\n    </tr>\n    <tr>\n      <th>4719</th>\n      <td>1627835</td>\n      <td>Paul Zipser</td>\n    </tr>\n    <tr>\n      <th>4720</th>\n      <td>1627790</td>\n      <td>Ante Zizic</td>\n    </tr>\n    <tr>\n      <th>4723</th>\n      <td>1627826</td>\n      <td>Ivica Zubac</td>\n    </tr>\n  </tbody>\n</table>\n<p>973 rows × 2 columns</p>\n</div>"
     },
     "execution_count": 18,
     "metadata": {},
     "output_type": "execute_result"
    }
   ],
   "source": [
    "\n"
   ],
   "metadata": {
    "collapsed": false,
    "pycharm": {
     "name": "#%%\n"
    }
   }
  },
  {
   "cell_type": "code",
   "execution_count": 9,
   "metadata": {},
   "outputs": [
    {
     "name": "stderr",
     "output_type": "stream",
     "text": [
      "25it [01:15,  3.00s/it]\n"
     ]
    },
    {
     "ename": "ReadTimeout",
     "evalue": "HTTPSConnectionPool(host='stats.nba.com', port=443): Read timed out. (read timeout=30)",
     "output_type": "error",
     "traceback": [
      "\u001B[0;31m---------------------------------------------------------------------------\u001B[0m",
      "\u001B[0;31mTimeoutError\u001B[0m                              Traceback (most recent call last)",
      "\u001B[0;32m~/anaconda3/envs/ml/lib/python3.10/site-packages/urllib3/connectionpool.py\u001B[0m in \u001B[0;36m_make_request\u001B[0;34m(self, conn, method, url, timeout, chunked, **httplib_request_kw)\u001B[0m\n\u001B[1;32m    381\u001B[0m         \u001B[0;32mtry\u001B[0m\u001B[0;34m:\u001B[0m\u001B[0;34m\u001B[0m\u001B[0;34m\u001B[0m\u001B[0m\n\u001B[0;32m--> 382\u001B[0;31m             \u001B[0mself\u001B[0m\u001B[0;34m.\u001B[0m\u001B[0m_validate_conn\u001B[0m\u001B[0;34m(\u001B[0m\u001B[0mconn\u001B[0m\u001B[0;34m)\u001B[0m\u001B[0;34m\u001B[0m\u001B[0;34m\u001B[0m\u001B[0m\n\u001B[0m\u001B[1;32m    383\u001B[0m         \u001B[0;32mexcept\u001B[0m \u001B[0;34m(\u001B[0m\u001B[0mSocketTimeout\u001B[0m\u001B[0;34m,\u001B[0m \u001B[0mBaseSSLError\u001B[0m\u001B[0;34m)\u001B[0m \u001B[0;32mas\u001B[0m \u001B[0me\u001B[0m\u001B[0;34m:\u001B[0m\u001B[0;34m\u001B[0m\u001B[0;34m\u001B[0m\u001B[0m\n",
      "\u001B[0;32m~/anaconda3/envs/ml/lib/python3.10/site-packages/urllib3/connectionpool.py\u001B[0m in \u001B[0;36m_validate_conn\u001B[0;34m(self, conn)\u001B[0m\n\u001B[1;32m   1009\u001B[0m         \u001B[0;32mif\u001B[0m \u001B[0;32mnot\u001B[0m \u001B[0mgetattr\u001B[0m\u001B[0;34m(\u001B[0m\u001B[0mconn\u001B[0m\u001B[0;34m,\u001B[0m \u001B[0;34m\"sock\"\u001B[0m\u001B[0;34m,\u001B[0m \u001B[0;32mNone\u001B[0m\u001B[0;34m)\u001B[0m\u001B[0;34m:\u001B[0m  \u001B[0;31m# AppEngine might not have  `.sock`\u001B[0m\u001B[0;34m\u001B[0m\u001B[0;34m\u001B[0m\u001B[0m\n\u001B[0;32m-> 1010\u001B[0;31m             \u001B[0mconn\u001B[0m\u001B[0;34m.\u001B[0m\u001B[0mconnect\u001B[0m\u001B[0;34m(\u001B[0m\u001B[0;34m)\u001B[0m\u001B[0;34m\u001B[0m\u001B[0;34m\u001B[0m\u001B[0m\n\u001B[0m\u001B[1;32m   1011\u001B[0m \u001B[0;34m\u001B[0m\u001B[0m\n",
      "\u001B[0;32m~/anaconda3/envs/ml/lib/python3.10/site-packages/urllib3/connection.py\u001B[0m in \u001B[0;36mconnect\u001B[0;34m(self)\u001B[0m\n\u001B[1;32m    415\u001B[0m \u001B[0;34m\u001B[0m\u001B[0m\n\u001B[0;32m--> 416\u001B[0;31m         self.sock = ssl_wrap_socket(\n\u001B[0m\u001B[1;32m    417\u001B[0m             \u001B[0msock\u001B[0m\u001B[0;34m=\u001B[0m\u001B[0mconn\u001B[0m\u001B[0;34m,\u001B[0m\u001B[0;34m\u001B[0m\u001B[0;34m\u001B[0m\u001B[0m\n",
      "\u001B[0;32m~/anaconda3/envs/ml/lib/python3.10/site-packages/urllib3/util/ssl_.py\u001B[0m in \u001B[0;36mssl_wrap_socket\u001B[0;34m(sock, keyfile, certfile, cert_reqs, ca_certs, server_hostname, ssl_version, ciphers, ssl_context, ca_cert_dir, key_password, ca_cert_data, tls_in_tls)\u001B[0m\n\u001B[1;32m    448\u001B[0m     \u001B[0;32mif\u001B[0m \u001B[0msend_sni\u001B[0m\u001B[0;34m:\u001B[0m\u001B[0;34m\u001B[0m\u001B[0;34m\u001B[0m\u001B[0m\n\u001B[0;32m--> 449\u001B[0;31m         ssl_sock = _ssl_wrap_socket_impl(\n\u001B[0m\u001B[1;32m    450\u001B[0m             \u001B[0msock\u001B[0m\u001B[0;34m,\u001B[0m \u001B[0mcontext\u001B[0m\u001B[0;34m,\u001B[0m \u001B[0mtls_in_tls\u001B[0m\u001B[0;34m,\u001B[0m \u001B[0mserver_hostname\u001B[0m\u001B[0;34m=\u001B[0m\u001B[0mserver_hostname\u001B[0m\u001B[0;34m\u001B[0m\u001B[0;34m\u001B[0m\u001B[0m\n",
      "\u001B[0;32m~/anaconda3/envs/ml/lib/python3.10/site-packages/urllib3/util/ssl_.py\u001B[0m in \u001B[0;36m_ssl_wrap_socket_impl\u001B[0;34m(sock, ssl_context, tls_in_tls, server_hostname)\u001B[0m\n\u001B[1;32m    492\u001B[0m     \u001B[0;32mif\u001B[0m \u001B[0mserver_hostname\u001B[0m\u001B[0;34m:\u001B[0m\u001B[0;34m\u001B[0m\u001B[0;34m\u001B[0m\u001B[0m\n\u001B[0;32m--> 493\u001B[0;31m         \u001B[0;32mreturn\u001B[0m \u001B[0mssl_context\u001B[0m\u001B[0;34m.\u001B[0m\u001B[0mwrap_socket\u001B[0m\u001B[0;34m(\u001B[0m\u001B[0msock\u001B[0m\u001B[0;34m,\u001B[0m \u001B[0mserver_hostname\u001B[0m\u001B[0;34m=\u001B[0m\u001B[0mserver_hostname\u001B[0m\u001B[0;34m)\u001B[0m\u001B[0;34m\u001B[0m\u001B[0;34m\u001B[0m\u001B[0m\n\u001B[0m\u001B[1;32m    494\u001B[0m     \u001B[0;32melse\u001B[0m\u001B[0;34m:\u001B[0m\u001B[0;34m\u001B[0m\u001B[0;34m\u001B[0m\u001B[0m\n",
      "\u001B[0;32m~/anaconda3/envs/ml/lib/python3.10/ssl.py\u001B[0m in \u001B[0;36mwrap_socket\u001B[0;34m(self, sock, server_side, do_handshake_on_connect, suppress_ragged_eofs, server_hostname, session)\u001B[0m\n\u001B[1;32m    511\u001B[0m         \u001B[0;31m# ctx._wrap_socket()\u001B[0m\u001B[0;34m\u001B[0m\u001B[0;34m\u001B[0m\u001B[0m\n\u001B[0;32m--> 512\u001B[0;31m         return self.sslsocket_class._create(\n\u001B[0m\u001B[1;32m    513\u001B[0m             \u001B[0msock\u001B[0m\u001B[0;34m=\u001B[0m\u001B[0msock\u001B[0m\u001B[0;34m,\u001B[0m\u001B[0;34m\u001B[0m\u001B[0;34m\u001B[0m\u001B[0m\n",
      "\u001B[0;32m~/anaconda3/envs/ml/lib/python3.10/ssl.py\u001B[0m in \u001B[0;36m_create\u001B[0;34m(cls, sock, server_side, do_handshake_on_connect, suppress_ragged_eofs, server_hostname, context, session)\u001B[0m\n\u001B[1;32m   1069\u001B[0m                         \u001B[0;32mraise\u001B[0m \u001B[0mValueError\u001B[0m\u001B[0;34m(\u001B[0m\u001B[0;34m\"do_handshake_on_connect should not be specified for non-blocking sockets\"\u001B[0m\u001B[0;34m)\u001B[0m\u001B[0;34m\u001B[0m\u001B[0;34m\u001B[0m\u001B[0m\n\u001B[0;32m-> 1070\u001B[0;31m                     \u001B[0mself\u001B[0m\u001B[0;34m.\u001B[0m\u001B[0mdo_handshake\u001B[0m\u001B[0;34m(\u001B[0m\u001B[0;34m)\u001B[0m\u001B[0;34m\u001B[0m\u001B[0;34m\u001B[0m\u001B[0m\n\u001B[0m\u001B[1;32m   1071\u001B[0m             \u001B[0;32mexcept\u001B[0m \u001B[0;34m(\u001B[0m\u001B[0mOSError\u001B[0m\u001B[0;34m,\u001B[0m \u001B[0mValueError\u001B[0m\u001B[0;34m)\u001B[0m\u001B[0;34m:\u001B[0m\u001B[0;34m\u001B[0m\u001B[0;34m\u001B[0m\u001B[0m\n",
      "\u001B[0;32m~/anaconda3/envs/ml/lib/python3.10/ssl.py\u001B[0m in \u001B[0;36mdo_handshake\u001B[0;34m(self, block)\u001B[0m\n\u001B[1;32m   1340\u001B[0m                 \u001B[0mself\u001B[0m\u001B[0;34m.\u001B[0m\u001B[0msettimeout\u001B[0m\u001B[0;34m(\u001B[0m\u001B[0;32mNone\u001B[0m\u001B[0;34m)\u001B[0m\u001B[0;34m\u001B[0m\u001B[0;34m\u001B[0m\u001B[0m\n\u001B[0;32m-> 1341\u001B[0;31m             \u001B[0mself\u001B[0m\u001B[0;34m.\u001B[0m\u001B[0m_sslobj\u001B[0m\u001B[0;34m.\u001B[0m\u001B[0mdo_handshake\u001B[0m\u001B[0;34m(\u001B[0m\u001B[0;34m)\u001B[0m\u001B[0;34m\u001B[0m\u001B[0;34m\u001B[0m\u001B[0m\n\u001B[0m\u001B[1;32m   1342\u001B[0m         \u001B[0;32mfinally\u001B[0m\u001B[0;34m:\u001B[0m\u001B[0;34m\u001B[0m\u001B[0;34m\u001B[0m\u001B[0m\n",
      "\u001B[0;31mTimeoutError\u001B[0m: _ssl.c:980: The handshake operation timed out",
      "\nDuring handling of the above exception, another exception occurred:\n",
      "\u001B[0;31mReadTimeoutError\u001B[0m                          Traceback (most recent call last)",
      "\u001B[0;32m~/anaconda3/envs/ml/lib/python3.10/site-packages/requests/adapters.py\u001B[0m in \u001B[0;36msend\u001B[0;34m(self, request, stream, timeout, verify, cert, proxies)\u001B[0m\n\u001B[1;32m    438\u001B[0m             \u001B[0;32mif\u001B[0m \u001B[0;32mnot\u001B[0m \u001B[0mchunked\u001B[0m\u001B[0;34m:\u001B[0m\u001B[0;34m\u001B[0m\u001B[0;34m\u001B[0m\u001B[0m\n\u001B[0;32m--> 439\u001B[0;31m                 resp = conn.urlopen(\n\u001B[0m\u001B[1;32m    440\u001B[0m                     \u001B[0mmethod\u001B[0m\u001B[0;34m=\u001B[0m\u001B[0mrequest\u001B[0m\u001B[0;34m.\u001B[0m\u001B[0mmethod\u001B[0m\u001B[0;34m,\u001B[0m\u001B[0;34m\u001B[0m\u001B[0;34m\u001B[0m\u001B[0m\n",
      "\u001B[0;32m~/anaconda3/envs/ml/lib/python3.10/site-packages/urllib3/connectionpool.py\u001B[0m in \u001B[0;36murlopen\u001B[0;34m(self, method, url, body, headers, retries, redirect, assert_same_host, timeout, pool_timeout, release_conn, chunked, body_pos, **response_kw)\u001B[0m\n\u001B[1;32m    754\u001B[0m \u001B[0;34m\u001B[0m\u001B[0m\n\u001B[0;32m--> 755\u001B[0;31m             retries = retries.increment(\n\u001B[0m\u001B[1;32m    756\u001B[0m                 \u001B[0mmethod\u001B[0m\u001B[0;34m,\u001B[0m \u001B[0murl\u001B[0m\u001B[0;34m,\u001B[0m \u001B[0merror\u001B[0m\u001B[0;34m=\u001B[0m\u001B[0me\u001B[0m\u001B[0;34m,\u001B[0m \u001B[0m_pool\u001B[0m\u001B[0;34m=\u001B[0m\u001B[0mself\u001B[0m\u001B[0;34m,\u001B[0m \u001B[0m_stacktrace\u001B[0m\u001B[0;34m=\u001B[0m\u001B[0msys\u001B[0m\u001B[0;34m.\u001B[0m\u001B[0mexc_info\u001B[0m\u001B[0;34m(\u001B[0m\u001B[0;34m)\u001B[0m\u001B[0;34m[\u001B[0m\u001B[0;36m2\u001B[0m\u001B[0;34m]\u001B[0m\u001B[0;34m\u001B[0m\u001B[0;34m\u001B[0m\u001B[0m\n",
      "\u001B[0;32m~/anaconda3/envs/ml/lib/python3.10/site-packages/urllib3/util/retry.py\u001B[0m in \u001B[0;36mincrement\u001B[0;34m(self, method, url, response, error, _pool, _stacktrace)\u001B[0m\n\u001B[1;32m    531\u001B[0m             \u001B[0;32mif\u001B[0m \u001B[0mread\u001B[0m \u001B[0;32mis\u001B[0m \u001B[0;32mFalse\u001B[0m \u001B[0;32mor\u001B[0m \u001B[0;32mnot\u001B[0m \u001B[0mself\u001B[0m\u001B[0;34m.\u001B[0m\u001B[0m_is_method_retryable\u001B[0m\u001B[0;34m(\u001B[0m\u001B[0mmethod\u001B[0m\u001B[0;34m)\u001B[0m\u001B[0;34m:\u001B[0m\u001B[0;34m\u001B[0m\u001B[0;34m\u001B[0m\u001B[0m\n\u001B[0;32m--> 532\u001B[0;31m                 \u001B[0;32mraise\u001B[0m \u001B[0msix\u001B[0m\u001B[0;34m.\u001B[0m\u001B[0mreraise\u001B[0m\u001B[0;34m(\u001B[0m\u001B[0mtype\u001B[0m\u001B[0;34m(\u001B[0m\u001B[0merror\u001B[0m\u001B[0;34m)\u001B[0m\u001B[0;34m,\u001B[0m \u001B[0merror\u001B[0m\u001B[0;34m,\u001B[0m \u001B[0m_stacktrace\u001B[0m\u001B[0;34m)\u001B[0m\u001B[0;34m\u001B[0m\u001B[0;34m\u001B[0m\u001B[0m\n\u001B[0m\u001B[1;32m    533\u001B[0m             \u001B[0;32melif\u001B[0m \u001B[0mread\u001B[0m \u001B[0;32mis\u001B[0m \u001B[0;32mnot\u001B[0m \u001B[0;32mNone\u001B[0m\u001B[0;34m:\u001B[0m\u001B[0;34m\u001B[0m\u001B[0;34m\u001B[0m\u001B[0m\n",
      "\u001B[0;32m~/anaconda3/envs/ml/lib/python3.10/site-packages/urllib3/packages/six.py\u001B[0m in \u001B[0;36mreraise\u001B[0;34m(tp, value, tb)\u001B[0m\n\u001B[1;32m    769\u001B[0m                 \u001B[0;32mraise\u001B[0m \u001B[0mvalue\u001B[0m\u001B[0;34m.\u001B[0m\u001B[0mwith_traceback\u001B[0m\u001B[0;34m(\u001B[0m\u001B[0mtb\u001B[0m\u001B[0;34m)\u001B[0m\u001B[0;34m\u001B[0m\u001B[0;34m\u001B[0m\u001B[0m\n\u001B[0;32m--> 770\u001B[0;31m             \u001B[0;32mraise\u001B[0m \u001B[0mvalue\u001B[0m\u001B[0;34m\u001B[0m\u001B[0;34m\u001B[0m\u001B[0m\n\u001B[0m\u001B[1;32m    771\u001B[0m         \u001B[0;32mfinally\u001B[0m\u001B[0;34m:\u001B[0m\u001B[0;34m\u001B[0m\u001B[0;34m\u001B[0m\u001B[0m\n",
      "\u001B[0;32m~/anaconda3/envs/ml/lib/python3.10/site-packages/urllib3/connectionpool.py\u001B[0m in \u001B[0;36murlopen\u001B[0;34m(self, method, url, body, headers, retries, redirect, assert_same_host, timeout, pool_timeout, release_conn, chunked, body_pos, **response_kw)\u001B[0m\n\u001B[1;32m    698\u001B[0m             \u001B[0;31m# Make the request on the httplib connection object.\u001B[0m\u001B[0;34m\u001B[0m\u001B[0;34m\u001B[0m\u001B[0m\n\u001B[0;32m--> 699\u001B[0;31m             httplib_response = self._make_request(\n\u001B[0m\u001B[1;32m    700\u001B[0m                 \u001B[0mconn\u001B[0m\u001B[0;34m,\u001B[0m\u001B[0;34m\u001B[0m\u001B[0;34m\u001B[0m\u001B[0m\n",
      "\u001B[0;32m~/anaconda3/envs/ml/lib/python3.10/site-packages/urllib3/connectionpool.py\u001B[0m in \u001B[0;36m_make_request\u001B[0;34m(self, conn, method, url, timeout, chunked, **httplib_request_kw)\u001B[0m\n\u001B[1;32m    384\u001B[0m             \u001B[0;31m# Py2 raises this as a BaseSSLError, Py3 raises it as socket timeout.\u001B[0m\u001B[0;34m\u001B[0m\u001B[0;34m\u001B[0m\u001B[0m\n\u001B[0;32m--> 385\u001B[0;31m             \u001B[0mself\u001B[0m\u001B[0;34m.\u001B[0m\u001B[0m_raise_timeout\u001B[0m\u001B[0;34m(\u001B[0m\u001B[0merr\u001B[0m\u001B[0;34m=\u001B[0m\u001B[0me\u001B[0m\u001B[0;34m,\u001B[0m \u001B[0murl\u001B[0m\u001B[0;34m=\u001B[0m\u001B[0murl\u001B[0m\u001B[0;34m,\u001B[0m \u001B[0mtimeout_value\u001B[0m\u001B[0;34m=\u001B[0m\u001B[0mconn\u001B[0m\u001B[0;34m.\u001B[0m\u001B[0mtimeout\u001B[0m\u001B[0;34m)\u001B[0m\u001B[0;34m\u001B[0m\u001B[0;34m\u001B[0m\u001B[0m\n\u001B[0m\u001B[1;32m    386\u001B[0m             \u001B[0;32mraise\u001B[0m\u001B[0;34m\u001B[0m\u001B[0;34m\u001B[0m\u001B[0m\n",
      "\u001B[0;32m~/anaconda3/envs/ml/lib/python3.10/site-packages/urllib3/connectionpool.py\u001B[0m in \u001B[0;36m_raise_timeout\u001B[0;34m(self, err, url, timeout_value)\u001B[0m\n\u001B[1;32m    335\u001B[0m         \u001B[0;32mif\u001B[0m \u001B[0misinstance\u001B[0m\u001B[0;34m(\u001B[0m\u001B[0merr\u001B[0m\u001B[0;34m,\u001B[0m \u001B[0mSocketTimeout\u001B[0m\u001B[0;34m)\u001B[0m\u001B[0;34m:\u001B[0m\u001B[0;34m\u001B[0m\u001B[0;34m\u001B[0m\u001B[0m\n\u001B[0;32m--> 336\u001B[0;31m             raise ReadTimeoutError(\n\u001B[0m\u001B[1;32m    337\u001B[0m                 \u001B[0mself\u001B[0m\u001B[0;34m,\u001B[0m \u001B[0murl\u001B[0m\u001B[0;34m,\u001B[0m \u001B[0;34m\"Read timed out. (read timeout=%s)\"\u001B[0m \u001B[0;34m%\u001B[0m \u001B[0mtimeout_value\u001B[0m\u001B[0;34m\u001B[0m\u001B[0;34m\u001B[0m\u001B[0m\n",
      "\u001B[0;31mReadTimeoutError\u001B[0m: HTTPSConnectionPool(host='stats.nba.com', port=443): Read timed out. (read timeout=30)",
      "\nDuring handling of the above exception, another exception occurred:\n",
      "\u001B[0;31mReadTimeout\u001B[0m                               Traceback (most recent call last)",
      "\u001B[0;32m/tmp/ipykernel_249/981515459.py\u001B[0m in \u001B[0;36m<module>\u001B[0;34m\u001B[0m\n\u001B[1;32m      9\u001B[0m     \u001B[0mstats\u001B[0m \u001B[0;34m=\u001B[0m \u001B[0mstats\u001B[0m\u001B[0;34m.\u001B[0m\u001B[0mdrop\u001B[0m\u001B[0;34m(\u001B[0m\u001B[0mstats\u001B[0m\u001B[0;34m.\u001B[0m\u001B[0mcolumns\u001B[0m\u001B[0;34m[\u001B[0m\u001B[0;34m[\u001B[0m\u001B[0;36m2\u001B[0m\u001B[0;34m,\u001B[0m \u001B[0;36m4\u001B[0m\u001B[0;34m,\u001B[0m \u001B[0;36m7\u001B[0m\u001B[0;34m]\u001B[0m\u001B[0;34m]\u001B[0m\u001B[0;34m,\u001B[0m \u001B[0maxis\u001B[0m\u001B[0;34m=\u001B[0m\u001B[0;36m1\u001B[0m\u001B[0;34m)\u001B[0m\u001B[0;34m\u001B[0m\u001B[0;34m\u001B[0m\u001B[0m\n\u001B[1;32m     10\u001B[0m \u001B[0;34m\u001B[0m\u001B[0m\n\u001B[0;32m---> 11\u001B[0;31m     \u001B[0mawards\u001B[0m \u001B[0;34m=\u001B[0m \u001B[0mplayerawards\u001B[0m\u001B[0;34m.\u001B[0m\u001B[0mPlayerAwards\u001B[0m\u001B[0;34m(\u001B[0m\u001B[0mplayer_id\u001B[0m\u001B[0;34m=\u001B[0m\u001B[0mrow\u001B[0m\u001B[0;34m[\u001B[0m\u001B[0;34m\"PERSON_ID\"\u001B[0m\u001B[0;34m]\u001B[0m\u001B[0;34m)\u001B[0m\u001B[0;34m.\u001B[0m\u001B[0mget_data_frames\u001B[0m\u001B[0;34m(\u001B[0m\u001B[0;34m)\u001B[0m\u001B[0;34m[\u001B[0m\u001B[0;36m0\u001B[0m\u001B[0;34m]\u001B[0m\u001B[0;34m\u001B[0m\u001B[0;34m\u001B[0m\u001B[0m\n\u001B[0m\u001B[1;32m     12\u001B[0m \u001B[0;34m\u001B[0m\u001B[0m\n\u001B[1;32m     13\u001B[0m     \u001B[0mawards\u001B[0m \u001B[0;34m=\u001B[0m \u001B[0mawards\u001B[0m\u001B[0;34m.\u001B[0m\u001B[0mdrop\u001B[0m\u001B[0;34m(\u001B[0m\u001B[0mawards\u001B[0m\u001B[0;34m.\u001B[0m\u001B[0mcolumns\u001B[0m\u001B[0;34m[\u001B[0m\u001B[0;34m[\u001B[0m\u001B[0;36m0\u001B[0m\u001B[0;34m,\u001B[0m \u001B[0;36m1\u001B[0m\u001B[0;34m,\u001B[0m \u001B[0;36m2\u001B[0m\u001B[0;34m,\u001B[0m \u001B[0;36m3\u001B[0m\u001B[0;34m,\u001B[0m \u001B[0;36m5\u001B[0m\u001B[0;34m,\u001B[0m \u001B[0;36m7\u001B[0m\u001B[0;34m,\u001B[0m \u001B[0;36m8\u001B[0m\u001B[0;34m,\u001B[0m \u001B[0;36m9\u001B[0m\u001B[0;34m,\u001B[0m \u001B[0;36m10\u001B[0m\u001B[0;34m,\u001B[0m \u001B[0;36m11\u001B[0m\u001B[0;34m,\u001B[0m \u001B[0;36m12\u001B[0m\u001B[0;34m,\u001B[0m \u001B[0;36m13\u001B[0m\u001B[0;34m]\u001B[0m\u001B[0;34m]\u001B[0m\u001B[0;34m,\u001B[0m \u001B[0maxis\u001B[0m\u001B[0;34m=\u001B[0m\u001B[0;36m1\u001B[0m\u001B[0;34m)\u001B[0m \u001B[0;31m#Tolgo anche PERSON_ID\u001B[0m\u001B[0;34m\u001B[0m\u001B[0;34m\u001B[0m\u001B[0m\n",
      "\u001B[0;32m~/anaconda3/envs/ml/lib/python3.10/site-packages/nba_api/stats/endpoints/playerawards.py\u001B[0m in \u001B[0;36m__init__\u001B[0;34m(self, player_id, proxy, headers, timeout, get_request)\u001B[0m\n\u001B[1;32m     27\u001B[0m         }\n\u001B[1;32m     28\u001B[0m         \u001B[0;32mif\u001B[0m \u001B[0mget_request\u001B[0m\u001B[0;34m:\u001B[0m\u001B[0;34m\u001B[0m\u001B[0;34m\u001B[0m\u001B[0m\n\u001B[0;32m---> 29\u001B[0;31m             \u001B[0mself\u001B[0m\u001B[0;34m.\u001B[0m\u001B[0mget_request\u001B[0m\u001B[0;34m(\u001B[0m\u001B[0;34m)\u001B[0m\u001B[0;34m\u001B[0m\u001B[0;34m\u001B[0m\u001B[0m\n\u001B[0m\u001B[1;32m     30\u001B[0m \u001B[0;34m\u001B[0m\u001B[0m\n\u001B[1;32m     31\u001B[0m     \u001B[0;32mdef\u001B[0m \u001B[0mget_request\u001B[0m\u001B[0;34m(\u001B[0m\u001B[0mself\u001B[0m\u001B[0;34m)\u001B[0m\u001B[0;34m:\u001B[0m\u001B[0;34m\u001B[0m\u001B[0;34m\u001B[0m\u001B[0m\n",
      "\u001B[0;32m~/anaconda3/envs/ml/lib/python3.10/site-packages/nba_api/stats/endpoints/playerawards.py\u001B[0m in \u001B[0;36mget_request\u001B[0;34m(self)\u001B[0m\n\u001B[1;32m     30\u001B[0m \u001B[0;34m\u001B[0m\u001B[0m\n\u001B[1;32m     31\u001B[0m     \u001B[0;32mdef\u001B[0m \u001B[0mget_request\u001B[0m\u001B[0;34m(\u001B[0m\u001B[0mself\u001B[0m\u001B[0;34m)\u001B[0m\u001B[0;34m:\u001B[0m\u001B[0;34m\u001B[0m\u001B[0;34m\u001B[0m\u001B[0m\n\u001B[0;32m---> 32\u001B[0;31m         self.nba_response = NBAStatsHTTP().send_api_request(\n\u001B[0m\u001B[1;32m     33\u001B[0m             \u001B[0mendpoint\u001B[0m\u001B[0;34m=\u001B[0m\u001B[0mself\u001B[0m\u001B[0;34m.\u001B[0m\u001B[0mendpoint\u001B[0m\u001B[0;34m,\u001B[0m\u001B[0;34m\u001B[0m\u001B[0;34m\u001B[0m\u001B[0m\n\u001B[1;32m     34\u001B[0m             \u001B[0mparameters\u001B[0m\u001B[0;34m=\u001B[0m\u001B[0mself\u001B[0m\u001B[0;34m.\u001B[0m\u001B[0mparameters\u001B[0m\u001B[0;34m,\u001B[0m\u001B[0;34m\u001B[0m\u001B[0;34m\u001B[0m\u001B[0m\n",
      "\u001B[0;32m~/anaconda3/envs/ml/lib/python3.10/site-packages/nba_api/library/http.py\u001B[0m in \u001B[0;36msend_api_request\u001B[0;34m(self, endpoint, parameters, referer, proxy, headers, timeout, raise_exception_on_error)\u001B[0m\n\u001B[1;32m    128\u001B[0m \u001B[0;34m\u001B[0m\u001B[0m\n\u001B[1;32m    129\u001B[0m         \u001B[0;32mif\u001B[0m \u001B[0;32mnot\u001B[0m \u001B[0mcontents\u001B[0m\u001B[0;34m:\u001B[0m\u001B[0;34m\u001B[0m\u001B[0;34m\u001B[0m\u001B[0m\n\u001B[0;32m--> 130\u001B[0;31m             \u001B[0mresponse\u001B[0m \u001B[0;34m=\u001B[0m \u001B[0mrequests\u001B[0m\u001B[0;34m.\u001B[0m\u001B[0mget\u001B[0m\u001B[0;34m(\u001B[0m\u001B[0murl\u001B[0m\u001B[0;34m=\u001B[0m\u001B[0mbase_url\u001B[0m\u001B[0;34m,\u001B[0m \u001B[0mparams\u001B[0m\u001B[0;34m=\u001B[0m\u001B[0mparameters\u001B[0m\u001B[0;34m,\u001B[0m \u001B[0mheaders\u001B[0m\u001B[0;34m=\u001B[0m\u001B[0mrequest_headers\u001B[0m\u001B[0;34m,\u001B[0m \u001B[0mproxies\u001B[0m\u001B[0;34m=\u001B[0m\u001B[0mproxies\u001B[0m\u001B[0;34m,\u001B[0m \u001B[0mtimeout\u001B[0m\u001B[0;34m=\u001B[0m\u001B[0mtimeout\u001B[0m\u001B[0;34m)\u001B[0m\u001B[0;34m\u001B[0m\u001B[0;34m\u001B[0m\u001B[0m\n\u001B[0m\u001B[1;32m    131\u001B[0m             \u001B[0murl\u001B[0m \u001B[0;34m=\u001B[0m \u001B[0mresponse\u001B[0m\u001B[0;34m.\u001B[0m\u001B[0murl\u001B[0m\u001B[0;34m\u001B[0m\u001B[0;34m\u001B[0m\u001B[0m\n\u001B[1;32m    132\u001B[0m             \u001B[0mstatus_code\u001B[0m \u001B[0;34m=\u001B[0m \u001B[0mresponse\u001B[0m\u001B[0;34m.\u001B[0m\u001B[0mstatus_code\u001B[0m\u001B[0;34m\u001B[0m\u001B[0;34m\u001B[0m\u001B[0m\n",
      "\u001B[0;32m~/anaconda3/envs/ml/lib/python3.10/site-packages/requests/api.py\u001B[0m in \u001B[0;36mget\u001B[0;34m(url, params, **kwargs)\u001B[0m\n\u001B[1;32m     73\u001B[0m     \"\"\"\n\u001B[1;32m     74\u001B[0m \u001B[0;34m\u001B[0m\u001B[0m\n\u001B[0;32m---> 75\u001B[0;31m     \u001B[0;32mreturn\u001B[0m \u001B[0mrequest\u001B[0m\u001B[0;34m(\u001B[0m\u001B[0;34m'get'\u001B[0m\u001B[0;34m,\u001B[0m \u001B[0murl\u001B[0m\u001B[0;34m,\u001B[0m \u001B[0mparams\u001B[0m\u001B[0;34m=\u001B[0m\u001B[0mparams\u001B[0m\u001B[0;34m,\u001B[0m \u001B[0;34m**\u001B[0m\u001B[0mkwargs\u001B[0m\u001B[0;34m)\u001B[0m\u001B[0;34m\u001B[0m\u001B[0;34m\u001B[0m\u001B[0m\n\u001B[0m\u001B[1;32m     76\u001B[0m \u001B[0;34m\u001B[0m\u001B[0m\n\u001B[1;32m     77\u001B[0m \u001B[0;34m\u001B[0m\u001B[0m\n",
      "\u001B[0;32m~/anaconda3/envs/ml/lib/python3.10/site-packages/requests/api.py\u001B[0m in \u001B[0;36mrequest\u001B[0;34m(method, url, **kwargs)\u001B[0m\n\u001B[1;32m     59\u001B[0m     \u001B[0;31m# cases, and look like a memory leak in others.\u001B[0m\u001B[0;34m\u001B[0m\u001B[0;34m\u001B[0m\u001B[0m\n\u001B[1;32m     60\u001B[0m     \u001B[0;32mwith\u001B[0m \u001B[0msessions\u001B[0m\u001B[0;34m.\u001B[0m\u001B[0mSession\u001B[0m\u001B[0;34m(\u001B[0m\u001B[0;34m)\u001B[0m \u001B[0;32mas\u001B[0m \u001B[0msession\u001B[0m\u001B[0;34m:\u001B[0m\u001B[0;34m\u001B[0m\u001B[0;34m\u001B[0m\u001B[0m\n\u001B[0;32m---> 61\u001B[0;31m         \u001B[0;32mreturn\u001B[0m \u001B[0msession\u001B[0m\u001B[0;34m.\u001B[0m\u001B[0mrequest\u001B[0m\u001B[0;34m(\u001B[0m\u001B[0mmethod\u001B[0m\u001B[0;34m=\u001B[0m\u001B[0mmethod\u001B[0m\u001B[0;34m,\u001B[0m \u001B[0murl\u001B[0m\u001B[0;34m=\u001B[0m\u001B[0murl\u001B[0m\u001B[0;34m,\u001B[0m \u001B[0;34m**\u001B[0m\u001B[0mkwargs\u001B[0m\u001B[0;34m)\u001B[0m\u001B[0;34m\u001B[0m\u001B[0;34m\u001B[0m\u001B[0m\n\u001B[0m\u001B[1;32m     62\u001B[0m \u001B[0;34m\u001B[0m\u001B[0m\n\u001B[1;32m     63\u001B[0m \u001B[0;34m\u001B[0m\u001B[0m\n",
      "\u001B[0;32m~/anaconda3/envs/ml/lib/python3.10/site-packages/requests/sessions.py\u001B[0m in \u001B[0;36mrequest\u001B[0;34m(self, method, url, params, data, headers, cookies, files, auth, timeout, allow_redirects, proxies, hooks, stream, verify, cert, json)\u001B[0m\n\u001B[1;32m    540\u001B[0m         }\n\u001B[1;32m    541\u001B[0m         \u001B[0msend_kwargs\u001B[0m\u001B[0;34m.\u001B[0m\u001B[0mupdate\u001B[0m\u001B[0;34m(\u001B[0m\u001B[0msettings\u001B[0m\u001B[0;34m)\u001B[0m\u001B[0;34m\u001B[0m\u001B[0;34m\u001B[0m\u001B[0m\n\u001B[0;32m--> 542\u001B[0;31m         \u001B[0mresp\u001B[0m \u001B[0;34m=\u001B[0m \u001B[0mself\u001B[0m\u001B[0;34m.\u001B[0m\u001B[0msend\u001B[0m\u001B[0;34m(\u001B[0m\u001B[0mprep\u001B[0m\u001B[0;34m,\u001B[0m \u001B[0;34m**\u001B[0m\u001B[0msend_kwargs\u001B[0m\u001B[0;34m)\u001B[0m\u001B[0;34m\u001B[0m\u001B[0;34m\u001B[0m\u001B[0m\n\u001B[0m\u001B[1;32m    543\u001B[0m \u001B[0;34m\u001B[0m\u001B[0m\n\u001B[1;32m    544\u001B[0m         \u001B[0;32mreturn\u001B[0m \u001B[0mresp\u001B[0m\u001B[0;34m\u001B[0m\u001B[0;34m\u001B[0m\u001B[0m\n",
      "\u001B[0;32m~/anaconda3/envs/ml/lib/python3.10/site-packages/requests/sessions.py\u001B[0m in \u001B[0;36msend\u001B[0;34m(self, request, **kwargs)\u001B[0m\n\u001B[1;32m    653\u001B[0m \u001B[0;34m\u001B[0m\u001B[0m\n\u001B[1;32m    654\u001B[0m         \u001B[0;31m# Send the request\u001B[0m\u001B[0;34m\u001B[0m\u001B[0;34m\u001B[0m\u001B[0m\n\u001B[0;32m--> 655\u001B[0;31m         \u001B[0mr\u001B[0m \u001B[0;34m=\u001B[0m \u001B[0madapter\u001B[0m\u001B[0;34m.\u001B[0m\u001B[0msend\u001B[0m\u001B[0;34m(\u001B[0m\u001B[0mrequest\u001B[0m\u001B[0;34m,\u001B[0m \u001B[0;34m**\u001B[0m\u001B[0mkwargs\u001B[0m\u001B[0;34m)\u001B[0m\u001B[0;34m\u001B[0m\u001B[0;34m\u001B[0m\u001B[0m\n\u001B[0m\u001B[1;32m    656\u001B[0m \u001B[0;34m\u001B[0m\u001B[0m\n\u001B[1;32m    657\u001B[0m         \u001B[0;31m# Total elapsed time of the request (approximately)\u001B[0m\u001B[0;34m\u001B[0m\u001B[0;34m\u001B[0m\u001B[0m\n",
      "\u001B[0;32m~/anaconda3/envs/ml/lib/python3.10/site-packages/requests/adapters.py\u001B[0m in \u001B[0;36msend\u001B[0;34m(self, request, stream, timeout, verify, cert, proxies)\u001B[0m\n\u001B[1;32m    527\u001B[0m                 \u001B[0;32mraise\u001B[0m \u001B[0mSSLError\u001B[0m\u001B[0;34m(\u001B[0m\u001B[0me\u001B[0m\u001B[0;34m,\u001B[0m \u001B[0mrequest\u001B[0m\u001B[0;34m=\u001B[0m\u001B[0mrequest\u001B[0m\u001B[0;34m)\u001B[0m\u001B[0;34m\u001B[0m\u001B[0;34m\u001B[0m\u001B[0m\n\u001B[1;32m    528\u001B[0m             \u001B[0;32melif\u001B[0m \u001B[0misinstance\u001B[0m\u001B[0;34m(\u001B[0m\u001B[0me\u001B[0m\u001B[0;34m,\u001B[0m \u001B[0mReadTimeoutError\u001B[0m\u001B[0;34m)\u001B[0m\u001B[0;34m:\u001B[0m\u001B[0;34m\u001B[0m\u001B[0;34m\u001B[0m\u001B[0m\n\u001B[0;32m--> 529\u001B[0;31m                 \u001B[0;32mraise\u001B[0m \u001B[0mReadTimeout\u001B[0m\u001B[0;34m(\u001B[0m\u001B[0me\u001B[0m\u001B[0;34m,\u001B[0m \u001B[0mrequest\u001B[0m\u001B[0;34m=\u001B[0m\u001B[0mrequest\u001B[0m\u001B[0;34m)\u001B[0m\u001B[0;34m\u001B[0m\u001B[0;34m\u001B[0m\u001B[0m\n\u001B[0m\u001B[1;32m    530\u001B[0m             \u001B[0;32melse\u001B[0m\u001B[0;34m:\u001B[0m\u001B[0;34m\u001B[0m\u001B[0;34m\u001B[0m\u001B[0m\n\u001B[1;32m    531\u001B[0m                 \u001B[0;32mraise\u001B[0m\u001B[0;34m\u001B[0m\u001B[0;34m\u001B[0m\u001B[0m\n",
      "\u001B[0;31mReadTimeout\u001B[0m: HTTPSConnectionPool(host='stats.nba.com', port=443): Read timed out. (read timeout=30)"
     ]
    }
   ],
   "source": [
    "total_names = total_players[[\"PERSON_ID\", \"DISPLAY_FIRST_LAST\"]]\n",
    "total_stats = pd.DataFrame()\n",
    "with open(\"data_all_team_stats.pkl\", \"rb\") as f:\n",
    "    data_all_team_stats = pickle.load(f)\n",
    "\n",
    "for index, row in tqdm(total_names.iterrows()):\n",
    "    stats = playercareerstats.PlayerCareerStats(player_id=row[\"PERSON_ID\"]).get_data_frames()[0]\n",
    "\n",
    "    stats = stats.drop(stats.columns[[2, 4, 7]], axis=1)\n",
    "\n",
    "    awards = playerawards.PlayerAwards(player_id=row[\"PERSON_ID\"]).get_data_frames()[0]\n",
    "\n",
    "    awards = awards.drop(awards.columns[[0, 1, 2, 3, 5, 7, 8, 9, 10, 11, 12, 13]], axis=1) #Tolgo anche PERSON_ID\n",
    "    awards = awards.rename(columns={\"SEASON\": \"SEASON_ID\"})\n",
    "    awards = awards.loc[awards[\"DESCRIPTION\"]==\"NBA Most Valuable Player\"]\n",
    "\n",
    "    #merge\n",
    "    stats=stats.merge(awards, how=\"left\", on=\"SEASON_ID\")\n",
    "    #1 to MVP, 0 to other\n",
    "    stats[\"DESCRIPTION\"] = stats[\"DESCRIPTION\"].replace(\"NBA Most Valuable Player\", 1) #Replace the description MVP with 1\n",
    "    stats[\"DESCRIPTION\"] = stats[\"DESCRIPTION\"].fillna(0) #Replace NULL with 0\n",
    "    stats = stats.rename(columns={\"DESCRIPTION\": \"MVP\"})\n",
    "\n",
    "    #merge della classifica in cui è arrivata la squadra in una certa stagione\n",
    "    stats = stats.merge(data_all_team_stats, how=\"inner\", on=[\"SEASON_ID\", \"TEAM_ID\"])\n",
    "\n",
    "    total_stats = pd.concat([total_stats, stats],axis=0,ignore_index=True)\n",
    "\n",
    "\n",
    "#Tolgo la formattazione \"year1-year2\" (2010-11) e lascio solo il secondo anno (2011)\n",
    "total_stats[\"SEASON_ID\"] = [int(\"20\"+x.split(\"-\")[1]) for x in list(total_stats[\"SEASON_ID\"])] #Problema se si prendono dati < anno 2000\n",
    "#Prendo i dati superiore all'anno FROM_YEAR\n",
    "total_stats= total_stats[total_stats[\"SEASON_ID\"] > from_year]\n",
    "\n",
    "\n",
    "with open(\"player_stats.pkl\",'wb') as f:\n",
    "    pickle.dump(total_stats,f)\n"
   ]
  },
  {
   "cell_type": "code",
   "execution_count": 6,
   "metadata": {
    "collapsed": false,
    "jupyter": {
     "outputs_hidden": false
    },
    "pycharm": {
     "name": "#%%\n"
    }
   },
   "outputs": [
    {
     "data": {
      "text/plain": "0       2017\n1       2018\n2       2019\n3       2021\n4       2022\n        ... \n8920    2019\n8921    2019\n8922    2020\n8923    2021\n8924    2022\nName: SEASON_ID, Length: 6826, dtype: int64"
     },
     "execution_count": 6,
     "metadata": {},
     "output_type": "execute_result"
    }
   ],
   "source": [
    "with open(\"player_stats.pkl\", \"rb\") as f:\n",
    "    total_stats = pickle.load(f)\n",
    "\n",
    "total_stats\n"
   ]
  },
  {
   "cell_type": "code",
   "execution_count": 42,
   "outputs": [
    {
     "data": {
      "text/plain": "     PLAYER_ID  SEASON_ID   TEAM_ID  PLAYER_AGE        GP       MIN       FGM  \\\nFTM  -0.197669   0.043901  0.023010    0.009837  0.622324  0.799861  0.891722   \nFTA  -0.202541   0.051645  0.025372   -0.005106  0.641486  0.811104  0.893580   \nAST  -0.173566   0.038471 -0.001729    0.083638  0.594145  0.750309  0.752335   \nTOV  -0.217895   0.053348  0.012568    0.022171  0.727773  0.879405  0.906873   \nPTS  -0.201023   0.027046  0.014441    0.038940  0.755048  0.923840  0.992827   \nMVP  -0.024397  -0.007285 -0.014525   -0.003921  0.050185  0.080931  0.145543   \n\n          FGA    FG_PCT      FG3M  ...      DREB       REB       AST  \\\nFTM  0.886047 -0.058772  0.531831  ...  0.728782  0.692090  0.724106   \nFTA  0.878098 -0.060964  0.477803  ...  0.777602  0.751284  0.704630   \nAST  0.777350 -0.058767  0.583019  ...  0.548232  0.483457  1.000000   \nTOV  0.913172 -0.072654  0.576077  ...  0.766324  0.724113  0.877867   \nPTS  0.990290 -0.073256  0.698064  ...  0.804850  0.759934  0.768996   \nMVP  0.131506 -0.003045  0.109570  ...  0.109425  0.094419  0.153777   \n\n          STL       BLK       TOV        PF       PTS       MVP  CONF_RANK  \nFTM  0.724981  0.475132  0.873958  0.685088  0.923268  0.179188  -0.038329  \nFTA  0.732259  0.540221  0.880450  0.719506  0.915767  0.172407  -0.033547  \nAST  0.792204  0.230881  0.877867  0.586659  0.768996  0.153777  -0.045185  \nTOV  0.834372  0.478676  1.000000  0.785611  0.912914  0.151261  -0.013662  \nPTS  0.812381  0.514629  0.912914  0.792156  1.000000  0.156608  -0.050980  \nMVP  0.110069  0.045331  0.151261  0.051452  0.156608  1.000000  -0.058519  \n\n[6 rows x 26 columns]",
      "text/html": "<div>\n<style scoped>\n    .dataframe tbody tr th:only-of-type {\n        vertical-align: middle;\n    }\n\n    .dataframe tbody tr th {\n        vertical-align: top;\n    }\n\n    .dataframe thead th {\n        text-align: right;\n    }\n</style>\n<table border=\"1\" class=\"dataframe\">\n  <thead>\n    <tr style=\"text-align: right;\">\n      <th></th>\n      <th>PLAYER_ID</th>\n      <th>SEASON_ID</th>\n      <th>TEAM_ID</th>\n      <th>PLAYER_AGE</th>\n      <th>GP</th>\n      <th>MIN</th>\n      <th>FGM</th>\n      <th>FGA</th>\n      <th>FG_PCT</th>\n      <th>FG3M</th>\n      <th>...</th>\n      <th>DREB</th>\n      <th>REB</th>\n      <th>AST</th>\n      <th>STL</th>\n      <th>BLK</th>\n      <th>TOV</th>\n      <th>PF</th>\n      <th>PTS</th>\n      <th>MVP</th>\n      <th>CONF_RANK</th>\n    </tr>\n  </thead>\n  <tbody>\n    <tr>\n      <th>FTM</th>\n      <td>-0.197669</td>\n      <td>0.043901</td>\n      <td>0.023010</td>\n      <td>0.009837</td>\n      <td>0.622324</td>\n      <td>0.799861</td>\n      <td>0.891722</td>\n      <td>0.886047</td>\n      <td>-0.058772</td>\n      <td>0.531831</td>\n      <td>...</td>\n      <td>0.728782</td>\n      <td>0.692090</td>\n      <td>0.724106</td>\n      <td>0.724981</td>\n      <td>0.475132</td>\n      <td>0.873958</td>\n      <td>0.685088</td>\n      <td>0.923268</td>\n      <td>0.179188</td>\n      <td>-0.038329</td>\n    </tr>\n    <tr>\n      <th>FTA</th>\n      <td>-0.202541</td>\n      <td>0.051645</td>\n      <td>0.025372</td>\n      <td>-0.005106</td>\n      <td>0.641486</td>\n      <td>0.811104</td>\n      <td>0.893580</td>\n      <td>0.878098</td>\n      <td>-0.060964</td>\n      <td>0.477803</td>\n      <td>...</td>\n      <td>0.777602</td>\n      <td>0.751284</td>\n      <td>0.704630</td>\n      <td>0.732259</td>\n      <td>0.540221</td>\n      <td>0.880450</td>\n      <td>0.719506</td>\n      <td>0.915767</td>\n      <td>0.172407</td>\n      <td>-0.033547</td>\n    </tr>\n    <tr>\n      <th>AST</th>\n      <td>-0.173566</td>\n      <td>0.038471</td>\n      <td>-0.001729</td>\n      <td>0.083638</td>\n      <td>0.594145</td>\n      <td>0.750309</td>\n      <td>0.752335</td>\n      <td>0.777350</td>\n      <td>-0.058767</td>\n      <td>0.583019</td>\n      <td>...</td>\n      <td>0.548232</td>\n      <td>0.483457</td>\n      <td>1.000000</td>\n      <td>0.792204</td>\n      <td>0.230881</td>\n      <td>0.877867</td>\n      <td>0.586659</td>\n      <td>0.768996</td>\n      <td>0.153777</td>\n      <td>-0.045185</td>\n    </tr>\n    <tr>\n      <th>TOV</th>\n      <td>-0.217895</td>\n      <td>0.053348</td>\n      <td>0.012568</td>\n      <td>0.022171</td>\n      <td>0.727773</td>\n      <td>0.879405</td>\n      <td>0.906873</td>\n      <td>0.913172</td>\n      <td>-0.072654</td>\n      <td>0.576077</td>\n      <td>...</td>\n      <td>0.766324</td>\n      <td>0.724113</td>\n      <td>0.877867</td>\n      <td>0.834372</td>\n      <td>0.478676</td>\n      <td>1.000000</td>\n      <td>0.785611</td>\n      <td>0.912914</td>\n      <td>0.151261</td>\n      <td>-0.013662</td>\n    </tr>\n    <tr>\n      <th>PTS</th>\n      <td>-0.201023</td>\n      <td>0.027046</td>\n      <td>0.014441</td>\n      <td>0.038940</td>\n      <td>0.755048</td>\n      <td>0.923840</td>\n      <td>0.992827</td>\n      <td>0.990290</td>\n      <td>-0.073256</td>\n      <td>0.698064</td>\n      <td>...</td>\n      <td>0.804850</td>\n      <td>0.759934</td>\n      <td>0.768996</td>\n      <td>0.812381</td>\n      <td>0.514629</td>\n      <td>0.912914</td>\n      <td>0.792156</td>\n      <td>1.000000</td>\n      <td>0.156608</td>\n      <td>-0.050980</td>\n    </tr>\n    <tr>\n      <th>MVP</th>\n      <td>-0.024397</td>\n      <td>-0.007285</td>\n      <td>-0.014525</td>\n      <td>-0.003921</td>\n      <td>0.050185</td>\n      <td>0.080931</td>\n      <td>0.145543</td>\n      <td>0.131506</td>\n      <td>-0.003045</td>\n      <td>0.109570</td>\n      <td>...</td>\n      <td>0.109425</td>\n      <td>0.094419</td>\n      <td>0.153777</td>\n      <td>0.110069</td>\n      <td>0.045331</td>\n      <td>0.151261</td>\n      <td>0.051452</td>\n      <td>0.156608</td>\n      <td>1.000000</td>\n      <td>-0.058519</td>\n    </tr>\n  </tbody>\n</table>\n<p>6 rows × 26 columns</p>\n</div>"
     },
     "execution_count": 42,
     "metadata": {},
     "output_type": "execute_result"
    }
   ],
   "source": [
    "pearson = total_stats.astype(\"int\").corr()\n",
    "#pd.concat(pearson[pearson[\"MVP\"]>0.15], pearson[pearson[\"MVP\"]> 0.15], axis=0)\n",
    "pearson[(pearson[\"MVP\"]>0.15) | (pearson[\"MVP\"]<-0.15)]"
   ],
   "metadata": {
    "collapsed": false,
    "pycharm": {
     "name": "#%%\n"
    }
   }
  },
  {
   "cell_type": "markdown",
   "metadata": {
    "pycharm": {
     "name": "#%% md\n"
    }
   },
   "source": [
    "#How it's structured this dataset\n",
    "- Player_id --> id del giocatore(da ritrovare il nome con players.find_player_by_id())\n",
    "- Season_id --> id della stagione\n",
    "- ...other...\n",
    "- GP --> Games Played\n",
    "- GS --> Games ... (idk but similar to GP) (I think is not usefull)\n",
    "- MIN Minutes Played\n",
    "- FGM Field Goals Made --> Numero canestri fatti\n",
    "- FGA Field Goals Attempted --> Numero tiri provati\n",
    "- FG% Field Goal Percentage --> FGM/FGA, rapporto precisione tiri\n",
    "- 3PM 3 Point Field Goals Made --> Numero canestri da 3 fatti\n",
    "- 3PA 3 Point Field Goals Attempted --> Numero tiri da 3 provati\n",
    "- 3P% 3 Point Field Goals Percentage --> 3PM/3PA, precisione tiri da 3\n",
    "- FTM Free Throws Made --> Tiri liberi fatti\n",
    "- FTA Free Throws Attempted --> tiri liberi provati\n",
    "- FT% Free Throw Percentage --> FTM/FTA\n",
    "- OREB Offensive Rebounds --> Rimbalzi conquistati in attacco\n",
    "- DREB Defensive Rebounds --> rimbalzi conquistati in difesa\n",
    "- REB Rebounds --> OREB + DREB, rimbalzi totali\n",
    "- AST Assists\n",
    "- TOV Turnovers --> palla persa\n",
    "- STL Steals --> palla rubata\n",
    "- BLK Blocks --> blocchi\n",
    "- PF Personal Fouls --> falli personali\n",
    "- DD2 Double Doubles --> doppie doppie NON C'È\n",
    "- TD3 Trible Doubles --> triple doppie NON C'È\n",
    "- PTS Points"
   ]
  },
  {
   "cell_type": "code",
   "execution_count": 53,
   "metadata": {
    "collapsed": false,
    "jupyter": {
     "outputs_hidden": false
    },
    "pycharm": {
     "name": "#%%\n"
    }
   },
   "outputs": [
    {
     "data": {
      "text/plain": "0.0    0.998389\n1.0    0.001611\nName: MVP, dtype: float64"
     },
     "execution_count": 53,
     "metadata": {},
     "output_type": "execute_result"
    }
   ],
   "source": [
    "#How is unbalanced\n",
    "total_stats[\"MVP\"].value_counts(normalize=True)\n"
   ]
  },
  {
   "cell_type": "code",
   "execution_count": 10,
   "metadata": {
    "collapsed": false,
    "jupyter": {
     "outputs_hidden": false
    },
    "pycharm": {
     "name": "#%%\n"
    }
   },
   "outputs": [
    {
     "name": "stdout",
     "output_type": "stream",
     "text": [
      "[9.33967771e-01 3.15349868e-02 2.01205621e-02 5.89624877e-03\n",
      " 3.64166385e-03 2.46619985e-03 6.56004343e-04]\n",
      "[83954.57885113 15426.76164579 12322.49063561  6670.6221544\n",
      "  5242.37845034  4314.12352499  2225.00914236]\n"
     ]
    }
   ],
   "source": [
    "from sklearn.decomposition import PCA\n",
    "#Fatto a caso, non finito\n",
    "\n",
    "mvp = total_stats[\"MVP\"]\n",
    "id_player = total_stats[[\"PLAYER_ID\", \"SEASON_ID\", \"TEAM_ID\", \"PLAYER_AGE\"]]\n",
    "\n",
    "data_to_evaluate = total_stats.drop([\"MVP\", \"PLAYER_ID\", \"SEASON_ID\", \"TEAM_ID\", \"PLAYER_AGE\"], axis=1)\n",
    "\n",
    "pca = PCA(n_components=7)\n",
    "pca_data = pca.fit(data_to_evaluate)\n",
    "print(pca_data.explained_variance_ratio_)\n",
    "print(pca_data.singular_values_)\n"
   ]
  },
  {
   "cell_type": "code",
   "execution_count": 8,
   "metadata": {
    "collapsed": false,
    "jupyter": {
     "outputs_hidden": false
    },
    "pycharm": {
     "name": "#%%\n"
    }
   },
   "outputs": [
    {
     "ename": "TypeError",
     "evalue": "'NoneType' object is not callable",
     "output_type": "error",
     "traceback": [
      "\u001B[0;31m---------------------------------------------------------------------------\u001B[0m",
      "\u001B[0;31mTypeError\u001B[0m                                 Traceback (most recent call last)",
      "\u001B[0;32m/var/folders/y3/cbbh6yn577527f2swpfwv0qr0000gn/T/ipykernel_24931/2028601786.py\u001B[0m in \u001B[0;36m<module>\u001B[0;34m\u001B[0m\n\u001B[1;32m      1\u001B[0m \u001B[0;32mfrom\u001B[0m \u001B[0mnba_api\u001B[0m\u001B[0;34m.\u001B[0m\u001B[0mstats\u001B[0m\u001B[0;34m.\u001B[0m\u001B[0mendpoints\u001B[0m \u001B[0;32mimport\u001B[0m \u001B[0mBoxScoreAdvancedV2\u001B[0m\u001B[0;34m\u001B[0m\u001B[0;34m\u001B[0m\u001B[0m\n\u001B[1;32m      2\u001B[0m \u001B[0;34m\u001B[0m\u001B[0m\n\u001B[0;32m----> 3\u001B[0;31m \u001B[0mBoxScoreAdvancedV2\u001B[0m\u001B[0;34m.\u001B[0m\u001B[0mplayer_stats\u001B[0m\u001B[0;34m(\u001B[0m\u001B[0;34m)\u001B[0m\u001B[0;34m.\u001B[0m\u001B[0mget_data_frames\u001B[0m\u001B[0;34m(\u001B[0m\u001B[0;34m)\u001B[0m\u001B[0;34m[\u001B[0m\u001B[0;36m0\u001B[0m\u001B[0;34m]\u001B[0m\u001B[0;34m\u001B[0m\u001B[0;34m\u001B[0m\u001B[0m\n\u001B[0m",
      "\u001B[0;31mTypeError\u001B[0m: 'NoneType' object is not callable"
     ]
    }
   ],
   "source": [
    "from nba_api.stats.endpoints import BoxScoreAdvancedV2\n",
    "\n",
    "BoxScoreAdvancedV2.player_stats().get_data_frames()[0]"
   ]
  },
  {
   "cell_type": "code",
   "execution_count": 22,
   "metadata": {},
   "outputs": [
    {
     "data": {
      "text/html": [
       "<div>\n",
       "<style scoped>\n",
       "    .dataframe tbody tr th:only-of-type {\n",
       "        vertical-align: middle;\n",
       "    }\n",
       "\n",
       "    .dataframe tbody tr th {\n",
       "        vertical-align: top;\n",
       "    }\n",
       "\n",
       "    .dataframe thead th {\n",
       "        text-align: right;\n",
       "    }\n",
       "</style>\n",
       "<table border=\"1\" class=\"dataframe\">\n",
       "  <thead>\n",
       "    <tr style=\"text-align: right;\">\n",
       "      <th></th>\n",
       "      <th>PERSON_ID</th>\n",
       "      <th>FIRST_NAME</th>\n",
       "      <th>LAST_NAME</th>\n",
       "      <th>TEAM</th>\n",
       "      <th>DESCRIPTION</th>\n",
       "      <th>ALL_NBA_TEAM_NUMBER</th>\n",
       "      <th>SEASON</th>\n",
       "      <th>MONTH</th>\n",
       "      <th>WEEK</th>\n",
       "      <th>CONFERENCE</th>\n",
       "      <th>TYPE</th>\n",
       "      <th>SUBTYPE1</th>\n",
       "      <th>SUBTYPE2</th>\n",
       "      <th>SUBTYPE3</th>\n",
       "    </tr>\n",
       "  </thead>\n",
       "  <tbody>\n",
       "    <tr>\n",
       "      <th>0</th>\n",
       "      <td>2544</td>\n",
       "      <td>LeBron</td>\n",
       "      <td>James</td>\n",
       "      <td>Cleveland Cavaliers</td>\n",
       "      <td>All-Defensive Team</td>\n",
       "      <td>1</td>\n",
       "      <td>2008-09</td>\n",
       "      <td>None</td>\n",
       "      <td>None</td>\n",
       "      <td>1610612739</td>\n",
       "      <td>Award</td>\n",
       "      <td>Kia Motors</td>\n",
       "      <td>KIADT</td>\n",
       "      <td>None</td>\n",
       "    </tr>\n",
       "    <tr>\n",
       "      <th>1</th>\n",
       "      <td>2544</td>\n",
       "      <td>LeBron</td>\n",
       "      <td>James</td>\n",
       "      <td>Cleveland Cavaliers</td>\n",
       "      <td>All-Defensive Team</td>\n",
       "      <td>1</td>\n",
       "      <td>2009-10</td>\n",
       "      <td>None</td>\n",
       "      <td>None</td>\n",
       "      <td>1610612739</td>\n",
       "      <td>Award</td>\n",
       "      <td>Kia Motors</td>\n",
       "      <td>KIADT</td>\n",
       "      <td>None</td>\n",
       "    </tr>\n",
       "    <tr>\n",
       "      <th>2</th>\n",
       "      <td>2544</td>\n",
       "      <td>LeBron</td>\n",
       "      <td>James</td>\n",
       "      <td>Miami Heat</td>\n",
       "      <td>All-Defensive Team</td>\n",
       "      <td>1</td>\n",
       "      <td>2010-11</td>\n",
       "      <td>None</td>\n",
       "      <td>None</td>\n",
       "      <td>1610612748</td>\n",
       "      <td>Award</td>\n",
       "      <td>Kia Motors</td>\n",
       "      <td>KIADT</td>\n",
       "      <td>None</td>\n",
       "    </tr>\n",
       "    <tr>\n",
       "      <th>3</th>\n",
       "      <td>2544</td>\n",
       "      <td>LeBron</td>\n",
       "      <td>James</td>\n",
       "      <td>Miami Heat</td>\n",
       "      <td>All-Defensive Team</td>\n",
       "      <td>1</td>\n",
       "      <td>2011-12</td>\n",
       "      <td>None</td>\n",
       "      <td>None</td>\n",
       "      <td>1610612748</td>\n",
       "      <td>Award</td>\n",
       "      <td>Kia Motors</td>\n",
       "      <td>KIADT</td>\n",
       "      <td>None</td>\n",
       "    </tr>\n",
       "    <tr>\n",
       "      <th>4</th>\n",
       "      <td>2544</td>\n",
       "      <td>LeBron</td>\n",
       "      <td>James</td>\n",
       "      <td>Miami Heat</td>\n",
       "      <td>All-Defensive Team</td>\n",
       "      <td>1</td>\n",
       "      <td>2012-13</td>\n",
       "      <td>None</td>\n",
       "      <td>None</td>\n",
       "      <td>1610612748</td>\n",
       "      <td>Award</td>\n",
       "      <td>Kia Motors</td>\n",
       "      <td>KIADT</td>\n",
       "      <td>None</td>\n",
       "    </tr>\n",
       "    <tr>\n",
       "      <th>...</th>\n",
       "      <td>...</td>\n",
       "      <td>...</td>\n",
       "      <td>...</td>\n",
       "      <td>...</td>\n",
       "      <td>...</td>\n",
       "      <td>...</td>\n",
       "      <td>...</td>\n",
       "      <td>...</td>\n",
       "      <td>...</td>\n",
       "      <td>...</td>\n",
       "      <td>...</td>\n",
       "      <td>...</td>\n",
       "      <td>...</td>\n",
       "      <td>...</td>\n",
       "    </tr>\n",
       "    <tr>\n",
       "      <th>144</th>\n",
       "      <td>2544</td>\n",
       "      <td>LeBron</td>\n",
       "      <td>James</td>\n",
       "      <td>Cleveland Cavaliers</td>\n",
       "      <td>NBA Sporting News Most Valuable Player of the ...</td>\n",
       "      <td>None</td>\n",
       "      <td>2005-06</td>\n",
       "      <td>None</td>\n",
       "      <td>None</td>\n",
       "      <td>None</td>\n",
       "      <td>Award</td>\n",
       "      <td>Sporting News</td>\n",
       "      <td>SNMVP</td>\n",
       "      <td>None</td>\n",
       "    </tr>\n",
       "    <tr>\n",
       "      <th>145</th>\n",
       "      <td>2544</td>\n",
       "      <td>LeBron</td>\n",
       "      <td>James</td>\n",
       "      <td>Cleveland Cavaliers</td>\n",
       "      <td>NBA Sporting News Rookie of the Year</td>\n",
       "      <td>None</td>\n",
       "      <td>2003-04</td>\n",
       "      <td>None</td>\n",
       "      <td>None</td>\n",
       "      <td>None</td>\n",
       "      <td>Award</td>\n",
       "      <td>Sporting News</td>\n",
       "      <td>SNROY</td>\n",
       "      <td>None</td>\n",
       "    </tr>\n",
       "    <tr>\n",
       "      <th>146</th>\n",
       "      <td>2544</td>\n",
       "      <td>LeBron</td>\n",
       "      <td>James</td>\n",
       "      <td>USA</td>\n",
       "      <td>Olympic Bronze Medal</td>\n",
       "      <td>None</td>\n",
       "      <td>2004</td>\n",
       "      <td>None</td>\n",
       "      <td>None</td>\n",
       "      <td>None</td>\n",
       "      <td>Award</td>\n",
       "      <td>Olympic</td>\n",
       "      <td>Bronze</td>\n",
       "      <td>None</td>\n",
       "    </tr>\n",
       "    <tr>\n",
       "      <th>147</th>\n",
       "      <td>2544</td>\n",
       "      <td>LeBron</td>\n",
       "      <td>James</td>\n",
       "      <td>USA</td>\n",
       "      <td>Olympic Gold Medal</td>\n",
       "      <td>None</td>\n",
       "      <td>2008</td>\n",
       "      <td>None</td>\n",
       "      <td>None</td>\n",
       "      <td>None</td>\n",
       "      <td>Award</td>\n",
       "      <td>Olympic</td>\n",
       "      <td>Gold</td>\n",
       "      <td>None</td>\n",
       "    </tr>\n",
       "    <tr>\n",
       "      <th>148</th>\n",
       "      <td>2544</td>\n",
       "      <td>LeBron</td>\n",
       "      <td>James</td>\n",
       "      <td>USA</td>\n",
       "      <td>Olympic Gold Medal</td>\n",
       "      <td>None</td>\n",
       "      <td>2012</td>\n",
       "      <td>None</td>\n",
       "      <td>None</td>\n",
       "      <td>None</td>\n",
       "      <td>Award</td>\n",
       "      <td>Olympic</td>\n",
       "      <td>Gold</td>\n",
       "      <td>None</td>\n",
       "    </tr>\n",
       "  </tbody>\n",
       "</table>\n",
       "<p>149 rows × 14 columns</p>\n",
       "</div>"
      ],
      "text/plain": [
       "     PERSON_ID FIRST_NAME LAST_NAME                 TEAM  \\\n",
       "0         2544     LeBron     James  Cleveland Cavaliers   \n",
       "1         2544     LeBron     James  Cleveland Cavaliers   \n",
       "2         2544     LeBron     James           Miami Heat   \n",
       "3         2544     LeBron     James           Miami Heat   \n",
       "4         2544     LeBron     James           Miami Heat   \n",
       "..         ...        ...       ...                  ...   \n",
       "144       2544     LeBron     James  Cleveland Cavaliers   \n",
       "145       2544     LeBron     James  Cleveland Cavaliers   \n",
       "146       2544     LeBron     James                  USA   \n",
       "147       2544     LeBron     James                  USA   \n",
       "148       2544     LeBron     James                  USA   \n",
       "\n",
       "                                           DESCRIPTION ALL_NBA_TEAM_NUMBER  \\\n",
       "0                                   All-Defensive Team                   1   \n",
       "1                                   All-Defensive Team                   1   \n",
       "2                                   All-Defensive Team                   1   \n",
       "3                                   All-Defensive Team                   1   \n",
       "4                                   All-Defensive Team                   1   \n",
       "..                                                 ...                 ...   \n",
       "144  NBA Sporting News Most Valuable Player of the ...                None   \n",
       "145               NBA Sporting News Rookie of the Year                None   \n",
       "146                               Olympic Bronze Medal                None   \n",
       "147                                 Olympic Gold Medal                None   \n",
       "148                                 Olympic Gold Medal                None   \n",
       "\n",
       "      SEASON MONTH  WEEK  CONFERENCE   TYPE       SUBTYPE1 SUBTYPE2 SUBTYPE3  \n",
       "0    2008-09  None  None  1610612739  Award     Kia Motors    KIADT     None  \n",
       "1    2009-10  None  None  1610612739  Award     Kia Motors    KIADT     None  \n",
       "2    2010-11  None  None  1610612748  Award     Kia Motors    KIADT     None  \n",
       "3    2011-12  None  None  1610612748  Award     Kia Motors    KIADT     None  \n",
       "4    2012-13  None  None  1610612748  Award     Kia Motors    KIADT     None  \n",
       "..       ...   ...   ...         ...    ...            ...      ...      ...  \n",
       "144  2005-06  None  None        None  Award  Sporting News    SNMVP     None  \n",
       "145  2003-04  None  None        None  Award  Sporting News    SNROY     None  \n",
       "146     2004  None  None        None  Award        Olympic   Bronze     None  \n",
       "147     2008  None  None        None  Award        Olympic     Gold     None  \n",
       "148     2012  None  None        None  Award        Olympic     Gold     None  \n",
       "\n",
       "[149 rows x 14 columns]"
      ]
     },
     "execution_count": 22,
     "metadata": {},
     "output_type": "execute_result"
    }
   ],
   "source": [
    "from nba_api.stats.endpoints import playerawards\n",
    "\n",
    "playerawards.PlayerAwards(player_id=2544).get_data_frames()[0]"
   ]
  },
  {
   "cell_type": "code",
   "execution_count": 27,
   "outputs": [
    {
     "name": "stderr",
     "output_type": "stream",
     "text": [
      "973it [41:07,  2.54s/it]\n"
     ]
    }
   ],
   "source": [
    "total_names = total_players[[\"PERSON_ID\", \"DISPLAY_FIRST_LAST\"]]\n",
    "\n",
    "# total_names1 = total_names[:int(len(total_names)/2)]\n",
    "# with open(\"data_all_team_stats.pkl\", \"rb\") as f:\n",
    "#     data_all_team_stats = pickle.load(f)\n",
    "#\n",
    "# total_stats = pd.DataFrame()\n",
    "# for index, row in tqdm(total_names1.iterrows()):\n",
    "#     stats = playercareerstats.PlayerCareerStats(player_id=row[\"PERSON_ID\"]).get_data_frames()[0]\n",
    "#\n",
    "#     stats = stats.drop(stats.columns[[2, 4, 7]], axis=1)\n",
    "#\n",
    "#     awards = playerawards.PlayerAwards(player_id=row[\"PERSON_ID\"]).get_data_frames()[0]\n",
    "#\n",
    "#     awards = awards.drop(awards.columns[[0, 1, 2, 3, 5, 7, 8, 9, 10, 11, 12, 13]], axis=1) #Tolgo anche PERSON_ID\n",
    "#     awards = awards.rename(columns={\"SEASON\": \"SEASON_ID\"})\n",
    "#     awards = awards.loc[awards[\"DESCRIPTION\"]==\"NBA Most Valuable Player\"]\n",
    "#\n",
    "#     #merge\n",
    "#     stats=stats.merge(awards, how=\"left\", on=\"SEASON_ID\")\n",
    "#     #1 to MVP, 0 to other\n",
    "#     stats[\"DESCRIPTION\"] = stats[\"DESCRIPTION\"].replace(\"NBA Most Valuable Player\", 1) #Replace the description MVP with 1\n",
    "#     stats[\"DESCRIPTION\"] = stats[\"DESCRIPTION\"].fillna(0) #Replace NULL with 0\n",
    "#     stats = stats.rename(columns={\"DESCRIPTION\": \"MVP\"})\n",
    "#\n",
    "#     #merge della classifica in cui è arrivata la squadra in una certa stagione\n",
    "#     stats = stats.merge(data_all_team_stats, how=\"inner\", on=[\"SEASON_ID\", \"TEAM_ID\"])\n",
    "#\n",
    "#     total_stats = pd.concat([total_stats, stats],axis=0,ignore_index=True)\n",
    "#\n",
    "#\n",
    "# #Tolgo la formattazione \"year1-year2\" (2010-11) e lascio solo il secondo anno (2011)\n",
    "# total_stats[\"SEASON_ID\"] = [int(\"20\"+x.split(\"-\")[1]) for x in list(total_stats[\"SEASON_ID\"])] #Problema se si prendono dati < anno 2000\n",
    "# #Prendo i dati superiore all'anno FROM_YEAR\n",
    "# total_stats= total_stats[total_stats[\"SEASON_ID\"] > from_year]\n",
    "#\n",
    "# tot1 = total_stats\n",
    "# with open(\"player_stats1.pkl\",'wb') as f:\n",
    "#     pickle.dump(total_stats,f)\n",
    "\n",
    "total_stats = pd.DataFrame()\n",
    "total_names2 = total_names[int((len(total_names)/2)+1):]\n",
    "\n",
    "for index, row in tqdm(total_names2.iterrows()):\n",
    "    stats = playercareerstats.PlayerCareerStats(player_id=row[\"PERSON_ID\"]).get_data_frames()[0]\n",
    "\n",
    "    stats = stats.drop(stats.columns[[2, 4, 7]], axis=1)\n",
    "\n",
    "    awards = playerawards.PlayerAwards(player_id=row[\"PERSON_ID\"]).get_data_frames()[0]\n",
    "\n",
    "    awards = awards.drop(awards.columns[[0, 1, 2, 3, 5, 7, 8, 9, 10, 11, 12, 13]], axis=1) #Tolgo anche PERSON_ID\n",
    "    awards = awards.rename(columns={\"SEASON\": \"SEASON_ID\"})\n",
    "    awards = awards.loc[awards[\"DESCRIPTION\"]==\"NBA Most Valuable Player\"]\n",
    "\n",
    "    #merge\n",
    "    stats=stats.merge(awards, how=\"left\", on=\"SEASON_ID\")\n",
    "    #1 to MVP, 0 to other\n",
    "    stats[\"DESCRIPTION\"] = stats[\"DESCRIPTION\"].replace(\"NBA Most Valuable Player\", 1) #Replace the description MVP with 1\n",
    "    stats[\"DESCRIPTION\"] = stats[\"DESCRIPTION\"].fillna(0) #Replace NULL with 0\n",
    "    stats = stats.rename(columns={\"DESCRIPTION\": \"MVP\"})\n",
    "\n",
    "    #merge della classifica in cui è arrivata la squadra in una certa stagione\n",
    "    stats = stats.merge(data_all_team_stats, how=\"inner\", on=[\"SEASON_ID\", \"TEAM_ID\"])\n",
    "\n",
    "    total_stats = pd.concat([total_stats, stats],axis=0,ignore_index=True)\n",
    "\n",
    "\n",
    "#Tolgo la formattazione \"year1-year2\" (2010-11) e lascio solo il secondo anno (2011)\n",
    "total_stats[\"SEASON_ID\"] = [int(\"20\"+x.split(\"-\")[1]) for x in list(total_stats[\"SEASON_ID\"])] #Problema se si prendono dati < anno 2000\n",
    "#Prendo i dati superiore all'anno FROM_YEAR\n",
    "total_stats= total_stats[total_stats[\"SEASON_ID\"] > from_year]\n",
    "\n",
    "tot2 = total_stats\n",
    "with open(\"player_stats2.pkl\",'wb') as f:\n",
    "    pickle.dump(total_stats,f)\n",
    "\n",
    "#total_stats = stats.concat([tot1, tot2], axis=0, ignore_index=True)"
   ],
   "metadata": {
    "collapsed": false,
    "pycharm": {
     "name": "#%%\n"
    }
   }
  },
  {
   "cell_type": "code",
   "execution_count": 28,
   "outputs": [
    {
     "data": {
      "text/plain": "     PLAYER_ID  SEASON_ID     TEAM_ID  PLAYER_AGE  GP     MIN  FGM   FGA  \\\n0          949       2097  1610612763        20.0  80  2804.0  550  1214   \n1          949       2098  1610612763        21.0  82  2950.0  653  1347   \n2          949       2099  1610612763        22.0  50  2021.0  386   893   \n7          949       2004  1610612737        27.0  53  1955.0  383   790   \n8          949       2004  1610612757        27.0  32   729.0  118   264   \n...        ...        ...         ...         ...  ..     ...  ...   ...   \n5977   1627826       2019  1610612747        22.0  33   516.0  112   193   \n5978   1627826       2019  1610612746        22.0  26   524.0  100   186   \n5979   1627826       2020  1610612746        23.0  72  1326.0  236   385   \n5980   1627826       2021  1610612746        24.0  72  1609.0  257   394   \n5981   1627826       2022  1610612746        24.0  35   876.0  126   192   \n\n      FG_PCT FG3M  ... DREB  REB  AST STL  BLK  TOV   PF   PTS  MVP CONF_RANK  \n0      0.453    7  ...  339  555  175  79   79  225  199  1494  0.0        14  \n1      0.485   21  ...  354  581  213  89   76  257  201  1829  0.0        11  \n2      0.432   11  ...  260  374  172  69   55  186  137  1152  0.0        14  \n7      0.485    5  ...  354  495  127  44   19  131  147  1065  0.0        12  \n8      0.447    4  ...   96  144   47  24   18   53   75   319  0.0        10  \n...      ...  ...  ...  ...  ...  ...  ..  ...  ...  ...   ...  ...       ...  \n5977   0.580    0  ...  108  162   25   4   27   33   73   281  0.0        10  \n5978   0.538    0  ...  139  200   38  10   24   37   64   244  0.0         8  \n5979   0.613    0  ...  346  543   82  16   66   61  168   596  0.0         2  \n5980   0.652    1  ...  330  519   90  24   62   81  187   650  0.0         4  \n5981   0.656    0  ...  193  288   38  19   41   48   80   336  0.0         8  \n\n[11101 rows x 26 columns]",
      "text/html": "<div>\n<style scoped>\n    .dataframe tbody tr th:only-of-type {\n        vertical-align: middle;\n    }\n\n    .dataframe tbody tr th {\n        vertical-align: top;\n    }\n\n    .dataframe thead th {\n        text-align: right;\n    }\n</style>\n<table border=\"1\" class=\"dataframe\">\n  <thead>\n    <tr style=\"text-align: right;\">\n      <th></th>\n      <th>PLAYER_ID</th>\n      <th>SEASON_ID</th>\n      <th>TEAM_ID</th>\n      <th>PLAYER_AGE</th>\n      <th>GP</th>\n      <th>MIN</th>\n      <th>FGM</th>\n      <th>FGA</th>\n      <th>FG_PCT</th>\n      <th>FG3M</th>\n      <th>...</th>\n      <th>DREB</th>\n      <th>REB</th>\n      <th>AST</th>\n      <th>STL</th>\n      <th>BLK</th>\n      <th>TOV</th>\n      <th>PF</th>\n      <th>PTS</th>\n      <th>MVP</th>\n      <th>CONF_RANK</th>\n    </tr>\n  </thead>\n  <tbody>\n    <tr>\n      <th>0</th>\n      <td>949</td>\n      <td>2097</td>\n      <td>1610612763</td>\n      <td>20.0</td>\n      <td>80</td>\n      <td>2804.0</td>\n      <td>550</td>\n      <td>1214</td>\n      <td>0.453</td>\n      <td>7</td>\n      <td>...</td>\n      <td>339</td>\n      <td>555</td>\n      <td>175</td>\n      <td>79</td>\n      <td>79</td>\n      <td>225</td>\n      <td>199</td>\n      <td>1494</td>\n      <td>0.0</td>\n      <td>14</td>\n    </tr>\n    <tr>\n      <th>1</th>\n      <td>949</td>\n      <td>2098</td>\n      <td>1610612763</td>\n      <td>21.0</td>\n      <td>82</td>\n      <td>2950.0</td>\n      <td>653</td>\n      <td>1347</td>\n      <td>0.485</td>\n      <td>21</td>\n      <td>...</td>\n      <td>354</td>\n      <td>581</td>\n      <td>213</td>\n      <td>89</td>\n      <td>76</td>\n      <td>257</td>\n      <td>201</td>\n      <td>1829</td>\n      <td>0.0</td>\n      <td>11</td>\n    </tr>\n    <tr>\n      <th>2</th>\n      <td>949</td>\n      <td>2099</td>\n      <td>1610612763</td>\n      <td>22.0</td>\n      <td>50</td>\n      <td>2021.0</td>\n      <td>386</td>\n      <td>893</td>\n      <td>0.432</td>\n      <td>11</td>\n      <td>...</td>\n      <td>260</td>\n      <td>374</td>\n      <td>172</td>\n      <td>69</td>\n      <td>55</td>\n      <td>186</td>\n      <td>137</td>\n      <td>1152</td>\n      <td>0.0</td>\n      <td>14</td>\n    </tr>\n    <tr>\n      <th>7</th>\n      <td>949</td>\n      <td>2004</td>\n      <td>1610612737</td>\n      <td>27.0</td>\n      <td>53</td>\n      <td>1955.0</td>\n      <td>383</td>\n      <td>790</td>\n      <td>0.485</td>\n      <td>5</td>\n      <td>...</td>\n      <td>354</td>\n      <td>495</td>\n      <td>127</td>\n      <td>44</td>\n      <td>19</td>\n      <td>131</td>\n      <td>147</td>\n      <td>1065</td>\n      <td>0.0</td>\n      <td>12</td>\n    </tr>\n    <tr>\n      <th>8</th>\n      <td>949</td>\n      <td>2004</td>\n      <td>1610612757</td>\n      <td>27.0</td>\n      <td>32</td>\n      <td>729.0</td>\n      <td>118</td>\n      <td>264</td>\n      <td>0.447</td>\n      <td>4</td>\n      <td>...</td>\n      <td>96</td>\n      <td>144</td>\n      <td>47</td>\n      <td>24</td>\n      <td>18</td>\n      <td>53</td>\n      <td>75</td>\n      <td>319</td>\n      <td>0.0</td>\n      <td>10</td>\n    </tr>\n    <tr>\n      <th>...</th>\n      <td>...</td>\n      <td>...</td>\n      <td>...</td>\n      <td>...</td>\n      <td>...</td>\n      <td>...</td>\n      <td>...</td>\n      <td>...</td>\n      <td>...</td>\n      <td>...</td>\n      <td>...</td>\n      <td>...</td>\n      <td>...</td>\n      <td>...</td>\n      <td>...</td>\n      <td>...</td>\n      <td>...</td>\n      <td>...</td>\n      <td>...</td>\n      <td>...</td>\n      <td>...</td>\n    </tr>\n    <tr>\n      <th>5977</th>\n      <td>1627826</td>\n      <td>2019</td>\n      <td>1610612747</td>\n      <td>22.0</td>\n      <td>33</td>\n      <td>516.0</td>\n      <td>112</td>\n      <td>193</td>\n      <td>0.580</td>\n      <td>0</td>\n      <td>...</td>\n      <td>108</td>\n      <td>162</td>\n      <td>25</td>\n      <td>4</td>\n      <td>27</td>\n      <td>33</td>\n      <td>73</td>\n      <td>281</td>\n      <td>0.0</td>\n      <td>10</td>\n    </tr>\n    <tr>\n      <th>5978</th>\n      <td>1627826</td>\n      <td>2019</td>\n      <td>1610612746</td>\n      <td>22.0</td>\n      <td>26</td>\n      <td>524.0</td>\n      <td>100</td>\n      <td>186</td>\n      <td>0.538</td>\n      <td>0</td>\n      <td>...</td>\n      <td>139</td>\n      <td>200</td>\n      <td>38</td>\n      <td>10</td>\n      <td>24</td>\n      <td>37</td>\n      <td>64</td>\n      <td>244</td>\n      <td>0.0</td>\n      <td>8</td>\n    </tr>\n    <tr>\n      <th>5979</th>\n      <td>1627826</td>\n      <td>2020</td>\n      <td>1610612746</td>\n      <td>23.0</td>\n      <td>72</td>\n      <td>1326.0</td>\n      <td>236</td>\n      <td>385</td>\n      <td>0.613</td>\n      <td>0</td>\n      <td>...</td>\n      <td>346</td>\n      <td>543</td>\n      <td>82</td>\n      <td>16</td>\n      <td>66</td>\n      <td>61</td>\n      <td>168</td>\n      <td>596</td>\n      <td>0.0</td>\n      <td>2</td>\n    </tr>\n    <tr>\n      <th>5980</th>\n      <td>1627826</td>\n      <td>2021</td>\n      <td>1610612746</td>\n      <td>24.0</td>\n      <td>72</td>\n      <td>1609.0</td>\n      <td>257</td>\n      <td>394</td>\n      <td>0.652</td>\n      <td>1</td>\n      <td>...</td>\n      <td>330</td>\n      <td>519</td>\n      <td>90</td>\n      <td>24</td>\n      <td>62</td>\n      <td>81</td>\n      <td>187</td>\n      <td>650</td>\n      <td>0.0</td>\n      <td>4</td>\n    </tr>\n    <tr>\n      <th>5981</th>\n      <td>1627826</td>\n      <td>2022</td>\n      <td>1610612746</td>\n      <td>24.0</td>\n      <td>35</td>\n      <td>876.0</td>\n      <td>126</td>\n      <td>192</td>\n      <td>0.656</td>\n      <td>0</td>\n      <td>...</td>\n      <td>193</td>\n      <td>288</td>\n      <td>38</td>\n      <td>19</td>\n      <td>41</td>\n      <td>48</td>\n      <td>80</td>\n      <td>336</td>\n      <td>0.0</td>\n      <td>8</td>\n    </tr>\n  </tbody>\n</table>\n<p>11101 rows × 26 columns</p>\n</div>"
     },
     "execution_count": 28,
     "metadata": {},
     "output_type": "execute_result"
    }
   ],
   "source": [
    "\n",
    "with open(\"player_stats1.pkl\",'rb') as f:\n",
    "    tot1 = pickle.load(f)\n",
    "with open(\"player_stats2.pkl\",'rb') as f:\n",
    "    tot2 = pickle.load(f)\n",
    "\n",
    "total_stats = pd.concat([tot1, tot2], axis=0, ignore_index=False)\n",
    "\n",
    "with open(\"player_stats.pkl\", \"wb\") as f:\n",
    "    pickle.dump(total_stats,f)\n",
    "\n",
    "total_stats\n"
   ],
   "metadata": {
    "collapsed": false,
    "pycharm": {
     "name": "#%%\n"
    }
   }
  }
 ],
 "metadata": {
  "kernelspec": {
   "display_name": "Python 3 (ipykernel)",
   "language": "python",
   "name": "python3"
  },
  "language_info": {
   "codemirror_mode": {
    "name": "ipython",
    "version": 3
   },
   "file_extension": ".py",
   "mimetype": "text/x-python",
   "name": "python",
   "nbconvert_exporter": "python",
   "pygments_lexer": "ipython3",
   "version": "3.9.7"
  }
 },
 "nbformat": 4,
 "nbformat_minor": 4
}